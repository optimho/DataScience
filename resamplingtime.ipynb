{
 "cells": [
  {
   "cell_type": "code",
   "execution_count": 1,
   "outputs": [],
   "source": [
    "import pandas as pd"
   ],
   "metadata": {
    "collapsed": false,
    "pycharm": {
     "name": "#%%\n"
    }
   }
  },
  {
   "cell_type": "code",
   "execution_count": 2,
   "outputs": [],
   "source": [
    "df = pd.read_csv(\"data/apple.csv\", index_col='Date', parse_dates=True)"
   ],
   "metadata": {
    "collapsed": false,
    "pycharm": {
     "name": "#%%\n"
    }
   }
  },
  {
   "cell_type": "code",
   "execution_count": 3,
   "outputs": [
    {
     "data": {
      "text/plain": "            Close\nDate             \n2021-01-04  129.4\n2021-01-05  131.0\n2021-01-06  126.6\n2021-01-07  130.9\n2021-01-08  132.1",
      "text/html": "<div>\n<style scoped>\n    .dataframe tbody tr th:only-of-type {\n        vertical-align: middle;\n    }\n\n    .dataframe tbody tr th {\n        vertical-align: top;\n    }\n\n    .dataframe thead th {\n        text-align: right;\n    }\n</style>\n<table border=\"1\" class=\"dataframe\">\n  <thead>\n    <tr style=\"text-align: right;\">\n      <th></th>\n      <th>Close</th>\n    </tr>\n    <tr>\n      <th>Date</th>\n      <th></th>\n    </tr>\n  </thead>\n  <tbody>\n    <tr>\n      <th>2021-01-04</th>\n      <td>129.4</td>\n    </tr>\n    <tr>\n      <th>2021-01-05</th>\n      <td>131.0</td>\n    </tr>\n    <tr>\n      <th>2021-01-06</th>\n      <td>126.6</td>\n    </tr>\n    <tr>\n      <th>2021-01-07</th>\n      <td>130.9</td>\n    </tr>\n    <tr>\n      <th>2021-01-08</th>\n      <td>132.1</td>\n    </tr>\n  </tbody>\n</table>\n</div>"
     },
     "execution_count": 3,
     "metadata": {},
     "output_type": "execute_result"
    }
   ],
   "source": [
    "df.head()"
   ],
   "metadata": {
    "collapsed": false,
    "pycharm": {
     "name": "#%%\n"
    }
   }
  },
  {
   "cell_type": "code",
   "execution_count": 4,
   "outputs": [
    {
     "data": {
      "text/plain": "Close    125\ndtype: int64"
     },
     "execution_count": 4,
     "metadata": {},
     "output_type": "execute_result"
    }
   ],
   "source": [
    "df.count()"
   ],
   "metadata": {
    "collapsed": false,
    "pycharm": {
     "name": "#%%\n"
    }
   }
  },
  {
   "cell_type": "code",
   "execution_count": 8,
   "outputs": [
    {
     "data": {
      "text/plain": "            Close\nDate             \n2021-01-10  126.6\n2021-01-17  127.1\n2021-01-24  127.8\n2021-01-31  132.0\n2021-02-07  133.9\n2021-02-14  135.1\n2021-02-21  129.7\n2021-02-28  121.0\n2021-03-07  120.1\n2021-03-14  116.4\n2021-03-21  120.0\n2021-03-28  120.1\n2021-04-04  119.9\n2021-04-11  125.9\n2021-04-18  131.2\n2021-04-25  131.9\n2021-05-02  131.5\n2021-05-09  127.9\n2021-05-16  122.8\n2021-05-23  124.7\n2021-05-30  124.6\n2021-06-06  123.5\n2021-06-13  125.9\n2021-06-20  129.6\n2021-06-27  132.3\n2021-07-04  134.8",
      "text/html": "<div>\n<style scoped>\n    .dataframe tbody tr th:only-of-type {\n        vertical-align: middle;\n    }\n\n    .dataframe tbody tr th {\n        vertical-align: top;\n    }\n\n    .dataframe thead th {\n        text-align: right;\n    }\n</style>\n<table border=\"1\" class=\"dataframe\">\n  <thead>\n    <tr style=\"text-align: right;\">\n      <th></th>\n      <th>Close</th>\n    </tr>\n    <tr>\n      <th>Date</th>\n      <th></th>\n    </tr>\n  </thead>\n  <tbody>\n    <tr>\n      <th>2021-01-10</th>\n      <td>126.6</td>\n    </tr>\n    <tr>\n      <th>2021-01-17</th>\n      <td>127.1</td>\n    </tr>\n    <tr>\n      <th>2021-01-24</th>\n      <td>127.8</td>\n    </tr>\n    <tr>\n      <th>2021-01-31</th>\n      <td>132.0</td>\n    </tr>\n    <tr>\n      <th>2021-02-07</th>\n      <td>133.9</td>\n    </tr>\n    <tr>\n      <th>2021-02-14</th>\n      <td>135.1</td>\n    </tr>\n    <tr>\n      <th>2021-02-21</th>\n      <td>129.7</td>\n    </tr>\n    <tr>\n      <th>2021-02-28</th>\n      <td>121.0</td>\n    </tr>\n    <tr>\n      <th>2021-03-07</th>\n      <td>120.1</td>\n    </tr>\n    <tr>\n      <th>2021-03-14</th>\n      <td>116.4</td>\n    </tr>\n    <tr>\n      <th>2021-03-21</th>\n      <td>120.0</td>\n    </tr>\n    <tr>\n      <th>2021-03-28</th>\n      <td>120.1</td>\n    </tr>\n    <tr>\n      <th>2021-04-04</th>\n      <td>119.9</td>\n    </tr>\n    <tr>\n      <th>2021-04-11</th>\n      <td>125.9</td>\n    </tr>\n    <tr>\n      <th>2021-04-18</th>\n      <td>131.2</td>\n    </tr>\n    <tr>\n      <th>2021-04-25</th>\n      <td>131.9</td>\n    </tr>\n    <tr>\n      <th>2021-05-02</th>\n      <td>131.5</td>\n    </tr>\n    <tr>\n      <th>2021-05-09</th>\n      <td>127.9</td>\n    </tr>\n    <tr>\n      <th>2021-05-16</th>\n      <td>122.8</td>\n    </tr>\n    <tr>\n      <th>2021-05-23</th>\n      <td>124.7</td>\n    </tr>\n    <tr>\n      <th>2021-05-30</th>\n      <td>124.6</td>\n    </tr>\n    <tr>\n      <th>2021-06-06</th>\n      <td>123.5</td>\n    </tr>\n    <tr>\n      <th>2021-06-13</th>\n      <td>125.9</td>\n    </tr>\n    <tr>\n      <th>2021-06-20</th>\n      <td>129.6</td>\n    </tr>\n    <tr>\n      <th>2021-06-27</th>\n      <td>132.3</td>\n    </tr>\n    <tr>\n      <th>2021-07-04</th>\n      <td>134.8</td>\n    </tr>\n  </tbody>\n</table>\n</div>"
     },
     "execution_count": 8,
     "metadata": {},
     "output_type": "execute_result"
    }
   ],
   "source": [
    "df.resample('W').min()"
   ],
   "metadata": {
    "collapsed": false,
    "pycharm": {
     "name": "#%%\n"
    }
   }
  },
  {
   "cell_type": "code",
   "execution_count": 10,
   "outputs": [
    {
     "data": {
      "text/plain": "                         Close\nDate                          \n2021-01-04/2021-01-10  130.000\n2021-01-11/2021-01-17  128.940\n2021-01-18/2021-01-24  133.950\n2021-01-25/2021-01-31  139.460\n2021-02-01/2021-02-07  135.440\n2021-02-08/2021-02-14  135.760\n2021-02-15/2021-02-21  130.900\n2021-02-22/2021-02-28  123.920\n2021-03-01/2021-03-07  123.300\n2021-03-08/2021-03-14  120.100\n2021-03-15/2021-03-21  122.980\n2021-03-22/2021-03-28  121.560\n2021-03-29/2021-04-04  121.625\n2021-04-05/2021-04-11  128.680\n2021-04-12/2021-04-18  133.260\n2021-04-19/2021-04-25  133.520\n2021-04-26/2021-05-02  133.540\n2021-05-03/2021-05-09  129.680\n2021-05-10/2021-05-16  125.620\n2021-05-17/2021-05-23  125.720\n2021-05-24/2021-05-30  126.160\n2021-05-31/2021-06-06  124.700\n2021-06-07/2021-06-13  126.640\n2021-06-14/2021-06-20  130.520\n2021-06-21/2021-06-27  133.300\n2021-06-28/2021-07-04  136.350",
      "text/html": "<div>\n<style scoped>\n    .dataframe tbody tr th:only-of-type {\n        vertical-align: middle;\n    }\n\n    .dataframe tbody tr th {\n        vertical-align: top;\n    }\n\n    .dataframe thead th {\n        text-align: right;\n    }\n</style>\n<table border=\"1\" class=\"dataframe\">\n  <thead>\n    <tr style=\"text-align: right;\">\n      <th></th>\n      <th>Close</th>\n    </tr>\n    <tr>\n      <th>Date</th>\n      <th></th>\n    </tr>\n  </thead>\n  <tbody>\n    <tr>\n      <th>2021-01-04/2021-01-10</th>\n      <td>130.000</td>\n    </tr>\n    <tr>\n      <th>2021-01-11/2021-01-17</th>\n      <td>128.940</td>\n    </tr>\n    <tr>\n      <th>2021-01-18/2021-01-24</th>\n      <td>133.950</td>\n    </tr>\n    <tr>\n      <th>2021-01-25/2021-01-31</th>\n      <td>139.460</td>\n    </tr>\n    <tr>\n      <th>2021-02-01/2021-02-07</th>\n      <td>135.440</td>\n    </tr>\n    <tr>\n      <th>2021-02-08/2021-02-14</th>\n      <td>135.760</td>\n    </tr>\n    <tr>\n      <th>2021-02-15/2021-02-21</th>\n      <td>130.900</td>\n    </tr>\n    <tr>\n      <th>2021-02-22/2021-02-28</th>\n      <td>123.920</td>\n    </tr>\n    <tr>\n      <th>2021-03-01/2021-03-07</th>\n      <td>123.300</td>\n    </tr>\n    <tr>\n      <th>2021-03-08/2021-03-14</th>\n      <td>120.100</td>\n    </tr>\n    <tr>\n      <th>2021-03-15/2021-03-21</th>\n      <td>122.980</td>\n    </tr>\n    <tr>\n      <th>2021-03-22/2021-03-28</th>\n      <td>121.560</td>\n    </tr>\n    <tr>\n      <th>2021-03-29/2021-04-04</th>\n      <td>121.625</td>\n    </tr>\n    <tr>\n      <th>2021-04-05/2021-04-11</th>\n      <td>128.680</td>\n    </tr>\n    <tr>\n      <th>2021-04-12/2021-04-18</th>\n      <td>133.260</td>\n    </tr>\n    <tr>\n      <th>2021-04-19/2021-04-25</th>\n      <td>133.520</td>\n    </tr>\n    <tr>\n      <th>2021-04-26/2021-05-02</th>\n      <td>133.540</td>\n    </tr>\n    <tr>\n      <th>2021-05-03/2021-05-09</th>\n      <td>129.680</td>\n    </tr>\n    <tr>\n      <th>2021-05-10/2021-05-16</th>\n      <td>125.620</td>\n    </tr>\n    <tr>\n      <th>2021-05-17/2021-05-23</th>\n      <td>125.720</td>\n    </tr>\n    <tr>\n      <th>2021-05-24/2021-05-30</th>\n      <td>126.160</td>\n    </tr>\n    <tr>\n      <th>2021-05-31/2021-06-06</th>\n      <td>124.700</td>\n    </tr>\n    <tr>\n      <th>2021-06-07/2021-06-13</th>\n      <td>126.640</td>\n    </tr>\n    <tr>\n      <th>2021-06-14/2021-06-20</th>\n      <td>130.520</td>\n    </tr>\n    <tr>\n      <th>2021-06-21/2021-06-27</th>\n      <td>133.300</td>\n    </tr>\n    <tr>\n      <th>2021-06-28/2021-07-04</th>\n      <td>136.350</td>\n    </tr>\n  </tbody>\n</table>\n</div>"
     },
     "execution_count": 10,
     "metadata": {},
     "output_type": "execute_result"
    }
   ],
   "source": [
    "df.resample('W', kind='period').mean()"
   ],
   "metadata": {
    "collapsed": false,
    "pycharm": {
     "name": "#%%\n"
    }
   }
  },
  {
   "cell_type": "code",
   "execution_count": 11,
   "outputs": [
    {
     "data": {
      "text/plain": "              Close\nDate               \n2021-01  133.042105\n2021-02  131.536842\n2021-03  121.878261\n2021-04  131.809524\n2021-05  126.795000\n2021-06  129.963636\n2021-07  137.300000",
      "text/html": "<div>\n<style scoped>\n    .dataframe tbody tr th:only-of-type {\n        vertical-align: middle;\n    }\n\n    .dataframe tbody tr th {\n        vertical-align: top;\n    }\n\n    .dataframe thead th {\n        text-align: right;\n    }\n</style>\n<table border=\"1\" class=\"dataframe\">\n  <thead>\n    <tr style=\"text-align: right;\">\n      <th></th>\n      <th>Close</th>\n    </tr>\n    <tr>\n      <th>Date</th>\n      <th></th>\n    </tr>\n  </thead>\n  <tbody>\n    <tr>\n      <th>2021-01</th>\n      <td>133.042105</td>\n    </tr>\n    <tr>\n      <th>2021-02</th>\n      <td>131.536842</td>\n    </tr>\n    <tr>\n      <th>2021-03</th>\n      <td>121.878261</td>\n    </tr>\n    <tr>\n      <th>2021-04</th>\n      <td>131.809524</td>\n    </tr>\n    <tr>\n      <th>2021-05</th>\n      <td>126.795000</td>\n    </tr>\n    <tr>\n      <th>2021-06</th>\n      <td>129.963636</td>\n    </tr>\n    <tr>\n      <th>2021-07</th>\n      <td>137.300000</td>\n    </tr>\n  </tbody>\n</table>\n</div>"
     },
     "execution_count": 11,
     "metadata": {},
     "output_type": "execute_result"
    }
   ],
   "source": [
    "df.resample('M', kind='period').mean()"
   ],
   "metadata": {
    "collapsed": false,
    "pycharm": {
     "name": "#%%\n"
    }
   }
  },
  {
   "cell_type": "code",
   "execution_count": 13,
   "outputs": [
    {
     "data": {
      "text/plain": "                 Close\nDate                  \n2021-01-31  133.042105\n2021-02-28  131.536842\n2021-03-31  121.878261\n2021-04-30  131.809524\n2021-05-31  126.795000\n2021-06-30  129.963636\n2021-07-31  137.300000",
      "text/html": "<div>\n<style scoped>\n    .dataframe tbody tr th:only-of-type {\n        vertical-align: middle;\n    }\n\n    .dataframe tbody tr th {\n        vertical-align: top;\n    }\n\n    .dataframe thead th {\n        text-align: right;\n    }\n</style>\n<table border=\"1\" class=\"dataframe\">\n  <thead>\n    <tr style=\"text-align: right;\">\n      <th></th>\n      <th>Close</th>\n    </tr>\n    <tr>\n      <th>Date</th>\n      <th></th>\n    </tr>\n  </thead>\n  <tbody>\n    <tr>\n      <th>2021-01-31</th>\n      <td>133.042105</td>\n    </tr>\n    <tr>\n      <th>2021-02-28</th>\n      <td>131.536842</td>\n    </tr>\n    <tr>\n      <th>2021-03-31</th>\n      <td>121.878261</td>\n    </tr>\n    <tr>\n      <th>2021-04-30</th>\n      <td>131.809524</td>\n    </tr>\n    <tr>\n      <th>2021-05-31</th>\n      <td>126.795000</td>\n    </tr>\n    <tr>\n      <th>2021-06-30</th>\n      <td>129.963636</td>\n    </tr>\n    <tr>\n      <th>2021-07-31</th>\n      <td>137.300000</td>\n    </tr>\n  </tbody>\n</table>\n</div>"
     },
     "execution_count": 13,
     "metadata": {},
     "output_type": "execute_result"
    }
   ],
   "source": [
    "df.resample('M').mean()"
   ],
   "metadata": {
    "collapsed": false,
    "pycharm": {
     "name": "#%%\n"
    }
   }
  },
  {
   "cell_type": "code",
   "execution_count": 14,
   "outputs": [
    {
     "data": {
      "text/plain": "            Sales\nDate             \n2021-06-30    370\n2021-06-29    363\n2021-06-28    348\n2021-06-25    331\n2021-06-24    334",
      "text/html": "<div>\n<style scoped>\n    .dataframe tbody tr th:only-of-type {\n        vertical-align: middle;\n    }\n\n    .dataframe tbody tr th {\n        vertical-align: top;\n    }\n\n    .dataframe thead th {\n        text-align: right;\n    }\n</style>\n<table border=\"1\" class=\"dataframe\">\n  <thead>\n    <tr style=\"text-align: right;\">\n      <th></th>\n      <th>Sales</th>\n    </tr>\n    <tr>\n      <th>Date</th>\n      <th></th>\n    </tr>\n  </thead>\n  <tbody>\n    <tr>\n      <th>2021-06-30</th>\n      <td>370</td>\n    </tr>\n    <tr>\n      <th>2021-06-29</th>\n      <td>363</td>\n    </tr>\n    <tr>\n      <th>2021-06-28</th>\n      <td>348</td>\n    </tr>\n    <tr>\n      <th>2021-06-25</th>\n      <td>331</td>\n    </tr>\n    <tr>\n      <th>2021-06-24</th>\n      <td>334</td>\n    </tr>\n  </tbody>\n</table>\n</div>"
     },
     "execution_count": 14,
     "metadata": {},
     "output_type": "execute_result"
    }
   ],
   "source": [
    "sales = pd.read_csv('data/sales.csv', index_col='Date', parse_dates=True)\n",
    "sales.head()"
   ],
   "metadata": {
    "collapsed": false,
    "pycharm": {
     "name": "#%%\n"
    }
   }
  },
  {
   "cell_type": "code",
   "execution_count": 17,
   "outputs": [
    {
     "data": {
      "text/plain": "                            Sales\nDate                             \n2020-06-29/2020-07-05   90.000000\n2020-07-06/2020-07-12   52.800000\n2020-07-13/2020-07-19   33.800000\n2020-07-20/2020-07-26   43.800000\n2020-07-27/2020-08-02   54.000000\n2020-08-03/2020-08-09  107.400000\n2020-08-10/2020-08-16  130.000000\n2020-08-17/2020-08-23  177.200000\n2020-08-24/2020-08-30  254.000000\n2020-08-31/2020-09-06  273.000000\n2020-09-07/2020-09-13  139.000000\n2020-09-14/2020-09-20  120.200000\n2020-09-21/2020-09-27   99.000000\n2020-09-28/2020-10-04  149.400000\n2020-10-05/2020-10-11  153.600000\n2020-10-12/2020-10-18  212.800000\n2020-10-19/2020-10-25  162.400000\n2020-10-26/2020-11-01  134.200000\n2020-11-02/2020-11-08  143.800000\n2020-11-09/2020-11-15  180.600000\n2020-11-16/2020-11-22  187.200000\n2020-11-23/2020-11-29  154.250000\n2020-11-30/2020-12-06  220.200000\n2020-12-07/2020-12-13  231.200000\n2020-12-14/2020-12-20  265.800000\n2020-12-21/2020-12-27  307.750000\n2020-12-28/2021-01-03  345.000000\n2021-01-04/2021-01-10  300.000000\n2021-01-11/2021-01-17  289.400000\n2021-01-18/2021-01-24  339.500000\n2021-01-25/2021-01-31  394.600000\n2021-02-01/2021-02-07  354.400000\n2021-02-08/2021-02-14  357.600000\n2021-02-15/2021-02-21  309.000000\n2021-02-22/2021-02-28  239.200000\n2021-03-01/2021-03-07  233.000000\n2021-03-08/2021-03-14  201.000000\n2021-03-15/2021-03-21  229.800000\n2021-03-22/2021-03-28  215.600000\n2021-03-29/2021-04-04  216.250000\n2021-04-05/2021-04-11  286.800000\n2021-04-12/2021-04-18  332.600000\n2021-04-19/2021-04-25  335.200000\n2021-04-26/2021-05-02  335.400000\n2021-05-03/2021-05-09  296.800000\n2021-05-10/2021-05-16  256.200000\n2021-05-17/2021-05-23  257.200000\n2021-05-24/2021-05-30  261.600000\n2021-05-31/2021-06-06  247.000000\n2021-06-07/2021-06-13  266.400000\n2021-06-14/2021-06-20  305.200000\n2021-06-21/2021-06-27  333.000000\n2021-06-28/2021-07-04  360.333333",
      "text/html": "<div>\n<style scoped>\n    .dataframe tbody tr th:only-of-type {\n        vertical-align: middle;\n    }\n\n    .dataframe tbody tr th {\n        vertical-align: top;\n    }\n\n    .dataframe thead th {\n        text-align: right;\n    }\n</style>\n<table border=\"1\" class=\"dataframe\">\n  <thead>\n    <tr style=\"text-align: right;\">\n      <th></th>\n      <th>Sales</th>\n    </tr>\n    <tr>\n      <th>Date</th>\n      <th></th>\n    </tr>\n  </thead>\n  <tbody>\n    <tr>\n      <th>2020-06-29/2020-07-05</th>\n      <td>90.000000</td>\n    </tr>\n    <tr>\n      <th>2020-07-06/2020-07-12</th>\n      <td>52.800000</td>\n    </tr>\n    <tr>\n      <th>2020-07-13/2020-07-19</th>\n      <td>33.800000</td>\n    </tr>\n    <tr>\n      <th>2020-07-20/2020-07-26</th>\n      <td>43.800000</td>\n    </tr>\n    <tr>\n      <th>2020-07-27/2020-08-02</th>\n      <td>54.000000</td>\n    </tr>\n    <tr>\n      <th>2020-08-03/2020-08-09</th>\n      <td>107.400000</td>\n    </tr>\n    <tr>\n      <th>2020-08-10/2020-08-16</th>\n      <td>130.000000</td>\n    </tr>\n    <tr>\n      <th>2020-08-17/2020-08-23</th>\n      <td>177.200000</td>\n    </tr>\n    <tr>\n      <th>2020-08-24/2020-08-30</th>\n      <td>254.000000</td>\n    </tr>\n    <tr>\n      <th>2020-08-31/2020-09-06</th>\n      <td>273.000000</td>\n    </tr>\n    <tr>\n      <th>2020-09-07/2020-09-13</th>\n      <td>139.000000</td>\n    </tr>\n    <tr>\n      <th>2020-09-14/2020-09-20</th>\n      <td>120.200000</td>\n    </tr>\n    <tr>\n      <th>2020-09-21/2020-09-27</th>\n      <td>99.000000</td>\n    </tr>\n    <tr>\n      <th>2020-09-28/2020-10-04</th>\n      <td>149.400000</td>\n    </tr>\n    <tr>\n      <th>2020-10-05/2020-10-11</th>\n      <td>153.600000</td>\n    </tr>\n    <tr>\n      <th>2020-10-12/2020-10-18</th>\n      <td>212.800000</td>\n    </tr>\n    <tr>\n      <th>2020-10-19/2020-10-25</th>\n      <td>162.400000</td>\n    </tr>\n    <tr>\n      <th>2020-10-26/2020-11-01</th>\n      <td>134.200000</td>\n    </tr>\n    <tr>\n      <th>2020-11-02/2020-11-08</th>\n      <td>143.800000</td>\n    </tr>\n    <tr>\n      <th>2020-11-09/2020-11-15</th>\n      <td>180.600000</td>\n    </tr>\n    <tr>\n      <th>2020-11-16/2020-11-22</th>\n      <td>187.200000</td>\n    </tr>\n    <tr>\n      <th>2020-11-23/2020-11-29</th>\n      <td>154.250000</td>\n    </tr>\n    <tr>\n      <th>2020-11-30/2020-12-06</th>\n      <td>220.200000</td>\n    </tr>\n    <tr>\n      <th>2020-12-07/2020-12-13</th>\n      <td>231.200000</td>\n    </tr>\n    <tr>\n      <th>2020-12-14/2020-12-20</th>\n      <td>265.800000</td>\n    </tr>\n    <tr>\n      <th>2020-12-21/2020-12-27</th>\n      <td>307.750000</td>\n    </tr>\n    <tr>\n      <th>2020-12-28/2021-01-03</th>\n      <td>345.000000</td>\n    </tr>\n    <tr>\n      <th>2021-01-04/2021-01-10</th>\n      <td>300.000000</td>\n    </tr>\n    <tr>\n      <th>2021-01-11/2021-01-17</th>\n      <td>289.400000</td>\n    </tr>\n    <tr>\n      <th>2021-01-18/2021-01-24</th>\n      <td>339.500000</td>\n    </tr>\n    <tr>\n      <th>2021-01-25/2021-01-31</th>\n      <td>394.600000</td>\n    </tr>\n    <tr>\n      <th>2021-02-01/2021-02-07</th>\n      <td>354.400000</td>\n    </tr>\n    <tr>\n      <th>2021-02-08/2021-02-14</th>\n      <td>357.600000</td>\n    </tr>\n    <tr>\n      <th>2021-02-15/2021-02-21</th>\n      <td>309.000000</td>\n    </tr>\n    <tr>\n      <th>2021-02-22/2021-02-28</th>\n      <td>239.200000</td>\n    </tr>\n    <tr>\n      <th>2021-03-01/2021-03-07</th>\n      <td>233.000000</td>\n    </tr>\n    <tr>\n      <th>2021-03-08/2021-03-14</th>\n      <td>201.000000</td>\n    </tr>\n    <tr>\n      <th>2021-03-15/2021-03-21</th>\n      <td>229.800000</td>\n    </tr>\n    <tr>\n      <th>2021-03-22/2021-03-28</th>\n      <td>215.600000</td>\n    </tr>\n    <tr>\n      <th>2021-03-29/2021-04-04</th>\n      <td>216.250000</td>\n    </tr>\n    <tr>\n      <th>2021-04-05/2021-04-11</th>\n      <td>286.800000</td>\n    </tr>\n    <tr>\n      <th>2021-04-12/2021-04-18</th>\n      <td>332.600000</td>\n    </tr>\n    <tr>\n      <th>2021-04-19/2021-04-25</th>\n      <td>335.200000</td>\n    </tr>\n    <tr>\n      <th>2021-04-26/2021-05-02</th>\n      <td>335.400000</td>\n    </tr>\n    <tr>\n      <th>2021-05-03/2021-05-09</th>\n      <td>296.800000</td>\n    </tr>\n    <tr>\n      <th>2021-05-10/2021-05-16</th>\n      <td>256.200000</td>\n    </tr>\n    <tr>\n      <th>2021-05-17/2021-05-23</th>\n      <td>257.200000</td>\n    </tr>\n    <tr>\n      <th>2021-05-24/2021-05-30</th>\n      <td>261.600000</td>\n    </tr>\n    <tr>\n      <th>2021-05-31/2021-06-06</th>\n      <td>247.000000</td>\n    </tr>\n    <tr>\n      <th>2021-06-07/2021-06-13</th>\n      <td>266.400000</td>\n    </tr>\n    <tr>\n      <th>2021-06-14/2021-06-20</th>\n      <td>305.200000</td>\n    </tr>\n    <tr>\n      <th>2021-06-21/2021-06-27</th>\n      <td>333.000000</td>\n    </tr>\n    <tr>\n      <th>2021-06-28/2021-07-04</th>\n      <td>360.333333</td>\n    </tr>\n  </tbody>\n</table>\n</div>"
     },
     "execution_count": 17,
     "metadata": {},
     "output_type": "execute_result"
    }
   ],
   "source": [
    "sales.resample('W', kind='period').mean()"
   ],
   "metadata": {
    "collapsed": false,
    "pycharm": {
     "name": "#%%\n"
    }
   }
  },
  {
   "cell_type": "code",
   "execution_count": null,
   "outputs": [],
   "source": [],
   "metadata": {
    "collapsed": false,
    "pycharm": {
     "name": "#%%\n"
    }
   }
  }
 ],
 "metadata": {
  "kernelspec": {
   "display_name": "Python 3",
   "language": "python",
   "name": "python3"
  },
  "language_info": {
   "codemirror_mode": {
    "name": "ipython",
    "version": 2
   },
   "file_extension": ".py",
   "mimetype": "text/x-python",
   "name": "python",
   "nbconvert_exporter": "python",
   "pygments_lexer": "ipython2",
   "version": "2.7.6"
  }
 },
 "nbformat": 4,
 "nbformat_minor": 0
}