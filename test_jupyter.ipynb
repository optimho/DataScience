{
 "cells": [
  {
   "cell_type": "code",
   "execution_count": 2,
   "metadata": {
    "collapsed": true,
    "pycharm": {
     "name": "#%%\n"
    }
   },
   "outputs": [],
   "source": [
    "tupl = (2,3,6,8)"
   ]
  },
  {
   "cell_type": "code",
   "execution_count": 3,
   "outputs": [
    {
     "data": {
      "text/plain": "(2, 3, 6, 8)"
     },
     "execution_count": 3,
     "metadata": {},
     "output_type": "execute_result"
    }
   ],
   "source": [
    "tupl"
   ],
   "metadata": {
    "collapsed": false,
    "pycharm": {
     "name": "#%%\n"
    }
   }
  },
  {
   "cell_type": "code",
   "execution_count": 4,
   "outputs": [
    {
     "data": {
      "text/plain": "tuple"
     },
     "execution_count": 4,
     "metadata": {},
     "output_type": "execute_result"
    }
   ],
   "source": [
    "type(tupl)"
   ],
   "metadata": {
    "collapsed": false,
    "pycharm": {
     "name": "#%%\n"
    }
   }
  },
  {
   "cell_type": "code",
   "execution_count": 5,
   "outputs": [],
   "source": [
    "test_tuple= (1,2,3,('yes', 'no'),6)"
   ],
   "metadata": {
    "collapsed": false,
    "pycharm": {
     "name": "#%%\n"
    }
   }
  },
  {
   "cell_type": "code",
   "execution_count": 6,
   "outputs": [
    {
     "data": {
      "text/plain": "(1, 2, 3, ('yes', 'no'), 6)"
     },
     "execution_count": 6,
     "metadata": {},
     "output_type": "execute_result"
    }
   ],
   "source": [
    "test_tuple"
   ],
   "metadata": {
    "collapsed": false,
    "pycharm": {
     "name": "#%%\n"
    }
   }
  },
  {
   "cell_type": "code",
   "execution_count": 7,
   "outputs": [
    {
     "data": {
      "text/plain": "3"
     },
     "execution_count": 7,
     "metadata": {},
     "output_type": "execute_result"
    }
   ],
   "source": [
    "tupl[1]"
   ],
   "metadata": {
    "collapsed": false,
    "pycharm": {
     "name": "#%%\n"
    }
   }
  },
  {
   "cell_type": "code",
   "execution_count": 8,
   "outputs": [
    {
     "data": {
      "text/plain": "(2, 3, 6, 8)"
     },
     "execution_count": 8,
     "metadata": {},
     "output_type": "execute_result"
    }
   ],
   "source": [
    "tupl"
   ],
   "metadata": {
    "collapsed": false,
    "pycharm": {
     "name": "#%%\n"
    }
   }
  },
  {
   "cell_type": "code",
   "execution_count": 9,
   "outputs": [
    {
     "ename": "TypeError",
     "evalue": "'tuple' object does not support item assignment",
     "output_type": "error",
     "traceback": [
      "\u001B[0;31m---------------------------------------------------------------------------\u001B[0m",
      "\u001B[0;31mTypeError\u001B[0m                                 Traceback (most recent call last)",
      "Input \u001B[0;32mIn [9]\u001B[0m, in \u001B[0;36m<cell line: 1>\u001B[0;34m()\u001B[0m\n\u001B[0;32m----> 1\u001B[0m tupl[\u001B[38;5;241m1\u001B[39m] \u001B[38;5;241m=\u001B[39m \u001B[38;5;241m1\u001B[39m\n",
      "\u001B[0;31mTypeError\u001B[0m: 'tuple' object does not support item assignment"
     ]
    }
   ],
   "source": [
    "tupl[1] = 1"
   ],
   "metadata": {
    "collapsed": false,
    "pycharm": {
     "name": "#%%\n"
    }
   }
  },
  {
   "cell_type": "code",
   "execution_count": 10,
   "outputs": [],
   "source": [
    "tup1=(1,2,3)"
   ],
   "metadata": {
    "collapsed": false,
    "pycharm": {
     "name": "#%%\n"
    }
   }
  },
  {
   "cell_type": "code",
   "execution_count": 11,
   "outputs": [],
   "source": [
    "tup2=(4,5,6)"
   ],
   "metadata": {
    "collapsed": false,
    "pycharm": {
     "name": "#%%\n"
    }
   }
  },
  {
   "cell_type": "code",
   "execution_count": 12,
   "outputs": [],
   "source": [
    "tup3=tup1+tup2"
   ],
   "metadata": {
    "collapsed": false,
    "pycharm": {
     "name": "#%%\n"
    }
   }
  },
  {
   "cell_type": "code",
   "execution_count": 13,
   "outputs": [
    {
     "data": {
      "text/plain": "(1, 2, 3, 4, 5, 6)"
     },
     "execution_count": 13,
     "metadata": {},
     "output_type": "execute_result"
    }
   ],
   "source": [
    "tup3"
   ],
   "metadata": {
    "collapsed": false,
    "pycharm": {
     "name": "#%%\n"
    }
   }
  },
  {
   "cell_type": "code",
   "execution_count": 14,
   "outputs": [
    {
     "data": {
      "text/plain": "(1, 2, 3, 1, 2, 3)"
     },
     "execution_count": 14,
     "metadata": {},
     "output_type": "execute_result"
    }
   ],
   "source": [
    "tup1*2"
   ],
   "metadata": {
    "collapsed": false,
    "pycharm": {
     "name": "#%%\n"
    }
   }
  },
  {
   "cell_type": "code",
   "execution_count": 15,
   "outputs": [],
   "source": [
    "tup4 = (12,44,12)"
   ],
   "metadata": {
    "collapsed": false,
    "pycharm": {
     "name": "#%%\n"
    }
   }
  },
  {
   "cell_type": "code",
   "execution_count": 16,
   "outputs": [],
   "source": [
    "lib,c = tup4"
   ],
   "metadata": {
    "collapsed": false,
    "pycharm": {
     "name": "#%%\n"
    }
   }
  },
  {
   "cell_type": "code",
   "execution_count": 17,
   "outputs": [
    {
     "data": {
      "text/plain": "12"
     },
     "execution_count": 17,
     "metadata": {},
     "output_type": "execute_result"
    }
   ],
   "source": [
    "a"
   ],
   "metadata": {
    "collapsed": false,
    "pycharm": {
     "name": "#%%\n"
    }
   }
  },
  {
   "cell_type": "markdown",
   "source": [
    "<h1> Hello this is an example</h1>\n",
    "This is a new line\n",
    "from IPython.display import Image\n",
    "from IPython.core.display import HTML\n",
    "\n"
   ],
   "metadata": {
    "collapsed": false,
    "pycharm": {
     "name": "#%% md\n"
    }
   }
  },
  {
   "cell_type": "code",
   "execution_count": 25,
   "outputs": [
    {
     "data": {
      "image/png": "[encoded data removed]",
      "text/plain": "<IPython.core.display.Image object>"
     },
     "execution_count": 25,
     "metadata": {
      "image/png": {
       "width": 10,
       "height": 10
      }
     },
     "output_type": "execute_result"
    }
   ],
   "source": [
    "from IPython.core.display import HTML\n",
    "from IPython.display import Image\n",
    "Image(\"/home/michael/PycharmProjects/DataScience/Screenshot.png\", width=10, height=10)"
   ],
   "metadata": {
    "collapsed": false,
    "pycharm": {
     "name": "#%%\n"
    }
   }
  },
  {
   "cell_type": "markdown",
   "source": [
    "Image(\"/home/michael/PycharmProjects/DataScience/Screenshot\")\n",
    "Just another picture of a cat\n"
   ],
   "metadata": {
    "collapsed": false,
    "pycharm": {
     "name": "#%% md\n"
    }
   }
  },
  {
   "cell_type": "code",
   "execution_count": 26,
   "outputs": [
    {
     "data": {
      "text/plain": "12"
     },
     "execution_count": 26,
     "metadata": {},
     "output_type": "execute_result"
    }
   ],
   "source": [
    "a"
   ],
   "metadata": {
    "collapsed": false,
    "pycharm": {
     "name": "#%%\n"
    }
   }
  },
  {
   "cell_type": "code",
   "execution_count": 27,
   "outputs": [
    {
     "ename": "TypeError",
     "evalue": "tuple.count() takes exactly one argument (0 given)",
     "output_type": "error",
     "traceback": [
      "\u001B[0;31m---------------------------------------------------------------------------\u001B[0m",
      "\u001B[0;31mTypeError\u001B[0m                                 Traceback (most recent call last)",
      "Input \u001B[0;32mIn [27]\u001B[0m, in \u001B[0;36m<cell line: 1>\u001B[0;34m()\u001B[0m\n\u001B[0;32m----> 1\u001B[0m \u001B[43mtest_tuple\u001B[49m\u001B[38;5;241;43m.\u001B[39;49m\u001B[43mcount\u001B[49m\u001B[43m(\u001B[49m\u001B[43m)\u001B[49m\n",
      "\u001B[0;31mTypeError\u001B[0m: tuple.count() takes exactly one argument (0 given)"
     ]
    }
   ],
   "source": [
    "test_tuple.count()"
   ],
   "metadata": {
    "collapsed": false,
    "pycharm": {
     "name": "#%%\n"
    }
   }
  },
  {
   "cell_type": "code",
   "execution_count": 31,
   "outputs": [
    {
     "data": {
      "text/plain": "(1, 2, 3, ('yes', 'no'), 6)"
     },
     "execution_count": 31,
     "metadata": {},
     "output_type": "execute_result"
    }
   ],
   "source": [
    "test_tuple"
   ],
   "metadata": {
    "collapsed": false,
    "pycharm": {
     "name": "#%%\n"
    }
   }
  },
  {
   "cell_type": "code",
   "execution_count": 40,
   "outputs": [
    {
     "data": {
      "text/plain": "1"
     },
     "execution_count": 40,
     "metadata": {},
     "output_type": "execute_result"
    }
   ],
   "source": [
    "test_tuple.count(('yes','no'))"
   ],
   "metadata": {
    "collapsed": false,
    "pycharm": {
     "name": "#%%\n"
    }
   }
  },
  {
   "cell_type": "code",
   "execution_count": 41,
   "outputs": [],
   "source": [
    "my_list=list(test_tuple)"
   ],
   "metadata": {
    "collapsed": false,
    "pycharm": {
     "name": "#%%\n"
    }
   }
  },
  {
   "cell_type": "code",
   "execution_count": 42,
   "outputs": [
    {
     "data": {
      "text/plain": "list"
     },
     "execution_count": 42,
     "metadata": {},
     "output_type": "execute_result"
    }
   ],
   "source": [
    "type(my_list)"
   ],
   "metadata": {
    "collapsed": false,
    "pycharm": {
     "name": "#%%\n"
    }
   }
  },
  {
   "cell_type": "markdown",
   "source": [
    "my_list\n"
   ],
   "metadata": {
    "collapsed": false,
    "pycharm": {
     "name": "#%% md\n"
    }
   }
  },
  {
   "cell_type": "code",
   "source": [
    "my_list"
   ],
   "metadata": {
    "collapsed": false,
    "pycharm": {
     "name": "#%%\n"
    }
   },
   "execution_count": 43,
   "outputs": [
    {
     "data": {
      "text/plain": "[1, 2, 3, ('yes', 'no'), 6]"
     },
     "execution_count": 43,
     "metadata": {},
     "output_type": "execute_result"
    }
   ]
  },
  {
   "cell_type": "code",
   "source": [
    "my_list[2] = 4"
   ],
   "metadata": {
    "collapsed": false,
    "pycharm": {
     "name": "#%%\n"
    }
   },
   "execution_count": 45,
   "outputs": []
  },
  {
   "cell_type": "code",
   "source": [
    "my_list[2]"
   ],
   "metadata": {
    "collapsed": false,
    "pycharm": {
     "name": "#%%\n"
    }
   },
   "execution_count": 46,
   "outputs": [
    {
     "data": {
      "text/plain": "4"
     },
     "execution_count": 46,
     "metadata": {},
     "output_type": "execute_result"
    }
   ]
  },
  {
   "cell_type": "code",
   "source": [
    "my_list.append(88)"
   ],
   "metadata": {
    "collapsed": false,
    "pycharm": {
     "name": "#%%\n"
    }
   },
   "execution_count": 50,
   "outputs": []
  },
  {
   "cell_type": "code",
   "source": [
    "my_list"
   ],
   "metadata": {
    "collapsed": false,
    "pycharm": {
     "name": "#%%\n"
    }
   },
   "execution_count": 51,
   "outputs": [
    {
     "data": {
      "text/plain": "[1, 2, 4, ('yes', 'no'), 6, 88, 88]"
     },
     "execution_count": 51,
     "metadata": {},
     "output_type": "execute_result"
    }
   ]
  },
  {
   "cell_type": "code",
   "source": [
    "my_list.remove(88)"
   ],
   "metadata": {
    "collapsed": false,
    "pycharm": {
     "name": "#%%\n"
    }
   },
   "execution_count": 52,
   "outputs": []
  },
  {
   "cell_type": "code",
   "source": [
    "my_list"
   ],
   "metadata": {
    "collapsed": false,
    "pycharm": {
     "name": "#%%\n"
    }
   },
   "execution_count": 53,
   "outputs": [
    {
     "data": {
      "text/plain": "[1, 2, 4, ('yes', 'no'), 6, 88]"
     },
     "execution_count": 53,
     "metadata": {},
     "output_type": "execute_result"
    }
   ]
  },
  {
   "cell_type": "code",
   "execution_count": 54,
   "outputs": [
    {
     "data": {
      "text/plain": "['a', 'e', 'r', 's', 'x']"
     },
     "execution_count": 54,
     "metadata": {},
     "output_type": "execute_result"
    }
   ],
   "source": [
    "list_alpha=['e','r','a','s','x']\n",
    "list_alpha.sort()\n",
    "list_alpha"
   ],
   "metadata": {
    "collapsed": false,
    "pycharm": {
     "name": "#%%\n"
    }
   }
  },
  {
   "cell_type": "code",
   "execution_count": 57,
   "outputs": [
    {
     "data": {
      "text/plain": "[1, 2, 3, 4, 5, 4, 5, 6, 7]"
     },
     "execution_count": 57,
     "metadata": {},
     "output_type": "execute_result"
    }
   ],
   "source": [
    "#extend a list\n",
    "list1=[1,2,3,4,5]\n",
    "list2=[4,5,6,7]\n",
    "list1.extend(list2)\n",
    "list1\n",
    "# \"Add a comment\"\n"
   ],
   "metadata": {
    "collapsed": false,
    "pycharm": {
     "name": "#%%\n"
    }
   }
  },
  {
   "cell_type": "code",
   "execution_count": 58,
   "outputs": [],
   "source": [
    "list2 = list1[1:3]"
   ],
   "metadata": {
    "collapsed": false,
    "pycharm": {
     "name": "#%%\n"
    }
   }
  },
  {
   "cell_type": "code",
   "execution_count": 59,
   "outputs": [
    {
     "data": {
      "text/plain": "[2, 3]"
     },
     "execution_count": 59,
     "metadata": {},
     "output_type": "execute_result"
    }
   ],
   "source": [
    "list2"
   ],
   "metadata": {
    "collapsed": false,
    "pycharm": {
     "name": "#%%\n"
    }
   }
  },
  {
   "cell_type": "code",
   "execution_count": 60,
   "outputs": [
    {
     "name": "stdout",
     "output_type": "stream",
     "text": [
      "0 1\n",
      "1 2\n",
      "2 3\n",
      "3 4\n",
      "4 5\n",
      "5 4\n",
      "6 5\n",
      "7 6\n",
      "8 7\n"
     ]
    }
   ],
   "source": [
    "for i, value in enumerate(list1):\n",
    "    print(i, value)"
   ],
   "metadata": {
    "collapsed": false,
    "pycharm": {
     "name": "#%%\n"
    }
   }
  },
  {
   "cell_type": "code",
   "execution_count": 61,
   "outputs": [
    {
     "data": {
      "text/plain": "<zip at 0x7fa3f98ca480>"
     },
     "execution_count": 61,
     "metadata": {},
     "output_type": "execute_result"
    }
   ],
   "source": [
    "list_names =[\"sam\", \"michael\", \"terri\"]\n",
    "list_ages =[33,44,55]\n",
    "zipped1 = zip(list_names, list_ages)\n",
    "zipped1"
   ],
   "metadata": {
    "collapsed": false,
    "pycharm": {
     "name": "#%%\n"
    }
   }
  },
  {
   "cell_type": "code",
   "execution_count": 62,
   "outputs": [
    {
     "name": "stdout",
     "output_type": "stream",
     "text": [
      "<zip object at 0x7fa3f98ca480>\n"
     ]
    }
   ],
   "source": [
    "print(zipped1)"
   ],
   "metadata": {
    "collapsed": false,
    "pycharm": {
     "name": "#%%\n"
    }
   }
  },
  {
   "cell_type": "code",
   "execution_count": 63,
   "outputs": [
    {
     "data": {
      "text/plain": "zip"
     },
     "execution_count": 63,
     "metadata": {},
     "output_type": "execute_result"
    }
   ],
   "source": [
    "type(zipped1)"
   ],
   "metadata": {
    "collapsed": false,
    "pycharm": {
     "name": "#%%\n"
    }
   }
  },
  {
   "cell_type": "code",
   "execution_count": 64,
   "outputs": [
    {
     "data": {
      "text/plain": "[('sam', 33), ('michael', 44), ('terri', 55)]"
     },
     "execution_count": 64,
     "metadata": {},
     "output_type": "execute_result"
    }
   ],
   "source": [
    "list(zipped1)"
   ],
   "metadata": {
    "collapsed": false,
    "pycharm": {
     "name": "#%%\n"
    }
   }
  },
  {
   "cell_type": "code",
   "execution_count": 65,
   "outputs": [],
   "source": [
    "zipped2 = zip(list_ages, list_names)"
   ],
   "metadata": {
    "collapsed": false,
    "pycharm": {
     "name": "#%%\n"
    }
   }
  },
  {
   "cell_type": "code",
   "execution_count": 66,
   "outputs": [
    {
     "data": {
      "text/plain": "[(33, 'sam'), (44, 'michael'), (55, 'terri')]"
     },
     "execution_count": 66,
     "metadata": {},
     "output_type": "execute_result"
    }
   ],
   "source": [
    "list(zipped2)"
   ],
   "metadata": {
    "collapsed": false,
    "pycharm": {
     "name": "#%%\n"
    }
   }
  },
  {
   "cell_type": "code",
   "execution_count": 67,
   "outputs": [
    {
     "ename": "NameError",
     "evalue": "name 'numpy' is not defined",
     "output_type": "error",
     "traceback": [
      "\u001B[0;31m---------------------------------------------------------------------------\u001B[0m",
      "\u001B[0;31mNameError\u001B[0m                                 Traceback (most recent call last)",
      "Input \u001B[0;32mIn [67]\u001B[0m, in \u001B[0;36m<cell line: 2>\u001B[0;34m()\u001B[0m\n\u001B[1;32m      1\u001B[0m \u001B[38;5;28;01mimport\u001B[39;00m \u001B[38;5;21;01mnumpy\u001B[39;00m \u001B[38;5;28;01mas\u001B[39;00m \u001B[38;5;21;01mnp\u001B[39;00m\n\u001B[0;32m----> 2\u001B[0m \u001B[43mget_ipython\u001B[49m\u001B[43m(\u001B[49m\u001B[43m)\u001B[49m\u001B[38;5;241;43m.\u001B[39;49m\u001B[43mrun_line_magic\u001B[49m\u001B[43m(\u001B[49m\u001B[38;5;124;43m'\u001B[39;49m\u001B[38;5;124;43mtimeit\u001B[39;49m\u001B[38;5;124;43m'\u001B[39;49m\u001B[43m,\u001B[49m\u001B[43m \u001B[49m\u001B[38;5;124;43m'\u001B[39;49m\u001B[38;5;124;43mnumpy.arange(1,100000)\u001B[39;49m\u001B[38;5;124;43m'\u001B[39;49m\u001B[43m)\u001B[49m\n",
      "File \u001B[0;32m~/anaconda3/envs/DataScience/lib/python3.10/site-packages/IPython/core/interactiveshell.py:2294\u001B[0m, in \u001B[0;36mInteractiveShell.run_line_magic\u001B[0;34m(self, magic_name, line, _stack_depth)\u001B[0m\n\u001B[1;32m   2292\u001B[0m     kwargs[\u001B[38;5;124m'\u001B[39m\u001B[38;5;124mlocal_ns\u001B[39m\u001B[38;5;124m'\u001B[39m] \u001B[38;5;241m=\u001B[39m \u001B[38;5;28mself\u001B[39m\u001B[38;5;241m.\u001B[39mget_local_scope(stack_depth)\n\u001B[1;32m   2293\u001B[0m \u001B[38;5;28;01mwith\u001B[39;00m \u001B[38;5;28mself\u001B[39m\u001B[38;5;241m.\u001B[39mbuiltin_trap:\n\u001B[0;32m-> 2294\u001B[0m     result \u001B[38;5;241m=\u001B[39m \u001B[43mfn\u001B[49m\u001B[43m(\u001B[49m\u001B[38;5;241;43m*\u001B[39;49m\u001B[43margs\u001B[49m\u001B[43m,\u001B[49m\u001B[43m \u001B[49m\u001B[38;5;241;43m*\u001B[39;49m\u001B[38;5;241;43m*\u001B[39;49m\u001B[43mkwargs\u001B[49m\u001B[43m)\u001B[49m\n\u001B[1;32m   2295\u001B[0m \u001B[38;5;28;01mreturn\u001B[39;00m result\n",
      "File \u001B[0;32m~/anaconda3/envs/DataScience/lib/python3.10/site-packages/IPython/core/magics/execution.py:1162\u001B[0m, in \u001B[0;36mExecutionMagics.timeit\u001B[0;34m(self, line, cell, local_ns)\u001B[0m\n\u001B[1;32m   1160\u001B[0m \u001B[38;5;28;01mfor\u001B[39;00m index \u001B[38;5;129;01min\u001B[39;00m \u001B[38;5;28mrange\u001B[39m(\u001B[38;5;241m0\u001B[39m, \u001B[38;5;241m10\u001B[39m):\n\u001B[1;32m   1161\u001B[0m     number \u001B[38;5;241m=\u001B[39m \u001B[38;5;241m10\u001B[39m \u001B[38;5;241m*\u001B[39m\u001B[38;5;241m*\u001B[39m index\n\u001B[0;32m-> 1162\u001B[0m     time_number \u001B[38;5;241m=\u001B[39m \u001B[43mtimer\u001B[49m\u001B[38;5;241;43m.\u001B[39;49m\u001B[43mtimeit\u001B[49m\u001B[43m(\u001B[49m\u001B[43mnumber\u001B[49m\u001B[43m)\u001B[49m\n\u001B[1;32m   1163\u001B[0m     \u001B[38;5;28;01mif\u001B[39;00m time_number \u001B[38;5;241m>\u001B[39m\u001B[38;5;241m=\u001B[39m \u001B[38;5;241m0.2\u001B[39m:\n\u001B[1;32m   1164\u001B[0m         \u001B[38;5;28;01mbreak\u001B[39;00m\n",
      "File \u001B[0;32m~/anaconda3/envs/DataScience/lib/python3.10/site-packages/IPython/core/magics/execution.py:156\u001B[0m, in \u001B[0;36mTimer.timeit\u001B[0;34m(self, number)\u001B[0m\n\u001B[1;32m    154\u001B[0m gc\u001B[38;5;241m.\u001B[39mdisable()\n\u001B[1;32m    155\u001B[0m \u001B[38;5;28;01mtry\u001B[39;00m:\n\u001B[0;32m--> 156\u001B[0m     timing \u001B[38;5;241m=\u001B[39m \u001B[38;5;28;43mself\u001B[39;49m\u001B[38;5;241;43m.\u001B[39;49m\u001B[43minner\u001B[49m\u001B[43m(\u001B[49m\u001B[43mit\u001B[49m\u001B[43m,\u001B[49m\u001B[43m \u001B[49m\u001B[38;5;28;43mself\u001B[39;49m\u001B[38;5;241;43m.\u001B[39;49m\u001B[43mtimer\u001B[49m\u001B[43m)\u001B[49m\n\u001B[1;32m    157\u001B[0m \u001B[38;5;28;01mfinally\u001B[39;00m:\n\u001B[1;32m    158\u001B[0m     \u001B[38;5;28;01mif\u001B[39;00m gcold:\n",
      "File \u001B[0;32m<magic-timeit>:1\u001B[0m, in \u001B[0;36minner\u001B[0;34m(_it, _timer)\u001B[0m\n",
      "\u001B[0;31mNameError\u001B[0m: name 'numpy' is not defined"
     ]
    }
   ],
   "source": [
    "import numpy as np\n",
    "%timeit numpy.arange(1,100000)"
   ],
   "metadata": {
    "collapsed": false,
    "pycharm": {
     "name": "#%%\n"
    }
   }
  },
  {
   "cell_type": "code",
   "execution_count": 68,
   "outputs": [],
   "source": [
    "import numpy"
   ],
   "metadata": {
    "collapsed": false,
    "pycharm": {
     "name": "#%%\n"
    }
   }
  },
  {
   "cell_type": "code",
   "execution_count": 70,
   "outputs": [
    {
     "name": "stdout",
     "output_type": "stream",
     "text": [
      "8.21 µs ± 79.3 ns per loop (mean ± std. dev. of 7 runs, 100,000 loops each)\n"
     ]
    }
   ],
   "source": [
    "%timeit numpy.arange(1,10000)"
   ],
   "metadata": {
    "collapsed": false,
    "pycharm": {
     "name": "#%%\n"
    }
   }
  },
  {
   "cell_type": "code",
   "execution_count": 71,
   "outputs": [
    {
     "data": {
      "text/plain": "Available line magics:\n%alias  %alias_magic  %autoawait  %autocall  %automagic  %autosave  %bookmark  %cat  %cd  %clear  %colors  %conda  %config  %connect_info  %cp  %debug  %dhist  %dirs  %doctest_mode  %ed  %edit  %env  %gui  %hist  %history  %killbgscripts  %ldir  %less  %lf  %lk  %ll  %load  %load_ext  %loadpy  %logoff  %logon  %logstart  %logstate  %logstop  %ls  %lsmagic  %lx  %macro  %magic  %man  %matplotlib  %mkdir  %more  %mv  %notebook  %page  %pastebin  %pdb  %pdef  %pdoc  %pfile  %pinfo  %pinfo2  %pip  %popd  %pprint  %precision  %prun  %psearch  %psource  %pushd  %pwd  %pycat  %pylab  %qtconsole  %quickref  %recall  %rehashx  %reload_ext  %rep  %rerun  %reset  %reset_selective  %rm  %rmdir  %run  %save  %sc  %set_env  %store  %sx  %system  %tb  %time  %timeit  %unalias  %unload_ext  %who  %who_ls  %whos  %xdel  %xmode\n\nAvailable cell magics:\n%%!  %%HTML  %%SVG  %%bash  %%capture  %%debug  %%file  %%html  %%javascript  %%js  %%latex  %%markdown  %%perl  %%prun  %%pypy  %%python  %%python2  %%python3  %%ruby  %%script  %%sh  %%svg  %%sx  %%system  %%time  %%timeit  %%writefile\n\nAutomagic is ON, % prefix IS NOT needed for line magics.",
      "application/json": {
       "line": {
        "automagic": "AutoMagics",
        "autocall": "AutoMagics",
        "alias_magic": "BasicMagics",
        "lsmagic": "BasicMagics",
        "magic": "BasicMagics",
        "page": "BasicMagics",
        "pprint": "BasicMagics",
        "colors": "BasicMagics",
        "xmode": "BasicMagics",
        "quickref": "BasicMagics",
        "doctest_mode": "BasicMagics",
        "gui": "BasicMagics",
        "precision": "BasicMagics",
        "notebook": "BasicMagics",
        "save": "CodeMagics",
        "pastebin": "CodeMagics",
        "loadpy": "CodeMagics",
        "load": "CodeMagics",
        "edit": "KernelMagics",
        "config": "ConfigMagics",
        "prun": "ExecutionMagics",
        "pdb": "ExecutionMagics",
        "debug": "ExecutionMagics",
        "tb": "ExecutionMagics",
        "run": "ExecutionMagics",
        "timeit": "ExecutionMagics",
        "time": "ExecutionMagics",
        "macro": "ExecutionMagics",
        "load_ext": "ExtensionMagics",
        "unload_ext": "ExtensionMagics",
        "reload_ext": "ExtensionMagics",
        "history": "HistoryMagics",
        "recall": "HistoryMagics",
        "rerun": "HistoryMagics",
        "logstart": "LoggingMagics",
        "logstop": "LoggingMagics",
        "logoff": "LoggingMagics",
        "logon": "LoggingMagics",
        "logstate": "LoggingMagics",
        "pinfo": "NamespaceMagics",
        "pinfo2": "NamespaceMagics",
        "pdef": "NamespaceMagics",
        "pdoc": "NamespaceMagics",
        "psource": "NamespaceMagics",
        "pfile": "NamespaceMagics",
        "psearch": "NamespaceMagics",
        "who_ls": "NamespaceMagics",
        "who": "NamespaceMagics",
        "whos": "NamespaceMagics",
        "reset": "NamespaceMagics",
        "reset_selective": "NamespaceMagics",
        "xdel": "NamespaceMagics",
        "alias": "OSMagics",
        "unalias": "OSMagics",
        "rehashx": "OSMagics",
        "pwd": "OSMagics",
        "cd": "OSMagics",
        "env": "OSMagics",
        "set_env": "OSMagics",
        "pushd": "OSMagics",
        "popd": "OSMagics",
        "dirs": "OSMagics",
        "dhist": "OSMagics",
        "sc": "OSMagics",
        "sx": "OSMagics",
        "system": "OSMagics",
        "bookmark": "OSMagics",
        "pycat": "OSMagics",
        "pip": "PackagingMagics",
        "conda": "PackagingMagics",
        "matplotlib": "PylabMagics",
        "pylab": "PylabMagics",
        "killbgscripts": "ScriptMagics",
        "autoawait": "AsyncMagics",
        "ed": "Other",
        "hist": "Other",
        "rep": "Other",
        "clear": "KernelMagics",
        "less": "KernelMagics",
        "more": "KernelMagics",
        "man": "KernelMagics",
        "connect_info": "KernelMagics",
        "qtconsole": "KernelMagics",
        "autosave": "KernelMagics",
        "mkdir": "Other",
        "rmdir": "Other",
        "mv": "Other",
        "rm": "Other",
        "cp": "Other",
        "cat": "Other",
        "ls": "Other",
        "ll": "Other",
        "lf": "Other",
        "lk": "Other",
        "ldir": "Other",
        "lx": "Other",
        "store": "StoreMagics"
       },
       "cell": {
        "js": "DisplayMagics",
        "javascript": "DisplayMagics",
        "latex": "DisplayMagics",
        "svg": "DisplayMagics",
        "html": "DisplayMagics",
        "markdown": "DisplayMagics",
        "prun": "ExecutionMagics",
        "debug": "ExecutionMagics",
        "timeit": "ExecutionMagics",
        "time": "ExecutionMagics",
        "capture": "ExecutionMagics",
        "sx": "OSMagics",
        "system": "OSMagics",
        "!": "OSMagics",
        "writefile": "OSMagics",
        "script": "ScriptMagics",
        "sh": "Other",
        "bash": "Other",
        "perl": "Other",
        "ruby": "Other",
        "python": "Other",
        "python2": "Other",
        "python3": "Other",
        "pypy": "Other",
        "SVG": "Other",
        "HTML": "Other",
        "file": "Other"
       }
      }
     },
     "execution_count": 71,
     "metadata": {},
     "output_type": "execute_result"
    }
   ],
   "source": [
    "%lsmagic"
   ],
   "metadata": {
    "collapsed": false,
    "pycharm": {
     "name": "#%%\n"
    }
   }
  },
  {
   "cell_type": "markdown",
   "source": [
    "%lsmagic"
   ],
   "metadata": {
    "collapsed": false,
    "pycharm": {
     "name": "#%% md\n"
    }
   }
  },
  {
   "cell_type": "code",
   "execution_count": 72,
   "outputs": [],
   "source": [
    "%colors?"
   ],
   "metadata": {
    "collapsed": false,
    "pycharm": {
     "name": "#%%\n"
    }
   }
  },
  {
   "cell_type": "code",
   "execution_count": 73,
   "outputs": [
    {
     "data": {
      "text/plain": "'/home/michael/PycharmProjects/DataScience'"
     },
     "execution_count": 73,
     "metadata": {},
     "output_type": "execute_result"
    }
   ],
   "source": [
    "%pwd"
   ],
   "metadata": {
    "collapsed": false,
    "pycharm": {
     "name": "#%%\n"
    }
   }
  },
  {
   "cell_type": "code",
   "execution_count": 74,
   "outputs": [],
   "source": [
    "%matplotlib inline"
   ],
   "metadata": {
    "collapsed": false,
    "pycharm": {
     "name": "#%%\n"
    }
   }
  },
  {
   "cell_type": "code",
   "execution_count": 75,
   "outputs": [],
   "source": [
    "%%HTML?"
   ],
   "metadata": {
    "collapsed": false,
    "pycharm": {
     "name": "#%%\n"
    }
   }
  },
  {
   "cell_type": "code",
   "execution_count": 77,
   "outputs": [],
   "source": [
    "%xmode?"
   ],
   "metadata": {
    "collapsed": false,
    "pycharm": {
     "name": "#%%\n"
    }
   }
  },
  {
   "cell_type": "code",
   "execution_count": 78,
   "outputs": [
    {
     "data": {
      "text/plain": "{'a': 'dog', 'b': 'cats', 'c': 'monkey'}"
     },
     "execution_count": 78,
     "metadata": {},
     "output_type": "execute_result"
    }
   ],
   "source": [
    "dictionary_1={'a':'dog', 'b':'cats', 'c': 'monkey'}\n",
    "dictionary_1"
   ],
   "metadata": {
    "collapsed": false,
    "pycharm": {
     "name": "#%%\n"
    }
   }
  },
  {
   "cell_type": "code",
   "execution_count": 79,
   "outputs": [
    {
     "data": {
      "text/plain": "dict"
     },
     "execution_count": 79,
     "metadata": {},
     "output_type": "execute_result"
    }
   ],
   "source": [
    "type (dictionary_1)"
   ],
   "metadata": {
    "collapsed": false,
    "pycharm": {
     "name": "#%%\n"
    }
   }
  },
  {
   "cell_type": "code",
   "execution_count": 80,
   "outputs": [
    {
     "data": {
      "text/plain": "dict_keys(['a', 'b', 'c'])"
     },
     "execution_count": 80,
     "metadata": {},
     "output_type": "execute_result"
    }
   ],
   "source": [
    "dictionary_1.keys()"
   ],
   "metadata": {
    "collapsed": false,
    "pycharm": {
     "name": "#%%\n"
    }
   }
  },
  {
   "cell_type": "code",
   "execution_count": 81,
   "outputs": [
    {
     "data": {
      "text/plain": "dict_values(['dog', 'cats', 'monkey'])"
     },
     "execution_count": 81,
     "metadata": {},
     "output_type": "execute_result"
    }
   ],
   "source": [
    "dictionary_1.values()"
   ],
   "metadata": {
    "collapsed": false,
    "pycharm": {
     "name": "#%%\n"
    }
   }
  },
  {
   "cell_type": "code",
   "execution_count": 85,
   "outputs": [
    {
     "data": {
      "text/plain": "True"
     },
     "execution_count": 85,
     "metadata": {},
     "output_type": "execute_result"
    }
   ],
   "source": [
    "'monkey' in dictionary_1.values()"
   ],
   "metadata": {
    "collapsed": false,
    "pycharm": {
     "name": "#%%\n"
    }
   }
  },
  {
   "cell_type": "code",
   "execution_count": 87,
   "outputs": [],
   "source": [
    "dictionary_1['b'] = 'mice'"
   ],
   "metadata": {
    "collapsed": false,
    "pycharm": {
     "name": "#%%\n"
    }
   }
  },
  {
   "cell_type": "code",
   "execution_count": 88,
   "outputs": [
    {
     "data": {
      "text/plain": "'mice'"
     },
     "execution_count": 88,
     "metadata": {},
     "output_type": "execute_result"
    }
   ],
   "source": [
    "dictionary_1['b']"
   ],
   "metadata": {
    "collapsed": false,
    "pycharm": {
     "name": "#%%\n"
    }
   }
  },
  {
   "cell_type": "code",
   "execution_count": 90,
   "outputs": [],
   "source": [
    "dictionary_1['d'] = 'monkey'"
   ],
   "metadata": {
    "collapsed": false,
    "pycharm": {
     "name": "#%%\n"
    }
   }
  },
  {
   "cell_type": "code",
   "execution_count": 91,
   "outputs": [
    {
     "data": {
      "text/plain": "{'a': 'dog', 'b': 'mice', 'c': 'monkey', 'd': 'monkey'}"
     },
     "execution_count": 91,
     "metadata": {},
     "output_type": "execute_result"
    }
   ],
   "source": [
    "dictionary_1"
   ],
   "metadata": {
    "collapsed": false,
    "pycharm": {
     "name": "#%%\n"
    }
   }
  },
  {
   "cell_type": "code",
   "execution_count": 92,
   "outputs": [],
   "source": [
    "dictionary_1.__delitem__('a')"
   ],
   "metadata": {
    "collapsed": false,
    "pycharm": {
     "name": "#%%\n"
    }
   }
  },
  {
   "cell_type": "code",
   "execution_count": 93,
   "outputs": [
    {
     "data": {
      "text/plain": "{'b': 'mice', 'c': 'monkey', 'd': 'monkey'}"
     },
     "execution_count": 93,
     "metadata": {},
     "output_type": "execute_result"
    }
   ],
   "source": [
    "dictionary_1"
   ],
   "metadata": {
    "collapsed": false,
    "pycharm": {
     "name": "#%%\n"
    }
   }
  },
  {
   "cell_type": "code",
   "execution_count": 94,
   "outputs": [],
   "source": [
    "s={1,2,3,2,3,4,5,2}"
   ],
   "metadata": {
    "collapsed": false,
    "pycharm": {
     "name": "#%%\n"
    }
   }
  },
  {
   "cell_type": "code",
   "execution_count": 95,
   "outputs": [
    {
     "data": {
      "text/plain": "set"
     },
     "execution_count": 95,
     "metadata": {},
     "output_type": "execute_result"
    }
   ],
   "source": [
    "type(s)"
   ],
   "metadata": {
    "collapsed": false,
    "pycharm": {
     "name": "#%%\n"
    }
   }
  },
  {
   "cell_type": "code",
   "execution_count": 96,
   "outputs": [
    {
     "data": {
      "text/plain": "{1, 2, 3, 4, 5}"
     },
     "execution_count": 96,
     "metadata": {},
     "output_type": "execute_result"
    }
   ],
   "source": [
    "s"
   ],
   "metadata": {
    "collapsed": false,
    "pycharm": {
     "name": "#%%\n"
    }
   }
  },
  {
   "cell_type": "code",
   "execution_count": 97,
   "outputs": [
    {
     "data": {
      "text/plain": "[1, 2, 4, ('yes', 'no'), 6, 88]"
     },
     "execution_count": 97,
     "metadata": {},
     "output_type": "execute_result"
    }
   ],
   "source": [
    "my_list"
   ],
   "metadata": {
    "collapsed": false,
    "pycharm": {
     "name": "#%%\n"
    }
   }
  },
  {
   "cell_type": "code",
   "execution_count": 98,
   "outputs": [],
   "source": [
    "set1 = set(my_list)"
   ],
   "metadata": {
    "collapsed": false,
    "pycharm": {
     "name": "#%%\n"
    }
   }
  },
  {
   "cell_type": "code",
   "execution_count": 99,
   "outputs": [
    {
     "data": {
      "text/plain": "{('yes', 'no'), 1, 2, 4, 6, 88}"
     },
     "execution_count": 99,
     "metadata": {},
     "output_type": "execute_result"
    }
   ],
   "source": [
    "set1"
   ],
   "metadata": {
    "collapsed": false,
    "pycharm": {
     "name": "#%%\n"
    }
   }
  },
  {
   "cell_type": "code",
   "execution_count": 100,
   "outputs": [],
   "source": [
    "set1 = {1,2,3,4,5}\n",
    "set2= {4,5,6,7,8}\n",
    "set3= {1,2,3}"
   ],
   "metadata": {
    "collapsed": false,
    "pycharm": {
     "name": "#%%\n"
    }
   }
  },
  {
   "cell_type": "code",
   "execution_count": 102,
   "outputs": [
    {
     "data": {
      "text/plain": "{1, 2, 3, 4, 5}"
     },
     "execution_count": 102,
     "metadata": {},
     "output_type": "execute_result"
    }
   ],
   "source": [
    "set1.union(set3)"
   ],
   "metadata": {
    "collapsed": false,
    "pycharm": {
     "name": "#%%\n"
    }
   }
  },
  {
   "cell_type": "code",
   "execution_count": 103,
   "outputs": [
    {
     "data": {
      "text/plain": "{1, 2, 3}"
     },
     "execution_count": 103,
     "metadata": {},
     "output_type": "execute_result"
    }
   ],
   "source": [
    "set1.difference(set2)"
   ],
   "metadata": {
    "collapsed": false,
    "pycharm": {
     "name": "#%%\n"
    }
   }
  },
  {
   "cell_type": "code",
   "execution_count": 106,
   "outputs": [
    {
     "data": {
      "text/plain": "True"
     },
     "execution_count": 106,
     "metadata": {},
     "output_type": "execute_result"
    }
   ],
   "source": [
    "set1.issuperset(set3)"
   ],
   "metadata": {
    "collapsed": false,
    "pycharm": {
     "name": "#%%\n"
    }
   }
  },
  {
   "cell_type": "code",
   "execution_count": 107,
   "outputs": [],
   "source": [
    "age =[12,34,23,44,23,34,23,22,32,44]"
   ],
   "metadata": {
    "collapsed": false,
    "pycharm": {
     "name": "#%%\n"
    }
   }
  },
  {
   "cell_type": "code",
   "execution_count": 110,
   "outputs": [],
   "source": [
    "age_below_18 = list(filter(lambda x: x<18, age))"
   ],
   "metadata": {
    "collapsed": false,
    "pycharm": {
     "name": "#%%\n"
    }
   }
  },
  {
   "cell_type": "code",
   "execution_count": 111,
   "outputs": [
    {
     "data": {
      "text/plain": "[12]"
     },
     "execution_count": 111,
     "metadata": {},
     "output_type": "execute_result"
    }
   ],
   "source": [
    "age_below_18"
   ],
   "metadata": {
    "collapsed": false,
    "pycharm": {
     "name": "#%%\n"
    }
   }
  },
  {
   "cell_type": "code",
   "execution_count": 112,
   "outputs": [],
   "source": [
    "import numpy as np"
   ],
   "metadata": {
    "collapsed": false,
    "pycharm": {
     "name": "#%%\n"
    }
   }
  },
  {
   "cell_type": "code",
   "execution_count": 113,
   "outputs": [],
   "source": [
    "np_array = np.arange(10000000)"
   ],
   "metadata": {
    "collapsed": false,
    "pycharm": {
     "name": "#%%\n"
    }
   }
  },
  {
   "cell_type": "code",
   "execution_count": 114,
   "outputs": [
    {
     "data": {
      "text/plain": "numpy.ndarray"
     },
     "execution_count": 114,
     "metadata": {},
     "output_type": "execute_result"
    }
   ],
   "source": [
    "type (np_array)"
   ],
   "metadata": {
    "collapsed": false,
    "pycharm": {
     "name": "#%%\n"
    }
   }
  },
  {
   "cell_type": "code",
   "execution_count": 119,
   "outputs": [
    {
     "data": {
      "text/plain": "list"
     },
     "execution_count": 119,
     "metadata": {},
     "output_type": "execute_result"
    }
   ],
   "source": [
    "list1 = list(range(10000000))\n",
    "type(list1)"
   ],
   "metadata": {
    "collapsed": false,
    "pycharm": {
     "name": "#%%\n"
    }
   }
  },
  {
   "cell_type": "code",
   "execution_count": 120,
   "outputs": [
    {
     "name": "stdout",
     "output_type": "stream",
     "text": [
      "314 ms ± 13.7 ms per loop (mean ± std. dev. of 7 runs, 1 loop each)\n"
     ]
    }
   ],
   "source": [
    "%timeit list1*3"
   ],
   "metadata": {
    "collapsed": false,
    "pycharm": {
     "name": "#%%\n"
    }
   }
  },
  {
   "cell_type": "code",
   "execution_count": 121,
   "outputs": [
    {
     "name": "stdout",
     "output_type": "stream",
     "text": [
      "20.6 ms ± 534 µs per loop (mean ± std. dev. of 7 runs, 10 loops each)\n"
     ]
    }
   ],
   "source": [
    "%timeit np_array*3"
   ],
   "metadata": {
    "collapsed": false,
    "pycharm": {
     "name": "#%%\n"
    }
   }
  },
  {
   "cell_type": "code",
   "execution_count": 123,
   "outputs": [],
   "source": [
    "array = np.random.randn(2,3)"
   ],
   "metadata": {
    "collapsed": false,
    "pycharm": {
     "name": "#%%\n"
    }
   }
  },
  {
   "cell_type": "code",
   "execution_count": null,
   "outputs": [],
   "source": [],
   "metadata": {
    "collapsed": false,
    "pycharm": {
     "name": "#%%\n"
    }
   }
  },
  {
   "cell_type": "code",
   "execution_count": null,
   "outputs": [],
   "source": [],
   "metadata": {
    "collapsed": false,
    "pycharm": {
     "name": "#%%\n"
    }
   }
  },
  {
   "cell_type": "code",
   "execution_count": 124,
   "outputs": [
    {
     "data": {
      "text/plain": "array([[ 0.57289662,  0.78820699, -0.0510468 ],\n       [-0.37176229,  0.10847642,  1.09262597]])"
     },
     "execution_count": 124,
     "metadata": {},
     "output_type": "execute_result"
    }
   ],
   "source": [
    "array"
   ],
   "metadata": {
    "collapsed": false,
    "pycharm": {
     "name": "#%%\n"
    }
   }
  },
  {
   "cell_type": "code",
   "execution_count": 125,
   "outputs": [
    {
     "data": {
      "text/plain": "2"
     },
     "execution_count": 125,
     "metadata": {},
     "output_type": "execute_result"
    }
   ],
   "source": [
    "array.ndim"
   ],
   "metadata": {
    "collapsed": false,
    "pycharm": {
     "name": "#%%\n"
    }
   }
  },
  {
   "cell_type": "code",
   "execution_count": 126,
   "outputs": [
    {
     "data": {
      "text/plain": "(2, 3)"
     },
     "execution_count": 126,
     "metadata": {},
     "output_type": "execute_result"
    }
   ],
   "source": [
    "array.shape"
   ],
   "metadata": {
    "collapsed": false,
    "pycharm": {
     "name": "#%%\n"
    }
   }
  },
  {
   "cell_type": "code",
   "execution_count": 127,
   "outputs": [
    {
     "data": {
      "text/plain": "dtype('float64')"
     },
     "execution_count": 127,
     "metadata": {},
     "output_type": "execute_result"
    }
   ],
   "source": [
    "array.dtype"
   ],
   "metadata": {
    "collapsed": false,
    "pycharm": {
     "name": "#%%\n"
    }
   }
  },
  {
   "cell_type": "code",
   "execution_count": 128,
   "outputs": [
    {
     "data": {
      "text/plain": "[0,\n 1,\n 2,\n 3,\n 4,\n 5,\n 6,\n 7,\n 8,\n 9,\n 10,\n 11,\n 12,\n 13,\n 14,\n 15,\n 16,\n 17,\n 18,\n 19,\n 20,\n 21,\n 22,\n 23,\n 24,\n 25,\n 26,\n 27,\n 28,\n 29,\n 30,\n 31,\n 32,\n 33,\n 34,\n 35,\n 36,\n 37,\n 38,\n 39,\n 40,\n 41,\n 42,\n 43,\n 44,\n 45,\n 46,\n 47,\n 48,\n 49,\n 50,\n 51,\n 52,\n 53,\n 54,\n 55,\n 56,\n 57,\n 58,\n 59,\n 60,\n 61,\n 62,\n 63,\n 64,\n 65,\n 66,\n 67,\n 68,\n 69,\n 70,\n 71,\n 72,\n 73,\n 74,\n 75,\n 76,\n 77,\n 78,\n 79,\n 80,\n 81,\n 82,\n 83,\n 84,\n 85,\n 86,\n 87,\n 88,\n 89,\n 90,\n 91,\n 92,\n 93,\n 94,\n 95,\n 96,\n 97,\n 98,\n 99,\n 100,\n 101,\n 102,\n 103,\n 104,\n 105,\n 106,\n 107,\n 108,\n 109,\n 110,\n 111,\n 112,\n 113,\n 114,\n 115,\n 116,\n 117,\n 118,\n 119,\n 120,\n 121,\n 122,\n 123,\n 124,\n 125,\n 126,\n 127,\n 128,\n 129,\n 130,\n 131,\n 132,\n 133,\n 134,\n 135,\n 136,\n 137,\n 138,\n 139,\n 140,\n 141,\n 142,\n 143,\n 144,\n 145,\n 146,\n 147,\n 148,\n 149,\n 150,\n 151,\n 152,\n 153,\n 154,\n 155,\n 156,\n 157,\n 158,\n 159,\n 160,\n 161,\n 162,\n 163,\n 164,\n 165,\n 166,\n 167,\n 168,\n 169,\n 170,\n 171,\n 172,\n 173,\n 174,\n 175,\n 176,\n 177,\n 178,\n 179,\n 180,\n 181,\n 182,\n 183,\n 184,\n 185,\n 186,\n 187,\n 188,\n 189,\n 190,\n 191,\n 192,\n 193,\n 194,\n 195,\n 196,\n 197,\n 198,\n 199,\n 200,\n 201,\n 202,\n 203,\n 204,\n 205,\n 206,\n 207,\n 208,\n 209,\n 210,\n 211,\n 212,\n 213,\n 214,\n 215,\n 216,\n 217,\n 218,\n 219,\n 220,\n 221,\n 222,\n 223,\n 224,\n 225,\n 226,\n 227,\n 228,\n 229,\n 230,\n 231,\n 232,\n 233,\n 234,\n 235,\n 236,\n 237,\n 238,\n 239,\n 240,\n 241,\n 242,\n 243,\n 244,\n 245,\n 246,\n 247,\n 248,\n 249,\n 250,\n 251,\n 252,\n 253,\n 254,\n 255,\n 256,\n 257,\n 258,\n 259,\n 260,\n 261,\n 262,\n 263,\n 264,\n 265,\n 266,\n 267,\n 268,\n 269,\n 270,\n 271,\n 272,\n 273,\n 274,\n 275,\n 276,\n 277,\n 278,\n 279,\n 280,\n 281,\n 282,\n 283,\n 284,\n 285,\n 286,\n 287,\n 288,\n 289,\n 290,\n 291,\n 292,\n 293,\n 294,\n 295,\n 296,\n 297,\n 298,\n 299,\n 300,\n 301,\n 302,\n 303,\n 304,\n 305,\n 306,\n 307,\n 308,\n 309,\n 310,\n 311,\n 312,\n 313,\n 314,\n 315,\n 316,\n 317,\n 318,\n 319,\n 320,\n 321,\n 322,\n 323,\n 324,\n 325,\n 326,\n 327,\n 328,\n 329,\n 330,\n 331,\n 332,\n 333,\n 334,\n 335,\n 336,\n 337,\n 338,\n 339,\n 340,\n 341,\n 342,\n 343,\n 344,\n 345,\n 346,\n 347,\n 348,\n 349,\n 350,\n 351,\n 352,\n 353,\n 354,\n 355,\n 356,\n 357,\n 358,\n 359,\n 360,\n 361,\n 362,\n 363,\n 364,\n 365,\n 366,\n 367,\n 368,\n 369,\n 370,\n 371,\n 372,\n 373,\n 374,\n 375,\n 376,\n 377,\n 378,\n 379,\n 380,\n 381,\n 382,\n 383,\n 384,\n 385,\n 386,\n 387,\n 388,\n 389,\n 390,\n 391,\n 392,\n 393,\n 394,\n 395,\n 396,\n 397,\n 398,\n 399,\n 400,\n 401,\n 402,\n 403,\n 404,\n 405,\n 406,\n 407,\n 408,\n 409,\n 410,\n 411,\n 412,\n 413,\n 414,\n 415,\n 416,\n 417,\n 418,\n 419,\n 420,\n 421,\n 422,\n 423,\n 424,\n 425,\n 426,\n 427,\n 428,\n 429,\n 430,\n 431,\n 432,\n 433,\n 434,\n 435,\n 436,\n 437,\n 438,\n 439,\n 440,\n 441,\n 442,\n 443,\n 444,\n 445,\n 446,\n 447,\n 448,\n 449,\n 450,\n 451,\n 452,\n 453,\n 454,\n 455,\n 456,\n 457,\n 458,\n 459,\n 460,\n 461,\n 462,\n 463,\n 464,\n 465,\n 466,\n 467,\n 468,\n 469,\n 470,\n 471,\n 472,\n 473,\n 474,\n 475,\n 476,\n 477,\n 478,\n 479,\n 480,\n 481,\n 482,\n 483,\n 484,\n 485,\n 486,\n 487,\n 488,\n 489,\n 490,\n 491,\n 492,\n 493,\n 494,\n 495,\n 496,\n 497,\n 498,\n 499,\n 500,\n 501,\n 502,\n 503,\n 504,\n 505,\n 506,\n 507,\n 508,\n 509,\n 510,\n 511,\n 512,\n 513,\n 514,\n 515,\n 516,\n 517,\n 518,\n 519,\n 520,\n 521,\n 522,\n 523,\n 524,\n 525,\n 526,\n 527,\n 528,\n 529,\n 530,\n 531,\n 532,\n 533,\n 534,\n 535,\n 536,\n 537,\n 538,\n 539,\n 540,\n 541,\n 542,\n 543,\n 544,\n 545,\n 546,\n 547,\n 548,\n 549,\n 550,\n 551,\n 552,\n 553,\n 554,\n 555,\n 556,\n 557,\n 558,\n 559,\n 560,\n 561,\n 562,\n 563,\n 564,\n 565,\n 566,\n 567,\n 568,\n 569,\n 570,\n 571,\n 572,\n 573,\n 574,\n 575,\n 576,\n 577,\n 578,\n 579,\n 580,\n 581,\n 582,\n 583,\n 584,\n 585,\n 586,\n 587,\n 588,\n 589,\n 590,\n 591,\n 592,\n 593,\n 594,\n 595,\n 596,\n 597,\n 598,\n 599,\n 600,\n 601,\n 602,\n 603,\n 604,\n 605,\n 606,\n 607,\n 608,\n 609,\n 610,\n 611,\n 612,\n 613,\n 614,\n 615,\n 616,\n 617,\n 618,\n 619,\n 620,\n 621,\n 622,\n 623,\n 624,\n 625,\n 626,\n 627,\n 628,\n 629,\n 630,\n 631,\n 632,\n 633,\n 634,\n 635,\n 636,\n 637,\n 638,\n 639,\n 640,\n 641,\n 642,\n 643,\n 644,\n 645,\n 646,\n 647,\n 648,\n 649,\n 650,\n 651,\n 652,\n 653,\n 654,\n 655,\n 656,\n 657,\n 658,\n 659,\n 660,\n 661,\n 662,\n 663,\n 664,\n 665,\n 666,\n 667,\n 668,\n 669,\n 670,\n 671,\n 672,\n 673,\n 674,\n 675,\n 676,\n 677,\n 678,\n 679,\n 680,\n 681,\n 682,\n 683,\n 684,\n 685,\n 686,\n 687,\n 688,\n 689,\n 690,\n 691,\n 692,\n 693,\n 694,\n 695,\n 696,\n 697,\n 698,\n 699,\n 700,\n 701,\n 702,\n 703,\n 704,\n 705,\n 706,\n 707,\n 708,\n 709,\n 710,\n 711,\n 712,\n 713,\n 714,\n 715,\n 716,\n 717,\n 718,\n 719,\n 720,\n 721,\n 722,\n 723,\n 724,\n 725,\n 726,\n 727,\n 728,\n 729,\n 730,\n 731,\n 732,\n 733,\n 734,\n 735,\n 736,\n 737,\n 738,\n 739,\n 740,\n 741,\n 742,\n 743,\n 744,\n 745,\n 746,\n 747,\n 748,\n 749,\n 750,\n 751,\n 752,\n 753,\n 754,\n 755,\n 756,\n 757,\n 758,\n 759,\n 760,\n 761,\n 762,\n 763,\n 764,\n 765,\n 766,\n 767,\n 768,\n 769,\n 770,\n 771,\n 772,\n 773,\n 774,\n 775,\n 776,\n 777,\n 778,\n 779,\n 780,\n 781,\n 782,\n 783,\n 784,\n 785,\n 786,\n 787,\n 788,\n 789,\n 790,\n 791,\n 792,\n 793,\n 794,\n 795,\n 796,\n 797,\n 798,\n 799,\n 800,\n 801,\n 802,\n 803,\n 804,\n 805,\n 806,\n 807,\n 808,\n 809,\n 810,\n 811,\n 812,\n 813,\n 814,\n 815,\n 816,\n 817,\n 818,\n 819,\n 820,\n 821,\n 822,\n 823,\n 824,\n 825,\n 826,\n 827,\n 828,\n 829,\n 830,\n 831,\n 832,\n 833,\n 834,\n 835,\n 836,\n 837,\n 838,\n 839,\n 840,\n 841,\n 842,\n 843,\n 844,\n 845,\n 846,\n 847,\n 848,\n 849,\n 850,\n 851,\n 852,\n 853,\n 854,\n 855,\n 856,\n 857,\n 858,\n 859,\n 860,\n 861,\n 862,\n 863,\n 864,\n 865,\n 866,\n 867,\n 868,\n 869,\n 870,\n 871,\n 872,\n 873,\n 874,\n 875,\n 876,\n 877,\n 878,\n 879,\n 880,\n 881,\n 882,\n 883,\n 884,\n 885,\n 886,\n 887,\n 888,\n 889,\n 890,\n 891,\n 892,\n 893,\n 894,\n 895,\n 896,\n 897,\n 898,\n 899,\n 900,\n 901,\n 902,\n 903,\n 904,\n 905,\n 906,\n 907,\n 908,\n 909,\n 910,\n 911,\n 912,\n 913,\n 914,\n 915,\n 916,\n 917,\n 918,\n 919,\n 920,\n 921,\n 922,\n 923,\n 924,\n 925,\n 926,\n 927,\n 928,\n 929,\n 930,\n 931,\n 932,\n 933,\n 934,\n 935,\n 936,\n 937,\n 938,\n 939,\n 940,\n 941,\n 942,\n 943,\n 944,\n 945,\n 946,\n 947,\n 948,\n 949,\n 950,\n 951,\n 952,\n 953,\n 954,\n 955,\n 956,\n 957,\n 958,\n 959,\n 960,\n 961,\n 962,\n 963,\n 964,\n 965,\n 966,\n 967,\n 968,\n 969,\n 970,\n 971,\n 972,\n 973,\n 974,\n 975,\n 976,\n 977,\n 978,\n 979,\n 980,\n 981,\n 982,\n 983,\n 984,\n 985,\n 986,\n 987,\n 988,\n 989,\n 990,\n 991,\n 992,\n 993,\n 994,\n 995,\n 996,\n 997,\n 998,\n 999,\n ...]"
     },
     "execution_count": 128,
     "metadata": {},
     "output_type": "execute_result"
    }
   ],
   "source": [
    "list1"
   ],
   "metadata": {
    "collapsed": false,
    "pycharm": {
     "name": "#%%\n"
    }
   }
  },
  {
   "cell_type": "code",
   "execution_count": 129,
   "outputs": [],
   "source": [
    "array_1 = np.array(list1)"
   ],
   "metadata": {
    "collapsed": false,
    "pycharm": {
     "name": "#%%\n"
    }
   }
  },
  {
   "cell_type": "code",
   "execution_count": 130,
   "outputs": [
    {
     "data": {
      "text/plain": "numpy.ndarray"
     },
     "execution_count": 130,
     "metadata": {},
     "output_type": "execute_result"
    }
   ],
   "source": [
    "type(array_1)"
   ],
   "metadata": {
    "collapsed": false,
    "pycharm": {
     "name": "#%%\n"
    }
   }
  },
  {
   "cell_type": "code",
   "execution_count": 132,
   "outputs": [
    {
     "data": {
      "text/plain": "(10000000,)"
     },
     "execution_count": 132,
     "metadata": {},
     "output_type": "execute_result"
    }
   ],
   "source": [
    "array_1.shape"
   ],
   "metadata": {
    "collapsed": false,
    "pycharm": {
     "name": "#%%\n"
    }
   }
  },
  {
   "cell_type": "code",
   "execution_count": 143,
   "outputs": [],
   "source": [
    "list2=[[[1,2,3],[1,2,3],[4,5,6]]]\n",
    "array_3 = np.array(list2)"
   ],
   "metadata": {
    "collapsed": false,
    "pycharm": {
     "name": "#%%\n"
    }
   }
  },
  {
   "cell_type": "code",
   "execution_count": 144,
   "outputs": [
    {
     "data": {
      "text/plain": "3"
     },
     "execution_count": 144,
     "metadata": {},
     "output_type": "execute_result"
    }
   ],
   "source": [
    "array_3.ndim"
   ],
   "metadata": {
    "collapsed": false,
    "pycharm": {
     "name": "#%%\n"
    }
   }
  },
  {
   "cell_type": "code",
   "execution_count": 145,
   "outputs": [
    {
     "data": {
      "text/plain": "(1, 3, 3)"
     },
     "execution_count": 145,
     "metadata": {},
     "output_type": "execute_result"
    }
   ],
   "source": [
    "array_3.shape"
   ],
   "metadata": {
    "collapsed": false,
    "pycharm": {
     "name": "#%%\n"
    }
   }
  },
  {
   "cell_type": "code",
   "execution_count": 146,
   "outputs": [
    {
     "data": {
      "text/plain": "array([[[1, 2, 3],\n        [1, 2, 3],\n        [4, 5, 6]]])"
     },
     "execution_count": 146,
     "metadata": {},
     "output_type": "execute_result"
    }
   ],
   "source": [
    "array_3"
   ],
   "metadata": {
    "collapsed": false,
    "pycharm": {
     "name": "#%%\n"
    }
   }
  },
  {
   "cell_type": "code",
   "execution_count": 149,
   "outputs": [],
   "source": [
    "array_4 = np.zeros((2,2,3))"
   ],
   "metadata": {
    "collapsed": false,
    "pycharm": {
     "name": "#%%\n"
    }
   }
  },
  {
   "cell_type": "code",
   "execution_count": 150,
   "outputs": [
    {
     "data": {
      "text/plain": "array([[[0., 0., 0.],\n        [0., 0., 0.]],\n\n       [[0., 0., 0.],\n        [0., 0., 0.]]])"
     },
     "execution_count": 150,
     "metadata": {},
     "output_type": "execute_result"
    }
   ],
   "source": [
    "array_4"
   ],
   "metadata": {
    "collapsed": false,
    "pycharm": {
     "name": "#%%\n"
    }
   }
  },
  {
   "cell_type": "code",
   "execution_count": 151,
   "outputs": [],
   "source": [
    "list1 = [1,2,3,'e']"
   ],
   "metadata": {
    "collapsed": false,
    "pycharm": {
     "name": "#%%\n"
    }
   }
  },
  {
   "cell_type": "code",
   "execution_count": 152,
   "outputs": [
    {
     "data": {
      "text/plain": "[1, 2, 3, 'e']"
     },
     "execution_count": 152,
     "metadata": {},
     "output_type": "execute_result"
    }
   ],
   "source": [
    "list1"
   ],
   "metadata": {
    "collapsed": false,
    "pycharm": {
     "name": "#%%\n"
    }
   }
  },
  {
   "cell_type": "code",
   "execution_count": 158,
   "outputs": [],
   "source": [
    "np_array = np.array(list1, dtype= '<U21')"
   ],
   "metadata": {
    "collapsed": false,
    "pycharm": {
     "name": "#%%\n"
    }
   }
  },
  {
   "cell_type": "code",
   "execution_count": 155,
   "outputs": [
    {
     "data": {
      "text/plain": "array(['1', '2', '3', 'e'], dtype='<U21')"
     },
     "execution_count": 155,
     "metadata": {},
     "output_type": "execute_result"
    }
   ],
   "source": [
    "np_array"
   ],
   "metadata": {
    "collapsed": false,
    "pycharm": {
     "name": "#%%\n"
    }
   }
  },
  {
   "cell_type": "code",
   "execution_count": 156,
   "outputs": [
    {
     "data": {
      "text/plain": "dtype('<U21')"
     },
     "execution_count": 156,
     "metadata": {},
     "output_type": "execute_result"
    }
   ],
   "source": [
    "np_array.dtype"
   ],
   "metadata": {
    "collapsed": false,
    "pycharm": {
     "name": "#%%\n"
    }
   }
  },
  {
   "cell_type": "code",
   "execution_count": 159,
   "outputs": [],
   "source": [
    "list2 = ['19','24', '34', '14', '56']"
   ],
   "metadata": {
    "collapsed": false,
    "pycharm": {
     "name": "#%%\n"
    }
   }
  },
  {
   "cell_type": "code",
   "execution_count": 160,
   "outputs": [
    {
     "data": {
      "text/plain": "['19', '24', '34', '14', '56']"
     },
     "execution_count": 160,
     "metadata": {},
     "output_type": "execute_result"
    }
   ],
   "source": [
    "list2"
   ],
   "metadata": {
    "collapsed": false,
    "pycharm": {
     "name": "#%%\n"
    }
   }
  },
  {
   "cell_type": "code",
   "execution_count": 161,
   "outputs": [],
   "source": [
    "np_array_3 = np.array(list2)"
   ],
   "metadata": {
    "collapsed": false,
    "pycharm": {
     "name": "#%%\n"
    }
   }
  },
  {
   "cell_type": "code",
   "execution_count": 162,
   "outputs": [
    {
     "data": {
      "text/plain": "numpy.ndarray"
     },
     "execution_count": 162,
     "metadata": {},
     "output_type": "execute_result"
    }
   ],
   "source": [
    "type(np_array_3)"
   ],
   "metadata": {
    "collapsed": false,
    "pycharm": {
     "name": "#%%\n"
    }
   }
  },
  {
   "cell_type": "code",
   "execution_count": 163,
   "outputs": [
    {
     "data": {
      "text/plain": "numpy.ndarray"
     },
     "execution_count": 163,
     "metadata": {},
     "output_type": "execute_result"
    }
   ],
   "source": [
    "type(np_array_3)"
   ],
   "metadata": {
    "collapsed": false,
    "pycharm": {
     "name": "#%%\n"
    }
   }
  },
  {
   "cell_type": "code",
   "execution_count": 164,
   "outputs": [
    {
     "data": {
      "text/plain": "dtype('<U2')"
     },
     "execution_count": 164,
     "metadata": {},
     "output_type": "execute_result"
    }
   ],
   "source": [
    "np_array_3.dtype"
   ],
   "metadata": {
    "collapsed": false,
    "pycharm": {
     "name": "#%%\n"
    }
   }
  },
  {
   "cell_type": "code",
   "execution_count": 165,
   "outputs": [
    {
     "ename": "UFuncTypeError",
     "evalue": "ufunc 'subtract' did not contain a loop with signature matching types (dtype('<U2'), dtype('int64')) -> None",
     "output_type": "error",
     "traceback": [
      "\u001B[0;31m---------------------------------------------------------------------------\u001B[0m",
      "\u001B[0;31mUFuncTypeError\u001B[0m                            Traceback (most recent call last)",
      "Input \u001B[0;32mIn [165]\u001B[0m, in \u001B[0;36m<cell line: 1>\u001B[0;34m()\u001B[0m\n\u001B[0;32m----> 1\u001B[0m \u001B[43mnp_array_3\u001B[49m\u001B[43m \u001B[49m\u001B[38;5;241;43m-\u001B[39;49m\u001B[38;5;241;43m2\u001B[39;49m\n",
      "\u001B[0;31mUFuncTypeError\u001B[0m: ufunc 'subtract' did not contain a loop with signature matching types (dtype('<U2'), dtype('int64')) -> None"
     ]
    }
   ],
   "source": [
    "np_array_3 -2"
   ],
   "metadata": {
    "collapsed": false,
    "pycharm": {
     "name": "#%%\n"
    }
   }
  },
  {
   "cell_type": "code",
   "execution_count": 166,
   "outputs": [],
   "source": [
    "array_age = np_array_3.astype(np.int16)"
   ],
   "metadata": {
    "collapsed": false,
    "pycharm": {
     "name": "#%%\n"
    }
   }
  },
  {
   "cell_type": "code",
   "execution_count": 167,
   "outputs": [
    {
     "data": {
      "text/plain": "numpy.ndarray"
     },
     "execution_count": 167,
     "metadata": {},
     "output_type": "execute_result"
    }
   ],
   "source": [
    "type(array_age)"
   ],
   "metadata": {
    "collapsed": false,
    "pycharm": {
     "name": "#%%\n"
    }
   }
  },
  {
   "cell_type": "code",
   "execution_count": 168,
   "outputs": [
    {
     "data": {
      "text/plain": "dtype('int16')"
     },
     "execution_count": 168,
     "metadata": {},
     "output_type": "execute_result"
    }
   ],
   "source": [
    "array_age.dtype"
   ],
   "metadata": {
    "collapsed": false,
    "pycharm": {
     "name": "#%%\n"
    }
   }
  },
  {
   "cell_type": "code",
   "execution_count": 172,
   "outputs": [
    {
     "data": {
      "text/plain": "array([16, 21, 31, 11, 53], dtype=int16)"
     },
     "execution_count": 172,
     "metadata": {},
     "output_type": "execute_result"
    }
   ],
   "source": [
    "array_age -3"
   ],
   "metadata": {
    "collapsed": false,
    "pycharm": {
     "name": "#%%\n"
    }
   }
  },
  {
   "cell_type": "code",
   "execution_count": 173,
   "outputs": [
    {
     "data": {
      "text/plain": "array([19, 24, 34, 14, 56], dtype=int16)"
     },
     "execution_count": 173,
     "metadata": {},
     "output_type": "execute_result"
    }
   ],
   "source": [
    "array_age"
   ],
   "metadata": {
    "collapsed": false,
    "pycharm": {
     "name": "#%%\n"
    }
   }
  },
  {
   "cell_type": "code",
   "execution_count": 174,
   "outputs": [
    {
     "data": {
      "text/plain": "array([[1, 2, 3],\n       [4, 5, 6]])"
     },
     "execution_count": 174,
     "metadata": {},
     "output_type": "execute_result"
    }
   ],
   "source": [
    "array = np.array([[1,2,3],[4,5,6]])\n",
    "array"
   ],
   "metadata": {
    "collapsed": false,
    "pycharm": {
     "name": "#%%\n"
    }
   }
  },
  {
   "cell_type": "code",
   "execution_count": 175,
   "outputs": [
    {
     "data": {
      "text/plain": "(2, 3)"
     },
     "execution_count": 175,
     "metadata": {},
     "output_type": "execute_result"
    }
   ],
   "source": [
    "array.shape"
   ],
   "metadata": {
    "collapsed": false,
    "pycharm": {
     "name": "#%%\n"
    }
   }
  },
  {
   "cell_type": "code",
   "execution_count": 176,
   "outputs": [
    {
     "data": {
      "text/plain": "array([[ 1,  4,  9],\n       [16, 25, 36]])"
     },
     "execution_count": 176,
     "metadata": {},
     "output_type": "execute_result"
    }
   ],
   "source": [
    "array*array"
   ],
   "metadata": {
    "collapsed": false,
    "pycharm": {
     "name": "#%%\n"
    }
   }
  },
  {
   "cell_type": "code",
   "execution_count": 177,
   "outputs": [
    {
     "data": {
      "text/plain": "array([ 2,  4,  6,  8, 10, 12, 14, 16, 18])"
     },
     "execution_count": 177,
     "metadata": {},
     "output_type": "execute_result"
    }
   ],
   "source": [
    "array = np.arange(2,20,2)\n",
    "array"
   ],
   "metadata": {
    "collapsed": false,
    "pycharm": {
     "name": "#%%\n"
    }
   }
  },
  {
   "cell_type": "code",
   "execution_count": 178,
   "outputs": [
    {
     "data": {
      "text/plain": "(9,)"
     },
     "execution_count": 178,
     "metadata": {},
     "output_type": "execute_result"
    }
   ],
   "source": [
    "array.shape"
   ],
   "metadata": {
    "collapsed": false,
    "pycharm": {
     "name": "#%%\n"
    }
   }
  },
  {
   "cell_type": "code",
   "execution_count": 180,
   "outputs": [
    {
     "data": {
      "text/plain": "array([ 6,  8, 10, 12, 14, 16])"
     },
     "execution_count": 180,
     "metadata": {},
     "output_type": "execute_result"
    }
   ],
   "source": [
    "array[2:8]"
   ],
   "metadata": {
    "collapsed": false,
    "pycharm": {
     "name": "#%%\n"
    }
   }
  },
  {
   "cell_type": "code",
   "execution_count": 182,
   "outputs": [],
   "source": [
    "array[0] = 99"
   ],
   "metadata": {
    "collapsed": false,
    "pycharm": {
     "name": "#%%\n"
    }
   }
  },
  {
   "cell_type": "code",
   "execution_count": 183,
   "outputs": [
    {
     "data": {
      "text/plain": "99"
     },
     "execution_count": 183,
     "metadata": {},
     "output_type": "execute_result"
    }
   ],
   "source": [
    "array[0]"
   ],
   "metadata": {
    "collapsed": false,
    "pycharm": {
     "name": "#%%\n"
    }
   }
  },
  {
   "cell_type": "code",
   "execution_count": null,
   "outputs": [],
   "source": [],
   "metadata": {
    "collapsed": false,
    "pycharm": {
     "name": "#%%\n"
    }
   }
  },
  {
   "cell_type": "code",
   "execution_count": 184,
   "outputs": [
    {
     "data": {
      "text/plain": "array([99,  4,  6,  8, 10, 12, 14, 16, 18])"
     },
     "execution_count": 184,
     "metadata": {},
     "output_type": "execute_result"
    }
   ],
   "source": [
    "array"
   ],
   "metadata": {
    "collapsed": false,
    "pycharm": {
     "name": "#%%\n"
    }
   }
  },
  {
   "cell_type": "code",
   "execution_count": 185,
   "outputs": [],
   "source": [
    "array_1 = array"
   ],
   "metadata": {
    "collapsed": false,
    "pycharm": {
     "name": "#%%\n"
    }
   }
  },
  {
   "cell_type": "code",
   "execution_count": 186,
   "outputs": [
    {
     "data": {
      "text/plain": "array([99,  4,  6,  8, 10, 12, 14, 16, 18])"
     },
     "execution_count": 186,
     "metadata": {},
     "output_type": "execute_result"
    }
   ],
   "source": [
    "array_1"
   ],
   "metadata": {
    "collapsed": false,
    "pycharm": {
     "name": "#%%\n"
    }
   }
  },
  {
   "cell_type": "code",
   "execution_count": 187,
   "outputs": [],
   "source": [
    "array_1[0]=55"
   ],
   "metadata": {
    "collapsed": false,
    "pycharm": {
     "name": "#%%\n"
    }
   }
  },
  {
   "cell_type": "code",
   "execution_count": 188,
   "outputs": [
    {
     "data": {
      "text/plain": "array([55,  4,  6,  8, 10, 12, 14, 16, 18])"
     },
     "execution_count": 188,
     "metadata": {},
     "output_type": "execute_result"
    }
   ],
   "source": [
    "array_1"
   ],
   "metadata": {
    "collapsed": false,
    "pycharm": {
     "name": "#%%\n"
    }
   }
  },
  {
   "cell_type": "code",
   "execution_count": 189,
   "outputs": [
    {
     "data": {
      "text/plain": "array([55,  4,  6,  8, 10, 12, 14, 16, 18])"
     },
     "execution_count": 189,
     "metadata": {},
     "output_type": "execute_result"
    }
   ],
   "source": [
    "array"
   ],
   "metadata": {
    "collapsed": false,
    "pycharm": {
     "name": "#%%\n"
    }
   }
  },
  {
   "cell_type": "code",
   "execution_count": 190,
   "outputs": [],
   "source": [
    "array_1 = array.copy()"
   ],
   "metadata": {
    "collapsed": false,
    "pycharm": {
     "name": "#%%\n"
    }
   }
  },
  {
   "cell_type": "code",
   "execution_count": 191,
   "outputs": [],
   "source": [
    "array_1[0] = 11"
   ],
   "metadata": {
    "collapsed": false,
    "pycharm": {
     "name": "#%%\n"
    }
   }
  },
  {
   "cell_type": "code",
   "execution_count": 192,
   "outputs": [
    {
     "data": {
      "text/plain": "array([11,  4,  6,  8, 10, 12, 14, 16, 18])"
     },
     "execution_count": 192,
     "metadata": {},
     "output_type": "execute_result"
    }
   ],
   "source": [
    "array_1"
   ],
   "metadata": {
    "collapsed": false,
    "pycharm": {
     "name": "#%%\n"
    }
   }
  },
  {
   "cell_type": "code",
   "execution_count": 193,
   "outputs": [
    {
     "data": {
      "text/plain": "array([55,  4,  6,  8, 10, 12, 14, 16, 18])"
     },
     "execution_count": 193,
     "metadata": {},
     "output_type": "execute_result"
    }
   ],
   "source": [
    "array"
   ],
   "metadata": {
    "collapsed": false,
    "pycharm": {
     "name": "#%%\n"
    }
   }
  },
  {
   "cell_type": "code",
   "execution_count": 194,
   "outputs": [],
   "source": [
    "array_2d = np.array([[1,2,3], [4,5,6], [7,8,9],[10,11,12]])"
   ],
   "metadata": {
    "collapsed": false,
    "pycharm": {
     "name": "#%%\n"
    }
   }
  },
  {
   "cell_type": "code",
   "execution_count": 195,
   "outputs": [
    {
     "data": {
      "text/plain": "array([[ 1,  2,  3],\n       [ 4,  5,  6],\n       [ 7,  8,  9],\n       [10, 11, 12]])"
     },
     "execution_count": 195,
     "metadata": {},
     "output_type": "execute_result"
    }
   ],
   "source": [
    "array_2d"
   ],
   "metadata": {
    "collapsed": false,
    "pycharm": {
     "name": "#%%\n"
    }
   }
  },
  {
   "cell_type": "code",
   "execution_count": 196,
   "outputs": [
    {
     "data": {
      "text/plain": "(4, 3)"
     },
     "execution_count": 196,
     "metadata": {},
     "output_type": "execute_result"
    }
   ],
   "source": [
    "array_2d.shape"
   ],
   "metadata": {
    "collapsed": false,
    "pycharm": {
     "name": "#%%\n"
    }
   }
  },
  {
   "cell_type": "code",
   "execution_count": 197,
   "outputs": [
    {
     "data": {
      "text/plain": "2"
     },
     "execution_count": 197,
     "metadata": {},
     "output_type": "execute_result"
    }
   ],
   "source": [
    "array_2d.ndim"
   ],
   "metadata": {
    "collapsed": false,
    "pycharm": {
     "name": "#%%\n"
    }
   }
  },
  {
   "cell_type": "code",
   "execution_count": 198,
   "outputs": [
    {
     "data": {
      "text/plain": "array([[1, 2, 3],\n       [4, 5, 6]])"
     },
     "execution_count": 198,
     "metadata": {},
     "output_type": "execute_result"
    }
   ],
   "source": [
    "array_2d[0:2, : ]"
   ],
   "metadata": {
    "collapsed": false,
    "pycharm": {
     "name": "#%%\n"
    }
   }
  },
  {
   "cell_type": "code",
   "execution_count": 202,
   "outputs": [
    {
     "data": {
      "text/plain": "5"
     },
     "execution_count": 202,
     "metadata": {},
     "output_type": "execute_result"
    }
   ],
   "source": [
    "array_2d[1, 1]"
   ],
   "metadata": {
    "collapsed": false,
    "pycharm": {
     "name": "#%%\n"
    }
   }
  },
  {
   "cell_type": "code",
   "execution_count": 203,
   "outputs": [
    {
     "data": {
      "text/plain": "array([22, 61, 31])"
     },
     "execution_count": 203,
     "metadata": {},
     "output_type": "execute_result"
    }
   ],
   "source": [
    "array_1 = np.array(['a','b','c','a','d','b','a'])\n",
    "array_2 = np.array([22,45,22,61,19,23,31])\n",
    "array_2[array_1 == 'a']"
   ],
   "metadata": {
    "collapsed": false,
    "pycharm": {
     "name": "#%%\n"
    }
   }
  },
  {
   "cell_type": "code",
   "execution_count": 204,
   "outputs": [
    {
     "data": {
      "text/plain": "array(['a', 'b', 'c', 'a', 'd', 'b', 'a'], dtype='<U1')"
     },
     "execution_count": 204,
     "metadata": {},
     "output_type": "execute_result"
    }
   ],
   "source": [
    "array_1"
   ],
   "metadata": {
    "collapsed": false,
    "pycharm": {
     "name": "#%%\n"
    }
   }
  },
  {
   "cell_type": "code",
   "execution_count": 206,
   "outputs": [],
   "source": [
    "array_3 = np.random.randn(7,2)"
   ],
   "metadata": {
    "collapsed": false,
    "pycharm": {
     "name": "#%%\n"
    }
   }
  },
  {
   "cell_type": "code",
   "execution_count": 207,
   "outputs": [
    {
     "data": {
      "text/plain": "array([[-1.53020198,  0.53467377],\n       [-1.3703692 , -1.57648436],\n       [ 1.16681534, -0.53205925],\n       [-0.14098762,  0.26294476],\n       [ 1.47283057, -0.40407787],\n       [-1.23035907,  0.48898341],\n       [-0.95870832, -0.55515229]])"
     },
     "execution_count": 207,
     "metadata": {},
     "output_type": "execute_result"
    }
   ],
   "source": [
    "array_3"
   ],
   "metadata": {
    "collapsed": false,
    "pycharm": {
     "name": "#%%\n"
    }
   }
  },
  {
   "cell_type": "code",
   "execution_count": 208,
   "outputs": [
    {
     "data": {
      "text/plain": "array([[-1.53020198,  0.53467377],\n       [-0.14098762,  0.26294476],\n       [-0.95870832, -0.55515229]])"
     },
     "execution_count": 208,
     "metadata": {},
     "output_type": "execute_result"
    }
   ],
   "source": [
    "array_3[array_1 == 'a']"
   ],
   "metadata": {
    "collapsed": false,
    "pycharm": {
     "name": "#%%\n"
    }
   }
  },
  {
   "cell_type": "code",
   "execution_count": 209,
   "outputs": [
    {
     "data": {
      "text/plain": "array([ 9, 45, 18, 16, 29, 20, 37, 39, 48, 28])"
     },
     "execution_count": 209,
     "metadata": {},
     "output_type": "execute_result"
    }
   ],
   "source": [
    "array1 = np.random.randint(50, size=10)\n",
    "array1"
   ],
   "metadata": {
    "collapsed": false,
    "pycharm": {
     "name": "#%%\n"
    }
   }
  },
  {
   "cell_type": "code",
   "execution_count": 210,
   "outputs": [
    {
     "data": {
      "text/plain": "array([45, 16, 20, 39])"
     },
     "execution_count": 210,
     "metadata": {},
     "output_type": "execute_result"
    }
   ],
   "source": [
    "ind = [1,3,5,7]\n",
    "array1[ind]"
   ],
   "metadata": {
    "collapsed": false,
    "pycharm": {
     "name": "#%%\n"
    }
   }
  },
  {
   "cell_type": "code",
   "execution_count": 211,
   "outputs": [
    {
     "data": {
      "text/plain": "array([[92, 75, 97, 42],\n       [94, 65, 44, 36],\n       [56,  9, 39, 38]])"
     },
     "execution_count": 211,
     "metadata": {},
     "output_type": "execute_result"
    }
   ],
   "source": [
    "array_2 = np.random.randint(100, size=(3,4))\n",
    "array_2"
   ],
   "metadata": {
    "collapsed": false,
    "pycharm": {
     "name": "#%%\n"
    }
   }
  },
  {
   "cell_type": "code",
   "execution_count": 212,
   "outputs": [],
   "source": [
    "ind = ((0,1,2),(3,1,2))"
   ],
   "metadata": {
    "collapsed": false,
    "pycharm": {
     "name": "#%%\n"
    }
   }
  },
  {
   "cell_type": "code",
   "execution_count": 214,
   "outputs": [
    {
     "data": {
      "text/plain": "array([42, 65, 39])"
     },
     "execution_count": 214,
     "metadata": {},
     "output_type": "execute_result"
    }
   ],
   "source": [
    "array_2[ind]"
   ],
   "metadata": {
    "collapsed": false,
    "pycharm": {
     "name": "#%%\n"
    }
   }
  },
  {
   "cell_type": "code",
   "execution_count": 215,
   "outputs": [],
   "source": [
    "array1 = np.random.randint(50, size=(2,3))"
   ],
   "metadata": {
    "collapsed": false,
    "pycharm": {
     "name": "#%%\n"
    }
   }
  },
  {
   "cell_type": "code",
   "execution_count": 216,
   "outputs": [
    {
     "data": {
      "text/plain": "array([[44, 42, 21],\n       [39, 10, 10]])"
     },
     "execution_count": 216,
     "metadata": {},
     "output_type": "execute_result"
    }
   ],
   "source": [
    "array1"
   ],
   "metadata": {
    "collapsed": false,
    "pycharm": {
     "name": "#%%\n"
    }
   }
  },
  {
   "cell_type": "code",
   "execution_count": 217,
   "outputs": [
    {
     "data": {
      "text/plain": "array([[44, 39],\n       [42, 10],\n       [21, 10]])"
     },
     "execution_count": 217,
     "metadata": {},
     "output_type": "execute_result"
    }
   ],
   "source": [
    "array1.transpose()"
   ],
   "metadata": {
    "collapsed": false,
    "pycharm": {
     "name": "#%%\n"
    }
   }
  },
  {
   "cell_type": "code",
   "execution_count": 218,
   "outputs": [
    {
     "data": {
      "text/plain": "array([[44, 42, 21],\n       [39, 10, 10]])"
     },
     "execution_count": 218,
     "metadata": {},
     "output_type": "execute_result"
    }
   ],
   "source": [
    "array1\n"
   ],
   "metadata": {
    "collapsed": false,
    "pycharm": {
     "name": "#%%\n"
    }
   }
  },
  {
   "cell_type": "code",
   "execution_count": 219,
   "outputs": [
    {
     "data": {
      "text/plain": "array([[44, 39],\n       [42, 10],\n       [21, 10]])"
     },
     "execution_count": 219,
     "metadata": {},
     "output_type": "execute_result"
    }
   ],
   "source": [
    "array1.T"
   ],
   "metadata": {
    "collapsed": false,
    "pycharm": {
     "name": "#%%\n"
    }
   }
  },
  {
   "cell_type": "code",
   "execution_count": 220,
   "outputs": [
    {
     "data": {
      "text/plain": "numpy.ndarray"
     },
     "execution_count": 220,
     "metadata": {},
     "output_type": "execute_result"
    }
   ],
   "source": [
    "array1 = np.random.randn(4,5)\n",
    "type(array1)"
   ],
   "metadata": {
    "collapsed": false,
    "pycharm": {
     "name": "#%%\n"
    }
   }
  },
  {
   "cell_type": "code",
   "execution_count": 222,
   "outputs": [
    {
     "data": {
      "text/plain": "array([[-1.26690248,  1.13325408,  1.70081077, -0.69113311,  0.18391719],\n       [ 0.13644119,  0.22455063,  1.21440873,  0.60868556, -0.79571735],\n       [ 0.76244245, -0.80828219, -0.21256459,  1.93776831,  0.09737941],\n       [ 0.9452684 ,  0.14185275, -0.38616227,  0.458223  ,  0.2180013 ]])"
     },
     "execution_count": 222,
     "metadata": {},
     "output_type": "execute_result"
    }
   ],
   "source": [
    "array1"
   ],
   "metadata": {
    "collapsed": false,
    "pycharm": {
     "name": "#%%\n"
    }
   }
  },
  {
   "cell_type": "code",
   "execution_count": 223,
   "outputs": [
    {
     "data": {
      "text/plain": "0.28011208899198936"
     },
     "execution_count": 223,
     "metadata": {},
     "output_type": "execute_result"
    }
   ],
   "source": [
    "array1.mean()"
   ],
   "metadata": {
    "collapsed": false,
    "pycharm": {
     "name": "#%%\n"
    }
   }
  },
  {
   "cell_type": "code",
   "execution_count": 225,
   "outputs": [
    {
     "data": {
      "text/plain": "0"
     },
     "execution_count": 225,
     "metadata": {},
     "output_type": "execute_result"
    }
   ],
   "source": [
    "array1.argmin()"
   ],
   "metadata": {
    "collapsed": false,
    "pycharm": {
     "name": "#%%\n"
    }
   }
  },
  {
   "cell_type": "code",
   "execution_count": 226,
   "outputs": [
    {
     "data": {
      "text/plain": "array([ 0.57724956,  0.69137526,  2.31649264,  2.31354376, -0.29641944])"
     },
     "execution_count": 226,
     "metadata": {},
     "output_type": "execute_result"
    }
   ],
   "source": [
    "array1.sum(0)"
   ],
   "metadata": {
    "collapsed": false,
    "pycharm": {
     "name": "#%%\n"
    }
   }
  },
  {
   "cell_type": "code",
   "execution_count": 228,
   "outputs": [
    {
     "data": {
      "text/plain": "array([1.05994645, 1.38836876, 1.77674339, 1.37718318])"
     },
     "execution_count": 228,
     "metadata": {},
     "output_type": "execute_result"
    }
   ],
   "source": [
    "array1.sum(axis=1)"
   ],
   "metadata": {
    "collapsed": false,
    "pycharm": {
     "name": "#%%\n"
    }
   }
  },
  {
   "cell_type": "code",
   "execution_count": 229,
   "outputs": [],
   "source": [
    "np.save('theData', array1)"
   ],
   "metadata": {
    "collapsed": false,
    "pycharm": {
     "name": "#%%\n"
    }
   }
  },
  {
   "cell_type": "code",
   "execution_count": 231,
   "outputs": [],
   "source": [
    "array1 =np.array([])\n"
   ],
   "metadata": {
    "collapsed": false,
    "pycharm": {
     "name": "#%%\n"
    }
   }
  },
  {
   "cell_type": "code",
   "execution_count": 232,
   "outputs": [
    {
     "data": {
      "text/plain": "array([], dtype=float64)"
     },
     "execution_count": 232,
     "metadata": {},
     "output_type": "execute_result"
    }
   ],
   "source": [
    "array1"
   ],
   "metadata": {
    "collapsed": false,
    "pycharm": {
     "name": "#%%\n"
    }
   }
  },
  {
   "cell_type": "code",
   "execution_count": 233,
   "outputs": [],
   "source": [
    "array1 = np.load('theData.npy')"
   ],
   "metadata": {
    "collapsed": false,
    "pycharm": {
     "name": "#%%\n"
    }
   }
  },
  {
   "cell_type": "code",
   "execution_count": 234,
   "outputs": [
    {
     "data": {
      "text/plain": "array([[-1.26690248,  1.13325408,  1.70081077, -0.69113311,  0.18391719],\n       [ 0.13644119,  0.22455063,  1.21440873,  0.60868556, -0.79571735],\n       [ 0.76244245, -0.80828219, -0.21256459,  1.93776831,  0.09737941],\n       [ 0.9452684 ,  0.14185275, -0.38616227,  0.458223  ,  0.2180013 ]])"
     },
     "execution_count": 234,
     "metadata": {},
     "output_type": "execute_result"
    }
   ],
   "source": [
    "array1"
   ],
   "metadata": {
    "collapsed": false,
    "pycharm": {
     "name": "#%%\n"
    }
   }
  },
  {
   "cell_type": "code",
   "execution_count": 235,
   "outputs": [],
   "source": [
    "array1.sort(1)"
   ],
   "metadata": {
    "collapsed": false,
    "pycharm": {
     "name": "#%%\n"
    }
   }
  },
  {
   "cell_type": "code",
   "execution_count": 236,
   "outputs": [
    {
     "data": {
      "text/plain": "array([[-1.26690248, -0.69113311,  0.18391719,  1.13325408,  1.70081077],\n       [-0.79571735,  0.13644119,  0.22455063,  0.60868556,  1.21440873],\n       [-0.80828219, -0.21256459,  0.09737941,  0.76244245,  1.93776831],\n       [-0.38616227,  0.14185275,  0.2180013 ,  0.458223  ,  0.9452684 ]])"
     },
     "execution_count": 236,
     "metadata": {},
     "output_type": "execute_result"
    }
   ],
   "source": [
    "array1"
   ],
   "metadata": {
    "collapsed": false,
    "pycharm": {
     "name": "#%%\n"
    }
   }
  },
  {
   "cell_type": "code",
   "execution_count": 237,
   "outputs": [
    {
     "data": {
      "text/plain": "1.9377683088726347"
     },
     "execution_count": 237,
     "metadata": {},
     "output_type": "execute_result"
    }
   ],
   "source": [
    "array1.max()"
   ],
   "metadata": {
    "collapsed": false,
    "pycharm": {
     "name": "#%%\n"
    }
   }
  },
  {
   "cell_type": "code",
   "execution_count": 238,
   "outputs": [
    {
     "data": {
      "text/plain": "-1.2669024768157735"
     },
     "execution_count": 238,
     "metadata": {},
     "output_type": "execute_result"
    }
   ],
   "source": [
    "array1.min()"
   ],
   "metadata": {
    "collapsed": false,
    "pycharm": {
     "name": "#%%\n"
    }
   }
  },
  {
   "cell_type": "code",
   "execution_count": 239,
   "outputs": [
    {
     "ename": "ModuleNotFoundError",
     "evalue": "No module named 'pandas'",
     "output_type": "error",
     "traceback": [
      "\u001B[0;31m---------------------------------------------------------------------------\u001B[0m",
      "\u001B[0;31mModuleNotFoundError\u001B[0m                       Traceback (most recent call last)",
      "Input \u001B[0;32mIn [239]\u001B[0m, in \u001B[0;36m<cell line: 1>\u001B[0;34m()\u001B[0m\n\u001B[0;32m----> 1\u001B[0m \u001B[38;5;28;01mimport\u001B[39;00m \u001B[38;5;21;01mpandas\u001B[39;00m \u001B[38;5;28;01mas\u001B[39;00m \u001B[38;5;21;01mpd\u001B[39;00m\n",
      "\u001B[0;31mModuleNotFoundError\u001B[0m: No module named 'pandas'"
     ]
    }
   ],
   "source": [
    "import pandas as pd"
   ],
   "metadata": {
    "collapsed": false,
    "pycharm": {
     "name": "#%%\n"
    }
   }
  },
  {
   "cell_type": "code",
   "execution_count": 240,
   "outputs": [],
   "source": [
    "import pandas as pd"
   ],
   "metadata": {
    "collapsed": false,
    "pycharm": {
     "name": "#%%\n"
    }
   }
  },
  {
   "cell_type": "code",
   "execution_count": 241,
   "outputs": [],
   "source": [
    "data1 = pd.Series([12,32,13,44,15])"
   ],
   "metadata": {
    "collapsed": false,
    "pycharm": {
     "name": "#%%\n"
    }
   }
  },
  {
   "cell_type": "code",
   "execution_count": 242,
   "outputs": [
    {
     "data": {
      "text/plain": "0    12\n1    32\n2    13\n3    44\n4    15\ndtype: int64"
     },
     "execution_count": 242,
     "metadata": {},
     "output_type": "execute_result"
    }
   ],
   "source": [
    "data1\n"
   ],
   "metadata": {
    "collapsed": false,
    "pycharm": {
     "name": "#%%\n"
    }
   }
  },
  {
   "cell_type": "code",
   "execution_count": 243,
   "outputs": [
    {
     "data": {
      "text/plain": "RangeIndex(start=0, stop=5, step=1)"
     },
     "execution_count": 243,
     "metadata": {},
     "output_type": "execute_result"
    }
   ],
   "source": [
    "data1.index"
   ],
   "metadata": {
    "collapsed": false,
    "pycharm": {
     "name": "#%%\n"
    }
   }
  },
  {
   "cell_type": "code",
   "execution_count": 244,
   "outputs": [
    {
     "data": {
      "text/plain": "array([12, 32, 13, 44, 15])"
     },
     "execution_count": 244,
     "metadata": {},
     "output_type": "execute_result"
    }
   ],
   "source": [
    "data1.values"
   ],
   "metadata": {
    "collapsed": false,
    "pycharm": {
     "name": "#%%\n"
    }
   }
  },
  {
   "cell_type": "code",
   "execution_count": 248,
   "outputs": [],
   "source": [
    "data2 = pd.Series([12,23,13,44,15], index=['a','b','c','d','e'])"
   ],
   "metadata": {
    "collapsed": false,
    "pycharm": {
     "name": "#%%\n"
    }
   }
  },
  {
   "cell_type": "code",
   "execution_count": 246,
   "outputs": [
    {
     "data": {
      "text/plain": "a    12\nb    23\nc    13\nd    44\ne    15\ndtype: int64"
     },
     "execution_count": 246,
     "metadata": {},
     "output_type": "execute_result"
    }
   ],
   "source": [
    "data2"
   ],
   "metadata": {
    "collapsed": false,
    "pycharm": {
     "name": "#%%\n"
    }
   }
  },
  {
   "cell_type": "code",
   "execution_count": 249,
   "outputs": [
    {
     "data": {
      "text/plain": "Index(['a', 'b', 'c', 'd', 'e'], dtype='object')"
     },
     "execution_count": 249,
     "metadata": {},
     "output_type": "execute_result"
    }
   ],
   "source": [
    "data2.index"
   ],
   "metadata": {
    "collapsed": false,
    "pycharm": {
     "name": "#%%\n"
    }
   }
  },
  {
   "cell_type": "code",
   "execution_count": 250,
   "outputs": [
    {
     "data": {
      "text/plain": "12"
     },
     "execution_count": 250,
     "metadata": {},
     "output_type": "execute_result"
    }
   ],
   "source": [
    "data2['a']"
   ],
   "metadata": {
    "collapsed": false,
    "pycharm": {
     "name": "#%%\n"
    }
   }
  },
  {
   "cell_type": "code",
   "execution_count": 251,
   "outputs": [
    {
     "data": {
      "text/plain": "a    12\na    12\ne    15\ndtype: int64"
     },
     "execution_count": 251,
     "metadata": {},
     "output_type": "execute_result"
    }
   ],
   "source": [
    "data2[['a','a','e']]"
   ],
   "metadata": {
    "collapsed": false,
    "pycharm": {
     "name": "#%%\n"
    }
   }
  },
  {
   "cell_type": "code",
   "execution_count": 252,
   "outputs": [
    {
     "data": {
      "text/plain": "b    23\nd    44\ndtype: int64"
     },
     "execution_count": 252,
     "metadata": {},
     "output_type": "execute_result"
    }
   ],
   "source": [
    "data2[data2>18]"
   ],
   "metadata": {
    "collapsed": false,
    "pycharm": {
     "name": "#%%\n"
    }
   }
  },
  {
   "cell_type": "code",
   "execution_count": 253,
   "outputs": [
    {
     "data": {
      "text/plain": "dict"
     },
     "execution_count": 253,
     "metadata": {},
     "output_type": "execute_result"
    }
   ],
   "source": [
    "dict"
   ],
   "metadata": {
    "collapsed": false,
    "pycharm": {
     "name": "#%%\n"
    }
   }
  },
  {
   "cell_type": "code",
   "execution_count": 254,
   "outputs": [
    {
     "data": {
      "text/plain": "{'b': 'mice', 'c': 'monkey', 'd': 'monkey'}"
     },
     "execution_count": 254,
     "metadata": {},
     "output_type": "execute_result"
    }
   ],
   "source": [
    "dictionary_1"
   ],
   "metadata": {
    "collapsed": false,
    "pycharm": {
     "name": "#%%\n"
    }
   }
  },
  {
   "cell_type": "code",
   "execution_count": 255,
   "outputs": [],
   "source": [
    "data3 = pd.Series(dictionary_1)"
   ],
   "metadata": {
    "collapsed": false,
    "pycharm": {
     "name": "#%%\n"
    }
   }
  },
  {
   "cell_type": "code",
   "execution_count": 256,
   "outputs": [
    {
     "data": {
      "text/plain": "b      mice\nc    monkey\nd    monkey\ndtype: object"
     },
     "execution_count": 256,
     "metadata": {},
     "output_type": "execute_result"
    }
   ],
   "source": [
    "data3"
   ],
   "metadata": {
    "collapsed": false,
    "pycharm": {
     "name": "#%%\n"
    }
   }
  },
  {
   "cell_type": "code",
   "execution_count": 257,
   "outputs": [
    {
     "data": {
      "text/plain": "Index(['b', 'c', 'd'], dtype='object')"
     },
     "execution_count": 257,
     "metadata": {},
     "output_type": "execute_result"
    }
   ],
   "source": [
    "data3.index"
   ],
   "metadata": {
    "collapsed": false,
    "pycharm": {
     "name": "#%%\n"
    }
   }
  },
  {
   "cell_type": "code",
   "execution_count": 258,
   "outputs": [
    {
     "data": {
      "text/plain": "array(['mice', 'monkey', 'monkey'], dtype=object)"
     },
     "execution_count": 258,
     "metadata": {},
     "output_type": "execute_result"
    }
   ],
   "source": [
    "data3.values"
   ],
   "metadata": {
    "collapsed": false,
    "pycharm": {
     "name": "#%%\n"
    }
   }
  },
  {
   "cell_type": "code",
   "execution_count": 260,
   "outputs": [],
   "source": [
    "data3.index.name = 'names'"
   ],
   "metadata": {
    "collapsed": false,
    "pycharm": {
     "name": "#%%\n"
    }
   }
  },
  {
   "cell_type": "code",
   "execution_count": 261,
   "outputs": [
    {
     "data": {
      "text/plain": "names\nb      mice\nc    monkey\nd    monkey\ndtype: object"
     },
     "execution_count": 261,
     "metadata": {},
     "output_type": "execute_result"
    }
   ],
   "source": [
    "data3"
   ],
   "metadata": {
    "collapsed": false,
    "pycharm": {
     "name": "#%%\n"
    }
   }
  },
  {
   "cell_type": "code",
   "execution_count": null,
   "outputs": [],
   "source": [],
   "metadata": {
    "collapsed": false,
    "pycharm": {
     "name": "#%%\n"
    }
   }
  },
  {
   "cell_type": "code",
   "execution_count": 264,
   "outputs": [],
   "source": [
    "data3.index = ['a','b','c']"
   ],
   "metadata": {
    "collapsed": false,
    "pycharm": {
     "name": "#%%\n"
    }
   }
  },
  {
   "cell_type": "code",
   "execution_count": 265,
   "outputs": [
    {
     "data": {
      "text/plain": "a      mice\nb    monkey\nc    monkey\ndtype: object"
     },
     "execution_count": 265,
     "metadata": {},
     "output_type": "execute_result"
    }
   ],
   "source": [
    "data3"
   ],
   "metadata": {
    "collapsed": false,
    "pycharm": {
     "name": "#%%\n"
    }
   }
  },
  {
   "cell_type": "code",
   "execution_count": 266,
   "outputs": [],
   "source": [
    "data3.index.name = 'index'"
   ],
   "metadata": {
    "collapsed": false,
    "pycharm": {
     "name": "#%%\n"
    }
   }
  },
  {
   "cell_type": "code",
   "execution_count": 267,
   "outputs": [
    {
     "data": {
      "text/plain": "index\na      mice\nb    monkey\nc    monkey\ndtype: object"
     },
     "execution_count": 267,
     "metadata": {},
     "output_type": "execute_result"
    }
   ],
   "source": [
    "data3"
   ],
   "metadata": {
    "collapsed": false,
    "pycharm": {
     "name": "#%%\n"
    }
   }
  },
  {
   "cell_type": "code",
   "execution_count": 271,
   "outputs": [],
   "source": [
    "dict = {'name':['bob','jake','sam','jone','sally','william'],'age':[23,34,41,29,19,34], 'income':[72,65,49,39,81,55]}"
   ],
   "metadata": {
    "collapsed": false,
    "pycharm": {
     "name": "#%%\n"
    }
   }
  },
  {
   "cell_type": "code",
   "execution_count": 272,
   "outputs": [
    {
     "data": {
      "text/plain": "{'name': ['bob', 'jake', 'sam', 'jone', 'sally', 'william'],\n 'age': [23, 34, 41, 29, 19, 34],\n 'income': [72, 65, 49, 39, 81, 55]}"
     },
     "execution_count": 272,
     "metadata": {},
     "output_type": "execute_result"
    }
   ],
   "source": [
    "dict"
   ],
   "metadata": {
    "collapsed": false,
    "pycharm": {
     "name": "#%%\n"
    }
   }
  },
  {
   "cell_type": "code",
   "execution_count": 273,
   "outputs": [],
   "source": [
    "data4 = pd.DataFrame(dict)"
   ],
   "metadata": {
    "collapsed": false,
    "pycharm": {
     "name": "#%%\n"
    }
   }
  },
  {
   "cell_type": "code",
   "execution_count": 274,
   "outputs": [
    {
     "data": {
      "text/plain": "      name  age  income\n0      bob   23      72\n1     jake   34      65\n2      sam   41      49\n3     jone   29      39\n4    sally   19      81\n5  william   34      55",
      "text/html": "<div>\n<style scoped>\n    .dataframe tbody tr th:only-of-type {\n        vertical-align: middle;\n    }\n\n    .dataframe tbody tr th {\n        vertical-align: top;\n    }\n\n    .dataframe thead th {\n        text-align: right;\n    }\n</style>\n<table border=\"1\" class=\"dataframe\">\n  <thead>\n    <tr style=\"text-align: right;\">\n      <th></th>\n      <th>name</th>\n      <th>age</th>\n      <th>income</th>\n    </tr>\n  </thead>\n  <tbody>\n    <tr>\n      <th>0</th>\n      <td>bob</td>\n      <td>23</td>\n      <td>72</td>\n    </tr>\n    <tr>\n      <th>1</th>\n      <td>jake</td>\n      <td>34</td>\n      <td>65</td>\n    </tr>\n    <tr>\n      <th>2</th>\n      <td>sam</td>\n      <td>41</td>\n      <td>49</td>\n    </tr>\n    <tr>\n      <th>3</th>\n      <td>jone</td>\n      <td>29</td>\n      <td>39</td>\n    </tr>\n    <tr>\n      <th>4</th>\n      <td>sally</td>\n      <td>19</td>\n      <td>81</td>\n    </tr>\n    <tr>\n      <th>5</th>\n      <td>william</td>\n      <td>34</td>\n      <td>55</td>\n    </tr>\n  </tbody>\n</table>\n</div>"
     },
     "execution_count": 274,
     "metadata": {},
     "output_type": "execute_result"
    }
   ],
   "source": [
    "data4"
   ],
   "metadata": {
    "collapsed": false,
    "pycharm": {
     "name": "#%%\n"
    }
   }
  },
  {
   "cell_type": "code",
   "execution_count": 275,
   "outputs": [],
   "source": [
    "data4.set_index('name', inplace=True)"
   ],
   "metadata": {
    "collapsed": false,
    "pycharm": {
     "name": "#%%\n"
    }
   }
  },
  {
   "cell_type": "code",
   "execution_count": 277,
   "outputs": [
    {
     "data": {
      "text/plain": "      age  income\nname             \nbob    23      72\njake   34      65",
      "text/html": "<div>\n<style scoped>\n    .dataframe tbody tr th:only-of-type {\n        vertical-align: middle;\n    }\n\n    .dataframe tbody tr th {\n        vertical-align: top;\n    }\n\n    .dataframe thead th {\n        text-align: right;\n    }\n</style>\n<table border=\"1\" class=\"dataframe\">\n  <thead>\n    <tr style=\"text-align: right;\">\n      <th></th>\n      <th>age</th>\n      <th>income</th>\n    </tr>\n    <tr>\n      <th>name</th>\n      <th></th>\n      <th></th>\n    </tr>\n  </thead>\n  <tbody>\n    <tr>\n      <th>bob</th>\n      <td>23</td>\n      <td>72</td>\n    </tr>\n    <tr>\n      <th>jake</th>\n      <td>34</td>\n      <td>65</td>\n    </tr>\n  </tbody>\n</table>\n</div>"
     },
     "execution_count": 277,
     "metadata": {},
     "output_type": "execute_result"
    }
   ],
   "source": [
    "data4.head(2)\n"
   ],
   "metadata": {
    "collapsed": false,
    "pycharm": {
     "name": "#%%\n"
    }
   }
  },
  {
   "cell_type": "code",
   "execution_count": 278,
   "outputs": [
    {
     "data": {
      "text/plain": "name\nbob        23\njake       34\nsam        41\njone       29\nsally      19\nwilliam    34\nName: age, dtype: int64"
     },
     "execution_count": 278,
     "metadata": {},
     "output_type": "execute_result"
    }
   ],
   "source": [
    "data4['age']"
   ],
   "metadata": {
    "collapsed": false,
    "pycharm": {
     "name": "#%%\n"
    }
   }
  },
  {
   "cell_type": "code",
   "execution_count": 279,
   "outputs": [
    {
     "data": {
      "text/plain": "age       19\nincome    81\nName: sally, dtype: int64"
     },
     "execution_count": 279,
     "metadata": {},
     "output_type": "execute_result"
    }
   ],
   "source": [
    "data4.loc['sally']"
   ],
   "metadata": {
    "collapsed": false,
    "pycharm": {
     "name": "#%%\n"
    }
   }
  },
  {
   "cell_type": "code",
   "execution_count": 280,
   "outputs": [
    {
     "data": {
      "text/plain": "         age  income\nname                \nbob       23      72\njake      34      65\nsam       41      49\njone      29      39\nsally     19      81\nwilliam   34      55",
      "text/html": "<div>\n<style scoped>\n    .dataframe tbody tr th:only-of-type {\n        vertical-align: middle;\n    }\n\n    .dataframe tbody tr th {\n        vertical-align: top;\n    }\n\n    .dataframe thead th {\n        text-align: right;\n    }\n</style>\n<table border=\"1\" class=\"dataframe\">\n  <thead>\n    <tr style=\"text-align: right;\">\n      <th></th>\n      <th>age</th>\n      <th>income</th>\n    </tr>\n    <tr>\n      <th>name</th>\n      <th></th>\n      <th></th>\n    </tr>\n  </thead>\n  <tbody>\n    <tr>\n      <th>bob</th>\n      <td>23</td>\n      <td>72</td>\n    </tr>\n    <tr>\n      <th>jake</th>\n      <td>34</td>\n      <td>65</td>\n    </tr>\n    <tr>\n      <th>sam</th>\n      <td>41</td>\n      <td>49</td>\n    </tr>\n    <tr>\n      <th>jone</th>\n      <td>29</td>\n      <td>39</td>\n    </tr>\n    <tr>\n      <th>sally</th>\n      <td>19</td>\n      <td>81</td>\n    </tr>\n    <tr>\n      <th>william</th>\n      <td>34</td>\n      <td>55</td>\n    </tr>\n  </tbody>\n</table>\n</div>"
     },
     "execution_count": 280,
     "metadata": {},
     "output_type": "execute_result"
    }
   ],
   "source": [
    "data4"
   ],
   "metadata": {
    "collapsed": false,
    "pycharm": {
     "name": "#%%\n"
    }
   }
  },
  {
   "cell_type": "code",
   "execution_count": 281,
   "outputs": [],
   "source": [
    "data4['income']['jake'] = 120"
   ],
   "metadata": {
    "collapsed": false,
    "pycharm": {
     "name": "#%%\n"
    }
   }
  },
  {
   "cell_type": "code",
   "execution_count": 282,
   "outputs": [
    {
     "ename": "KeyError",
     "evalue": "'jake'",
     "output_type": "error",
     "traceback": [
      "\u001B[0;31m---------------------------------------------------------------------------\u001B[0m",
      "\u001B[0;31mKeyError\u001B[0m                                  Traceback (most recent call last)",
      "File \u001B[0;32m~/anaconda3/envs/DataScience/lib/python3.10/site-packages/pandas/core/indexes/base.py:3621\u001B[0m, in \u001B[0;36mIndex.get_loc\u001B[0;34m(self, key, method, tolerance)\u001B[0m\n\u001B[1;32m   3620\u001B[0m \u001B[38;5;28;01mtry\u001B[39;00m:\n\u001B[0;32m-> 3621\u001B[0m     \u001B[38;5;28;01mreturn\u001B[39;00m \u001B[38;5;28;43mself\u001B[39;49m\u001B[38;5;241;43m.\u001B[39;49m\u001B[43m_engine\u001B[49m\u001B[38;5;241;43m.\u001B[39;49m\u001B[43mget_loc\u001B[49m\u001B[43m(\u001B[49m\u001B[43mcasted_key\u001B[49m\u001B[43m)\u001B[49m\n\u001B[1;32m   3622\u001B[0m \u001B[38;5;28;01mexcept\u001B[39;00m \u001B[38;5;167;01mKeyError\u001B[39;00m \u001B[38;5;28;01mas\u001B[39;00m err:\n",
      "File \u001B[0;32m~/anaconda3/envs/DataScience/lib/python3.10/site-packages/pandas/_libs/index.pyx:136\u001B[0m, in \u001B[0;36mpandas._libs.index.IndexEngine.get_loc\u001B[0;34m()\u001B[0m\n",
      "File \u001B[0;32m~/anaconda3/envs/DataScience/lib/python3.10/site-packages/pandas/_libs/index.pyx:163\u001B[0m, in \u001B[0;36mpandas._libs.index.IndexEngine.get_loc\u001B[0;34m()\u001B[0m\n",
      "File \u001B[0;32mpandas/_libs/hashtable_class_helper.pxi:5198\u001B[0m, in \u001B[0;36mpandas._libs.hashtable.PyObjectHashTable.get_item\u001B[0;34m()\u001B[0m\n",
      "File \u001B[0;32mpandas/_libs/hashtable_class_helper.pxi:5206\u001B[0m, in \u001B[0;36mpandas._libs.hashtable.PyObjectHashTable.get_item\u001B[0;34m()\u001B[0m\n",
      "\u001B[0;31mKeyError\u001B[0m: 'jake'",
      "\nThe above exception was the direct cause of the following exception:\n",
      "\u001B[0;31mKeyError\u001B[0m                                  Traceback (most recent call last)",
      "Input \u001B[0;32mIn [282]\u001B[0m, in \u001B[0;36m<cell line: 1>\u001B[0;34m()\u001B[0m\n\u001B[0;32m----> 1\u001B[0m \u001B[43mdata4\u001B[49m\u001B[43m[\u001B[49m\u001B[38;5;124;43m'\u001B[39;49m\u001B[38;5;124;43mjake\u001B[39;49m\u001B[38;5;124;43m'\u001B[39;49m\u001B[43m]\u001B[49m\n",
      "File \u001B[0;32m~/anaconda3/envs/DataScience/lib/python3.10/site-packages/pandas/core/frame.py:3505\u001B[0m, in \u001B[0;36mDataFrame.__getitem__\u001B[0;34m(self, key)\u001B[0m\n\u001B[1;32m   3503\u001B[0m \u001B[38;5;28;01mif\u001B[39;00m \u001B[38;5;28mself\u001B[39m\u001B[38;5;241m.\u001B[39mcolumns\u001B[38;5;241m.\u001B[39mnlevels \u001B[38;5;241m>\u001B[39m \u001B[38;5;241m1\u001B[39m:\n\u001B[1;32m   3504\u001B[0m     \u001B[38;5;28;01mreturn\u001B[39;00m \u001B[38;5;28mself\u001B[39m\u001B[38;5;241m.\u001B[39m_getitem_multilevel(key)\n\u001B[0;32m-> 3505\u001B[0m indexer \u001B[38;5;241m=\u001B[39m \u001B[38;5;28;43mself\u001B[39;49m\u001B[38;5;241;43m.\u001B[39;49m\u001B[43mcolumns\u001B[49m\u001B[38;5;241;43m.\u001B[39;49m\u001B[43mget_loc\u001B[49m\u001B[43m(\u001B[49m\u001B[43mkey\u001B[49m\u001B[43m)\u001B[49m\n\u001B[1;32m   3506\u001B[0m \u001B[38;5;28;01mif\u001B[39;00m is_integer(indexer):\n\u001B[1;32m   3507\u001B[0m     indexer \u001B[38;5;241m=\u001B[39m [indexer]\n",
      "File \u001B[0;32m~/anaconda3/envs/DataScience/lib/python3.10/site-packages/pandas/core/indexes/base.py:3623\u001B[0m, in \u001B[0;36mIndex.get_loc\u001B[0;34m(self, key, method, tolerance)\u001B[0m\n\u001B[1;32m   3621\u001B[0m     \u001B[38;5;28;01mreturn\u001B[39;00m \u001B[38;5;28mself\u001B[39m\u001B[38;5;241m.\u001B[39m_engine\u001B[38;5;241m.\u001B[39mget_loc(casted_key)\n\u001B[1;32m   3622\u001B[0m \u001B[38;5;28;01mexcept\u001B[39;00m \u001B[38;5;167;01mKeyError\u001B[39;00m \u001B[38;5;28;01mas\u001B[39;00m err:\n\u001B[0;32m-> 3623\u001B[0m     \u001B[38;5;28;01mraise\u001B[39;00m \u001B[38;5;167;01mKeyError\u001B[39;00m(key) \u001B[38;5;28;01mfrom\u001B[39;00m \u001B[38;5;21;01merr\u001B[39;00m\n\u001B[1;32m   3624\u001B[0m \u001B[38;5;28;01mexcept\u001B[39;00m \u001B[38;5;167;01mTypeError\u001B[39;00m:\n\u001B[1;32m   3625\u001B[0m     \u001B[38;5;66;03m# If we have a listlike key, _check_indexing_error will raise\u001B[39;00m\n\u001B[1;32m   3626\u001B[0m     \u001B[38;5;66;03m#  InvalidIndexError. Otherwise we fall through and re-raise\u001B[39;00m\n\u001B[1;32m   3627\u001B[0m     \u001B[38;5;66;03m#  the TypeError.\u001B[39;00m\n\u001B[1;32m   3628\u001B[0m     \u001B[38;5;28mself\u001B[39m\u001B[38;5;241m.\u001B[39m_check_indexing_error(key)\n",
      "\u001B[0;31mKeyError\u001B[0m: 'jake'"
     ]
    }
   ],
   "source": [
    "data4['jake']"
   ],
   "metadata": {
    "collapsed": false,
    "pycharm": {
     "name": "#%%\n"
    }
   }
  },
  {
   "cell_type": "code",
   "execution_count": 283,
   "outputs": [
    {
     "data": {
      "text/plain": "         age  income\nname                \nbob       23      72\njake      34     120\nsam       41      49\njone      29      39\nsally     19      81\nwilliam   34      55",
      "text/html": "<div>\n<style scoped>\n    .dataframe tbody tr th:only-of-type {\n        vertical-align: middle;\n    }\n\n    .dataframe tbody tr th {\n        vertical-align: top;\n    }\n\n    .dataframe thead th {\n        text-align: right;\n    }\n</style>\n<table border=\"1\" class=\"dataframe\">\n  <thead>\n    <tr style=\"text-align: right;\">\n      <th></th>\n      <th>age</th>\n      <th>income</th>\n    </tr>\n    <tr>\n      <th>name</th>\n      <th></th>\n      <th></th>\n    </tr>\n  </thead>\n  <tbody>\n    <tr>\n      <th>bob</th>\n      <td>23</td>\n      <td>72</td>\n    </tr>\n    <tr>\n      <th>jake</th>\n      <td>34</td>\n      <td>120</td>\n    </tr>\n    <tr>\n      <th>sam</th>\n      <td>41</td>\n      <td>49</td>\n    </tr>\n    <tr>\n      <th>jone</th>\n      <td>29</td>\n      <td>39</td>\n    </tr>\n    <tr>\n      <th>sally</th>\n      <td>19</td>\n      <td>81</td>\n    </tr>\n    <tr>\n      <th>william</th>\n      <td>34</td>\n      <td>55</td>\n    </tr>\n  </tbody>\n</table>\n</div>"
     },
     "execution_count": 283,
     "metadata": {},
     "output_type": "execute_result"
    }
   ],
   "source": [
    "data4"
   ],
   "metadata": {
    "collapsed": false,
    "pycharm": {
     "name": "#%%\n"
    }
   }
  },
  {
   "cell_type": "code",
   "execution_count": 284,
   "outputs": [
    {
     "ename": "KeyError",
     "evalue": "'jake'",
     "output_type": "error",
     "traceback": [
      "\u001B[0;31m---------------------------------------------------------------------------\u001B[0m",
      "\u001B[0;31mKeyError\u001B[0m                                  Traceback (most recent call last)",
      "File \u001B[0;32m~/anaconda3/envs/DataScience/lib/python3.10/site-packages/pandas/core/indexes/base.py:3621\u001B[0m, in \u001B[0;36mIndex.get_loc\u001B[0;34m(self, key, method, tolerance)\u001B[0m\n\u001B[1;32m   3620\u001B[0m \u001B[38;5;28;01mtry\u001B[39;00m:\n\u001B[0;32m-> 3621\u001B[0m     \u001B[38;5;28;01mreturn\u001B[39;00m \u001B[38;5;28;43mself\u001B[39;49m\u001B[38;5;241;43m.\u001B[39;49m\u001B[43m_engine\u001B[49m\u001B[38;5;241;43m.\u001B[39;49m\u001B[43mget_loc\u001B[49m\u001B[43m(\u001B[49m\u001B[43mcasted_key\u001B[49m\u001B[43m)\u001B[49m\n\u001B[1;32m   3622\u001B[0m \u001B[38;5;28;01mexcept\u001B[39;00m \u001B[38;5;167;01mKeyError\u001B[39;00m \u001B[38;5;28;01mas\u001B[39;00m err:\n",
      "File \u001B[0;32m~/anaconda3/envs/DataScience/lib/python3.10/site-packages/pandas/_libs/index.pyx:136\u001B[0m, in \u001B[0;36mpandas._libs.index.IndexEngine.get_loc\u001B[0;34m()\u001B[0m\n",
      "File \u001B[0;32m~/anaconda3/envs/DataScience/lib/python3.10/site-packages/pandas/_libs/index.pyx:163\u001B[0m, in \u001B[0;36mpandas._libs.index.IndexEngine.get_loc\u001B[0;34m()\u001B[0m\n",
      "File \u001B[0;32mpandas/_libs/hashtable_class_helper.pxi:5198\u001B[0m, in \u001B[0;36mpandas._libs.hashtable.PyObjectHashTable.get_item\u001B[0;34m()\u001B[0m\n",
      "File \u001B[0;32mpandas/_libs/hashtable_class_helper.pxi:5206\u001B[0m, in \u001B[0;36mpandas._libs.hashtable.PyObjectHashTable.get_item\u001B[0;34m()\u001B[0m\n",
      "\u001B[0;31mKeyError\u001B[0m: 'jake'",
      "\nThe above exception was the direct cause of the following exception:\n",
      "\u001B[0;31mKeyError\u001B[0m                                  Traceback (most recent call last)",
      "Input \u001B[0;32mIn [284]\u001B[0m, in \u001B[0;36m<cell line: 1>\u001B[0;34m()\u001B[0m\n\u001B[0;32m----> 1\u001B[0m \u001B[43mdata4\u001B[49m\u001B[43m[\u001B[49m\u001B[38;5;124;43m'\u001B[39;49m\u001B[38;5;124;43mjake\u001B[39;49m\u001B[38;5;124;43m'\u001B[39;49m\u001B[43m]\u001B[49m\n",
      "File \u001B[0;32m~/anaconda3/envs/DataScience/lib/python3.10/site-packages/pandas/core/frame.py:3505\u001B[0m, in \u001B[0;36mDataFrame.__getitem__\u001B[0;34m(self, key)\u001B[0m\n\u001B[1;32m   3503\u001B[0m \u001B[38;5;28;01mif\u001B[39;00m \u001B[38;5;28mself\u001B[39m\u001B[38;5;241m.\u001B[39mcolumns\u001B[38;5;241m.\u001B[39mnlevels \u001B[38;5;241m>\u001B[39m \u001B[38;5;241m1\u001B[39m:\n\u001B[1;32m   3504\u001B[0m     \u001B[38;5;28;01mreturn\u001B[39;00m \u001B[38;5;28mself\u001B[39m\u001B[38;5;241m.\u001B[39m_getitem_multilevel(key)\n\u001B[0;32m-> 3505\u001B[0m indexer \u001B[38;5;241m=\u001B[39m \u001B[38;5;28;43mself\u001B[39;49m\u001B[38;5;241;43m.\u001B[39;49m\u001B[43mcolumns\u001B[49m\u001B[38;5;241;43m.\u001B[39;49m\u001B[43mget_loc\u001B[49m\u001B[43m(\u001B[49m\u001B[43mkey\u001B[49m\u001B[43m)\u001B[49m\n\u001B[1;32m   3506\u001B[0m \u001B[38;5;28;01mif\u001B[39;00m is_integer(indexer):\n\u001B[1;32m   3507\u001B[0m     indexer \u001B[38;5;241m=\u001B[39m [indexer]\n",
      "File \u001B[0;32m~/anaconda3/envs/DataScience/lib/python3.10/site-packages/pandas/core/indexes/base.py:3623\u001B[0m, in \u001B[0;36mIndex.get_loc\u001B[0;34m(self, key, method, tolerance)\u001B[0m\n\u001B[1;32m   3621\u001B[0m     \u001B[38;5;28;01mreturn\u001B[39;00m \u001B[38;5;28mself\u001B[39m\u001B[38;5;241m.\u001B[39m_engine\u001B[38;5;241m.\u001B[39mget_loc(casted_key)\n\u001B[1;32m   3622\u001B[0m \u001B[38;5;28;01mexcept\u001B[39;00m \u001B[38;5;167;01mKeyError\u001B[39;00m \u001B[38;5;28;01mas\u001B[39;00m err:\n\u001B[0;32m-> 3623\u001B[0m     \u001B[38;5;28;01mraise\u001B[39;00m \u001B[38;5;167;01mKeyError\u001B[39;00m(key) \u001B[38;5;28;01mfrom\u001B[39;00m \u001B[38;5;21;01merr\u001B[39;00m\n\u001B[1;32m   3624\u001B[0m \u001B[38;5;28;01mexcept\u001B[39;00m \u001B[38;5;167;01mTypeError\u001B[39;00m:\n\u001B[1;32m   3625\u001B[0m     \u001B[38;5;66;03m# If we have a listlike key, _check_indexing_error will raise\u001B[39;00m\n\u001B[1;32m   3626\u001B[0m     \u001B[38;5;66;03m#  InvalidIndexError. Otherwise we fall through and re-raise\u001B[39;00m\n\u001B[1;32m   3627\u001B[0m     \u001B[38;5;66;03m#  the TypeError.\u001B[39;00m\n\u001B[1;32m   3628\u001B[0m     \u001B[38;5;28mself\u001B[39m\u001B[38;5;241m.\u001B[39m_check_indexing_error(key)\n",
      "\u001B[0;31mKeyError\u001B[0m: 'jake'"
     ]
    }
   ],
   "source": [
    "data4['jake']"
   ],
   "metadata": {
    "collapsed": false,
    "pycharm": {
     "name": "#%%\n"
    }
   }
  },
  {
   "cell_type": "code",
   "execution_count": 285,
   "outputs": [
    {
     "data": {
      "text/plain": "age        34\nincome    120\nName: jake, dtype: int64"
     },
     "execution_count": 285,
     "metadata": {},
     "output_type": "execute_result"
    }
   ],
   "source": [
    "data4.loc['jake']"
   ],
   "metadata": {
    "collapsed": false,
    "pycharm": {
     "name": "#%%\n"
    }
   }
  },
  {
   "cell_type": "code",
   "execution_count": 287,
   "outputs": [
    {
     "data": {
      "text/plain": "a    32\nb    45\nd    23\nc    37\nd    65\ne    55\ndtype: int64"
     },
     "execution_count": 287,
     "metadata": {},
     "output_type": "execute_result"
    }
   ],
   "source": [
    "labels = list('abdcde')\n",
    "series1 = pd.Series([32,45,23,37,65,55], index=labels)\n",
    "series1"
   ],
   "metadata": {
    "collapsed": false,
    "pycharm": {
     "name": "#%%\n"
    }
   }
  },
  {
   "cell_type": "code",
   "execution_count": 288,
   "outputs": [
    {
     "data": {
      "text/plain": "Index(['a', 'b', 'd', 'c', 'd', 'e'], dtype='object')"
     },
     "execution_count": 288,
     "metadata": {},
     "output_type": "execute_result"
    }
   ],
   "source": [
    "series1.index"
   ],
   "metadata": {
    "collapsed": false,
    "pycharm": {
     "name": "#%%\n"
    }
   }
  },
  {
   "cell_type": "code",
   "execution_count": 289,
   "outputs": [
    {
     "data": {
      "text/plain": "'a'"
     },
     "execution_count": 289,
     "metadata": {},
     "output_type": "execute_result"
    }
   ],
   "source": [
    "series1.index[0]"
   ],
   "metadata": {
    "collapsed": false,
    "pycharm": {
     "name": "#%%\n"
    }
   }
  },
  {
   "cell_type": "code",
   "execution_count": 290,
   "outputs": [
    {
     "ename": "TypeError",
     "evalue": "Index does not support mutable operations",
     "output_type": "error",
     "traceback": [
      "\u001B[0;31m---------------------------------------------------------------------------\u001B[0m",
      "\u001B[0;31mTypeError\u001B[0m                                 Traceback (most recent call last)",
      "Input \u001B[0;32mIn [290]\u001B[0m, in \u001B[0;36m<cell line: 1>\u001B[0;34m()\u001B[0m\n\u001B[0;32m----> 1\u001B[0m series1\u001B[38;5;241m.\u001B[39mindex[\u001B[38;5;241m0\u001B[39m] \u001B[38;5;241m=\u001B[39m\u001B[38;5;124m'\u001B[39m\u001B[38;5;124mb\u001B[39m\u001B[38;5;124m'\u001B[39m\n",
      "File \u001B[0;32m~/anaconda3/envs/DataScience/lib/python3.10/site-packages/pandas/core/indexes/base.py:5021\u001B[0m, in \u001B[0;36mIndex.__setitem__\u001B[0;34m(self, key, value)\u001B[0m\n\u001B[1;32m   5019\u001B[0m \u001B[38;5;129m@final\u001B[39m\n\u001B[1;32m   5020\u001B[0m \u001B[38;5;28;01mdef\u001B[39;00m \u001B[38;5;21m__setitem__\u001B[39m(\u001B[38;5;28mself\u001B[39m, key, value):\n\u001B[0;32m-> 5021\u001B[0m     \u001B[38;5;28;01mraise\u001B[39;00m \u001B[38;5;167;01mTypeError\u001B[39;00m(\u001B[38;5;124m\"\u001B[39m\u001B[38;5;124mIndex does not support mutable operations\u001B[39m\u001B[38;5;124m\"\u001B[39m)\n",
      "\u001B[0;31mTypeError\u001B[0m: Index does not support mutable operations"
     ]
    }
   ],
   "source": [
    "series1.index[0] ='b'"
   ],
   "metadata": {
    "collapsed": false,
    "pycharm": {
     "name": "#%%\n"
    }
   }
  },
  {
   "cell_type": "code",
   "execution_count": 291,
   "outputs": [
    {
     "data": {
      "text/plain": "         age  income\nname                \nbob       23      72\njake      34     120\nsam       41      49\njone      29      39\nsally     19      81\nwilliam   34      55",
      "text/html": "<div>\n<style scoped>\n    .dataframe tbody tr th:only-of-type {\n        vertical-align: middle;\n    }\n\n    .dataframe tbody tr th {\n        vertical-align: top;\n    }\n\n    .dataframe thead th {\n        text-align: right;\n    }\n</style>\n<table border=\"1\" class=\"dataframe\">\n  <thead>\n    <tr style=\"text-align: right;\">\n      <th></th>\n      <th>age</th>\n      <th>income</th>\n    </tr>\n    <tr>\n      <th>name</th>\n      <th></th>\n      <th></th>\n    </tr>\n  </thead>\n  <tbody>\n    <tr>\n      <th>bob</th>\n      <td>23</td>\n      <td>72</td>\n    </tr>\n    <tr>\n      <th>jake</th>\n      <td>34</td>\n      <td>120</td>\n    </tr>\n    <tr>\n      <th>sam</th>\n      <td>41</td>\n      <td>49</td>\n    </tr>\n    <tr>\n      <th>jone</th>\n      <td>29</td>\n      <td>39</td>\n    </tr>\n    <tr>\n      <th>sally</th>\n      <td>19</td>\n      <td>81</td>\n    </tr>\n    <tr>\n      <th>william</th>\n      <td>34</td>\n      <td>55</td>\n    </tr>\n  </tbody>\n</table>\n</div>"
     },
     "execution_count": 291,
     "metadata": {},
     "output_type": "execute_result"
    }
   ],
   "source": [
    "data4"
   ],
   "metadata": {
    "collapsed": false,
    "pycharm": {
     "name": "#%%\n"
    }
   }
  },
  {
   "cell_type": "code",
   "execution_count": 294,
   "outputs": [
    {
     "ename": "ValueError",
     "evalue": "Length of values (3) does not match length of index (4)",
     "output_type": "error",
     "traceback": [
      "\u001B[0;31m---------------------------------------------------------------------------\u001B[0m",
      "\u001B[0;31mValueError\u001B[0m                                Traceback (most recent call last)",
      "Input \u001B[0;32mIn [294]\u001B[0m, in \u001B[0;36m<cell line: 1>\u001B[0;34m()\u001B[0m\n\u001B[0;32m----> 1\u001B[0m data4[\u001B[38;5;124m'\u001B[39m\u001B[38;5;124mdegree\u001B[39m\u001B[38;5;124m'\u001B[39m]\u001B[38;5;241m=\u001B[39m\u001B[43mpd\u001B[49m\u001B[38;5;241;43m.\u001B[39;49m\u001B[43mSeries\u001B[49m\u001B[43m(\u001B[49m\u001B[43m[\u001B[49m\u001B[38;5;124;43m'\u001B[39;49m\u001B[38;5;124;43myes\u001B[39;49m\u001B[38;5;124;43m'\u001B[39;49m\u001B[43m,\u001B[49m\u001B[38;5;124;43m'\u001B[39;49m\u001B[38;5;124;43mno\u001B[39;49m\u001B[38;5;124;43m'\u001B[39;49m\u001B[43m,\u001B[49m\u001B[38;5;124;43m'\u001B[39;49m\u001B[38;5;124;43myes\u001B[39;49m\u001B[38;5;124;43m'\u001B[39;49m\u001B[43m]\u001B[49m\u001B[43m,\u001B[49m\u001B[43m \u001B[49m\u001B[43mindex\u001B[49m\u001B[38;5;241;43m=\u001B[39;49m\u001B[43m[\u001B[49m\u001B[38;5;124;43m'\u001B[39;49m\u001B[38;5;124;43mjake\u001B[39;49m\u001B[38;5;124;43m'\u001B[39;49m\u001B[43m,\u001B[49m\u001B[38;5;124;43m'\u001B[39;49m\u001B[38;5;124;43msam\u001B[39;49m\u001B[38;5;124;43m'\u001B[39;49m\u001B[43m,\u001B[49m\u001B[38;5;124;43m'\u001B[39;49m\u001B[38;5;124;43msally\u001B[39;49m\u001B[38;5;124;43m'\u001B[39;49m\u001B[43m,\u001B[49m\u001B[38;5;124;43m'\u001B[39;49m\u001B[38;5;124;43mpeter\u001B[39;49m\u001B[38;5;124;43m'\u001B[39;49m\u001B[43m]\u001B[49m\u001B[43m)\u001B[49m\n",
      "File \u001B[0;32m~/anaconda3/envs/DataScience/lib/python3.10/site-packages/pandas/core/series.py:442\u001B[0m, in \u001B[0;36mSeries.__init__\u001B[0;34m(self, data, index, dtype, name, copy, fastpath)\u001B[0m\n\u001B[1;32m    440\u001B[0m     index \u001B[38;5;241m=\u001B[39m default_index(\u001B[38;5;28mlen\u001B[39m(data))\n\u001B[1;32m    441\u001B[0m \u001B[38;5;28;01melif\u001B[39;00m is_list_like(data):\n\u001B[0;32m--> 442\u001B[0m     \u001B[43mcom\u001B[49m\u001B[38;5;241;43m.\u001B[39;49m\u001B[43mrequire_length_match\u001B[49m\u001B[43m(\u001B[49m\u001B[43mdata\u001B[49m\u001B[43m,\u001B[49m\u001B[43m \u001B[49m\u001B[43mindex\u001B[49m\u001B[43m)\u001B[49m\n\u001B[1;32m    444\u001B[0m \u001B[38;5;66;03m# create/copy the manager\u001B[39;00m\n\u001B[1;32m    445\u001B[0m \u001B[38;5;28;01mif\u001B[39;00m \u001B[38;5;28misinstance\u001B[39m(data, (SingleBlockManager, SingleArrayManager)):\n",
      "File \u001B[0;32m~/anaconda3/envs/DataScience/lib/python3.10/site-packages/pandas/core/common.py:557\u001B[0m, in \u001B[0;36mrequire_length_match\u001B[0;34m(data, index)\u001B[0m\n\u001B[1;32m    553\u001B[0m \u001B[38;5;124;03m\"\"\"\u001B[39;00m\n\u001B[1;32m    554\u001B[0m \u001B[38;5;124;03mCheck the length of data matches the length of the index.\u001B[39;00m\n\u001B[1;32m    555\u001B[0m \u001B[38;5;124;03m\"\"\"\u001B[39;00m\n\u001B[1;32m    556\u001B[0m \u001B[38;5;28;01mif\u001B[39;00m \u001B[38;5;28mlen\u001B[39m(data) \u001B[38;5;241m!=\u001B[39m \u001B[38;5;28mlen\u001B[39m(index):\n\u001B[0;32m--> 557\u001B[0m     \u001B[38;5;28;01mraise\u001B[39;00m \u001B[38;5;167;01mValueError\u001B[39;00m(\n\u001B[1;32m    558\u001B[0m         \u001B[38;5;124m\"\u001B[39m\u001B[38;5;124mLength of values \u001B[39m\u001B[38;5;124m\"\u001B[39m\n\u001B[1;32m    559\u001B[0m         \u001B[38;5;124mf\u001B[39m\u001B[38;5;124m\"\u001B[39m\u001B[38;5;124m(\u001B[39m\u001B[38;5;132;01m{\u001B[39;00m\u001B[38;5;28mlen\u001B[39m(data)\u001B[38;5;132;01m}\u001B[39;00m\u001B[38;5;124m) \u001B[39m\u001B[38;5;124m\"\u001B[39m\n\u001B[1;32m    560\u001B[0m         \u001B[38;5;124m\"\u001B[39m\u001B[38;5;124mdoes not match length of index \u001B[39m\u001B[38;5;124m\"\u001B[39m\n\u001B[1;32m    561\u001B[0m         \u001B[38;5;124mf\u001B[39m\u001B[38;5;124m\"\u001B[39m\u001B[38;5;124m(\u001B[39m\u001B[38;5;132;01m{\u001B[39;00m\u001B[38;5;28mlen\u001B[39m(index)\u001B[38;5;132;01m}\u001B[39;00m\u001B[38;5;124m)\u001B[39m\u001B[38;5;124m\"\u001B[39m\n\u001B[1;32m    562\u001B[0m     )\n",
      "\u001B[0;31mValueError\u001B[0m: Length of values (3) does not match length of index (4)"
     ]
    }
   ],
   "source": [
    "data4['degree']=pd.Series(['yes','no','yes'], index=['jake','sam','sally'])"
   ],
   "metadata": {
    "collapsed": false,
    "pycharm": {
     "name": "#%%\n"
    }
   }
  },
  {
   "cell_type": "code",
   "execution_count": 293,
   "outputs": [
    {
     "data": {
      "text/plain": "         age  income degree\nname                       \nbob       23      72    NaN\njake      34     120    yes\nsam       41      49     no\njone      29      39    NaN\nsally     19      81    yes\nwilliam   34      55    NaN",
      "text/html": "<div>\n<style scoped>\n    .dataframe tbody tr th:only-of-type {\n        vertical-align: middle;\n    }\n\n    .dataframe tbody tr th {\n        vertical-align: top;\n    }\n\n    .dataframe thead th {\n        text-align: right;\n    }\n</style>\n<table border=\"1\" class=\"dataframe\">\n  <thead>\n    <tr style=\"text-align: right;\">\n      <th></th>\n      <th>age</th>\n      <th>income</th>\n      <th>degree</th>\n    </tr>\n    <tr>\n      <th>name</th>\n      <th></th>\n      <th></th>\n      <th></th>\n    </tr>\n  </thead>\n  <tbody>\n    <tr>\n      <th>bob</th>\n      <td>23</td>\n      <td>72</td>\n      <td>NaN</td>\n    </tr>\n    <tr>\n      <th>jake</th>\n      <td>34</td>\n      <td>120</td>\n      <td>yes</td>\n    </tr>\n    <tr>\n      <th>sam</th>\n      <td>41</td>\n      <td>49</td>\n      <td>no</td>\n    </tr>\n    <tr>\n      <th>jone</th>\n      <td>29</td>\n      <td>39</td>\n      <td>NaN</td>\n    </tr>\n    <tr>\n      <th>sally</th>\n      <td>19</td>\n      <td>81</td>\n      <td>yes</td>\n    </tr>\n    <tr>\n      <th>william</th>\n      <td>34</td>\n      <td>55</td>\n      <td>NaN</td>\n    </tr>\n  </tbody>\n</table>\n</div>"
     },
     "execution_count": 293,
     "metadata": {},
     "output_type": "execute_result"
    }
   ],
   "source": [
    "data4"
   ],
   "metadata": {
    "collapsed": false,
    "pycharm": {
     "name": "#%%\n"
    }
   }
  },
  {
   "cell_type": "code",
   "execution_count": 295,
   "outputs": [
    {
     "data": {
      "text/plain": "name\nbob        NaN\njake       yes\nsam         no\njone       NaN\nsally      yes\nwilliam    NaN\nName: degree, dtype: object"
     },
     "execution_count": 295,
     "metadata": {},
     "output_type": "execute_result"
    }
   ],
   "source": [
    "data4.degree"
   ],
   "metadata": {
    "collapsed": false,
    "pycharm": {
     "name": "#%%\n"
    }
   }
  },
  {
   "cell_type": "code",
   "execution_count": 296,
   "outputs": [
    {
     "data": {
      "text/plain": "Index(['a', 'b', 'd', 'c', 'd', 'e'], dtype='object')"
     },
     "execution_count": 296,
     "metadata": {},
     "output_type": "execute_result"
    }
   ],
   "source": [
    "series1.index"
   ],
   "metadata": {
    "collapsed": false,
    "pycharm": {
     "name": "#%%\n"
    }
   }
  },
  {
   "cell_type": "code",
   "execution_count": 297,
   "outputs": [
    {
     "name": "stderr",
     "output_type": "stream",
     "text": [
      "/tmp/ipykernel_13499/1781079472.py:1: FutureWarning: reindexing with a non-unique Index is deprecated and will raise in a future version.\n",
      "  series1.reindex(['a','b','c','d','e','f'])\n"
     ]
    },
    {
     "ename": "ValueError",
     "evalue": "cannot reindex on an axis with duplicate labels",
     "output_type": "error",
     "traceback": [
      "\u001B[0;31m---------------------------------------------------------------------------\u001B[0m",
      "\u001B[0;31mValueError\u001B[0m                                Traceback (most recent call last)",
      "Input \u001B[0;32mIn [297]\u001B[0m, in \u001B[0;36m<cell line: 1>\u001B[0;34m()\u001B[0m\n\u001B[0;32m----> 1\u001B[0m \u001B[43mseries1\u001B[49m\u001B[38;5;241;43m.\u001B[39;49m\u001B[43mreindex\u001B[49m\u001B[43m(\u001B[49m\u001B[43m[\u001B[49m\u001B[38;5;124;43m'\u001B[39;49m\u001B[38;5;124;43ma\u001B[39;49m\u001B[38;5;124;43m'\u001B[39;49m\u001B[43m,\u001B[49m\u001B[38;5;124;43m'\u001B[39;49m\u001B[38;5;124;43mb\u001B[39;49m\u001B[38;5;124;43m'\u001B[39;49m\u001B[43m,\u001B[49m\u001B[38;5;124;43m'\u001B[39;49m\u001B[38;5;124;43mc\u001B[39;49m\u001B[38;5;124;43m'\u001B[39;49m\u001B[43m,\u001B[49m\u001B[38;5;124;43m'\u001B[39;49m\u001B[38;5;124;43md\u001B[39;49m\u001B[38;5;124;43m'\u001B[39;49m\u001B[43m,\u001B[49m\u001B[38;5;124;43m'\u001B[39;49m\u001B[38;5;124;43me\u001B[39;49m\u001B[38;5;124;43m'\u001B[39;49m\u001B[43m,\u001B[49m\u001B[38;5;124;43m'\u001B[39;49m\u001B[38;5;124;43mf\u001B[39;49m\u001B[38;5;124;43m'\u001B[39;49m\u001B[43m]\u001B[49m\u001B[43m)\u001B[49m\n",
      "File \u001B[0;32m~/anaconda3/envs/DataScience/lib/python3.10/site-packages/pandas/core/series.py:4672\u001B[0m, in \u001B[0;36mSeries.reindex\u001B[0;34m(self, *args, **kwargs)\u001B[0m\n\u001B[1;32m   4668\u001B[0m         \u001B[38;5;28;01mraise\u001B[39;00m \u001B[38;5;167;01mTypeError\u001B[39;00m(\n\u001B[1;32m   4669\u001B[0m             \u001B[38;5;124m\"\u001B[39m\u001B[38;5;124m'\u001B[39m\u001B[38;5;124mindex\u001B[39m\u001B[38;5;124m'\u001B[39m\u001B[38;5;124m passed as both positional and keyword argument\u001B[39m\u001B[38;5;124m\"\u001B[39m\n\u001B[1;32m   4670\u001B[0m         )\n\u001B[1;32m   4671\u001B[0m     kwargs\u001B[38;5;241m.\u001B[39mupdate({\u001B[38;5;124m\"\u001B[39m\u001B[38;5;124mindex\u001B[39m\u001B[38;5;124m\"\u001B[39m: index})\n\u001B[0;32m-> 4672\u001B[0m \u001B[38;5;28;01mreturn\u001B[39;00m \u001B[38;5;28;43msuper\u001B[39;49m\u001B[43m(\u001B[49m\u001B[43m)\u001B[49m\u001B[38;5;241;43m.\u001B[39;49m\u001B[43mreindex\u001B[49m\u001B[43m(\u001B[49m\u001B[38;5;241;43m*\u001B[39;49m\u001B[38;5;241;43m*\u001B[39;49m\u001B[43mkwargs\u001B[49m\u001B[43m)\u001B[49m\n",
      "File \u001B[0;32m~/anaconda3/envs/DataScience/lib/python3.10/site-packages/pandas/core/generic.py:4966\u001B[0m, in \u001B[0;36mNDFrame.reindex\u001B[0;34m(self, *args, **kwargs)\u001B[0m\n\u001B[1;32m   4963\u001B[0m     \u001B[38;5;28;01mreturn\u001B[39;00m \u001B[38;5;28mself\u001B[39m\u001B[38;5;241m.\u001B[39m_reindex_multi(axes, copy, fill_value)\n\u001B[1;32m   4965\u001B[0m \u001B[38;5;66;03m# perform the reindex on the axes\u001B[39;00m\n\u001B[0;32m-> 4966\u001B[0m \u001B[38;5;28;01mreturn\u001B[39;00m \u001B[38;5;28;43mself\u001B[39;49m\u001B[38;5;241;43m.\u001B[39;49m\u001B[43m_reindex_axes\u001B[49m\u001B[43m(\u001B[49m\n\u001B[1;32m   4967\u001B[0m \u001B[43m    \u001B[49m\u001B[43maxes\u001B[49m\u001B[43m,\u001B[49m\u001B[43m \u001B[49m\u001B[43mlevel\u001B[49m\u001B[43m,\u001B[49m\u001B[43m \u001B[49m\u001B[43mlimit\u001B[49m\u001B[43m,\u001B[49m\u001B[43m \u001B[49m\u001B[43mtolerance\u001B[49m\u001B[43m,\u001B[49m\u001B[43m \u001B[49m\u001B[43mmethod\u001B[49m\u001B[43m,\u001B[49m\u001B[43m \u001B[49m\u001B[43mfill_value\u001B[49m\u001B[43m,\u001B[49m\u001B[43m \u001B[49m\u001B[43mcopy\u001B[49m\n\u001B[1;32m   4968\u001B[0m \u001B[43m\u001B[49m\u001B[43m)\u001B[49m\u001B[38;5;241m.\u001B[39m__finalize__(\u001B[38;5;28mself\u001B[39m, method\u001B[38;5;241m=\u001B[39m\u001B[38;5;124m\"\u001B[39m\u001B[38;5;124mreindex\u001B[39m\u001B[38;5;124m\"\u001B[39m)\n",
      "File \u001B[0;32m~/anaconda3/envs/DataScience/lib/python3.10/site-packages/pandas/core/generic.py:4986\u001B[0m, in \u001B[0;36mNDFrame._reindex_axes\u001B[0;34m(self, axes, level, limit, tolerance, method, fill_value, copy)\u001B[0m\n\u001B[1;32m   4981\u001B[0m new_index, indexer \u001B[38;5;241m=\u001B[39m ax\u001B[38;5;241m.\u001B[39mreindex(\n\u001B[1;32m   4982\u001B[0m     labels, level\u001B[38;5;241m=\u001B[39mlevel, limit\u001B[38;5;241m=\u001B[39mlimit, tolerance\u001B[38;5;241m=\u001B[39mtolerance, method\u001B[38;5;241m=\u001B[39mmethod\n\u001B[1;32m   4983\u001B[0m )\n\u001B[1;32m   4985\u001B[0m axis \u001B[38;5;241m=\u001B[39m \u001B[38;5;28mself\u001B[39m\u001B[38;5;241m.\u001B[39m_get_axis_number(a)\n\u001B[0;32m-> 4986\u001B[0m obj \u001B[38;5;241m=\u001B[39m \u001B[43mobj\u001B[49m\u001B[38;5;241;43m.\u001B[39;49m\u001B[43m_reindex_with_indexers\u001B[49m\u001B[43m(\u001B[49m\n\u001B[1;32m   4987\u001B[0m \u001B[43m    \u001B[49m\u001B[43m{\u001B[49m\u001B[43maxis\u001B[49m\u001B[43m:\u001B[49m\u001B[43m \u001B[49m\u001B[43m[\u001B[49m\u001B[43mnew_index\u001B[49m\u001B[43m,\u001B[49m\u001B[43m \u001B[49m\u001B[43mindexer\u001B[49m\u001B[43m]\u001B[49m\u001B[43m}\u001B[49m\u001B[43m,\u001B[49m\n\u001B[1;32m   4988\u001B[0m \u001B[43m    \u001B[49m\u001B[43mfill_value\u001B[49m\u001B[38;5;241;43m=\u001B[39;49m\u001B[43mfill_value\u001B[49m\u001B[43m,\u001B[49m\n\u001B[1;32m   4989\u001B[0m \u001B[43m    \u001B[49m\u001B[43mcopy\u001B[49m\u001B[38;5;241;43m=\u001B[39;49m\u001B[43mcopy\u001B[49m\u001B[43m,\u001B[49m\n\u001B[1;32m   4990\u001B[0m \u001B[43m    \u001B[49m\u001B[43mallow_dups\u001B[49m\u001B[38;5;241;43m=\u001B[39;49m\u001B[38;5;28;43;01mFalse\u001B[39;49;00m\u001B[43m,\u001B[49m\n\u001B[1;32m   4991\u001B[0m \u001B[43m\u001B[49m\u001B[43m)\u001B[49m\n\u001B[1;32m   4992\u001B[0m \u001B[38;5;66;03m# If we've made a copy once, no need to make another one\u001B[39;00m\n\u001B[1;32m   4993\u001B[0m copy \u001B[38;5;241m=\u001B[39m \u001B[38;5;28;01mFalse\u001B[39;00m\n",
      "File \u001B[0;32m~/anaconda3/envs/DataScience/lib/python3.10/site-packages/pandas/core/generic.py:5032\u001B[0m, in \u001B[0;36mNDFrame._reindex_with_indexers\u001B[0;34m(self, reindexers, fill_value, copy, allow_dups)\u001B[0m\n\u001B[1;32m   5029\u001B[0m     indexer \u001B[38;5;241m=\u001B[39m ensure_platform_int(indexer)\n\u001B[1;32m   5031\u001B[0m \u001B[38;5;66;03m# TODO: speed up on homogeneous DataFrame objects (see _reindex_multi)\u001B[39;00m\n\u001B[0;32m-> 5032\u001B[0m new_data \u001B[38;5;241m=\u001B[39m \u001B[43mnew_data\u001B[49m\u001B[38;5;241;43m.\u001B[39;49m\u001B[43mreindex_indexer\u001B[49m\u001B[43m(\u001B[49m\n\u001B[1;32m   5033\u001B[0m \u001B[43m    \u001B[49m\u001B[43mindex\u001B[49m\u001B[43m,\u001B[49m\n\u001B[1;32m   5034\u001B[0m \u001B[43m    \u001B[49m\u001B[43mindexer\u001B[49m\u001B[43m,\u001B[49m\n\u001B[1;32m   5035\u001B[0m \u001B[43m    \u001B[49m\u001B[43maxis\u001B[49m\u001B[38;5;241;43m=\u001B[39;49m\u001B[43mbaxis\u001B[49m\u001B[43m,\u001B[49m\n\u001B[1;32m   5036\u001B[0m \u001B[43m    \u001B[49m\u001B[43mfill_value\u001B[49m\u001B[38;5;241;43m=\u001B[39;49m\u001B[43mfill_value\u001B[49m\u001B[43m,\u001B[49m\n\u001B[1;32m   5037\u001B[0m \u001B[43m    \u001B[49m\u001B[43mallow_dups\u001B[49m\u001B[38;5;241;43m=\u001B[39;49m\u001B[43mallow_dups\u001B[49m\u001B[43m,\u001B[49m\n\u001B[1;32m   5038\u001B[0m \u001B[43m    \u001B[49m\u001B[43mcopy\u001B[49m\u001B[38;5;241;43m=\u001B[39;49m\u001B[43mcopy\u001B[49m\u001B[43m,\u001B[49m\n\u001B[1;32m   5039\u001B[0m \u001B[43m\u001B[49m\u001B[43m)\u001B[49m\n\u001B[1;32m   5040\u001B[0m \u001B[38;5;66;03m# If we've made a copy once, no need to make another one\u001B[39;00m\n\u001B[1;32m   5041\u001B[0m copy \u001B[38;5;241m=\u001B[39m \u001B[38;5;28;01mFalse\u001B[39;00m\n",
      "File \u001B[0;32m~/anaconda3/envs/DataScience/lib/python3.10/site-packages/pandas/core/internals/managers.py:679\u001B[0m, in \u001B[0;36mBaseBlockManager.reindex_indexer\u001B[0;34m(self, new_axis, indexer, axis, fill_value, allow_dups, copy, consolidate, only_slice, use_na_proxy)\u001B[0m\n\u001B[1;32m    677\u001B[0m \u001B[38;5;66;03m# some axes don't allow reindexing with dups\u001B[39;00m\n\u001B[1;32m    678\u001B[0m \u001B[38;5;28;01mif\u001B[39;00m \u001B[38;5;129;01mnot\u001B[39;00m allow_dups:\n\u001B[0;32m--> 679\u001B[0m     \u001B[38;5;28;43mself\u001B[39;49m\u001B[38;5;241;43m.\u001B[39;49m\u001B[43maxes\u001B[49m\u001B[43m[\u001B[49m\u001B[43maxis\u001B[49m\u001B[43m]\u001B[49m\u001B[38;5;241;43m.\u001B[39;49m\u001B[43m_validate_can_reindex\u001B[49m\u001B[43m(\u001B[49m\u001B[43mindexer\u001B[49m\u001B[43m)\u001B[49m\n\u001B[1;32m    681\u001B[0m \u001B[38;5;28;01mif\u001B[39;00m axis \u001B[38;5;241m>\u001B[39m\u001B[38;5;241m=\u001B[39m \u001B[38;5;28mself\u001B[39m\u001B[38;5;241m.\u001B[39mndim:\n\u001B[1;32m    682\u001B[0m     \u001B[38;5;28;01mraise\u001B[39;00m \u001B[38;5;167;01mIndexError\u001B[39;00m(\u001B[38;5;124m\"\u001B[39m\u001B[38;5;124mRequested axis not found in manager\u001B[39m\u001B[38;5;124m\"\u001B[39m)\n",
      "File \u001B[0;32m~/anaconda3/envs/DataScience/lib/python3.10/site-packages/pandas/core/indexes/base.py:4107\u001B[0m, in \u001B[0;36mIndex._validate_can_reindex\u001B[0;34m(self, indexer)\u001B[0m\n\u001B[1;32m   4105\u001B[0m \u001B[38;5;66;03m# trying to reindex on an axis with duplicates\u001B[39;00m\n\u001B[1;32m   4106\u001B[0m \u001B[38;5;28;01mif\u001B[39;00m \u001B[38;5;129;01mnot\u001B[39;00m \u001B[38;5;28mself\u001B[39m\u001B[38;5;241m.\u001B[39m_index_as_unique \u001B[38;5;129;01mand\u001B[39;00m \u001B[38;5;28mlen\u001B[39m(indexer):\n\u001B[0;32m-> 4107\u001B[0m     \u001B[38;5;28;01mraise\u001B[39;00m \u001B[38;5;167;01mValueError\u001B[39;00m(\u001B[38;5;124m\"\u001B[39m\u001B[38;5;124mcannot reindex on an axis with duplicate labels\u001B[39m\u001B[38;5;124m\"\u001B[39m)\n",
      "\u001B[0;31mValueError\u001B[0m: cannot reindex on an axis with duplicate labels"
     ]
    }
   ],
   "source": [
    "series1.reindex(['a','b','c','d','e','f'])"
   ],
   "metadata": {
    "collapsed": false,
    "pycharm": {
     "name": "#%%\n"
    }
   }
  },
  {
   "cell_type": "code",
   "execution_count": 298,
   "outputs": [
    {
     "data": {
      "text/plain": "Index(['a', 'b', 'd', 'c', 'd', 'e'], dtype='object')"
     },
     "execution_count": 298,
     "metadata": {},
     "output_type": "execute_result"
    }
   ],
   "source": [
    "series1.index"
   ],
   "metadata": {
    "collapsed": false,
    "pycharm": {
     "name": "#%%\n"
    }
   }
  },
  {
   "cell_type": "code",
   "execution_count": 299,
   "outputs": [
    {
     "data": {
      "text/plain": "array([32, 45, 23, 37, 65, 55])"
     },
     "execution_count": 299,
     "metadata": {},
     "output_type": "execute_result"
    }
   ],
   "source": [
    "series1.values"
   ],
   "metadata": {
    "collapsed": false,
    "pycharm": {
     "name": "#%%\n"
    }
   }
  },
  {
   "cell_type": "code",
   "execution_count": 300,
   "outputs": [],
   "source": [
    "dt1 = pd.DataFrame(np.arange(1,13).reshape((3,4)),columns=['a','b','c','d'])"
   ],
   "metadata": {
    "collapsed": false,
    "pycharm": {
     "name": "#%%\n"
    }
   }
  },
  {
   "cell_type": "code",
   "execution_count": 301,
   "outputs": [
    {
     "data": {
      "text/plain": "   a   b   c   d\n0  1   2   3   4\n1  5   6   7   8\n2  9  10  11  12",
      "text/html": "<div>\n<style scoped>\n    .dataframe tbody tr th:only-of-type {\n        vertical-align: middle;\n    }\n\n    .dataframe tbody tr th {\n        vertical-align: top;\n    }\n\n    .dataframe thead th {\n        text-align: right;\n    }\n</style>\n<table border=\"1\" class=\"dataframe\">\n  <thead>\n    <tr style=\"text-align: right;\">\n      <th></th>\n      <th>a</th>\n      <th>b</th>\n      <th>c</th>\n      <th>d</th>\n    </tr>\n  </thead>\n  <tbody>\n    <tr>\n      <th>0</th>\n      <td>1</td>\n      <td>2</td>\n      <td>3</td>\n      <td>4</td>\n    </tr>\n    <tr>\n      <th>1</th>\n      <td>5</td>\n      <td>6</td>\n      <td>7</td>\n      <td>8</td>\n    </tr>\n    <tr>\n      <th>2</th>\n      <td>9</td>\n      <td>10</td>\n      <td>11</td>\n      <td>12</td>\n    </tr>\n  </tbody>\n</table>\n</div>"
     },
     "execution_count": 301,
     "metadata": {},
     "output_type": "execute_result"
    }
   ],
   "source": [
    "dt1"
   ],
   "metadata": {
    "collapsed": false,
    "pycharm": {
     "name": "#%%\n"
    }
   }
  },
  {
   "cell_type": "code",
   "execution_count": 302,
   "outputs": [
    {
     "data": {
      "text/plain": "          a         b         c         d\n0  1.000000  0.500000  0.333333  0.250000\n1  0.200000  0.166667  0.142857  0.125000\n2  0.111111  0.100000  0.090909  0.083333",
      "text/html": "<div>\n<style scoped>\n    .dataframe tbody tr th:only-of-type {\n        vertical-align: middle;\n    }\n\n    .dataframe tbody tr th {\n        vertical-align: top;\n    }\n\n    .dataframe thead th {\n        text-align: right;\n    }\n</style>\n<table border=\"1\" class=\"dataframe\">\n  <thead>\n    <tr style=\"text-align: right;\">\n      <th></th>\n      <th>a</th>\n      <th>b</th>\n      <th>c</th>\n      <th>d</th>\n    </tr>\n  </thead>\n  <tbody>\n    <tr>\n      <th>0</th>\n      <td>1.000000</td>\n      <td>0.500000</td>\n      <td>0.333333</td>\n      <td>0.250000</td>\n    </tr>\n    <tr>\n      <th>1</th>\n      <td>0.200000</td>\n      <td>0.166667</td>\n      <td>0.142857</td>\n      <td>0.125000</td>\n    </tr>\n    <tr>\n      <th>2</th>\n      <td>0.111111</td>\n      <td>0.100000</td>\n      <td>0.090909</td>\n      <td>0.083333</td>\n    </tr>\n  </tbody>\n</table>\n</div>"
     },
     "execution_count": 302,
     "metadata": {},
     "output_type": "execute_result"
    }
   ],
   "source": [
    "1/dt1"
   ],
   "metadata": {
    "collapsed": false,
    "pycharm": {
     "name": "#%%\n"
    }
   }
  },
  {
   "cell_type": "code",
   "execution_count": 303,
   "outputs": [
    {
     "data": {
      "text/plain": "   a   b   c   d\n0  1   2   3   4\n1  5   6   7   8\n2  9  10  11  12",
      "text/html": "<div>\n<style scoped>\n    .dataframe tbody tr th:only-of-type {\n        vertical-align: middle;\n    }\n\n    .dataframe tbody tr th {\n        vertical-align: top;\n    }\n\n    .dataframe thead th {\n        text-align: right;\n    }\n</style>\n<table border=\"1\" class=\"dataframe\">\n  <thead>\n    <tr style=\"text-align: right;\">\n      <th></th>\n      <th>a</th>\n      <th>b</th>\n      <th>c</th>\n      <th>d</th>\n    </tr>\n  </thead>\n  <tbody>\n    <tr>\n      <th>0</th>\n      <td>1</td>\n      <td>2</td>\n      <td>3</td>\n      <td>4</td>\n    </tr>\n    <tr>\n      <th>1</th>\n      <td>5</td>\n      <td>6</td>\n      <td>7</td>\n      <td>8</td>\n    </tr>\n    <tr>\n      <th>2</th>\n      <td>9</td>\n      <td>10</td>\n      <td>11</td>\n      <td>12</td>\n    </tr>\n  </tbody>\n</table>\n</div>"
     },
     "execution_count": 303,
     "metadata": {},
     "output_type": "execute_result"
    }
   ],
   "source": [
    "dt1"
   ],
   "metadata": {
    "collapsed": false,
    "pycharm": {
     "name": "#%%\n"
    }
   }
  },
  {
   "cell_type": "code",
   "execution_count": 304,
   "outputs": [
    {
     "data": {
      "text/plain": "    a   b   c   d\n0   3   4   5   6\n1   7   8   9  10\n2  11  12  13  14",
      "text/html": "<div>\n<style scoped>\n    .dataframe tbody tr th:only-of-type {\n        vertical-align: middle;\n    }\n\n    .dataframe tbody tr th {\n        vertical-align: top;\n    }\n\n    .dataframe thead th {\n        text-align: right;\n    }\n</style>\n<table border=\"1\" class=\"dataframe\">\n  <thead>\n    <tr style=\"text-align: right;\">\n      <th></th>\n      <th>a</th>\n      <th>b</th>\n      <th>c</th>\n      <th>d</th>\n    </tr>\n  </thead>\n  <tbody>\n    <tr>\n      <th>0</th>\n      <td>3</td>\n      <td>4</td>\n      <td>5</td>\n      <td>6</td>\n    </tr>\n    <tr>\n      <th>1</th>\n      <td>7</td>\n      <td>8</td>\n      <td>9</td>\n      <td>10</td>\n    </tr>\n    <tr>\n      <th>2</th>\n      <td>11</td>\n      <td>12</td>\n      <td>13</td>\n      <td>14</td>\n    </tr>\n  </tbody>\n</table>\n</div>"
     },
     "execution_count": 304,
     "metadata": {},
     "output_type": "execute_result"
    }
   ],
   "source": [
    "dt1.add(2)"
   ],
   "metadata": {
    "collapsed": false,
    "pycharm": {
     "name": "#%%\n"
    }
   }
  },
  {
   "cell_type": "code",
   "execution_count": 306,
   "outputs": [
    {
     "data": {
      "text/plain": "1"
     },
     "execution_count": 306,
     "metadata": {},
     "output_type": "execute_result"
    }
   ],
   "source": [
    "dt1['a'].min()"
   ],
   "metadata": {
    "collapsed": false,
    "pycharm": {
     "name": "#%%\n"
    }
   }
  },
  {
   "cell_type": "code",
   "execution_count": 307,
   "outputs": [
    {
     "data": {
      "text/plain": "         a     b     c     d\ncount  3.0   3.0   3.0   3.0\nmean   5.0   6.0   7.0   8.0\nstd    4.0   4.0   4.0   4.0\nmin    1.0   2.0   3.0   4.0\n25%    3.0   4.0   5.0   6.0\n50%    5.0   6.0   7.0   8.0\n75%    7.0   8.0   9.0  10.0\nmax    9.0  10.0  11.0  12.0",
      "text/html": "<div>\n<style scoped>\n    .dataframe tbody tr th:only-of-type {\n        vertical-align: middle;\n    }\n\n    .dataframe tbody tr th {\n        vertical-align: top;\n    }\n\n    .dataframe thead th {\n        text-align: right;\n    }\n</style>\n<table border=\"1\" class=\"dataframe\">\n  <thead>\n    <tr style=\"text-align: right;\">\n      <th></th>\n      <th>a</th>\n      <th>b</th>\n      <th>c</th>\n      <th>d</th>\n    </tr>\n  </thead>\n  <tbody>\n    <tr>\n      <th>count</th>\n      <td>3.0</td>\n      <td>3.0</td>\n      <td>3.0</td>\n      <td>3.0</td>\n    </tr>\n    <tr>\n      <th>mean</th>\n      <td>5.0</td>\n      <td>6.0</td>\n      <td>7.0</td>\n      <td>8.0</td>\n    </tr>\n    <tr>\n      <th>std</th>\n      <td>4.0</td>\n      <td>4.0</td>\n      <td>4.0</td>\n      <td>4.0</td>\n    </tr>\n    <tr>\n      <th>min</th>\n      <td>1.0</td>\n      <td>2.0</td>\n      <td>3.0</td>\n      <td>4.0</td>\n    </tr>\n    <tr>\n      <th>25%</th>\n      <td>3.0</td>\n      <td>4.0</td>\n      <td>5.0</td>\n      <td>6.0</td>\n    </tr>\n    <tr>\n      <th>50%</th>\n      <td>5.0</td>\n      <td>6.0</td>\n      <td>7.0</td>\n      <td>8.0</td>\n    </tr>\n    <tr>\n      <th>75%</th>\n      <td>7.0</td>\n      <td>8.0</td>\n      <td>9.0</td>\n      <td>10.0</td>\n    </tr>\n    <tr>\n      <th>max</th>\n      <td>9.0</td>\n      <td>10.0</td>\n      <td>11.0</td>\n      <td>12.0</td>\n    </tr>\n  </tbody>\n</table>\n</div>"
     },
     "execution_count": 307,
     "metadata": {},
     "output_type": "execute_result"
    }
   ],
   "source": [
    "dt1.describe()"
   ],
   "metadata": {
    "collapsed": false,
    "pycharm": {
     "name": "#%%\n"
    }
   }
  },
  {
   "cell_type": "code",
   "execution_count": 308,
   "outputs": [
    {
     "data": {
      "text/plain": "   a   b   c   d\n0  1   2   3   4\n1  5   6   7   8\n2  9  10  11  12",
      "text/html": "<div>\n<style scoped>\n    .dataframe tbody tr th:only-of-type {\n        vertical-align: middle;\n    }\n\n    .dataframe tbody tr th {\n        vertical-align: top;\n    }\n\n    .dataframe thead th {\n        text-align: right;\n    }\n</style>\n<table border=\"1\" class=\"dataframe\">\n  <thead>\n    <tr style=\"text-align: right;\">\n      <th></th>\n      <th>a</th>\n      <th>b</th>\n      <th>c</th>\n      <th>d</th>\n    </tr>\n  </thead>\n  <tbody>\n    <tr>\n      <th>0</th>\n      <td>1</td>\n      <td>2</td>\n      <td>3</td>\n      <td>4</td>\n    </tr>\n    <tr>\n      <th>1</th>\n      <td>5</td>\n      <td>6</td>\n      <td>7</td>\n      <td>8</td>\n    </tr>\n    <tr>\n      <th>2</th>\n      <td>9</td>\n      <td>10</td>\n      <td>11</td>\n      <td>12</td>\n    </tr>\n  </tbody>\n</table>\n</div>"
     },
     "execution_count": 308,
     "metadata": {},
     "output_type": "execute_result"
    }
   ],
   "source": [
    "dt1"
   ],
   "metadata": {
    "collapsed": false,
    "pycharm": {
     "name": "#%%\n"
    }
   }
  },
  {
   "cell_type": "code",
   "execution_count": 309,
   "outputs": [],
   "source": [
    "df1 = pd.read_csv('Python-Bootcamp-for-Data-Science-2021-Numpy-Pandas-Seaborn-main/data/auto1.csv')"
   ],
   "metadata": {
    "collapsed": false,
    "pycharm": {
     "name": "#%%\n"
    }
   }
  },
  {
   "cell_type": "code",
   "execution_count": 310,
   "outputs": [
    {
     "data": {
      "text/plain": "                         name  mpg  cylinders  displacement  horsepower\n0   chevrolet chevelle malibu   18          8         307.0         130\n1           buick skylark 320   15          8         350.0         165\n2          plymouth satellite   18          8         318.0         150\n3               amc rebel sst   16          8         304.0         150\n4                 ford torino   17          8         302.0         140\n..                        ...  ...        ...           ...         ...\n95    amc ambassador brougham   13          8         360.0         175\n96           plymouth valiant   18          6         225.0         105\n97      chevrolet nova custom   16          6         250.0         100\n98                 amc hornet   18          6         232.0         100\n99              ford maverick   18          6         250.0          88\n\n[100 rows x 5 columns]",
      "text/html": "<div>\n<style scoped>\n    .dataframe tbody tr th:only-of-type {\n        vertical-align: middle;\n    }\n\n    .dataframe tbody tr th {\n        vertical-align: top;\n    }\n\n    .dataframe thead th {\n        text-align: right;\n    }\n</style>\n<table border=\"1\" class=\"dataframe\">\n  <thead>\n    <tr style=\"text-align: right;\">\n      <th></th>\n      <th>name</th>\n      <th>mpg</th>\n      <th>cylinders</th>\n      <th>displacement</th>\n      <th>horsepower</th>\n    </tr>\n  </thead>\n  <tbody>\n    <tr>\n      <th>0</th>\n      <td>chevrolet chevelle malibu</td>\n      <td>18</td>\n      <td>8</td>\n      <td>307.0</td>\n      <td>130</td>\n    </tr>\n    <tr>\n      <th>1</th>\n      <td>buick skylark 320</td>\n      <td>15</td>\n      <td>8</td>\n      <td>350.0</td>\n      <td>165</td>\n    </tr>\n    <tr>\n      <th>2</th>\n      <td>plymouth satellite</td>\n      <td>18</td>\n      <td>8</td>\n      <td>318.0</td>\n      <td>150</td>\n    </tr>\n    <tr>\n      <th>3</th>\n      <td>amc rebel sst</td>\n      <td>16</td>\n      <td>8</td>\n      <td>304.0</td>\n      <td>150</td>\n    </tr>\n    <tr>\n      <th>4</th>\n      <td>ford torino</td>\n      <td>17</td>\n      <td>8</td>\n      <td>302.0</td>\n      <td>140</td>\n    </tr>\n    <tr>\n      <th>...</th>\n      <td>...</td>\n      <td>...</td>\n      <td>...</td>\n      <td>...</td>\n      <td>...</td>\n    </tr>\n    <tr>\n      <th>95</th>\n      <td>amc ambassador brougham</td>\n      <td>13</td>\n      <td>8</td>\n      <td>360.0</td>\n      <td>175</td>\n    </tr>\n    <tr>\n      <th>96</th>\n      <td>plymouth valiant</td>\n      <td>18</td>\n      <td>6</td>\n      <td>225.0</td>\n      <td>105</td>\n    </tr>\n    <tr>\n      <th>97</th>\n      <td>chevrolet nova custom</td>\n      <td>16</td>\n      <td>6</td>\n      <td>250.0</td>\n      <td>100</td>\n    </tr>\n    <tr>\n      <th>98</th>\n      <td>amc hornet</td>\n      <td>18</td>\n      <td>6</td>\n      <td>232.0</td>\n      <td>100</td>\n    </tr>\n    <tr>\n      <th>99</th>\n      <td>ford maverick</td>\n      <td>18</td>\n      <td>6</td>\n      <td>250.0</td>\n      <td>88</td>\n    </tr>\n  </tbody>\n</table>\n<p>100 rows × 5 columns</p>\n</div>"
     },
     "execution_count": 310,
     "metadata": {},
     "output_type": "execute_result"
    }
   ],
   "source": [
    "df1"
   ],
   "metadata": {
    "collapsed": false,
    "pycharm": {
     "name": "#%%\n"
    }
   }
  },
  {
   "cell_type": "code",
   "execution_count": 313,
   "outputs": [],
   "source": [
    "df1 = pd.read_csv('Python-Bootcamp-for-Data-Science-2021-Numpy-Pandas-Seaborn-main/data/auto2.csv', header=None)"
   ],
   "metadata": {
    "collapsed": false,
    "pycharm": {
     "name": "#%%\n"
    }
   }
  },
  {
   "cell_type": "code",
   "execution_count": 314,
   "outputs": [
    {
     "data": {
      "text/plain": "                            0   1  2      3    4\n0   chevrolet chevelle malibu  18  8  307.0  130\n1           buick skylark 320  15  8  350.0  165\n2          plymouth satellite  18  8  318.0  150\n3               amc rebel sst  16  8  304.0  150\n4                 ford torino  17  8  302.0  140\n..                        ...  .. ..    ...  ...\n95    amc ambassador brougham  13  8  360.0  175\n96           plymouth valiant  18  6  225.0  105\n97      chevrolet nova custom  16  6  250.0  100\n98                 amc hornet  18  6  232.0  100\n99              ford maverick  18  6  250.0   88\n\n[100 rows x 5 columns]",
      "text/html": "<div>\n<style scoped>\n    .dataframe tbody tr th:only-of-type {\n        vertical-align: middle;\n    }\n\n    .dataframe tbody tr th {\n        vertical-align: top;\n    }\n\n    .dataframe thead th {\n        text-align: right;\n    }\n</style>\n<table border=\"1\" class=\"dataframe\">\n  <thead>\n    <tr style=\"text-align: right;\">\n      <th></th>\n      <th>0</th>\n      <th>1</th>\n      <th>2</th>\n      <th>3</th>\n      <th>4</th>\n    </tr>\n  </thead>\n  <tbody>\n    <tr>\n      <th>0</th>\n      <td>chevrolet chevelle malibu</td>\n      <td>18</td>\n      <td>8</td>\n      <td>307.0</td>\n      <td>130</td>\n    </tr>\n    <tr>\n      <th>1</th>\n      <td>buick skylark 320</td>\n      <td>15</td>\n      <td>8</td>\n      <td>350.0</td>\n      <td>165</td>\n    </tr>\n    <tr>\n      <th>2</th>\n      <td>plymouth satellite</td>\n      <td>18</td>\n      <td>8</td>\n      <td>318.0</td>\n      <td>150</td>\n    </tr>\n    <tr>\n      <th>3</th>\n      <td>amc rebel sst</td>\n      <td>16</td>\n      <td>8</td>\n      <td>304.0</td>\n      <td>150</td>\n    </tr>\n    <tr>\n      <th>4</th>\n      <td>ford torino</td>\n      <td>17</td>\n      <td>8</td>\n      <td>302.0</td>\n      <td>140</td>\n    </tr>\n    <tr>\n      <th>...</th>\n      <td>...</td>\n      <td>...</td>\n      <td>...</td>\n      <td>...</td>\n      <td>...</td>\n    </tr>\n    <tr>\n      <th>95</th>\n      <td>amc ambassador brougham</td>\n      <td>13</td>\n      <td>8</td>\n      <td>360.0</td>\n      <td>175</td>\n    </tr>\n    <tr>\n      <th>96</th>\n      <td>plymouth valiant</td>\n      <td>18</td>\n      <td>6</td>\n      <td>225.0</td>\n      <td>105</td>\n    </tr>\n    <tr>\n      <th>97</th>\n      <td>chevrolet nova custom</td>\n      <td>16</td>\n      <td>6</td>\n      <td>250.0</td>\n      <td>100</td>\n    </tr>\n    <tr>\n      <th>98</th>\n      <td>amc hornet</td>\n      <td>18</td>\n      <td>6</td>\n      <td>232.0</td>\n      <td>100</td>\n    </tr>\n    <tr>\n      <th>99</th>\n      <td>ford maverick</td>\n      <td>18</td>\n      <td>6</td>\n      <td>250.0</td>\n      <td>88</td>\n    </tr>\n  </tbody>\n</table>\n<p>100 rows × 5 columns</p>\n</div>"
     },
     "execution_count": 314,
     "metadata": {},
     "output_type": "execute_result"
    }
   ],
   "source": [
    "df1"
   ],
   "metadata": {
    "collapsed": false,
    "pycharm": {
     "name": "#%%\n"
    }
   }
  },
  {
   "cell_type": "code",
   "execution_count": 315,
   "outputs": [],
   "source": [
    "df2 = pd.read_csv('Python-Bootcamp-for-Data-Science-2021-Numpy-Pandas-Seaborn-main/data/auto2.csv', names = ['mpg','cylinders','displacement','horsepower'])"
   ],
   "metadata": {
    "collapsed": false,
    "pycharm": {
     "name": "#%%\n"
    }
   }
  },
  {
   "cell_type": "code",
   "execution_count": 316,
   "outputs": [
    {
     "data": {
      "text/plain": "                           mpg  cylinders  displacement  horsepower\nchevrolet chevelle malibu   18          8         307.0         130\nbuick skylark 320           15          8         350.0         165\nplymouth satellite          18          8         318.0         150\namc rebel sst               16          8         304.0         150\nford torino                 17          8         302.0         140\n...                        ...        ...           ...         ...\namc ambassador brougham     13          8         360.0         175\nplymouth valiant            18          6         225.0         105\nchevrolet nova custom       16          6         250.0         100\namc hornet                  18          6         232.0         100\nford maverick               18          6         250.0          88\n\n[100 rows x 4 columns]",
      "text/html": "<div>\n<style scoped>\n    .dataframe tbody tr th:only-of-type {\n        vertical-align: middle;\n    }\n\n    .dataframe tbody tr th {\n        vertical-align: top;\n    }\n\n    .dataframe thead th {\n        text-align: right;\n    }\n</style>\n<table border=\"1\" class=\"dataframe\">\n  <thead>\n    <tr style=\"text-align: right;\">\n      <th></th>\n      <th>mpg</th>\n      <th>cylinders</th>\n      <th>displacement</th>\n      <th>horsepower</th>\n    </tr>\n  </thead>\n  <tbody>\n    <tr>\n      <th>chevrolet chevelle malibu</th>\n      <td>18</td>\n      <td>8</td>\n      <td>307.0</td>\n      <td>130</td>\n    </tr>\n    <tr>\n      <th>buick skylark 320</th>\n      <td>15</td>\n      <td>8</td>\n      <td>350.0</td>\n      <td>165</td>\n    </tr>\n    <tr>\n      <th>plymouth satellite</th>\n      <td>18</td>\n      <td>8</td>\n      <td>318.0</td>\n      <td>150</td>\n    </tr>\n    <tr>\n      <th>amc rebel sst</th>\n      <td>16</td>\n      <td>8</td>\n      <td>304.0</td>\n      <td>150</td>\n    </tr>\n    <tr>\n      <th>ford torino</th>\n      <td>17</td>\n      <td>8</td>\n      <td>302.0</td>\n      <td>140</td>\n    </tr>\n    <tr>\n      <th>...</th>\n      <td>...</td>\n      <td>...</td>\n      <td>...</td>\n      <td>...</td>\n    </tr>\n    <tr>\n      <th>amc ambassador brougham</th>\n      <td>13</td>\n      <td>8</td>\n      <td>360.0</td>\n      <td>175</td>\n    </tr>\n    <tr>\n      <th>plymouth valiant</th>\n      <td>18</td>\n      <td>6</td>\n      <td>225.0</td>\n      <td>105</td>\n    </tr>\n    <tr>\n      <th>chevrolet nova custom</th>\n      <td>16</td>\n      <td>6</td>\n      <td>250.0</td>\n      <td>100</td>\n    </tr>\n    <tr>\n      <th>amc hornet</th>\n      <td>18</td>\n      <td>6</td>\n      <td>232.0</td>\n      <td>100</td>\n    </tr>\n    <tr>\n      <th>ford maverick</th>\n      <td>18</td>\n      <td>6</td>\n      <td>250.0</td>\n      <td>88</td>\n    </tr>\n  </tbody>\n</table>\n<p>100 rows × 4 columns</p>\n</div>"
     },
     "execution_count": 316,
     "metadata": {},
     "output_type": "execute_result"
    }
   ],
   "source": [
    "df2"
   ],
   "metadata": {
    "collapsed": false,
    "pycharm": {
     "name": "#%%\n"
    }
   }
  },
  {
   "cell_type": "code",
   "execution_count": 317,
   "outputs": [
    {
     "data": {
      "text/plain": "'hi 1200d'"
     },
     "execution_count": 317,
     "metadata": {},
     "output_type": "execute_result"
    }
   ],
   "source": [
    "df2['mpg'].idxmin()"
   ],
   "metadata": {
    "collapsed": false,
    "pycharm": {
     "name": "#%%\n"
    }
   }
  },
  {
   "cell_type": "code",
   "execution_count": 322,
   "outputs": [
    {
     "data": {
      "text/plain": "mpg               9.0\ncylinders         8.0\ndisplacement    304.0\nhorsepower      193.0\nName: hi 1200d, dtype: float64"
     },
     "execution_count": 322,
     "metadata": {},
     "output_type": "execute_result"
    }
   ],
   "source": [
    "df2.loc['hi 1200d']"
   ],
   "metadata": {
    "collapsed": false,
    "pycharm": {
     "name": "#%%\n"
    }
   }
  },
  {
   "cell_type": "code",
   "execution_count": 324,
   "outputs": [
    {
     "data": {
      "text/plain": "5.776161390061778"
     },
     "execution_count": 324,
     "metadata": {},
     "output_type": "execute_result"
    }
   ],
   "source": [
    "df2['mpg'].std()"
   ],
   "metadata": {
    "collapsed": false,
    "pycharm": {
     "name": "#%%\n"
    }
   }
  },
  {
   "cell_type": "code",
   "execution_count": 325,
   "outputs": [
    {
     "data": {
      "text/plain": "                           mpg  cylinders  displacement  horsepower\nname                                                               \nchevrolet chevelle malibu   18          8         307.0         130\nbuick skylark 320           15          8         350.0         165\nplymouth satellite          18          8         318.0         150\namc rebel sst               16          8         304.0         150\nford torino                 17          8         302.0         140",
      "text/html": "<div>\n<style scoped>\n    .dataframe tbody tr th:only-of-type {\n        vertical-align: middle;\n    }\n\n    .dataframe tbody tr th {\n        vertical-align: top;\n    }\n\n    .dataframe thead th {\n        text-align: right;\n    }\n</style>\n<table border=\"1\" class=\"dataframe\">\n  <thead>\n    <tr style=\"text-align: right;\">\n      <th></th>\n      <th>mpg</th>\n      <th>cylinders</th>\n      <th>displacement</th>\n      <th>horsepower</th>\n    </tr>\n    <tr>\n      <th>name</th>\n      <th></th>\n      <th></th>\n      <th></th>\n      <th></th>\n    </tr>\n  </thead>\n  <tbody>\n    <tr>\n      <th>chevrolet chevelle malibu</th>\n      <td>18</td>\n      <td>8</td>\n      <td>307.0</td>\n      <td>130</td>\n    </tr>\n    <tr>\n      <th>buick skylark 320</th>\n      <td>15</td>\n      <td>8</td>\n      <td>350.0</td>\n      <td>165</td>\n    </tr>\n    <tr>\n      <th>plymouth satellite</th>\n      <td>18</td>\n      <td>8</td>\n      <td>318.0</td>\n      <td>150</td>\n    </tr>\n    <tr>\n      <th>amc rebel sst</th>\n      <td>16</td>\n      <td>8</td>\n      <td>304.0</td>\n      <td>150</td>\n    </tr>\n    <tr>\n      <th>ford torino</th>\n      <td>17</td>\n      <td>8</td>\n      <td>302.0</td>\n      <td>140</td>\n    </tr>\n  </tbody>\n</table>\n</div>"
     },
     "execution_count": 325,
     "metadata": {},
     "output_type": "execute_result"
    }
   ],
   "source": [
    "df1 = pd.read_csv('Python-Bootcamp-for-Data-Science-2021-Numpy-Pandas-Seaborn-main/data/auto1.csv', index_col='name')\n",
    "df1.head()"
   ],
   "metadata": {
    "collapsed": false,
    "pycharm": {
     "name": "#%%\n"
    }
   }
  },
  {
   "cell_type": "code",
   "execution_count": 326,
   "outputs": [
    {
     "data": {
      "text/plain": "                        name  mpg  cylinders  displacement  horsepower\n0  chevrolet chevelle malibu   18        8.0         307.0       130.0\n1          buick skylark 320   15        NaN         350.0       165.0\n2         plymouth satellite   18        8.0         318.0         NaN\n3              amc rebel sst   16        8.0         304.0       150.0\n4                ford torino   17        8.0         302.0       140.0",
      "text/html": "<div>\n<style scoped>\n    .dataframe tbody tr th:only-of-type {\n        vertical-align: middle;\n    }\n\n    .dataframe tbody tr th {\n        vertical-align: top;\n    }\n\n    .dataframe thead th {\n        text-align: right;\n    }\n</style>\n<table border=\"1\" class=\"dataframe\">\n  <thead>\n    <tr style=\"text-align: right;\">\n      <th></th>\n      <th>name</th>\n      <th>mpg</th>\n      <th>cylinders</th>\n      <th>displacement</th>\n      <th>horsepower</th>\n    </tr>\n  </thead>\n  <tbody>\n    <tr>\n      <th>0</th>\n      <td>chevrolet chevelle malibu</td>\n      <td>18</td>\n      <td>8.0</td>\n      <td>307.0</td>\n      <td>130.0</td>\n    </tr>\n    <tr>\n      <th>1</th>\n      <td>buick skylark 320</td>\n      <td>15</td>\n      <td>NaN</td>\n      <td>350.0</td>\n      <td>165.0</td>\n    </tr>\n    <tr>\n      <th>2</th>\n      <td>plymouth satellite</td>\n      <td>18</td>\n      <td>8.0</td>\n      <td>318.0</td>\n      <td>NaN</td>\n    </tr>\n    <tr>\n      <th>3</th>\n      <td>amc rebel sst</td>\n      <td>16</td>\n      <td>8.0</td>\n      <td>304.0</td>\n      <td>150.0</td>\n    </tr>\n    <tr>\n      <th>4</th>\n      <td>ford torino</td>\n      <td>17</td>\n      <td>8.0</td>\n      <td>302.0</td>\n      <td>140.0</td>\n    </tr>\n  </tbody>\n</table>\n</div>"
     },
     "execution_count": 326,
     "metadata": {},
     "output_type": "execute_result"
    }
   ],
   "source": [
    "df3 = pd.read_csv('Python-Bootcamp-for-Data-Science-2021-Numpy-Pandas-Seaborn-main/data/auto3.csv')\n",
    "df3.head()"
   ],
   "metadata": {
    "collapsed": false,
    "pycharm": {
     "name": "#%%\n"
    }
   }
  },
  {
   "cell_type": "code",
   "execution_count": 328,
   "outputs": [
    {
     "data": {
      "text/plain": "name            False\nmpg             False\ncylinders        True\ndisplacement    False\nhorsepower       True\ndtype: bool"
     },
     "execution_count": 328,
     "metadata": {},
     "output_type": "execute_result"
    }
   ],
   "source": [
    "df3.isnull().any()"
   ],
   "metadata": {
    "collapsed": false,
    "pycharm": {
     "name": "#%%\n"
    }
   }
  },
  {
   "cell_type": "code",
   "execution_count": 336,
   "outputs": [
    {
     "data": {
      "text/plain": "Country\nChina             1440297825\nIndia             1382345085\nUnited States      331341050\nIndonesia          274021604\nPakistan           221612785\nBrazil             212821986\nNigeria            206984347\nBangladesh         164972348\nRussia             145945524\nMexico             129166028\nJapan              126407422\nEthiopia           115434444\nPhilippines        109830324\nEgypt              102659126\nVietnam             97490013\nDR Congo            90003954\nTurkey              84495243\nIran                84176929\nGermany             83830972\nThailand            69830779\nUnited Kingdom      67948282\nFrance              65298930\nItaly               60446035\nTanzania            60012400\nSouth Africa        59436725\nMyanmar             54473253\nKenya               53968739\nSouth Korea         51276977\nColombia            50976248\nSpain               46757980\nUganda              45974931\nArgentina           45267449\nAlgeria             43984569\nSudan               44019263\nUkraine             43686577\nIraq                40372771\nAfghanistan         39074280\nPoland              37839255\nCanada              37799407\nMorocco             36985624\nSaudi Arabia        34905942\nUzbekistan          33551824\nPeru                33050211\nAngola              33032075\nMalaysia            32436963\nMozambique          31398811\nGhana               31181428\nYemen               29935468\nNepal               29225196\nName: Population, dtype: int64"
     },
     "execution_count": 336,
     "metadata": {},
     "output_type": "execute_result"
    }
   ],
   "source": [
    "pop = pd.read_csv('Python-Bootcamp-for-Data-Science-2021-Numpy-Pandas-Seaborn-main/data/population.csv', index_col='Country')\n",
    "pop.head()\n",
    "pop['Population'].sort_values\n",
    "pop['Population'].count()\n",
    "pop.Population"
   ],
   "metadata": {
    "collapsed": false,
    "pycharm": {
     "name": "#%%\n"
    }
   }
  },
  {
   "cell_type": "code",
   "execution_count": 337,
   "outputs": [],
   "source": [
    "pop['Density'] = pop['Population']/pop['Area']"
   ],
   "metadata": {
    "collapsed": false,
    "pycharm": {
     "name": "#%%\n"
    }
   }
  },
  {
   "cell_type": "code",
   "execution_count": 339,
   "outputs": [
    {
     "data": {
      "text/plain": "                Population      Area World_Share      Density\nCountry                                                      \nCanada            37799407   9093510       0.48%     4.156746\nRussia           145945524  16376870       1.87%     8.911686\nSaudi Arabia      34905942   2149690       0.45%    16.237663\nArgentina         45267449   2736690       0.58%    16.540949\nAlgeria           43984569   2381740       0.56%    18.467410\nSudan             44019263   1765048       0.56%    24.939414\nBrazil           212821986   8358140       2.73%    25.462841\nPeru              33050211   1280000       0.42%    25.820477\nAngola            33032075   1246700       0.42%    26.495608\nUnited States    331341050   9147420       4.25%    36.222350\nDR Congo          90003954   2267050       1.15%    39.700913\nMozambique        31398811    786380       0.40%    39.928293\nColombia          50976248   1109500       0.65%    45.945244\nSouth Africa      59436725   1213090       0.76%    48.996138\nIran              84176929   1628550       1.08%    51.688268\nYemen             29935468    527970       0.38%    56.699184\nAfghanistan       39074280    652860       0.50%    59.850933\nMexico           129166028   1943950       1.65%    66.445139\nTanzania          60012400    885800       0.77%    67.749379\nUkraine           43686577    579320       0.56%    75.410096\nUzbekistan        33551824    425400       0.43%    78.871236\nMorocco           36985624    446300       0.47%    82.871665\nMyanmar           54473253    653290       0.70%    83.382959\nIraq              40372771    434320       0.52%    92.956279\nSpain             46757980    498800       0.60%    93.740938\nKenya             53968739    569140       0.69%    94.825068\nMalaysia          32436963    328550       0.42%    98.727630\nEgypt            102659126    995450       1.31%   103.128360\nTurkey            84495243    769630       1.08%   109.786837\nEthiopia         115434444   1000000       1.47%   115.434444\nFrance            65298930    547557       0.84%   119.255036\nPoland            37839255    306230       0.49%   123.564821\nThailand          69830779    510890       0.90%   136.684568\nGhana             31181428    227540       0.40%   137.037128\nIndonesia        274021604   1811570       3.51%   151.261946\nChina           1440297825   9388211      18.47%   153.415579\nNepal             29225196    143350       0.37%   203.873010\nItaly             60446035    294140       0.78%   205.500901\nNigeria          206984347    910770       2.64%   227.263027\nUganda            45974931    199810       0.59%   230.093244\nGermany           83830972    348560       1.07%   240.506576\nUnited Kingdom    67948282    241930       0.87%   280.859265\nPakistan         221612785    770880       2.83%   287.480263\nVietnam           97490013    310070       1.25%   314.412916\nJapan            126407422    364555       1.62%   346.744447\nPhilippines      109830324    298170       1.41%   368.348003\nIndia           1382345085   2973190      17.70%   464.936679\nSouth Korea       51276977     97230       0.66%   527.378145\nBangladesh       164972348    130170       2.11%  1267.360744",
      "text/html": "<div>\n<style scoped>\n    .dataframe tbody tr th:only-of-type {\n        vertical-align: middle;\n    }\n\n    .dataframe tbody tr th {\n        vertical-align: top;\n    }\n\n    .dataframe thead th {\n        text-align: right;\n    }\n</style>\n<table border=\"1\" class=\"dataframe\">\n  <thead>\n    <tr style=\"text-align: right;\">\n      <th></th>\n      <th>Population</th>\n      <th>Area</th>\n      <th>World_Share</th>\n      <th>Density</th>\n    </tr>\n    <tr>\n      <th>Country</th>\n      <th></th>\n      <th></th>\n      <th></th>\n      <th></th>\n    </tr>\n  </thead>\n  <tbody>\n    <tr>\n      <th>Canada</th>\n      <td>37799407</td>\n      <td>9093510</td>\n      <td>0.48%</td>\n      <td>4.156746</td>\n    </tr>\n    <tr>\n      <th>Russia</th>\n      <td>145945524</td>\n      <td>16376870</td>\n      <td>1.87%</td>\n      <td>8.911686</td>\n    </tr>\n    <tr>\n      <th>Saudi Arabia</th>\n      <td>34905942</td>\n      <td>2149690</td>\n      <td>0.45%</td>\n      <td>16.237663</td>\n    </tr>\n    <tr>\n      <th>Argentina</th>\n      <td>45267449</td>\n      <td>2736690</td>\n      <td>0.58%</td>\n      <td>16.540949</td>\n    </tr>\n    <tr>\n      <th>Algeria</th>\n      <td>43984569</td>\n      <td>2381740</td>\n      <td>0.56%</td>\n      <td>18.467410</td>\n    </tr>\n    <tr>\n      <th>Sudan</th>\n      <td>44019263</td>\n      <td>1765048</td>\n      <td>0.56%</td>\n      <td>24.939414</td>\n    </tr>\n    <tr>\n      <th>Brazil</th>\n      <td>212821986</td>\n      <td>8358140</td>\n      <td>2.73%</td>\n      <td>25.462841</td>\n    </tr>\n    <tr>\n      <th>Peru</th>\n      <td>33050211</td>\n      <td>1280000</td>\n      <td>0.42%</td>\n      <td>25.820477</td>\n    </tr>\n    <tr>\n      <th>Angola</th>\n      <td>33032075</td>\n      <td>1246700</td>\n      <td>0.42%</td>\n      <td>26.495608</td>\n    </tr>\n    <tr>\n      <th>United States</th>\n      <td>331341050</td>\n      <td>9147420</td>\n      <td>4.25%</td>\n      <td>36.222350</td>\n    </tr>\n    <tr>\n      <th>DR Congo</th>\n      <td>90003954</td>\n      <td>2267050</td>\n      <td>1.15%</td>\n      <td>39.700913</td>\n    </tr>\n    <tr>\n      <th>Mozambique</th>\n      <td>31398811</td>\n      <td>786380</td>\n      <td>0.40%</td>\n      <td>39.928293</td>\n    </tr>\n    <tr>\n      <th>Colombia</th>\n      <td>50976248</td>\n      <td>1109500</td>\n      <td>0.65%</td>\n      <td>45.945244</td>\n    </tr>\n    <tr>\n      <th>South Africa</th>\n      <td>59436725</td>\n      <td>1213090</td>\n      <td>0.76%</td>\n      <td>48.996138</td>\n    </tr>\n    <tr>\n      <th>Iran</th>\n      <td>84176929</td>\n      <td>1628550</td>\n      <td>1.08%</td>\n      <td>51.688268</td>\n    </tr>\n    <tr>\n      <th>Yemen</th>\n      <td>29935468</td>\n      <td>527970</td>\n      <td>0.38%</td>\n      <td>56.699184</td>\n    </tr>\n    <tr>\n      <th>Afghanistan</th>\n      <td>39074280</td>\n      <td>652860</td>\n      <td>0.50%</td>\n      <td>59.850933</td>\n    </tr>\n    <tr>\n      <th>Mexico</th>\n      <td>129166028</td>\n      <td>1943950</td>\n      <td>1.65%</td>\n      <td>66.445139</td>\n    </tr>\n    <tr>\n      <th>Tanzania</th>\n      <td>60012400</td>\n      <td>885800</td>\n      <td>0.77%</td>\n      <td>67.749379</td>\n    </tr>\n    <tr>\n      <th>Ukraine</th>\n      <td>43686577</td>\n      <td>579320</td>\n      <td>0.56%</td>\n      <td>75.410096</td>\n    </tr>\n    <tr>\n      <th>Uzbekistan</th>\n      <td>33551824</td>\n      <td>425400</td>\n      <td>0.43%</td>\n      <td>78.871236</td>\n    </tr>\n    <tr>\n      <th>Morocco</th>\n      <td>36985624</td>\n      <td>446300</td>\n      <td>0.47%</td>\n      <td>82.871665</td>\n    </tr>\n    <tr>\n      <th>Myanmar</th>\n      <td>54473253</td>\n      <td>653290</td>\n      <td>0.70%</td>\n      <td>83.382959</td>\n    </tr>\n    <tr>\n      <th>Iraq</th>\n      <td>40372771</td>\n      <td>434320</td>\n      <td>0.52%</td>\n      <td>92.956279</td>\n    </tr>\n    <tr>\n      <th>Spain</th>\n      <td>46757980</td>\n      <td>498800</td>\n      <td>0.60%</td>\n      <td>93.740938</td>\n    </tr>\n    <tr>\n      <th>Kenya</th>\n      <td>53968739</td>\n      <td>569140</td>\n      <td>0.69%</td>\n      <td>94.825068</td>\n    </tr>\n    <tr>\n      <th>Malaysia</th>\n      <td>32436963</td>\n      <td>328550</td>\n      <td>0.42%</td>\n      <td>98.727630</td>\n    </tr>\n    <tr>\n      <th>Egypt</th>\n      <td>102659126</td>\n      <td>995450</td>\n      <td>1.31%</td>\n      <td>103.128360</td>\n    </tr>\n    <tr>\n      <th>Turkey</th>\n      <td>84495243</td>\n      <td>769630</td>\n      <td>1.08%</td>\n      <td>109.786837</td>\n    </tr>\n    <tr>\n      <th>Ethiopia</th>\n      <td>115434444</td>\n      <td>1000000</td>\n      <td>1.47%</td>\n      <td>115.434444</td>\n    </tr>\n    <tr>\n      <th>France</th>\n      <td>65298930</td>\n      <td>547557</td>\n      <td>0.84%</td>\n      <td>119.255036</td>\n    </tr>\n    <tr>\n      <th>Poland</th>\n      <td>37839255</td>\n      <td>306230</td>\n      <td>0.49%</td>\n      <td>123.564821</td>\n    </tr>\n    <tr>\n      <th>Thailand</th>\n      <td>69830779</td>\n      <td>510890</td>\n      <td>0.90%</td>\n      <td>136.684568</td>\n    </tr>\n    <tr>\n      <th>Ghana</th>\n      <td>31181428</td>\n      <td>227540</td>\n      <td>0.40%</td>\n      <td>137.037128</td>\n    </tr>\n    <tr>\n      <th>Indonesia</th>\n      <td>274021604</td>\n      <td>1811570</td>\n      <td>3.51%</td>\n      <td>151.261946</td>\n    </tr>\n    <tr>\n      <th>China</th>\n      <td>1440297825</td>\n      <td>9388211</td>\n      <td>18.47%</td>\n      <td>153.415579</td>\n    </tr>\n    <tr>\n      <th>Nepal</th>\n      <td>29225196</td>\n      <td>143350</td>\n      <td>0.37%</td>\n      <td>203.873010</td>\n    </tr>\n    <tr>\n      <th>Italy</th>\n      <td>60446035</td>\n      <td>294140</td>\n      <td>0.78%</td>\n      <td>205.500901</td>\n    </tr>\n    <tr>\n      <th>Nigeria</th>\n      <td>206984347</td>\n      <td>910770</td>\n      <td>2.64%</td>\n      <td>227.263027</td>\n    </tr>\n    <tr>\n      <th>Uganda</th>\n      <td>45974931</td>\n      <td>199810</td>\n      <td>0.59%</td>\n      <td>230.093244</td>\n    </tr>\n    <tr>\n      <th>Germany</th>\n      <td>83830972</td>\n      <td>348560</td>\n      <td>1.07%</td>\n      <td>240.506576</td>\n    </tr>\n    <tr>\n      <th>United Kingdom</th>\n      <td>67948282</td>\n      <td>241930</td>\n      <td>0.87%</td>\n      <td>280.859265</td>\n    </tr>\n    <tr>\n      <th>Pakistan</th>\n      <td>221612785</td>\n      <td>770880</td>\n      <td>2.83%</td>\n      <td>287.480263</td>\n    </tr>\n    <tr>\n      <th>Vietnam</th>\n      <td>97490013</td>\n      <td>310070</td>\n      <td>1.25%</td>\n      <td>314.412916</td>\n    </tr>\n    <tr>\n      <th>Japan</th>\n      <td>126407422</td>\n      <td>364555</td>\n      <td>1.62%</td>\n      <td>346.744447</td>\n    </tr>\n    <tr>\n      <th>Philippines</th>\n      <td>109830324</td>\n      <td>298170</td>\n      <td>1.41%</td>\n      <td>368.348003</td>\n    </tr>\n    <tr>\n      <th>India</th>\n      <td>1382345085</td>\n      <td>2973190</td>\n      <td>17.70%</td>\n      <td>464.936679</td>\n    </tr>\n    <tr>\n      <th>South Korea</th>\n      <td>51276977</td>\n      <td>97230</td>\n      <td>0.66%</td>\n      <td>527.378145</td>\n    </tr>\n    <tr>\n      <th>Bangladesh</th>\n      <td>164972348</td>\n      <td>130170</td>\n      <td>2.11%</td>\n      <td>1267.360744</td>\n    </tr>\n  </tbody>\n</table>\n</div>"
     },
     "execution_count": 339,
     "metadata": {},
     "output_type": "execute_result"
    }
   ],
   "source": [
    "pop.sort_values('Density', ascending=True)"
   ],
   "metadata": {
    "collapsed": false,
    "pycharm": {
     "name": "#%%\n"
    }
   }
  },
  {
   "cell_type": "code",
   "execution_count": 340,
   "outputs": [],
   "source": [
    "pop.to_csv('Python-Bootcamp-for-Data-Science-2021-Numpy-Pandas-Seaborn-main/data/Population2.csv')"
   ],
   "metadata": {
    "collapsed": false,
    "pycharm": {
     "name": "#%%\n"
    }
   }
  },
  {
   "cell_type": "code",
   "execution_count": 341,
   "outputs": [],
   "source": [
    "from os import listdir"
   ],
   "metadata": {
    "collapsed": false,
    "pycharm": {
     "name": "#%%\n"
    }
   }
  },
  {
   "cell_type": "code",
   "execution_count": 342,
   "outputs": [
    {
     "data": {
      "text/plain": "['housing3.csv',\n 'firstfigure3.svg',\n 'ex8.csv',\n 'ex11.csv',\n 'ex9.csv',\n 'firstfigure.svg',\n 'AirPassenger.csv',\n 'ex13.csv',\n 'firstfigure.png',\n 'auto3.csv',\n 'ex14.csv',\n 'ex3.csv',\n 'ex4.csv',\n 'series1.csv',\n 'housing.csv',\n 'ex6.csv',\n 'ex10.csv',\n 'ex17.csv',\n 'ex16.csv',\n 'ex15.csv',\n 'auto1.csv',\n 'boston.csv',\n 'ex7.csv',\n 'example1.xlsx',\n 'ex2.csv',\n 'Population2.csv',\n 'apple.csv',\n 'population.csv',\n 'firstfigure1.svg',\n 'auto2.csv',\n 'temperature.csv',\n 'sales.csv',\n 'ex12.csv',\n 'ex5.csv',\n 'credit.xlsx',\n 'credit.csv',\n 'wage.csv',\n 'ex1.csv',\n 'ex18.csv',\n 'Advertising.csv']"
     },
     "execution_count": 342,
     "metadata": {},
     "output_type": "execute_result"
    }
   ],
   "source": [
    "listdir('Python-Bootcamp-for-Data-Science-2021-Numpy-Pandas-Seaborn-main/data/')"
   ],
   "metadata": {
    "collapsed": false,
    "pycharm": {
     "name": "#%%\n"
    }
   }
  },
  {
   "cell_type": "code",
   "execution_count": 344,
   "outputs": [
    {
     "data": {
      "text/plain": "    Income  Limit  Rating  Cards  Age  Education  Gender Student Married  \\\n0   19.225   1433     122      3   38         14  Female      No      No   \n1   43.540   2906     232      4   69         11    Male      No      No   \n2  152.298  12066     828      4   41         12  Female      No     Yes   \n3   55.367   6340     448      1   33         15    Male      No     Yes   \n4   11.741   2271     182      4   59         12  Female      No      No   \n\n   Ethnicity  Balance  \n0  Caucasian        0  \n1  Caucasian        0  \n2      Asian     1779  \n3  Caucasian      815  \n4      Asian        0  ",
      "text/html": "<div>\n<style scoped>\n    .dataframe tbody tr th:only-of-type {\n        vertical-align: middle;\n    }\n\n    .dataframe tbody tr th {\n        vertical-align: top;\n    }\n\n    .dataframe thead th {\n        text-align: right;\n    }\n</style>\n<table border=\"1\" class=\"dataframe\">\n  <thead>\n    <tr style=\"text-align: right;\">\n      <th></th>\n      <th>Income</th>\n      <th>Limit</th>\n      <th>Rating</th>\n      <th>Cards</th>\n      <th>Age</th>\n      <th>Education</th>\n      <th>Gender</th>\n      <th>Student</th>\n      <th>Married</th>\n      <th>Ethnicity</th>\n      <th>Balance</th>\n    </tr>\n  </thead>\n  <tbody>\n    <tr>\n      <th>0</th>\n      <td>19.225</td>\n      <td>1433</td>\n      <td>122</td>\n      <td>3</td>\n      <td>38</td>\n      <td>14</td>\n      <td>Female</td>\n      <td>No</td>\n      <td>No</td>\n      <td>Caucasian</td>\n      <td>0</td>\n    </tr>\n    <tr>\n      <th>1</th>\n      <td>43.540</td>\n      <td>2906</td>\n      <td>232</td>\n      <td>4</td>\n      <td>69</td>\n      <td>11</td>\n      <td>Male</td>\n      <td>No</td>\n      <td>No</td>\n      <td>Caucasian</td>\n      <td>0</td>\n    </tr>\n    <tr>\n      <th>2</th>\n      <td>152.298</td>\n      <td>12066</td>\n      <td>828</td>\n      <td>4</td>\n      <td>41</td>\n      <td>12</td>\n      <td>Female</td>\n      <td>No</td>\n      <td>Yes</td>\n      <td>Asian</td>\n      <td>1779</td>\n    </tr>\n    <tr>\n      <th>3</th>\n      <td>55.367</td>\n      <td>6340</td>\n      <td>448</td>\n      <td>1</td>\n      <td>33</td>\n      <td>15</td>\n      <td>Male</td>\n      <td>No</td>\n      <td>Yes</td>\n      <td>Caucasian</td>\n      <td>815</td>\n    </tr>\n    <tr>\n      <th>4</th>\n      <td>11.741</td>\n      <td>2271</td>\n      <td>182</td>\n      <td>4</td>\n      <td>59</td>\n      <td>12</td>\n      <td>Female</td>\n      <td>No</td>\n      <td>No</td>\n      <td>Asian</td>\n      <td>0</td>\n    </tr>\n  </tbody>\n</table>\n</div>"
     },
     "execution_count": 344,
     "metadata": {},
     "output_type": "execute_result"
    }
   ],
   "source": [
    "data = pd.read_excel('Python-Bootcamp-for-Data-Science-2021-Numpy-Pandas-Seaborn-main/data/credit.xlsx')\n",
    "data.head()"
   ],
   "metadata": {
    "collapsed": false,
    "pycharm": {
     "name": "#%%\n"
    }
   }
  },
  {
   "cell_type": "code",
   "execution_count": 345,
   "outputs": [],
   "source": [
    "data_xls = pd.DataFrame(data, columns=(['Income','Limit']))"
   ],
   "metadata": {
    "collapsed": false,
    "pycharm": {
     "name": "#%%\n"
    }
   }
  },
  {
   "cell_type": "code",
   "execution_count": 346,
   "outputs": [
    {
     "data": {
      "text/plain": "     Income  Limit\n0    19.225   1433\n1    43.540   2906\n2   152.298  12066\n3    55.367   6340\n4    11.741   2271\n5    15.560   4307\n6    59.530   7518\n7    20.191   5767\n8    48.498   6040\n9    30.733   2832\n10   16.479   5435\n11   38.009   3075\n12   14.084    855\n13   14.312   5382\n14   26.067   3388\n15   36.295   2963\n16   83.851   8494\n17   21.153   3736\n18   17.976   2433\n19   68.713   7582\n20  146.183   9540\n21   15.846   4768\n22   12.031   3182\n23   16.819   1337\n24   39.110   3189\n25  107.986   6033\n26   13.561   3261\n27   34.537   3271\n28   28.575   2959\n29   46.007   6637\n30   69.251   6386\n31   16.482   3326\n32   40.442   4828\n33   35.177   2117\n34   91.362   9113\n35   27.039   2161\n36   23.012   1410\n37   27.241   1402\n38  148.080   8157\n39   62.602   7056\n40   11.808   1300\n41   29.564   2529\n42   27.578   2531\n43   26.427   5533\n44   57.202   3411\n45  123.299   8376\n46   18.145   3461\n47   23.793   3821\n48   10.726   1568\n49   23.283   5443",
      "text/html": "<div>\n<style scoped>\n    .dataframe tbody tr th:only-of-type {\n        vertical-align: middle;\n    }\n\n    .dataframe tbody tr th {\n        vertical-align: top;\n    }\n\n    .dataframe thead th {\n        text-align: right;\n    }\n</style>\n<table border=\"1\" class=\"dataframe\">\n  <thead>\n    <tr style=\"text-align: right;\">\n      <th></th>\n      <th>Income</th>\n      <th>Limit</th>\n    </tr>\n  </thead>\n  <tbody>\n    <tr>\n      <th>0</th>\n      <td>19.225</td>\n      <td>1433</td>\n    </tr>\n    <tr>\n      <th>1</th>\n      <td>43.540</td>\n      <td>2906</td>\n    </tr>\n    <tr>\n      <th>2</th>\n      <td>152.298</td>\n      <td>12066</td>\n    </tr>\n    <tr>\n      <th>3</th>\n      <td>55.367</td>\n      <td>6340</td>\n    </tr>\n    <tr>\n      <th>4</th>\n      <td>11.741</td>\n      <td>2271</td>\n    </tr>\n    <tr>\n      <th>5</th>\n      <td>15.560</td>\n      <td>4307</td>\n    </tr>\n    <tr>\n      <th>6</th>\n      <td>59.530</td>\n      <td>7518</td>\n    </tr>\n    <tr>\n      <th>7</th>\n      <td>20.191</td>\n      <td>5767</td>\n    </tr>\n    <tr>\n      <th>8</th>\n      <td>48.498</td>\n      <td>6040</td>\n    </tr>\n    <tr>\n      <th>9</th>\n      <td>30.733</td>\n      <td>2832</td>\n    </tr>\n    <tr>\n      <th>10</th>\n      <td>16.479</td>\n      <td>5435</td>\n    </tr>\n    <tr>\n      <th>11</th>\n      <td>38.009</td>\n      <td>3075</td>\n    </tr>\n    <tr>\n      <th>12</th>\n      <td>14.084</td>\n      <td>855</td>\n    </tr>\n    <tr>\n      <th>13</th>\n      <td>14.312</td>\n      <td>5382</td>\n    </tr>\n    <tr>\n      <th>14</th>\n      <td>26.067</td>\n      <td>3388</td>\n    </tr>\n    <tr>\n      <th>15</th>\n      <td>36.295</td>\n      <td>2963</td>\n    </tr>\n    <tr>\n      <th>16</th>\n      <td>83.851</td>\n      <td>8494</td>\n    </tr>\n    <tr>\n      <th>17</th>\n      <td>21.153</td>\n      <td>3736</td>\n    </tr>\n    <tr>\n      <th>18</th>\n      <td>17.976</td>\n      <td>2433</td>\n    </tr>\n    <tr>\n      <th>19</th>\n      <td>68.713</td>\n      <td>7582</td>\n    </tr>\n    <tr>\n      <th>20</th>\n      <td>146.183</td>\n      <td>9540</td>\n    </tr>\n    <tr>\n      <th>21</th>\n      <td>15.846</td>\n      <td>4768</td>\n    </tr>\n    <tr>\n      <th>22</th>\n      <td>12.031</td>\n      <td>3182</td>\n    </tr>\n    <tr>\n      <th>23</th>\n      <td>16.819</td>\n      <td>1337</td>\n    </tr>\n    <tr>\n      <th>24</th>\n      <td>39.110</td>\n      <td>3189</td>\n    </tr>\n    <tr>\n      <th>25</th>\n      <td>107.986</td>\n      <td>6033</td>\n    </tr>\n    <tr>\n      <th>26</th>\n      <td>13.561</td>\n      <td>3261</td>\n    </tr>\n    <tr>\n      <th>27</th>\n      <td>34.537</td>\n      <td>3271</td>\n    </tr>\n    <tr>\n      <th>28</th>\n      <td>28.575</td>\n      <td>2959</td>\n    </tr>\n    <tr>\n      <th>29</th>\n      <td>46.007</td>\n      <td>6637</td>\n    </tr>\n    <tr>\n      <th>30</th>\n      <td>69.251</td>\n      <td>6386</td>\n    </tr>\n    <tr>\n      <th>31</th>\n      <td>16.482</td>\n      <td>3326</td>\n    </tr>\n    <tr>\n      <th>32</th>\n      <td>40.442</td>\n      <td>4828</td>\n    </tr>\n    <tr>\n      <th>33</th>\n      <td>35.177</td>\n      <td>2117</td>\n    </tr>\n    <tr>\n      <th>34</th>\n      <td>91.362</td>\n      <td>9113</td>\n    </tr>\n    <tr>\n      <th>35</th>\n      <td>27.039</td>\n      <td>2161</td>\n    </tr>\n    <tr>\n      <th>36</th>\n      <td>23.012</td>\n      <td>1410</td>\n    </tr>\n    <tr>\n      <th>37</th>\n      <td>27.241</td>\n      <td>1402</td>\n    </tr>\n    <tr>\n      <th>38</th>\n      <td>148.080</td>\n      <td>8157</td>\n    </tr>\n    <tr>\n      <th>39</th>\n      <td>62.602</td>\n      <td>7056</td>\n    </tr>\n    <tr>\n      <th>40</th>\n      <td>11.808</td>\n      <td>1300</td>\n    </tr>\n    <tr>\n      <th>41</th>\n      <td>29.564</td>\n      <td>2529</td>\n    </tr>\n    <tr>\n      <th>42</th>\n      <td>27.578</td>\n      <td>2531</td>\n    </tr>\n    <tr>\n      <th>43</th>\n      <td>26.427</td>\n      <td>5533</td>\n    </tr>\n    <tr>\n      <th>44</th>\n      <td>57.202</td>\n      <td>3411</td>\n    </tr>\n    <tr>\n      <th>45</th>\n      <td>123.299</td>\n      <td>8376</td>\n    </tr>\n    <tr>\n      <th>46</th>\n      <td>18.145</td>\n      <td>3461</td>\n    </tr>\n    <tr>\n      <th>47</th>\n      <td>23.793</td>\n      <td>3821</td>\n    </tr>\n    <tr>\n      <th>48</th>\n      <td>10.726</td>\n      <td>1568</td>\n    </tr>\n    <tr>\n      <th>49</th>\n      <td>23.283</td>\n      <td>5443</td>\n    </tr>\n  </tbody>\n</table>\n</div>"
     },
     "execution_count": 346,
     "metadata": {},
     "output_type": "execute_result"
    }
   ],
   "source": [
    "data_xls"
   ],
   "metadata": {
    "collapsed": false,
    "pycharm": {
     "name": "#%%\n"
    }
   }
  },
  {
   "cell_type": "code",
   "execution_count": 349,
   "outputs": [
    {
     "ename": "ValueError",
     "evalue": "No axis named Female for object type DataFrame",
     "output_type": "error",
     "traceback": [
      "\u001B[0;31m---------------------------------------------------------------------------\u001B[0m",
      "\u001B[0;31mKeyError\u001B[0m                                  Traceback (most recent call last)",
      "File \u001B[0;32m~/anaconda3/envs/DataScience/lib/python3.10/site-packages/pandas/core/generic.py:550\u001B[0m, in \u001B[0;36mNDFrame._get_axis_number\u001B[0;34m(cls, axis)\u001B[0m\n\u001B[1;32m    549\u001B[0m \u001B[38;5;28;01mtry\u001B[39;00m:\n\u001B[0;32m--> 550\u001B[0m     \u001B[38;5;28;01mreturn\u001B[39;00m \u001B[38;5;28;43mcls\u001B[39;49m\u001B[38;5;241;43m.\u001B[39;49m\u001B[43m_AXIS_TO_AXIS_NUMBER\u001B[49m\u001B[43m[\u001B[49m\u001B[43maxis\u001B[49m\u001B[43m]\u001B[49m\n\u001B[1;32m    551\u001B[0m \u001B[38;5;28;01mexcept\u001B[39;00m \u001B[38;5;167;01mKeyError\u001B[39;00m:\n",
      "\u001B[0;31mKeyError\u001B[0m: 'Female'",
      "\nDuring handling of the above exception, another exception occurred:\n",
      "\u001B[0;31mValueError\u001B[0m                                Traceback (most recent call last)",
      "Input \u001B[0;32mIn [349]\u001B[0m, in \u001B[0;36m<cell line: 1>\u001B[0;34m()\u001B[0m\n\u001B[0;32m----> 1\u001B[0m \u001B[43mdata\u001B[49m\u001B[38;5;241;43m.\u001B[39;49m\u001B[43mloc\u001B[49m\u001B[43m(\u001B[49m\u001B[38;5;124;43m'\u001B[39;49m\u001B[38;5;124;43mFemale\u001B[39;49m\u001B[38;5;124;43m'\u001B[39;49m\u001B[43m)\u001B[49m\n",
      "File \u001B[0;32m~/anaconda3/envs/DataScience/lib/python3.10/site-packages/pandas/core/indexing.py:634\u001B[0m, in \u001B[0;36m_LocationIndexer.__call__\u001B[0;34m(self, axis)\u001B[0m\n\u001B[1;32m    631\u001B[0m new_self \u001B[38;5;241m=\u001B[39m \u001B[38;5;28mtype\u001B[39m(\u001B[38;5;28mself\u001B[39m)(\u001B[38;5;28mself\u001B[39m\u001B[38;5;241m.\u001B[39mname, \u001B[38;5;28mself\u001B[39m\u001B[38;5;241m.\u001B[39mobj)\n\u001B[1;32m    633\u001B[0m \u001B[38;5;28;01mif\u001B[39;00m axis \u001B[38;5;129;01mis\u001B[39;00m \u001B[38;5;129;01mnot\u001B[39;00m \u001B[38;5;28;01mNone\u001B[39;00m:\n\u001B[0;32m--> 634\u001B[0m     axis \u001B[38;5;241m=\u001B[39m \u001B[38;5;28;43mself\u001B[39;49m\u001B[38;5;241;43m.\u001B[39;49m\u001B[43mobj\u001B[49m\u001B[38;5;241;43m.\u001B[39;49m\u001B[43m_get_axis_number\u001B[49m\u001B[43m(\u001B[49m\u001B[43maxis\u001B[49m\u001B[43m)\u001B[49m\n\u001B[1;32m    635\u001B[0m new_self\u001B[38;5;241m.\u001B[39maxis \u001B[38;5;241m=\u001B[39m axis\n\u001B[1;32m    636\u001B[0m \u001B[38;5;28;01mreturn\u001B[39;00m new_self\n",
      "File \u001B[0;32m~/anaconda3/envs/DataScience/lib/python3.10/site-packages/pandas/core/generic.py:552\u001B[0m, in \u001B[0;36mNDFrame._get_axis_number\u001B[0;34m(cls, axis)\u001B[0m\n\u001B[1;32m    550\u001B[0m     \u001B[38;5;28;01mreturn\u001B[39;00m \u001B[38;5;28mcls\u001B[39m\u001B[38;5;241m.\u001B[39m_AXIS_TO_AXIS_NUMBER[axis]\n\u001B[1;32m    551\u001B[0m \u001B[38;5;28;01mexcept\u001B[39;00m \u001B[38;5;167;01mKeyError\u001B[39;00m:\n\u001B[0;32m--> 552\u001B[0m     \u001B[38;5;28;01mraise\u001B[39;00m \u001B[38;5;167;01mValueError\u001B[39;00m(\u001B[38;5;124mf\u001B[39m\u001B[38;5;124m\"\u001B[39m\u001B[38;5;124mNo axis named \u001B[39m\u001B[38;5;132;01m{\u001B[39;00maxis\u001B[38;5;132;01m}\u001B[39;00m\u001B[38;5;124m for object type \u001B[39m\u001B[38;5;132;01m{\u001B[39;00m\u001B[38;5;28mcls\u001B[39m\u001B[38;5;241m.\u001B[39m\u001B[38;5;18m__name__\u001B[39m\u001B[38;5;132;01m}\u001B[39;00m\u001B[38;5;124m\"\u001B[39m)\n",
      "\u001B[0;31mValueError\u001B[0m: No axis named Female for object type DataFrame"
     ]
    }
   ],
   "source": [
    "data.loc('Female')"
   ],
   "metadata": {
    "collapsed": false,
    "pycharm": {
     "name": "#%%\n"
    }
   }
  },
  {
   "cell_type": "code",
   "execution_count": 351,
   "outputs": [],
   "source": [
    "df2 = data.loc[data['Gender'] == 'Female']"
   ],
   "metadata": {
    "collapsed": false,
    "pycharm": {
     "name": "#%%\n"
    }
   }
  },
  {
   "cell_type": "code",
   "execution_count": 352,
   "outputs": [
    {
     "data": {
      "text/plain": "     Income  Limit  Rating  Cards  Age  Education  Gender Student Married  \\\n0    19.225   1433     122      3   38         14  Female      No      No   \n2   152.298  12066     828      4   41         12  Female      No     Yes   \n4    11.741   2271     182      4   59         12  Female      No      No   \n6    59.530   7518     543      3   52          9  Female      No      No   \n11   38.009   3075     245      3   45         15  Female      No      No   \n12   14.084    855     120      5   46         17  Female      No     Yes   \n14   26.067   3388     266      4   74         17  Female      No     Yes   \n15   36.295   2963     241      2   68         14  Female     Yes      No   \n18   17.976   2433     190      3   70         16  Female     Yes      No   \n21   15.846   4768     365      4   53         12  Female      No      No   \n22   12.031   3182     259      2   58         18  Female      No     Yes   \n27   34.537   3271     250      3   57         17  Female      No     Yes   \n28   28.575   2959     231      2   60         11  Female      No      No   \n30   69.251   6386     474      4   30         12  Female      No     Yes   \n32   40.442   4828     369      5   81          8  Female      No      No   \n33   35.177   2117     186      3   62         16  Female      No      No   \n35   27.039   2161     173      3   40         17  Female      No      No   \n37   27.241   1402     128      2   67         15  Female      No     Yes   \n39   62.602   7056     481      1   84         11  Female      No      No   \n40   11.808   1300     117      3   77         14  Female      No      No   \n41   29.564   2529     192      1   30         12  Female      No     Yes   \n42   27.578   2531     195      1   34         15  Female      No     Yes   \n43   26.427   5533     433      5   50         15  Female     Yes     Yes   \n44   57.202   3411     259      3   72         11  Female      No      No   \n47   23.793   3821     281      4   56         12  Female     Yes     Yes   \n\n           Ethnicity  Balance  \n0          Caucasian        0  \n2              Asian     1779  \n4              Asian        0  \n6   African American     1176  \n11  African American        0  \n12  African American        0  \n14  African American      155  \n15  African American      375  \n18         Caucasian      431  \n21         Caucasian      745  \n22         Caucasian      210  \n27             Asian       47  \n28  African American        0  \n30             Asian      768  \n32  African American      510  \n33         Caucasian        0  \n35         Caucasian        0  \n37             Asian        0  \n39         Caucasian      904  \n40  African American        0  \n41         Caucasian        0  \n42         Caucasian        0  \n43             Asian     1404  \n44         Caucasian        0  \n47  African American      868  ",
      "text/html": "<div>\n<style scoped>\n    .dataframe tbody tr th:only-of-type {\n        vertical-align: middle;\n    }\n\n    .dataframe tbody tr th {\n        vertical-align: top;\n    }\n\n    .dataframe thead th {\n        text-align: right;\n    }\n</style>\n<table border=\"1\" class=\"dataframe\">\n  <thead>\n    <tr style=\"text-align: right;\">\n      <th></th>\n      <th>Income</th>\n      <th>Limit</th>\n      <th>Rating</th>\n      <th>Cards</th>\n      <th>Age</th>\n      <th>Education</th>\n      <th>Gender</th>\n      <th>Student</th>\n      <th>Married</th>\n      <th>Ethnicity</th>\n      <th>Balance</th>\n    </tr>\n  </thead>\n  <tbody>\n    <tr>\n      <th>0</th>\n      <td>19.225</td>\n      <td>1433</td>\n      <td>122</td>\n      <td>3</td>\n      <td>38</td>\n      <td>14</td>\n      <td>Female</td>\n      <td>No</td>\n      <td>No</td>\n      <td>Caucasian</td>\n      <td>0</td>\n    </tr>\n    <tr>\n      <th>2</th>\n      <td>152.298</td>\n      <td>12066</td>\n      <td>828</td>\n      <td>4</td>\n      <td>41</td>\n      <td>12</td>\n      <td>Female</td>\n      <td>No</td>\n      <td>Yes</td>\n      <td>Asian</td>\n      <td>1779</td>\n    </tr>\n    <tr>\n      <th>4</th>\n      <td>11.741</td>\n      <td>2271</td>\n      <td>182</td>\n      <td>4</td>\n      <td>59</td>\n      <td>12</td>\n      <td>Female</td>\n      <td>No</td>\n      <td>No</td>\n      <td>Asian</td>\n      <td>0</td>\n    </tr>\n    <tr>\n      <th>6</th>\n      <td>59.530</td>\n      <td>7518</td>\n      <td>543</td>\n      <td>3</td>\n      <td>52</td>\n      <td>9</td>\n      <td>Female</td>\n      <td>No</td>\n      <td>No</td>\n      <td>African American</td>\n      <td>1176</td>\n    </tr>\n    <tr>\n      <th>11</th>\n      <td>38.009</td>\n      <td>3075</td>\n      <td>245</td>\n      <td>3</td>\n      <td>45</td>\n      <td>15</td>\n      <td>Female</td>\n      <td>No</td>\n      <td>No</td>\n      <td>African American</td>\n      <td>0</td>\n    </tr>\n    <tr>\n      <th>12</th>\n      <td>14.084</td>\n      <td>855</td>\n      <td>120</td>\n      <td>5</td>\n      <td>46</td>\n      <td>17</td>\n      <td>Female</td>\n      <td>No</td>\n      <td>Yes</td>\n      <td>African American</td>\n      <td>0</td>\n    </tr>\n    <tr>\n      <th>14</th>\n      <td>26.067</td>\n      <td>3388</td>\n      <td>266</td>\n      <td>4</td>\n      <td>74</td>\n      <td>17</td>\n      <td>Female</td>\n      <td>No</td>\n      <td>Yes</td>\n      <td>African American</td>\n      <td>155</td>\n    </tr>\n    <tr>\n      <th>15</th>\n      <td>36.295</td>\n      <td>2963</td>\n      <td>241</td>\n      <td>2</td>\n      <td>68</td>\n      <td>14</td>\n      <td>Female</td>\n      <td>Yes</td>\n      <td>No</td>\n      <td>African American</td>\n      <td>375</td>\n    </tr>\n    <tr>\n      <th>18</th>\n      <td>17.976</td>\n      <td>2433</td>\n      <td>190</td>\n      <td>3</td>\n      <td>70</td>\n      <td>16</td>\n      <td>Female</td>\n      <td>Yes</td>\n      <td>No</td>\n      <td>Caucasian</td>\n      <td>431</td>\n    </tr>\n    <tr>\n      <th>21</th>\n      <td>15.846</td>\n      <td>4768</td>\n      <td>365</td>\n      <td>4</td>\n      <td>53</td>\n      <td>12</td>\n      <td>Female</td>\n      <td>No</td>\n      <td>No</td>\n      <td>Caucasian</td>\n      <td>745</td>\n    </tr>\n    <tr>\n      <th>22</th>\n      <td>12.031</td>\n      <td>3182</td>\n      <td>259</td>\n      <td>2</td>\n      <td>58</td>\n      <td>18</td>\n      <td>Female</td>\n      <td>No</td>\n      <td>Yes</td>\n      <td>Caucasian</td>\n      <td>210</td>\n    </tr>\n    <tr>\n      <th>27</th>\n      <td>34.537</td>\n      <td>3271</td>\n      <td>250</td>\n      <td>3</td>\n      <td>57</td>\n      <td>17</td>\n      <td>Female</td>\n      <td>No</td>\n      <td>Yes</td>\n      <td>Asian</td>\n      <td>47</td>\n    </tr>\n    <tr>\n      <th>28</th>\n      <td>28.575</td>\n      <td>2959</td>\n      <td>231</td>\n      <td>2</td>\n      <td>60</td>\n      <td>11</td>\n      <td>Female</td>\n      <td>No</td>\n      <td>No</td>\n      <td>African American</td>\n      <td>0</td>\n    </tr>\n    <tr>\n      <th>30</th>\n      <td>69.251</td>\n      <td>6386</td>\n      <td>474</td>\n      <td>4</td>\n      <td>30</td>\n      <td>12</td>\n      <td>Female</td>\n      <td>No</td>\n      <td>Yes</td>\n      <td>Asian</td>\n      <td>768</td>\n    </tr>\n    <tr>\n      <th>32</th>\n      <td>40.442</td>\n      <td>4828</td>\n      <td>369</td>\n      <td>5</td>\n      <td>81</td>\n      <td>8</td>\n      <td>Female</td>\n      <td>No</td>\n      <td>No</td>\n      <td>African American</td>\n      <td>510</td>\n    </tr>\n    <tr>\n      <th>33</th>\n      <td>35.177</td>\n      <td>2117</td>\n      <td>186</td>\n      <td>3</td>\n      <td>62</td>\n      <td>16</td>\n      <td>Female</td>\n      <td>No</td>\n      <td>No</td>\n      <td>Caucasian</td>\n      <td>0</td>\n    </tr>\n    <tr>\n      <th>35</th>\n      <td>27.039</td>\n      <td>2161</td>\n      <td>173</td>\n      <td>3</td>\n      <td>40</td>\n      <td>17</td>\n      <td>Female</td>\n      <td>No</td>\n      <td>No</td>\n      <td>Caucasian</td>\n      <td>0</td>\n    </tr>\n    <tr>\n      <th>37</th>\n      <td>27.241</td>\n      <td>1402</td>\n      <td>128</td>\n      <td>2</td>\n      <td>67</td>\n      <td>15</td>\n      <td>Female</td>\n      <td>No</td>\n      <td>Yes</td>\n      <td>Asian</td>\n      <td>0</td>\n    </tr>\n    <tr>\n      <th>39</th>\n      <td>62.602</td>\n      <td>7056</td>\n      <td>481</td>\n      <td>1</td>\n      <td>84</td>\n      <td>11</td>\n      <td>Female</td>\n      <td>No</td>\n      <td>No</td>\n      <td>Caucasian</td>\n      <td>904</td>\n    </tr>\n    <tr>\n      <th>40</th>\n      <td>11.808</td>\n      <td>1300</td>\n      <td>117</td>\n      <td>3</td>\n      <td>77</td>\n      <td>14</td>\n      <td>Female</td>\n      <td>No</td>\n      <td>No</td>\n      <td>African American</td>\n      <td>0</td>\n    </tr>\n    <tr>\n      <th>41</th>\n      <td>29.564</td>\n      <td>2529</td>\n      <td>192</td>\n      <td>1</td>\n      <td>30</td>\n      <td>12</td>\n      <td>Female</td>\n      <td>No</td>\n      <td>Yes</td>\n      <td>Caucasian</td>\n      <td>0</td>\n    </tr>\n    <tr>\n      <th>42</th>\n      <td>27.578</td>\n      <td>2531</td>\n      <td>195</td>\n      <td>1</td>\n      <td>34</td>\n      <td>15</td>\n      <td>Female</td>\n      <td>No</td>\n      <td>Yes</td>\n      <td>Caucasian</td>\n      <td>0</td>\n    </tr>\n    <tr>\n      <th>43</th>\n      <td>26.427</td>\n      <td>5533</td>\n      <td>433</td>\n      <td>5</td>\n      <td>50</td>\n      <td>15</td>\n      <td>Female</td>\n      <td>Yes</td>\n      <td>Yes</td>\n      <td>Asian</td>\n      <td>1404</td>\n    </tr>\n    <tr>\n      <th>44</th>\n      <td>57.202</td>\n      <td>3411</td>\n      <td>259</td>\n      <td>3</td>\n      <td>72</td>\n      <td>11</td>\n      <td>Female</td>\n      <td>No</td>\n      <td>No</td>\n      <td>Caucasian</td>\n      <td>0</td>\n    </tr>\n    <tr>\n      <th>47</th>\n      <td>23.793</td>\n      <td>3821</td>\n      <td>281</td>\n      <td>4</td>\n      <td>56</td>\n      <td>12</td>\n      <td>Female</td>\n      <td>Yes</td>\n      <td>Yes</td>\n      <td>African American</td>\n      <td>868</td>\n    </tr>\n  </tbody>\n</table>\n</div>"
     },
     "execution_count": 352,
     "metadata": {},
     "output_type": "execute_result"
    }
   ],
   "source": [
    "df2"
   ],
   "metadata": {
    "collapsed": false,
    "pycharm": {
     "name": "#%%\n"
    }
   }
  },
  {
   "cell_type": "code",
   "execution_count": 353,
   "outputs": [
    {
     "data": {
      "text/plain": "36.17351999999999"
     },
     "execution_count": 353,
     "metadata": {},
     "output_type": "execute_result"
    }
   ],
   "source": [
    "df2['Income'].mean()"
   ],
   "metadata": {
    "collapsed": false,
    "pycharm": {
     "name": "#%%\n"
    }
   }
  },
  {
   "cell_type": "code",
   "execution_count": 355,
   "outputs": [
    {
     "data": {
      "text/plain": "     Income  Limit  Rating  Cards  Age  Education  Gender Student Married  \\\n0    19.225   1433     122      3   38         14  Female      No      No   \n1    43.540   2906     232      4   69         11    Male      No      No   \n2   152.298  12066     828      4   41         12  Female      No     Yes   \n3    55.367   6340     448      1   33         15    Male      No     Yes   \n4    11.741   2271     182      4   59         12  Female      No      No   \n5    15.560   4307     352      4   57          8    Male      No     Yes   \n6    59.530   7518     543      3   52          9  Female      No      No   \n7    20.191   5767     431      4   42         16    Male      No     Yes   \n8    48.498   6040     456      3   47         16    Male      No     Yes   \n9    30.733   2832     249      4   51         13    Male      No      No   \n10   16.479   5435     388      2   26         16    Male      No      No   \n11   38.009   3075     245      3   45         15  Female      No      No   \n12   14.084    855     120      5   46         17  Female      No     Yes   \n13   14.312   5382     367      1   59         17    Male     Yes      No   \n14   26.067   3388     266      4   74         17  Female      No     Yes   \n15   36.295   2963     241      2   68         14  Female     Yes      No   \n16   83.851   8494     607      5   47         18    Male      No      No   \n17   21.153   3736     256      1   41         11    Male      No      No   \n18   17.976   2433     190      3   70         16  Female     Yes      No   \n19   68.713   7582     531      2   56         16    Male     Yes      No   \n20  146.183   9540     682      6   66         15    Male      No      No   \n21   15.846   4768     365      4   53         12  Female      No      No   \n22   12.031   3182     259      2   58         18  Female      No     Yes   \n23   16.819   1337     115      2   74         15    Male      No     Yes   \n24   39.110   3189     263      3   72         12    Male      No      No   \n25  107.986   6033     449      4   64         14    Male      No     Yes   \n26   13.561   3261     279      5   37         19    Male      No     Yes   \n27   34.537   3271     250      3   57         17  Female      No     Yes   \n28   28.575   2959     231      2   60         11  Female      No      No   \n29   46.007   6637     491      4   42         14    Male      No     Yes   \n30   69.251   6386     474      4   30         12  Female      No     Yes   \n31   16.482   3326     268      4   41         15    Male      No      No   \n32   40.442   4828     369      5   81          8  Female      No      No   \n33   35.177   2117     186      3   62         16  Female      No      No   \n34   91.362   9113     626      1   47         17    Male      No     Yes   \n35   27.039   2161     173      3   40         17  Female      No      No   \n36   23.012   1410     137      3   81         16    Male      No      No   \n37   27.241   1402     128      2   67         15  Female      No     Yes   \n38  148.080   8157     599      2   83         13    Male      No     Yes   \n39   62.602   7056     481      1   84         11  Female      No      No   \n40   11.808   1300     117      3   77         14  Female      No      No   \n41   29.564   2529     192      1   30         12  Female      No     Yes   \n42   27.578   2531     195      1   34         15  Female      No     Yes   \n43   26.427   5533     433      5   50         15  Female     Yes     Yes   \n44   57.202   3411     259      3   72         11  Female      No      No   \n45  123.299   8376     610      2   89         17    Male     Yes      No   \n46   18.145   3461     279      3   56         15    Male      No     Yes   \n47   23.793   3821     281      4   56         12  Female     Yes     Yes   \n48   10.726   1568     162      5   46         19    Male      No     Yes   \n49   23.283   5443     407      4   49         13    Male      No     Yes   \n\n           Ethnicity  Balance  \n0          Caucasian        0  \n1          Caucasian        0  \n2              Asian     1779  \n3          Caucasian      815  \n4              Asian        0  \n5   African American      579  \n6   African American     1176  \n7   African American     1023  \n8          Caucasian      812  \n9          Caucasian        0  \n10  African American      937  \n11  African American        0  \n12  African American        0  \n13             Asian     1380  \n14  African American      155  \n15  African American      375  \n16         Caucasian     1311  \n17         Caucasian      298  \n18         Caucasian      431  \n19         Caucasian     1587  \n20         Caucasian     1050  \n21         Caucasian      745  \n22         Caucasian      210  \n23             Asian        0  \n24             Asian        0  \n25         Caucasian      227  \n26             Asian      297  \n27             Asian       47  \n28  African American        0  \n29         Caucasian     1046  \n30             Asian      768  \n31         Caucasian      271  \n32  African American      510  \n33         Caucasian        0  \n34             Asian     1341  \n35         Caucasian        0  \n36         Caucasian        0  \n37             Asian        0  \n38         Caucasian      454  \n39         Caucasian      904  \n40  African American        0  \n41         Caucasian        0  \n42         Caucasian        0  \n43             Asian     1404  \n44         Caucasian        0  \n45  African American     1259  \n46  African American      255  \n47  African American      868  \n48             Asian        0  \n49  African American      912  ",
      "text/html": "<div>\n<style scoped>\n    .dataframe tbody tr th:only-of-type {\n        vertical-align: middle;\n    }\n\n    .dataframe tbody tr th {\n        vertical-align: top;\n    }\n\n    .dataframe thead th {\n        text-align: right;\n    }\n</style>\n<table border=\"1\" class=\"dataframe\">\n  <thead>\n    <tr style=\"text-align: right;\">\n      <th></th>\n      <th>Income</th>\n      <th>Limit</th>\n      <th>Rating</th>\n      <th>Cards</th>\n      <th>Age</th>\n      <th>Education</th>\n      <th>Gender</th>\n      <th>Student</th>\n      <th>Married</th>\n      <th>Ethnicity</th>\n      <th>Balance</th>\n    </tr>\n  </thead>\n  <tbody>\n    <tr>\n      <th>0</th>\n      <td>19.225</td>\n      <td>1433</td>\n      <td>122</td>\n      <td>3</td>\n      <td>38</td>\n      <td>14</td>\n      <td>Female</td>\n      <td>No</td>\n      <td>No</td>\n      <td>Caucasian</td>\n      <td>0</td>\n    </tr>\n    <tr>\n      <th>1</th>\n      <td>43.540</td>\n      <td>2906</td>\n      <td>232</td>\n      <td>4</td>\n      <td>69</td>\n      <td>11</td>\n      <td>Male</td>\n      <td>No</td>\n      <td>No</td>\n      <td>Caucasian</td>\n      <td>0</td>\n    </tr>\n    <tr>\n      <th>2</th>\n      <td>152.298</td>\n      <td>12066</td>\n      <td>828</td>\n      <td>4</td>\n      <td>41</td>\n      <td>12</td>\n      <td>Female</td>\n      <td>No</td>\n      <td>Yes</td>\n      <td>Asian</td>\n      <td>1779</td>\n    </tr>\n    <tr>\n      <th>3</th>\n      <td>55.367</td>\n      <td>6340</td>\n      <td>448</td>\n      <td>1</td>\n      <td>33</td>\n      <td>15</td>\n      <td>Male</td>\n      <td>No</td>\n      <td>Yes</td>\n      <td>Caucasian</td>\n      <td>815</td>\n    </tr>\n    <tr>\n      <th>4</th>\n      <td>11.741</td>\n      <td>2271</td>\n      <td>182</td>\n      <td>4</td>\n      <td>59</td>\n      <td>12</td>\n      <td>Female</td>\n      <td>No</td>\n      <td>No</td>\n      <td>Asian</td>\n      <td>0</td>\n    </tr>\n    <tr>\n      <th>5</th>\n      <td>15.560</td>\n      <td>4307</td>\n      <td>352</td>\n      <td>4</td>\n      <td>57</td>\n      <td>8</td>\n      <td>Male</td>\n      <td>No</td>\n      <td>Yes</td>\n      <td>African American</td>\n      <td>579</td>\n    </tr>\n    <tr>\n      <th>6</th>\n      <td>59.530</td>\n      <td>7518</td>\n      <td>543</td>\n      <td>3</td>\n      <td>52</td>\n      <td>9</td>\n      <td>Female</td>\n      <td>No</td>\n      <td>No</td>\n      <td>African American</td>\n      <td>1176</td>\n    </tr>\n    <tr>\n      <th>7</th>\n      <td>20.191</td>\n      <td>5767</td>\n      <td>431</td>\n      <td>4</td>\n      <td>42</td>\n      <td>16</td>\n      <td>Male</td>\n      <td>No</td>\n      <td>Yes</td>\n      <td>African American</td>\n      <td>1023</td>\n    </tr>\n    <tr>\n      <th>8</th>\n      <td>48.498</td>\n      <td>6040</td>\n      <td>456</td>\n      <td>3</td>\n      <td>47</td>\n      <td>16</td>\n      <td>Male</td>\n      <td>No</td>\n      <td>Yes</td>\n      <td>Caucasian</td>\n      <td>812</td>\n    </tr>\n    <tr>\n      <th>9</th>\n      <td>30.733</td>\n      <td>2832</td>\n      <td>249</td>\n      <td>4</td>\n      <td>51</td>\n      <td>13</td>\n      <td>Male</td>\n      <td>No</td>\n      <td>No</td>\n      <td>Caucasian</td>\n      <td>0</td>\n    </tr>\n    <tr>\n      <th>10</th>\n      <td>16.479</td>\n      <td>5435</td>\n      <td>388</td>\n      <td>2</td>\n      <td>26</td>\n      <td>16</td>\n      <td>Male</td>\n      <td>No</td>\n      <td>No</td>\n      <td>African American</td>\n      <td>937</td>\n    </tr>\n    <tr>\n      <th>11</th>\n      <td>38.009</td>\n      <td>3075</td>\n      <td>245</td>\n      <td>3</td>\n      <td>45</td>\n      <td>15</td>\n      <td>Female</td>\n      <td>No</td>\n      <td>No</td>\n      <td>African American</td>\n      <td>0</td>\n    </tr>\n    <tr>\n      <th>12</th>\n      <td>14.084</td>\n      <td>855</td>\n      <td>120</td>\n      <td>5</td>\n      <td>46</td>\n      <td>17</td>\n      <td>Female</td>\n      <td>No</td>\n      <td>Yes</td>\n      <td>African American</td>\n      <td>0</td>\n    </tr>\n    <tr>\n      <th>13</th>\n      <td>14.312</td>\n      <td>5382</td>\n      <td>367</td>\n      <td>1</td>\n      <td>59</td>\n      <td>17</td>\n      <td>Male</td>\n      <td>Yes</td>\n      <td>No</td>\n      <td>Asian</td>\n      <td>1380</td>\n    </tr>\n    <tr>\n      <th>14</th>\n      <td>26.067</td>\n      <td>3388</td>\n      <td>266</td>\n      <td>4</td>\n      <td>74</td>\n      <td>17</td>\n      <td>Female</td>\n      <td>No</td>\n      <td>Yes</td>\n      <td>African American</td>\n      <td>155</td>\n    </tr>\n    <tr>\n      <th>15</th>\n      <td>36.295</td>\n      <td>2963</td>\n      <td>241</td>\n      <td>2</td>\n      <td>68</td>\n      <td>14</td>\n      <td>Female</td>\n      <td>Yes</td>\n      <td>No</td>\n      <td>African American</td>\n      <td>375</td>\n    </tr>\n    <tr>\n      <th>16</th>\n      <td>83.851</td>\n      <td>8494</td>\n      <td>607</td>\n      <td>5</td>\n      <td>47</td>\n      <td>18</td>\n      <td>Male</td>\n      <td>No</td>\n      <td>No</td>\n      <td>Caucasian</td>\n      <td>1311</td>\n    </tr>\n    <tr>\n      <th>17</th>\n      <td>21.153</td>\n      <td>3736</td>\n      <td>256</td>\n      <td>1</td>\n      <td>41</td>\n      <td>11</td>\n      <td>Male</td>\n      <td>No</td>\n      <td>No</td>\n      <td>Caucasian</td>\n      <td>298</td>\n    </tr>\n    <tr>\n      <th>18</th>\n      <td>17.976</td>\n      <td>2433</td>\n      <td>190</td>\n      <td>3</td>\n      <td>70</td>\n      <td>16</td>\n      <td>Female</td>\n      <td>Yes</td>\n      <td>No</td>\n      <td>Caucasian</td>\n      <td>431</td>\n    </tr>\n    <tr>\n      <th>19</th>\n      <td>68.713</td>\n      <td>7582</td>\n      <td>531</td>\n      <td>2</td>\n      <td>56</td>\n      <td>16</td>\n      <td>Male</td>\n      <td>Yes</td>\n      <td>No</td>\n      <td>Caucasian</td>\n      <td>1587</td>\n    </tr>\n    <tr>\n      <th>20</th>\n      <td>146.183</td>\n      <td>9540</td>\n      <td>682</td>\n      <td>6</td>\n      <td>66</td>\n      <td>15</td>\n      <td>Male</td>\n      <td>No</td>\n      <td>No</td>\n      <td>Caucasian</td>\n      <td>1050</td>\n    </tr>\n    <tr>\n      <th>21</th>\n      <td>15.846</td>\n      <td>4768</td>\n      <td>365</td>\n      <td>4</td>\n      <td>53</td>\n      <td>12</td>\n      <td>Female</td>\n      <td>No</td>\n      <td>No</td>\n      <td>Caucasian</td>\n      <td>745</td>\n    </tr>\n    <tr>\n      <th>22</th>\n      <td>12.031</td>\n      <td>3182</td>\n      <td>259</td>\n      <td>2</td>\n      <td>58</td>\n      <td>18</td>\n      <td>Female</td>\n      <td>No</td>\n      <td>Yes</td>\n      <td>Caucasian</td>\n      <td>210</td>\n    </tr>\n    <tr>\n      <th>23</th>\n      <td>16.819</td>\n      <td>1337</td>\n      <td>115</td>\n      <td>2</td>\n      <td>74</td>\n      <td>15</td>\n      <td>Male</td>\n      <td>No</td>\n      <td>Yes</td>\n      <td>Asian</td>\n      <td>0</td>\n    </tr>\n    <tr>\n      <th>24</th>\n      <td>39.110</td>\n      <td>3189</td>\n      <td>263</td>\n      <td>3</td>\n      <td>72</td>\n      <td>12</td>\n      <td>Male</td>\n      <td>No</td>\n      <td>No</td>\n      <td>Asian</td>\n      <td>0</td>\n    </tr>\n    <tr>\n      <th>25</th>\n      <td>107.986</td>\n      <td>6033</td>\n      <td>449</td>\n      <td>4</td>\n      <td>64</td>\n      <td>14</td>\n      <td>Male</td>\n      <td>No</td>\n      <td>Yes</td>\n      <td>Caucasian</td>\n      <td>227</td>\n    </tr>\n    <tr>\n      <th>26</th>\n      <td>13.561</td>\n      <td>3261</td>\n      <td>279</td>\n      <td>5</td>\n      <td>37</td>\n      <td>19</td>\n      <td>Male</td>\n      <td>No</td>\n      <td>Yes</td>\n      <td>Asian</td>\n      <td>297</td>\n    </tr>\n    <tr>\n      <th>27</th>\n      <td>34.537</td>\n      <td>3271</td>\n      <td>250</td>\n      <td>3</td>\n      <td>57</td>\n      <td>17</td>\n      <td>Female</td>\n      <td>No</td>\n      <td>Yes</td>\n      <td>Asian</td>\n      <td>47</td>\n    </tr>\n    <tr>\n      <th>28</th>\n      <td>28.575</td>\n      <td>2959</td>\n      <td>231</td>\n      <td>2</td>\n      <td>60</td>\n      <td>11</td>\n      <td>Female</td>\n      <td>No</td>\n      <td>No</td>\n      <td>African American</td>\n      <td>0</td>\n    </tr>\n    <tr>\n      <th>29</th>\n      <td>46.007</td>\n      <td>6637</td>\n      <td>491</td>\n      <td>4</td>\n      <td>42</td>\n      <td>14</td>\n      <td>Male</td>\n      <td>No</td>\n      <td>Yes</td>\n      <td>Caucasian</td>\n      <td>1046</td>\n    </tr>\n    <tr>\n      <th>30</th>\n      <td>69.251</td>\n      <td>6386</td>\n      <td>474</td>\n      <td>4</td>\n      <td>30</td>\n      <td>12</td>\n      <td>Female</td>\n      <td>No</td>\n      <td>Yes</td>\n      <td>Asian</td>\n      <td>768</td>\n    </tr>\n    <tr>\n      <th>31</th>\n      <td>16.482</td>\n      <td>3326</td>\n      <td>268</td>\n      <td>4</td>\n      <td>41</td>\n      <td>15</td>\n      <td>Male</td>\n      <td>No</td>\n      <td>No</td>\n      <td>Caucasian</td>\n      <td>271</td>\n    </tr>\n    <tr>\n      <th>32</th>\n      <td>40.442</td>\n      <td>4828</td>\n      <td>369</td>\n      <td>5</td>\n      <td>81</td>\n      <td>8</td>\n      <td>Female</td>\n      <td>No</td>\n      <td>No</td>\n      <td>African American</td>\n      <td>510</td>\n    </tr>\n    <tr>\n      <th>33</th>\n      <td>35.177</td>\n      <td>2117</td>\n      <td>186</td>\n      <td>3</td>\n      <td>62</td>\n      <td>16</td>\n      <td>Female</td>\n      <td>No</td>\n      <td>No</td>\n      <td>Caucasian</td>\n      <td>0</td>\n    </tr>\n    <tr>\n      <th>34</th>\n      <td>91.362</td>\n      <td>9113</td>\n      <td>626</td>\n      <td>1</td>\n      <td>47</td>\n      <td>17</td>\n      <td>Male</td>\n      <td>No</td>\n      <td>Yes</td>\n      <td>Asian</td>\n      <td>1341</td>\n    </tr>\n    <tr>\n      <th>35</th>\n      <td>27.039</td>\n      <td>2161</td>\n      <td>173</td>\n      <td>3</td>\n      <td>40</td>\n      <td>17</td>\n      <td>Female</td>\n      <td>No</td>\n      <td>No</td>\n      <td>Caucasian</td>\n      <td>0</td>\n    </tr>\n    <tr>\n      <th>36</th>\n      <td>23.012</td>\n      <td>1410</td>\n      <td>137</td>\n      <td>3</td>\n      <td>81</td>\n      <td>16</td>\n      <td>Male</td>\n      <td>No</td>\n      <td>No</td>\n      <td>Caucasian</td>\n      <td>0</td>\n    </tr>\n    <tr>\n      <th>37</th>\n      <td>27.241</td>\n      <td>1402</td>\n      <td>128</td>\n      <td>2</td>\n      <td>67</td>\n      <td>15</td>\n      <td>Female</td>\n      <td>No</td>\n      <td>Yes</td>\n      <td>Asian</td>\n      <td>0</td>\n    </tr>\n    <tr>\n      <th>38</th>\n      <td>148.080</td>\n      <td>8157</td>\n      <td>599</td>\n      <td>2</td>\n      <td>83</td>\n      <td>13</td>\n      <td>Male</td>\n      <td>No</td>\n      <td>Yes</td>\n      <td>Caucasian</td>\n      <td>454</td>\n    </tr>\n    <tr>\n      <th>39</th>\n      <td>62.602</td>\n      <td>7056</td>\n      <td>481</td>\n      <td>1</td>\n      <td>84</td>\n      <td>11</td>\n      <td>Female</td>\n      <td>No</td>\n      <td>No</td>\n      <td>Caucasian</td>\n      <td>904</td>\n    </tr>\n    <tr>\n      <th>40</th>\n      <td>11.808</td>\n      <td>1300</td>\n      <td>117</td>\n      <td>3</td>\n      <td>77</td>\n      <td>14</td>\n      <td>Female</td>\n      <td>No</td>\n      <td>No</td>\n      <td>African American</td>\n      <td>0</td>\n    </tr>\n    <tr>\n      <th>41</th>\n      <td>29.564</td>\n      <td>2529</td>\n      <td>192</td>\n      <td>1</td>\n      <td>30</td>\n      <td>12</td>\n      <td>Female</td>\n      <td>No</td>\n      <td>Yes</td>\n      <td>Caucasian</td>\n      <td>0</td>\n    </tr>\n    <tr>\n      <th>42</th>\n      <td>27.578</td>\n      <td>2531</td>\n      <td>195</td>\n      <td>1</td>\n      <td>34</td>\n      <td>15</td>\n      <td>Female</td>\n      <td>No</td>\n      <td>Yes</td>\n      <td>Caucasian</td>\n      <td>0</td>\n    </tr>\n    <tr>\n      <th>43</th>\n      <td>26.427</td>\n      <td>5533</td>\n      <td>433</td>\n      <td>5</td>\n      <td>50</td>\n      <td>15</td>\n      <td>Female</td>\n      <td>Yes</td>\n      <td>Yes</td>\n      <td>Asian</td>\n      <td>1404</td>\n    </tr>\n    <tr>\n      <th>44</th>\n      <td>57.202</td>\n      <td>3411</td>\n      <td>259</td>\n      <td>3</td>\n      <td>72</td>\n      <td>11</td>\n      <td>Female</td>\n      <td>No</td>\n      <td>No</td>\n      <td>Caucasian</td>\n      <td>0</td>\n    </tr>\n    <tr>\n      <th>45</th>\n      <td>123.299</td>\n      <td>8376</td>\n      <td>610</td>\n      <td>2</td>\n      <td>89</td>\n      <td>17</td>\n      <td>Male</td>\n      <td>Yes</td>\n      <td>No</td>\n      <td>African American</td>\n      <td>1259</td>\n    </tr>\n    <tr>\n      <th>46</th>\n      <td>18.145</td>\n      <td>3461</td>\n      <td>279</td>\n      <td>3</td>\n      <td>56</td>\n      <td>15</td>\n      <td>Male</td>\n      <td>No</td>\n      <td>Yes</td>\n      <td>African American</td>\n      <td>255</td>\n    </tr>\n    <tr>\n      <th>47</th>\n      <td>23.793</td>\n      <td>3821</td>\n      <td>281</td>\n      <td>4</td>\n      <td>56</td>\n      <td>12</td>\n      <td>Female</td>\n      <td>Yes</td>\n      <td>Yes</td>\n      <td>African American</td>\n      <td>868</td>\n    </tr>\n    <tr>\n      <th>48</th>\n      <td>10.726</td>\n      <td>1568</td>\n      <td>162</td>\n      <td>5</td>\n      <td>46</td>\n      <td>19</td>\n      <td>Male</td>\n      <td>No</td>\n      <td>Yes</td>\n      <td>Asian</td>\n      <td>0</td>\n    </tr>\n    <tr>\n      <th>49</th>\n      <td>23.283</td>\n      <td>5443</td>\n      <td>407</td>\n      <td>4</td>\n      <td>49</td>\n      <td>13</td>\n      <td>Male</td>\n      <td>No</td>\n      <td>Yes</td>\n      <td>African American</td>\n      <td>912</td>\n    </tr>\n  </tbody>\n</table>\n</div>"
     },
     "execution_count": 355,
     "metadata": {},
     "output_type": "execute_result"
    }
   ],
   "source": [
    "data"
   ],
   "metadata": {
    "collapsed": false,
    "pycharm": {
     "name": "#%%\n"
    }
   }
  },
  {
   "cell_type": "code",
   "execution_count": 360,
   "outputs": [],
   "source": [
    "df4 = data.loc[data['Gender'] != 'Female']"
   ],
   "metadata": {
    "collapsed": false,
    "pycharm": {
     "name": "#%%\n"
    }
   }
  },
  {
   "cell_type": "code",
   "execution_count": 361,
   "outputs": [
    {
     "data": {
      "text/plain": "     Income  Limit  Rating  Cards  Age  Education Gender Student Married  \\\n1    43.540   2906     232      4   69         11   Male      No      No   \n3    55.367   6340     448      1   33         15   Male      No     Yes   \n5    15.560   4307     352      4   57          8   Male      No     Yes   \n7    20.191   5767     431      4   42         16   Male      No     Yes   \n8    48.498   6040     456      3   47         16   Male      No     Yes   \n9    30.733   2832     249      4   51         13   Male      No      No   \n10   16.479   5435     388      2   26         16   Male      No      No   \n13   14.312   5382     367      1   59         17   Male     Yes      No   \n16   83.851   8494     607      5   47         18   Male      No      No   \n17   21.153   3736     256      1   41         11   Male      No      No   \n19   68.713   7582     531      2   56         16   Male     Yes      No   \n20  146.183   9540     682      6   66         15   Male      No      No   \n23   16.819   1337     115      2   74         15   Male      No     Yes   \n24   39.110   3189     263      3   72         12   Male      No      No   \n25  107.986   6033     449      4   64         14   Male      No     Yes   \n26   13.561   3261     279      5   37         19   Male      No     Yes   \n29   46.007   6637     491      4   42         14   Male      No     Yes   \n31   16.482   3326     268      4   41         15   Male      No      No   \n34   91.362   9113     626      1   47         17   Male      No     Yes   \n36   23.012   1410     137      3   81         16   Male      No      No   \n38  148.080   8157     599      2   83         13   Male      No     Yes   \n45  123.299   8376     610      2   89         17   Male     Yes      No   \n46   18.145   3461     279      3   56         15   Male      No     Yes   \n48   10.726   1568     162      5   46         19   Male      No     Yes   \n49   23.283   5443     407      4   49         13   Male      No     Yes   \n\n           Ethnicity  Balance  \n1          Caucasian        0  \n3          Caucasian      815  \n5   African American      579  \n7   African American     1023  \n8          Caucasian      812  \n9          Caucasian        0  \n10  African American      937  \n13             Asian     1380  \n16         Caucasian     1311  \n17         Caucasian      298  \n19         Caucasian     1587  \n20         Caucasian     1050  \n23             Asian        0  \n24             Asian        0  \n25         Caucasian      227  \n26             Asian      297  \n29         Caucasian     1046  \n31         Caucasian      271  \n34             Asian     1341  \n36         Caucasian        0  \n38         Caucasian      454  \n45  African American     1259  \n46  African American      255  \n48             Asian        0  \n49  African American      912  ",
      "text/html": "<div>\n<style scoped>\n    .dataframe tbody tr th:only-of-type {\n        vertical-align: middle;\n    }\n\n    .dataframe tbody tr th {\n        vertical-align: top;\n    }\n\n    .dataframe thead th {\n        text-align: right;\n    }\n</style>\n<table border=\"1\" class=\"dataframe\">\n  <thead>\n    <tr style=\"text-align: right;\">\n      <th></th>\n      <th>Income</th>\n      <th>Limit</th>\n      <th>Rating</th>\n      <th>Cards</th>\n      <th>Age</th>\n      <th>Education</th>\n      <th>Gender</th>\n      <th>Student</th>\n      <th>Married</th>\n      <th>Ethnicity</th>\n      <th>Balance</th>\n    </tr>\n  </thead>\n  <tbody>\n    <tr>\n      <th>1</th>\n      <td>43.540</td>\n      <td>2906</td>\n      <td>232</td>\n      <td>4</td>\n      <td>69</td>\n      <td>11</td>\n      <td>Male</td>\n      <td>No</td>\n      <td>No</td>\n      <td>Caucasian</td>\n      <td>0</td>\n    </tr>\n    <tr>\n      <th>3</th>\n      <td>55.367</td>\n      <td>6340</td>\n      <td>448</td>\n      <td>1</td>\n      <td>33</td>\n      <td>15</td>\n      <td>Male</td>\n      <td>No</td>\n      <td>Yes</td>\n      <td>Caucasian</td>\n      <td>815</td>\n    </tr>\n    <tr>\n      <th>5</th>\n      <td>15.560</td>\n      <td>4307</td>\n      <td>352</td>\n      <td>4</td>\n      <td>57</td>\n      <td>8</td>\n      <td>Male</td>\n      <td>No</td>\n      <td>Yes</td>\n      <td>African American</td>\n      <td>579</td>\n    </tr>\n    <tr>\n      <th>7</th>\n      <td>20.191</td>\n      <td>5767</td>\n      <td>431</td>\n      <td>4</td>\n      <td>42</td>\n      <td>16</td>\n      <td>Male</td>\n      <td>No</td>\n      <td>Yes</td>\n      <td>African American</td>\n      <td>1023</td>\n    </tr>\n    <tr>\n      <th>8</th>\n      <td>48.498</td>\n      <td>6040</td>\n      <td>456</td>\n      <td>3</td>\n      <td>47</td>\n      <td>16</td>\n      <td>Male</td>\n      <td>No</td>\n      <td>Yes</td>\n      <td>Caucasian</td>\n      <td>812</td>\n    </tr>\n    <tr>\n      <th>9</th>\n      <td>30.733</td>\n      <td>2832</td>\n      <td>249</td>\n      <td>4</td>\n      <td>51</td>\n      <td>13</td>\n      <td>Male</td>\n      <td>No</td>\n      <td>No</td>\n      <td>Caucasian</td>\n      <td>0</td>\n    </tr>\n    <tr>\n      <th>10</th>\n      <td>16.479</td>\n      <td>5435</td>\n      <td>388</td>\n      <td>2</td>\n      <td>26</td>\n      <td>16</td>\n      <td>Male</td>\n      <td>No</td>\n      <td>No</td>\n      <td>African American</td>\n      <td>937</td>\n    </tr>\n    <tr>\n      <th>13</th>\n      <td>14.312</td>\n      <td>5382</td>\n      <td>367</td>\n      <td>1</td>\n      <td>59</td>\n      <td>17</td>\n      <td>Male</td>\n      <td>Yes</td>\n      <td>No</td>\n      <td>Asian</td>\n      <td>1380</td>\n    </tr>\n    <tr>\n      <th>16</th>\n      <td>83.851</td>\n      <td>8494</td>\n      <td>607</td>\n      <td>5</td>\n      <td>47</td>\n      <td>18</td>\n      <td>Male</td>\n      <td>No</td>\n      <td>No</td>\n      <td>Caucasian</td>\n      <td>1311</td>\n    </tr>\n    <tr>\n      <th>17</th>\n      <td>21.153</td>\n      <td>3736</td>\n      <td>256</td>\n      <td>1</td>\n      <td>41</td>\n      <td>11</td>\n      <td>Male</td>\n      <td>No</td>\n      <td>No</td>\n      <td>Caucasian</td>\n      <td>298</td>\n    </tr>\n    <tr>\n      <th>19</th>\n      <td>68.713</td>\n      <td>7582</td>\n      <td>531</td>\n      <td>2</td>\n      <td>56</td>\n      <td>16</td>\n      <td>Male</td>\n      <td>Yes</td>\n      <td>No</td>\n      <td>Caucasian</td>\n      <td>1587</td>\n    </tr>\n    <tr>\n      <th>20</th>\n      <td>146.183</td>\n      <td>9540</td>\n      <td>682</td>\n      <td>6</td>\n      <td>66</td>\n      <td>15</td>\n      <td>Male</td>\n      <td>No</td>\n      <td>No</td>\n      <td>Caucasian</td>\n      <td>1050</td>\n    </tr>\n    <tr>\n      <th>23</th>\n      <td>16.819</td>\n      <td>1337</td>\n      <td>115</td>\n      <td>2</td>\n      <td>74</td>\n      <td>15</td>\n      <td>Male</td>\n      <td>No</td>\n      <td>Yes</td>\n      <td>Asian</td>\n      <td>0</td>\n    </tr>\n    <tr>\n      <th>24</th>\n      <td>39.110</td>\n      <td>3189</td>\n      <td>263</td>\n      <td>3</td>\n      <td>72</td>\n      <td>12</td>\n      <td>Male</td>\n      <td>No</td>\n      <td>No</td>\n      <td>Asian</td>\n      <td>0</td>\n    </tr>\n    <tr>\n      <th>25</th>\n      <td>107.986</td>\n      <td>6033</td>\n      <td>449</td>\n      <td>4</td>\n      <td>64</td>\n      <td>14</td>\n      <td>Male</td>\n      <td>No</td>\n      <td>Yes</td>\n      <td>Caucasian</td>\n      <td>227</td>\n    </tr>\n    <tr>\n      <th>26</th>\n      <td>13.561</td>\n      <td>3261</td>\n      <td>279</td>\n      <td>5</td>\n      <td>37</td>\n      <td>19</td>\n      <td>Male</td>\n      <td>No</td>\n      <td>Yes</td>\n      <td>Asian</td>\n      <td>297</td>\n    </tr>\n    <tr>\n      <th>29</th>\n      <td>46.007</td>\n      <td>6637</td>\n      <td>491</td>\n      <td>4</td>\n      <td>42</td>\n      <td>14</td>\n      <td>Male</td>\n      <td>No</td>\n      <td>Yes</td>\n      <td>Caucasian</td>\n      <td>1046</td>\n    </tr>\n    <tr>\n      <th>31</th>\n      <td>16.482</td>\n      <td>3326</td>\n      <td>268</td>\n      <td>4</td>\n      <td>41</td>\n      <td>15</td>\n      <td>Male</td>\n      <td>No</td>\n      <td>No</td>\n      <td>Caucasian</td>\n      <td>271</td>\n    </tr>\n    <tr>\n      <th>34</th>\n      <td>91.362</td>\n      <td>9113</td>\n      <td>626</td>\n      <td>1</td>\n      <td>47</td>\n      <td>17</td>\n      <td>Male</td>\n      <td>No</td>\n      <td>Yes</td>\n      <td>Asian</td>\n      <td>1341</td>\n    </tr>\n    <tr>\n      <th>36</th>\n      <td>23.012</td>\n      <td>1410</td>\n      <td>137</td>\n      <td>3</td>\n      <td>81</td>\n      <td>16</td>\n      <td>Male</td>\n      <td>No</td>\n      <td>No</td>\n      <td>Caucasian</td>\n      <td>0</td>\n    </tr>\n    <tr>\n      <th>38</th>\n      <td>148.080</td>\n      <td>8157</td>\n      <td>599</td>\n      <td>2</td>\n      <td>83</td>\n      <td>13</td>\n      <td>Male</td>\n      <td>No</td>\n      <td>Yes</td>\n      <td>Caucasian</td>\n      <td>454</td>\n    </tr>\n    <tr>\n      <th>45</th>\n      <td>123.299</td>\n      <td>8376</td>\n      <td>610</td>\n      <td>2</td>\n      <td>89</td>\n      <td>17</td>\n      <td>Male</td>\n      <td>Yes</td>\n      <td>No</td>\n      <td>African American</td>\n      <td>1259</td>\n    </tr>\n    <tr>\n      <th>46</th>\n      <td>18.145</td>\n      <td>3461</td>\n      <td>279</td>\n      <td>3</td>\n      <td>56</td>\n      <td>15</td>\n      <td>Male</td>\n      <td>No</td>\n      <td>Yes</td>\n      <td>African American</td>\n      <td>255</td>\n    </tr>\n    <tr>\n      <th>48</th>\n      <td>10.726</td>\n      <td>1568</td>\n      <td>162</td>\n      <td>5</td>\n      <td>46</td>\n      <td>19</td>\n      <td>Male</td>\n      <td>No</td>\n      <td>Yes</td>\n      <td>Asian</td>\n      <td>0</td>\n    </tr>\n    <tr>\n      <th>49</th>\n      <td>23.283</td>\n      <td>5443</td>\n      <td>407</td>\n      <td>4</td>\n      <td>49</td>\n      <td>13</td>\n      <td>Male</td>\n      <td>No</td>\n      <td>Yes</td>\n      <td>African American</td>\n      <td>912</td>\n    </tr>\n  </tbody>\n</table>\n</div>"
     },
     "execution_count": 361,
     "metadata": {},
     "output_type": "execute_result"
    }
   ],
   "source": [
    "df4"
   ],
   "metadata": {
    "collapsed": false,
    "pycharm": {
     "name": "#%%\n"
    }
   }
  },
  {
   "cell_type": "code",
   "execution_count": 362,
   "outputs": [
    {
     "data": {
      "text/plain": "49.69807999999995"
     },
     "execution_count": 362,
     "metadata": {},
     "output_type": "execute_result"
    }
   ],
   "source": [
    "df4['Income'].mean()"
   ],
   "metadata": {
    "collapsed": false,
    "pycharm": {
     "name": "#%%\n"
    }
   }
  },
  {
   "cell_type": "code",
   "execution_count": 363,
   "outputs": [
    {
     "data": {
      "text/plain": "0    23.0\n1    54.0\n2     NaN\n3     NaN\ndtype: float64"
     },
     "execution_count": 363,
     "metadata": {},
     "output_type": "execute_result"
    }
   ],
   "source": [
    "ser1 = pd.Series([23,54,np.NaN, None])\n",
    "ser1"
   ],
   "metadata": {
    "collapsed": false,
    "pycharm": {
     "name": "#%%\n"
    }
   }
  },
  {
   "cell_type": "code",
   "execution_count": 364,
   "outputs": [
    {
     "data": {
      "text/plain": "0    False\n1    False\n2     True\n3     True\ndtype: bool"
     },
     "execution_count": 364,
     "metadata": {},
     "output_type": "execute_result"
    }
   ],
   "source": [
    "ser1.isnull()"
   ],
   "metadata": {
    "collapsed": false,
    "pycharm": {
     "name": "#%%\n"
    }
   }
  },
  {
   "cell_type": "code",
   "execution_count": 365,
   "outputs": [
    {
     "data": {
      "text/plain": "0    False\n1    False\n2     True\n3     True\ndtype: bool"
     },
     "execution_count": 365,
     "metadata": {},
     "output_type": "execute_result"
    }
   ],
   "source": [
    "ser1.isna()"
   ],
   "metadata": {
    "collapsed": false,
    "pycharm": {
     "name": "#%%\n"
    }
   }
  },
  {
   "cell_type": "code",
   "execution_count": 366,
   "outputs": [],
   "source": [
    "ser2 = pd.Series(['green','black','white',None,'red'])"
   ],
   "metadata": {
    "collapsed": false,
    "pycharm": {
     "name": "#%%\n"
    }
   }
  },
  {
   "cell_type": "code",
   "execution_count": 367,
   "outputs": [
    {
     "data": {
      "text/plain": "0    green\n1    black\n2    white\n3     None\n4      red\ndtype: object"
     },
     "execution_count": 367,
     "metadata": {},
     "output_type": "execute_result"
    }
   ],
   "source": [
    "ser2"
   ],
   "metadata": {
    "collapsed": false,
    "pycharm": {
     "name": "#%%\n"
    }
   }
  },
  {
   "cell_type": "code",
   "execution_count": 368,
   "outputs": [
    {
     "data": {
      "text/plain": "0    False\n1    False\n2    False\n3     True\n4    False\ndtype: bool"
     },
     "execution_count": 368,
     "metadata": {},
     "output_type": "execute_result"
    }
   ],
   "source": [
    "ser2.isnull()"
   ],
   "metadata": {
    "collapsed": false,
    "pycharm": {
     "name": "#%%\n"
    }
   }
  },
  {
   "cell_type": "code",
   "execution_count": 369,
   "outputs": [
    {
     "data": {
      "text/plain": "0    23.0\n1    54.0\n2     NaN\n3     NaN\ndtype: float64"
     },
     "execution_count": 369,
     "metadata": {},
     "output_type": "execute_result"
    }
   ],
   "source": [
    "ser1"
   ],
   "metadata": {
    "collapsed": false,
    "pycharm": {
     "name": "#%%\n"
    }
   }
  },
  {
   "cell_type": "code",
   "execution_count": 370,
   "outputs": [
    {
     "data": {
      "text/plain": "0    23.0\n1    54.0\ndtype: float64"
     },
     "execution_count": 370,
     "metadata": {},
     "output_type": "execute_result"
    }
   ],
   "source": [
    "ser1.dropna()"
   ],
   "metadata": {
    "collapsed": false,
    "pycharm": {
     "name": "#%%\n"
    }
   }
  },
  {
   "cell_type": "code",
   "execution_count": 373,
   "outputs": [
    {
     "data": {
      "text/plain": "    0     1   2   3   4\n2  11  12.0  13  14  15",
      "text/html": "<div>\n<style scoped>\n    .dataframe tbody tr th:only-of-type {\n        vertical-align: middle;\n    }\n\n    .dataframe tbody tr th {\n        vertical-align: top;\n    }\n\n    .dataframe thead th {\n        text-align: right;\n    }\n</style>\n<table border=\"1\" class=\"dataframe\">\n  <thead>\n    <tr style=\"text-align: right;\">\n      <th></th>\n      <th>0</th>\n      <th>1</th>\n      <th>2</th>\n      <th>3</th>\n      <th>4</th>\n    </tr>\n  </thead>\n  <tbody>\n    <tr>\n      <th>2</th>\n      <td>11</td>\n      <td>12.0</td>\n      <td>13</td>\n      <td>14</td>\n      <td>15</td>\n    </tr>\n  </tbody>\n</table>\n</div>"
     },
     "execution_count": 373,
     "metadata": {},
     "output_type": "execute_result"
    }
   ],
   "source": [
    "dt1 = pd.DataFrame([[1,None,3,4,5],[6,None,8,9,10],[11,12,13,14,15]])\n",
    "dt1\n",
    "dt1.dropna()"
   ],
   "metadata": {
    "collapsed": false,
    "pycharm": {
     "name": "#%%\n"
    }
   }
  },
  {
   "cell_type": "code",
   "execution_count": 374,
   "outputs": [
    {
     "data": {
      "text/plain": "    0     1   2   3   4\n0   1   NaN   3   4   5\n1   6   NaN   8   9  10\n2  11  12.0  13  14  15",
      "text/html": "<div>\n<style scoped>\n    .dataframe tbody tr th:only-of-type {\n        vertical-align: middle;\n    }\n\n    .dataframe tbody tr th {\n        vertical-align: top;\n    }\n\n    .dataframe thead th {\n        text-align: right;\n    }\n</style>\n<table border=\"1\" class=\"dataframe\">\n  <thead>\n    <tr style=\"text-align: right;\">\n      <th></th>\n      <th>0</th>\n      <th>1</th>\n      <th>2</th>\n      <th>3</th>\n      <th>4</th>\n    </tr>\n  </thead>\n  <tbody>\n    <tr>\n      <th>0</th>\n      <td>1</td>\n      <td>NaN</td>\n      <td>3</td>\n      <td>4</td>\n      <td>5</td>\n    </tr>\n    <tr>\n      <th>1</th>\n      <td>6</td>\n      <td>NaN</td>\n      <td>8</td>\n      <td>9</td>\n      <td>10</td>\n    </tr>\n    <tr>\n      <th>2</th>\n      <td>11</td>\n      <td>12.0</td>\n      <td>13</td>\n      <td>14</td>\n      <td>15</td>\n    </tr>\n  </tbody>\n</table>\n</div>"
     },
     "execution_count": 374,
     "metadata": {},
     "output_type": "execute_result"
    }
   ],
   "source": [
    "dt1"
   ],
   "metadata": {
    "collapsed": false,
    "pycharm": {
     "name": "#%%\n"
    }
   }
  },
  {
   "cell_type": "code",
   "execution_count": 377,
   "outputs": [
    {
     "data": {
      "text/plain": "    0   2   3   4\n0   1   3   4   5\n1   6   8   9  10\n2  11  13  14  15",
      "text/html": "<div>\n<style scoped>\n    .dataframe tbody tr th:only-of-type {\n        vertical-align: middle;\n    }\n\n    .dataframe tbody tr th {\n        vertical-align: top;\n    }\n\n    .dataframe thead th {\n        text-align: right;\n    }\n</style>\n<table border=\"1\" class=\"dataframe\">\n  <thead>\n    <tr style=\"text-align: right;\">\n      <th></th>\n      <th>0</th>\n      <th>2</th>\n      <th>3</th>\n      <th>4</th>\n    </tr>\n  </thead>\n  <tbody>\n    <tr>\n      <th>0</th>\n      <td>1</td>\n      <td>3</td>\n      <td>4</td>\n      <td>5</td>\n    </tr>\n    <tr>\n      <th>1</th>\n      <td>6</td>\n      <td>8</td>\n      <td>9</td>\n      <td>10</td>\n    </tr>\n    <tr>\n      <th>2</th>\n      <td>11</td>\n      <td>13</td>\n      <td>14</td>\n      <td>15</td>\n    </tr>\n  </tbody>\n</table>\n</div>"
     },
     "execution_count": 377,
     "metadata": {},
     "output_type": "execute_result"
    }
   ],
   "source": [
    "dt1.dropna(axis=1)"
   ],
   "metadata": {
    "collapsed": false,
    "pycharm": {
     "name": "#%%\n"
    }
   }
  },
  {
   "cell_type": "code",
   "execution_count": 379,
   "outputs": [
    {
     "data": {
      "text/plain": "    0     1   2   3   4\n0   1   NaN   3   4   5\n1   6   NaN   8   9  10\n2  11  12.0  13  14  15",
      "text/html": "<div>\n<style scoped>\n    .dataframe tbody tr th:only-of-type {\n        vertical-align: middle;\n    }\n\n    .dataframe tbody tr th {\n        vertical-align: top;\n    }\n\n    .dataframe thead th {\n        text-align: right;\n    }\n</style>\n<table border=\"1\" class=\"dataframe\">\n  <thead>\n    <tr style=\"text-align: right;\">\n      <th></th>\n      <th>0</th>\n      <th>1</th>\n      <th>2</th>\n      <th>3</th>\n      <th>4</th>\n    </tr>\n  </thead>\n  <tbody>\n    <tr>\n      <th>0</th>\n      <td>1</td>\n      <td>NaN</td>\n      <td>3</td>\n      <td>4</td>\n      <td>5</td>\n    </tr>\n    <tr>\n      <th>1</th>\n      <td>6</td>\n      <td>NaN</td>\n      <td>8</td>\n      <td>9</td>\n      <td>10</td>\n    </tr>\n    <tr>\n      <th>2</th>\n      <td>11</td>\n      <td>12.0</td>\n      <td>13</td>\n      <td>14</td>\n      <td>15</td>\n    </tr>\n  </tbody>\n</table>\n</div>"
     },
     "execution_count": 379,
     "metadata": {},
     "output_type": "execute_result"
    }
   ],
   "source": [
    "dt1.dropna(how='all')"
   ],
   "metadata": {
    "collapsed": false,
    "pycharm": {
     "name": "#%%\n"
    }
   }
  },
  {
   "cell_type": "code",
   "execution_count": 381,
   "outputs": [
    {
     "data": {
      "text/plain": "                           mpg  cylinders  displacement  horsepower\nname                                                               \nchevrolet chevelle malibu   18          8         307.0         130\nbuick skylark 320           15          8         350.0         165\nplymouth satellite          18          8         318.0         150\namc rebel sst               16          8         304.0         150\nford torino                 17          8         302.0         140\nford galaxie 500            15          8         429.0         198\nchevrolet impala            14          8         454.0         220\nplymouth fury iii           14          8         440.0         215\npontiac catalina            14          8         455.0         225\namc ambassador dpl          15          8         390.0         190",
      "text/html": "<div>\n<style scoped>\n    .dataframe tbody tr th:only-of-type {\n        vertical-align: middle;\n    }\n\n    .dataframe tbody tr th {\n        vertical-align: top;\n    }\n\n    .dataframe thead th {\n        text-align: right;\n    }\n</style>\n<table border=\"1\" class=\"dataframe\">\n  <thead>\n    <tr style=\"text-align: right;\">\n      <th></th>\n      <th>mpg</th>\n      <th>cylinders</th>\n      <th>displacement</th>\n      <th>horsepower</th>\n    </tr>\n    <tr>\n      <th>name</th>\n      <th></th>\n      <th></th>\n      <th></th>\n      <th></th>\n    </tr>\n  </thead>\n  <tbody>\n    <tr>\n      <th>chevrolet chevelle malibu</th>\n      <td>18</td>\n      <td>8</td>\n      <td>307.0</td>\n      <td>130</td>\n    </tr>\n    <tr>\n      <th>buick skylark 320</th>\n      <td>15</td>\n      <td>8</td>\n      <td>350.0</td>\n      <td>165</td>\n    </tr>\n    <tr>\n      <th>plymouth satellite</th>\n      <td>18</td>\n      <td>8</td>\n      <td>318.0</td>\n      <td>150</td>\n    </tr>\n    <tr>\n      <th>amc rebel sst</th>\n      <td>16</td>\n      <td>8</td>\n      <td>304.0</td>\n      <td>150</td>\n    </tr>\n    <tr>\n      <th>ford torino</th>\n      <td>17</td>\n      <td>8</td>\n      <td>302.0</td>\n      <td>140</td>\n    </tr>\n    <tr>\n      <th>ford galaxie 500</th>\n      <td>15</td>\n      <td>8</td>\n      <td>429.0</td>\n      <td>198</td>\n    </tr>\n    <tr>\n      <th>chevrolet impala</th>\n      <td>14</td>\n      <td>8</td>\n      <td>454.0</td>\n      <td>220</td>\n    </tr>\n    <tr>\n      <th>plymouth fury iii</th>\n      <td>14</td>\n      <td>8</td>\n      <td>440.0</td>\n      <td>215</td>\n    </tr>\n    <tr>\n      <th>pontiac catalina</th>\n      <td>14</td>\n      <td>8</td>\n      <td>455.0</td>\n      <td>225</td>\n    </tr>\n    <tr>\n      <th>amc ambassador dpl</th>\n      <td>15</td>\n      <td>8</td>\n      <td>390.0</td>\n      <td>190</td>\n    </tr>\n  </tbody>\n</table>\n</div>"
     },
     "execution_count": 381,
     "metadata": {},
     "output_type": "execute_result"
    }
   ],
   "source": [
    "cars = pd.read_csv('/home/michael/PycharmProjects/DataScience/Python-Bootcamp-for-Data-Science-2021-Numpy-Pandas-Seaborn-main/data/auto1.csv', index_col='name')\n",
    "cars.head(10)"
   ],
   "metadata": {
    "collapsed": false,
    "pycharm": {
     "name": "#%%\n"
    }
   }
  },
  {
   "cell_type": "code",
   "execution_count": 382,
   "outputs": [
    {
     "data": {
      "text/plain": "mpg             False\ncylinders       False\ndisplacement    False\nhorsepower      False\ndtype: bool"
     },
     "execution_count": 382,
     "metadata": {},
     "output_type": "execute_result"
    }
   ],
   "source": [
    "cars.isnull().any()"
   ],
   "metadata": {
    "collapsed": false,
    "pycharm": {
     "name": "#%%\n"
    }
   }
  },
  {
   "cell_type": "code",
   "execution_count": 383,
   "outputs": [],
   "source": [
    "import seaborn as sns"
   ],
   "metadata": {
    "collapsed": false,
    "pycharm": {
     "name": "#%%\n"
    }
   }
  },
  {
   "cell_type": "code",
   "execution_count": 384,
   "outputs": [
    {
     "data": {
      "text/plain": "<seaborn.axisgrid.FacetGrid at 0x7fa3b2af0bb0>"
     },
     "execution_count": 384,
     "metadata": {},
     "output_type": "execute_result"
    },
    {
     "data": {
      "text/plain": "<Figure size 426.5x360 with 1 Axes>",
      "image/png": "[encoded data removed]"
     },
     "metadata": {
      "needs_background": "light"
     },
     "output_type": "display_data"
    }
   ],
   "source": [
    "sns.relplot(x='mpg', y='displacement', hue='horsepower', data=cars)"
   ],
   "metadata": {
    "collapsed": false,
    "pycharm": {
     "name": "#%%\n"
    }
   }
  },
  {
   "cell_type": "code",
   "execution_count": 387,
   "outputs": [
    {
     "data": {
      "text/plain": "    time  day1  day2  day3  day4\n0      8  21.0  26.0    19  30.0\n1      9  23.0  28.0    21   NaN\n2     10  25.0  30.0    23  34.0\n3     11   NaN  32.0    25  36.0\n4     12  27.0  32.0    25  36.0\n5     13  29.0  34.0    27  38.0\n6     14  29.0  34.0    27  38.0\n7     15  26.0   NaN    24  35.0\n8     16  26.0  31.0    24  35.0\n9     17  25.0  30.0    23  34.0\n10    18  22.0  27.0    20  31.0\n11    19  21.0  26.0    19  30.0\n12    20  19.0  24.0    17   NaN",
      "text/html": "<div>\n<style scoped>\n    .dataframe tbody tr th:only-of-type {\n        vertical-align: middle;\n    }\n\n    .dataframe tbody tr th {\n        vertical-align: top;\n    }\n\n    .dataframe thead th {\n        text-align: right;\n    }\n</style>\n<table border=\"1\" class=\"dataframe\">\n  <thead>\n    <tr style=\"text-align: right;\">\n      <th></th>\n      <th>time</th>\n      <th>day1</th>\n      <th>day2</th>\n      <th>day3</th>\n      <th>day4</th>\n    </tr>\n  </thead>\n  <tbody>\n    <tr>\n      <th>0</th>\n      <td>8</td>\n      <td>21.0</td>\n      <td>26.0</td>\n      <td>19</td>\n      <td>30.0</td>\n    </tr>\n    <tr>\n      <th>1</th>\n      <td>9</td>\n      <td>23.0</td>\n      <td>28.0</td>\n      <td>21</td>\n      <td>NaN</td>\n    </tr>\n    <tr>\n      <th>2</th>\n      <td>10</td>\n      <td>25.0</td>\n      <td>30.0</td>\n      <td>23</td>\n      <td>34.0</td>\n    </tr>\n    <tr>\n      <th>3</th>\n      <td>11</td>\n      <td>NaN</td>\n      <td>32.0</td>\n      <td>25</td>\n      <td>36.0</td>\n    </tr>\n    <tr>\n      <th>4</th>\n      <td>12</td>\n      <td>27.0</td>\n      <td>32.0</td>\n      <td>25</td>\n      <td>36.0</td>\n    </tr>\n    <tr>\n      <th>5</th>\n      <td>13</td>\n      <td>29.0</td>\n      <td>34.0</td>\n      <td>27</td>\n      <td>38.0</td>\n    </tr>\n    <tr>\n      <th>6</th>\n      <td>14</td>\n      <td>29.0</td>\n      <td>34.0</td>\n      <td>27</td>\n      <td>38.0</td>\n    </tr>\n    <tr>\n      <th>7</th>\n      <td>15</td>\n      <td>26.0</td>\n      <td>NaN</td>\n      <td>24</td>\n      <td>35.0</td>\n    </tr>\n    <tr>\n      <th>8</th>\n      <td>16</td>\n      <td>26.0</td>\n      <td>31.0</td>\n      <td>24</td>\n      <td>35.0</td>\n    </tr>\n    <tr>\n      <th>9</th>\n      <td>17</td>\n      <td>25.0</td>\n      <td>30.0</td>\n      <td>23</td>\n      <td>34.0</td>\n    </tr>\n    <tr>\n      <th>10</th>\n      <td>18</td>\n      <td>22.0</td>\n      <td>27.0</td>\n      <td>20</td>\n      <td>31.0</td>\n    </tr>\n    <tr>\n      <th>11</th>\n      <td>19</td>\n      <td>21.0</td>\n      <td>26.0</td>\n      <td>19</td>\n      <td>30.0</td>\n    </tr>\n    <tr>\n      <th>12</th>\n      <td>20</td>\n      <td>19.0</td>\n      <td>24.0</td>\n      <td>17</td>\n      <td>NaN</td>\n    </tr>\n  </tbody>\n</table>\n</div>"
     },
     "execution_count": 387,
     "metadata": {},
     "output_type": "execute_result"
    }
   ],
   "source": [
    "tempData=pd.read_csv('data/temperature.csv')\n",
    "tempData"
   ],
   "metadata": {
    "collapsed": false,
    "pycharm": {
     "name": "#%%\n"
    }
   }
  },
  {
   "cell_type": "code",
   "execution_count": 396,
   "outputs": [
    {
     "data": {
      "text/plain": "    time       day1  day2  day3       day4\n0      8  21.000000  26.0    19  30.000000\n1      9  23.000000  28.0    21  34.272727\n2     10  25.000000  30.0    23  34.000000\n3     11  24.416667  32.0    25  36.000000\n4     12  27.000000  32.0    25  36.000000\n5     13  29.000000  34.0    27  38.000000\n6     14  29.000000  34.0    27  38.000000\n7     15  26.000000  29.5    24  35.000000\n8     16  26.000000  31.0    24  35.000000\n9     17  25.000000  30.0    23  34.000000\n10    18  22.000000  27.0    20  31.000000\n11    19  21.000000  26.0    19  30.000000\n12    20  19.000000  24.0    17  34.272727",
      "text/html": "<div>\n<style scoped>\n    .dataframe tbody tr th:only-of-type {\n        vertical-align: middle;\n    }\n\n    .dataframe tbody tr th {\n        vertical-align: top;\n    }\n\n    .dataframe thead th {\n        text-align: right;\n    }\n</style>\n<table border=\"1\" class=\"dataframe\">\n  <thead>\n    <tr style=\"text-align: right;\">\n      <th></th>\n      <th>time</th>\n      <th>day1</th>\n      <th>day2</th>\n      <th>day3</th>\n      <th>day4</th>\n    </tr>\n  </thead>\n  <tbody>\n    <tr>\n      <th>0</th>\n      <td>8</td>\n      <td>21.000000</td>\n      <td>26.0</td>\n      <td>19</td>\n      <td>30.000000</td>\n    </tr>\n    <tr>\n      <th>1</th>\n      <td>9</td>\n      <td>23.000000</td>\n      <td>28.0</td>\n      <td>21</td>\n      <td>34.272727</td>\n    </tr>\n    <tr>\n      <th>2</th>\n      <td>10</td>\n      <td>25.000000</td>\n      <td>30.0</td>\n      <td>23</td>\n      <td>34.000000</td>\n    </tr>\n    <tr>\n      <th>3</th>\n      <td>11</td>\n      <td>24.416667</td>\n      <td>32.0</td>\n      <td>25</td>\n      <td>36.000000</td>\n    </tr>\n    <tr>\n      <th>4</th>\n      <td>12</td>\n      <td>27.000000</td>\n      <td>32.0</td>\n      <td>25</td>\n      <td>36.000000</td>\n    </tr>\n    <tr>\n      <th>5</th>\n      <td>13</td>\n      <td>29.000000</td>\n      <td>34.0</td>\n      <td>27</td>\n      <td>38.000000</td>\n    </tr>\n    <tr>\n      <th>6</th>\n      <td>14</td>\n      <td>29.000000</td>\n      <td>34.0</td>\n      <td>27</td>\n      <td>38.000000</td>\n    </tr>\n    <tr>\n      <th>7</th>\n      <td>15</td>\n      <td>26.000000</td>\n      <td>29.5</td>\n      <td>24</td>\n      <td>35.000000</td>\n    </tr>\n    <tr>\n      <th>8</th>\n      <td>16</td>\n      <td>26.000000</td>\n      <td>31.0</td>\n      <td>24</td>\n      <td>35.000000</td>\n    </tr>\n    <tr>\n      <th>9</th>\n      <td>17</td>\n      <td>25.000000</td>\n      <td>30.0</td>\n      <td>23</td>\n      <td>34.000000</td>\n    </tr>\n    <tr>\n      <th>10</th>\n      <td>18</td>\n      <td>22.000000</td>\n      <td>27.0</td>\n      <td>20</td>\n      <td>31.000000</td>\n    </tr>\n    <tr>\n      <th>11</th>\n      <td>19</td>\n      <td>21.000000</td>\n      <td>26.0</td>\n      <td>19</td>\n      <td>30.000000</td>\n    </tr>\n    <tr>\n      <th>12</th>\n      <td>20</td>\n      <td>19.000000</td>\n      <td>24.0</td>\n      <td>17</td>\n      <td>34.272727</td>\n    </tr>\n  </tbody>\n</table>\n</div>"
     },
     "execution_count": 396,
     "metadata": {},
     "output_type": "execute_result"
    }
   ],
   "source": [
    "tempData.fillna(tempData.mean())\n",
    "\n"
   ],
   "metadata": {
    "collapsed": false,
    "pycharm": {
     "name": "#%%\n"
    }
   }
  },
  {
   "cell_type": "code",
   "execution_count": 397,
   "outputs": [
    {
     "data": {
      "text/plain": "                Name  AtBat  Hits  HmRun  Runs\n0      Andy Allanson    293    66      1    30\n1         Alan Ashby    315    81      7    24\n2        Alvin Davis    479   130     18    66\n3      Andy Allanson    293    66      1    30\n4       Andre Dawson    496   141     20    65\n5   Andres Galarraga    321    87     10    39\n6    Alfredo Griffin    594   169      4    74\n7         Alan Ashby    315    81      7    24\n8          Al Newman    185    37      1    23\n9         Alan Ashby    315    81      7    24\n10   Argenis Salazar    298    73      0    24\n11     Andres Thomas    323    81      6    26\n12    Andre Thornton    401    92     17    49\n13     Alan Trammell    574   159     21   107\n14      Alex Trevino    202    53      4    31\n15     Andy VanSlyke    418   113     13    48\n16      Alan Wiggins    239    60      0    30\n17        Bill Almon    196    43      7    29\n18       Billy Beane    183    39      3    20\n19        Buddy Bell    568   158     20    89\n20  Buddy Biancalana    190    46      2    24\n21      Bruce Bochte    407   104      6    57\n22       Bruce Bochy    127    32      8    16\n23       Barry Bonds    413    92     16    72",
      "text/html": "<div>\n<style scoped>\n    .dataframe tbody tr th:only-of-type {\n        vertical-align: middle;\n    }\n\n    .dataframe tbody tr th {\n        vertical-align: top;\n    }\n\n    .dataframe thead th {\n        text-align: right;\n    }\n</style>\n<table border=\"1\" class=\"dataframe\">\n  <thead>\n    <tr style=\"text-align: right;\">\n      <th></th>\n      <th>Name</th>\n      <th>AtBat</th>\n      <th>Hits</th>\n      <th>HmRun</th>\n      <th>Runs</th>\n    </tr>\n  </thead>\n  <tbody>\n    <tr>\n      <th>0</th>\n      <td>Andy Allanson</td>\n      <td>293</td>\n      <td>66</td>\n      <td>1</td>\n      <td>30</td>\n    </tr>\n    <tr>\n      <th>1</th>\n      <td>Alan Ashby</td>\n      <td>315</td>\n      <td>81</td>\n      <td>7</td>\n      <td>24</td>\n    </tr>\n    <tr>\n      <th>2</th>\n      <td>Alvin Davis</td>\n      <td>479</td>\n      <td>130</td>\n      <td>18</td>\n      <td>66</td>\n    </tr>\n    <tr>\n      <th>3</th>\n      <td>Andy Allanson</td>\n      <td>293</td>\n      <td>66</td>\n      <td>1</td>\n      <td>30</td>\n    </tr>\n    <tr>\n      <th>4</th>\n      <td>Andre Dawson</td>\n      <td>496</td>\n      <td>141</td>\n      <td>20</td>\n      <td>65</td>\n    </tr>\n    <tr>\n      <th>5</th>\n      <td>Andres Galarraga</td>\n      <td>321</td>\n      <td>87</td>\n      <td>10</td>\n      <td>39</td>\n    </tr>\n    <tr>\n      <th>6</th>\n      <td>Alfredo Griffin</td>\n      <td>594</td>\n      <td>169</td>\n      <td>4</td>\n      <td>74</td>\n    </tr>\n    <tr>\n      <th>7</th>\n      <td>Alan Ashby</td>\n      <td>315</td>\n      <td>81</td>\n      <td>7</td>\n      <td>24</td>\n    </tr>\n    <tr>\n      <th>8</th>\n      <td>Al Newman</td>\n      <td>185</td>\n      <td>37</td>\n      <td>1</td>\n      <td>23</td>\n    </tr>\n    <tr>\n      <th>9</th>\n      <td>Alan Ashby</td>\n      <td>315</td>\n      <td>81</td>\n      <td>7</td>\n      <td>24</td>\n    </tr>\n    <tr>\n      <th>10</th>\n      <td>Argenis Salazar</td>\n      <td>298</td>\n      <td>73</td>\n      <td>0</td>\n      <td>24</td>\n    </tr>\n    <tr>\n      <th>11</th>\n      <td>Andres Thomas</td>\n      <td>323</td>\n      <td>81</td>\n      <td>6</td>\n      <td>26</td>\n    </tr>\n    <tr>\n      <th>12</th>\n      <td>Andre Thornton</td>\n      <td>401</td>\n      <td>92</td>\n      <td>17</td>\n      <td>49</td>\n    </tr>\n    <tr>\n      <th>13</th>\n      <td>Alan Trammell</td>\n      <td>574</td>\n      <td>159</td>\n      <td>21</td>\n      <td>107</td>\n    </tr>\n    <tr>\n      <th>14</th>\n      <td>Alex Trevino</td>\n      <td>202</td>\n      <td>53</td>\n      <td>4</td>\n      <td>31</td>\n    </tr>\n    <tr>\n      <th>15</th>\n      <td>Andy VanSlyke</td>\n      <td>418</td>\n      <td>113</td>\n      <td>13</td>\n      <td>48</td>\n    </tr>\n    <tr>\n      <th>16</th>\n      <td>Alan Wiggins</td>\n      <td>239</td>\n      <td>60</td>\n      <td>0</td>\n      <td>30</td>\n    </tr>\n    <tr>\n      <th>17</th>\n      <td>Bill Almon</td>\n      <td>196</td>\n      <td>43</td>\n      <td>7</td>\n      <td>29</td>\n    </tr>\n    <tr>\n      <th>18</th>\n      <td>Billy Beane</td>\n      <td>183</td>\n      <td>39</td>\n      <td>3</td>\n      <td>20</td>\n    </tr>\n    <tr>\n      <th>19</th>\n      <td>Buddy Bell</td>\n      <td>568</td>\n      <td>158</td>\n      <td>20</td>\n      <td>89</td>\n    </tr>\n    <tr>\n      <th>20</th>\n      <td>Buddy Biancalana</td>\n      <td>190</td>\n      <td>46</td>\n      <td>2</td>\n      <td>24</td>\n    </tr>\n    <tr>\n      <th>21</th>\n      <td>Bruce Bochte</td>\n      <td>407</td>\n      <td>104</td>\n      <td>6</td>\n      <td>57</td>\n    </tr>\n    <tr>\n      <th>22</th>\n      <td>Bruce Bochy</td>\n      <td>127</td>\n      <td>32</td>\n      <td>8</td>\n      <td>16</td>\n    </tr>\n    <tr>\n      <th>23</th>\n      <td>Barry Bonds</td>\n      <td>413</td>\n      <td>92</td>\n      <td>16</td>\n      <td>72</td>\n    </tr>\n  </tbody>\n</table>\n</div>"
     },
     "execution_count": 397,
     "metadata": {},
     "output_type": "execute_result"
    }
   ],
   "source": [
    "dt1 = pd.read_csv('data/ex1.csv')\n",
    "dt1"
   ],
   "metadata": {
    "collapsed": false,
    "pycharm": {
     "name": "#%%\n"
    }
   }
  },
  {
   "cell_type": "code",
   "execution_count": 401,
   "outputs": [
    {
     "data": {
      "text/plain": "                Name  AtBat  Hits  HmRun  Runs\n0      Andy Allanson    293    66      1    30\n1         Alan Ashby    315    81      7    24\n2        Alvin Davis    479   130     18    66\n3      Andy Allanson    293    66      1    30\n4       Andre Dawson    496   141     20    65\n5   Andres Galarraga    321    87     10    39\n6    Alfredo Griffin    594   169      4    74\n7         Alan Ashby    315    81      7    24\n8          Al Newman    185    37      1    23\n9         Alan Ashby    315    81      7    24\n10   Argenis Salazar    298    73      0    24\n11     Andres Thomas    323    81      6    26\n12    Andre Thornton    401    92     17    49\n13     Alan Trammell    574   159     21   107\n14      Alex Trevino    202    53      4    31\n15     Andy VanSlyke    418   113     13    48\n16      Alan Wiggins    239    60      0    30\n17        Bill Almon    196    43      7    29\n18       Billy Beane    183    39      3    20\n19        Buddy Bell    568   158     20    89\n20  Buddy Biancalana    190    46      2    24\n21      Bruce Bochte    407   104      6    57\n22       Bruce Bochy    127    32      8    16\n23       Barry Bonds    413    92     16    72",
      "text/html": "<div>\n<style scoped>\n    .dataframe tbody tr th:only-of-type {\n        vertical-align: middle;\n    }\n\n    .dataframe tbody tr th {\n        vertical-align: top;\n    }\n\n    .dataframe thead th {\n        text-align: right;\n    }\n</style>\n<table border=\"1\" class=\"dataframe\">\n  <thead>\n    <tr style=\"text-align: right;\">\n      <th></th>\n      <th>Name</th>\n      <th>AtBat</th>\n      <th>Hits</th>\n      <th>HmRun</th>\n      <th>Runs</th>\n    </tr>\n  </thead>\n  <tbody>\n    <tr>\n      <th>0</th>\n      <td>Andy Allanson</td>\n      <td>293</td>\n      <td>66</td>\n      <td>1</td>\n      <td>30</td>\n    </tr>\n    <tr>\n      <th>1</th>\n      <td>Alan Ashby</td>\n      <td>315</td>\n      <td>81</td>\n      <td>7</td>\n      <td>24</td>\n    </tr>\n    <tr>\n      <th>2</th>\n      <td>Alvin Davis</td>\n      <td>479</td>\n      <td>130</td>\n      <td>18</td>\n      <td>66</td>\n    </tr>\n    <tr>\n      <th>3</th>\n      <td>Andy Allanson</td>\n      <td>293</td>\n      <td>66</td>\n      <td>1</td>\n      <td>30</td>\n    </tr>\n    <tr>\n      <th>4</th>\n      <td>Andre Dawson</td>\n      <td>496</td>\n      <td>141</td>\n      <td>20</td>\n      <td>65</td>\n    </tr>\n    <tr>\n      <th>5</th>\n      <td>Andres Galarraga</td>\n      <td>321</td>\n      <td>87</td>\n      <td>10</td>\n      <td>39</td>\n    </tr>\n    <tr>\n      <th>6</th>\n      <td>Alfredo Griffin</td>\n      <td>594</td>\n      <td>169</td>\n      <td>4</td>\n      <td>74</td>\n    </tr>\n    <tr>\n      <th>7</th>\n      <td>Alan Ashby</td>\n      <td>315</td>\n      <td>81</td>\n      <td>7</td>\n      <td>24</td>\n    </tr>\n    <tr>\n      <th>8</th>\n      <td>Al Newman</td>\n      <td>185</td>\n      <td>37</td>\n      <td>1</td>\n      <td>23</td>\n    </tr>\n    <tr>\n      <th>9</th>\n      <td>Alan Ashby</td>\n      <td>315</td>\n      <td>81</td>\n      <td>7</td>\n      <td>24</td>\n    </tr>\n    <tr>\n      <th>10</th>\n      <td>Argenis Salazar</td>\n      <td>298</td>\n      <td>73</td>\n      <td>0</td>\n      <td>24</td>\n    </tr>\n    <tr>\n      <th>11</th>\n      <td>Andres Thomas</td>\n      <td>323</td>\n      <td>81</td>\n      <td>6</td>\n      <td>26</td>\n    </tr>\n    <tr>\n      <th>12</th>\n      <td>Andre Thornton</td>\n      <td>401</td>\n      <td>92</td>\n      <td>17</td>\n      <td>49</td>\n    </tr>\n    <tr>\n      <th>13</th>\n      <td>Alan Trammell</td>\n      <td>574</td>\n      <td>159</td>\n      <td>21</td>\n      <td>107</td>\n    </tr>\n    <tr>\n      <th>14</th>\n      <td>Alex Trevino</td>\n      <td>202</td>\n      <td>53</td>\n      <td>4</td>\n      <td>31</td>\n    </tr>\n    <tr>\n      <th>15</th>\n      <td>Andy VanSlyke</td>\n      <td>418</td>\n      <td>113</td>\n      <td>13</td>\n      <td>48</td>\n    </tr>\n    <tr>\n      <th>16</th>\n      <td>Alan Wiggins</td>\n      <td>239</td>\n      <td>60</td>\n      <td>0</td>\n      <td>30</td>\n    </tr>\n    <tr>\n      <th>17</th>\n      <td>Bill Almon</td>\n      <td>196</td>\n      <td>43</td>\n      <td>7</td>\n      <td>29</td>\n    </tr>\n    <tr>\n      <th>18</th>\n      <td>Billy Beane</td>\n      <td>183</td>\n      <td>39</td>\n      <td>3</td>\n      <td>20</td>\n    </tr>\n    <tr>\n      <th>19</th>\n      <td>Buddy Bell</td>\n      <td>568</td>\n      <td>158</td>\n      <td>20</td>\n      <td>89</td>\n    </tr>\n    <tr>\n      <th>20</th>\n      <td>Buddy Biancalana</td>\n      <td>190</td>\n      <td>46</td>\n      <td>2</td>\n      <td>24</td>\n    </tr>\n    <tr>\n      <th>21</th>\n      <td>Bruce Bochte</td>\n      <td>407</td>\n      <td>104</td>\n      <td>6</td>\n      <td>57</td>\n    </tr>\n    <tr>\n      <th>22</th>\n      <td>Bruce Bochy</td>\n      <td>127</td>\n      <td>32</td>\n      <td>8</td>\n      <td>16</td>\n    </tr>\n    <tr>\n      <th>23</th>\n      <td>Barry Bonds</td>\n      <td>413</td>\n      <td>92</td>\n      <td>16</td>\n      <td>72</td>\n    </tr>\n  </tbody>\n</table>\n</div>"
     },
     "execution_count": 401,
     "metadata": {},
     "output_type": "execute_result"
    }
   ],
   "source": [
    "dt1"
   ],
   "metadata": {
    "collapsed": false,
    "pycharm": {
     "name": "#%%\n"
    }
   }
  },
  {
   "cell_type": "code",
   "execution_count": 402,
   "outputs": [],
   "source": [
    "dt1.drop_duplicates(inplace=True)"
   ],
   "metadata": {
    "collapsed": false,
    "pycharm": {
     "name": "#%%\n"
    }
   }
  },
  {
   "cell_type": "code",
   "execution_count": 403,
   "outputs": [
    {
     "data": {
      "text/plain": "                Name  AtBat  Hits  HmRun  Runs\n0      Andy Allanson    293    66      1    30\n1         Alan Ashby    315    81      7    24\n2        Alvin Davis    479   130     18    66\n4       Andre Dawson    496   141     20    65\n5   Andres Galarraga    321    87     10    39\n6    Alfredo Griffin    594   169      4    74\n8          Al Newman    185    37      1    23\n10   Argenis Salazar    298    73      0    24\n11     Andres Thomas    323    81      6    26\n12    Andre Thornton    401    92     17    49\n13     Alan Trammell    574   159     21   107\n14      Alex Trevino    202    53      4    31\n15     Andy VanSlyke    418   113     13    48\n16      Alan Wiggins    239    60      0    30\n17        Bill Almon    196    43      7    29\n18       Billy Beane    183    39      3    20\n19        Buddy Bell    568   158     20    89\n20  Buddy Biancalana    190    46      2    24\n21      Bruce Bochte    407   104      6    57\n22       Bruce Bochy    127    32      8    16\n23       Barry Bonds    413    92     16    72",
      "text/html": "<div>\n<style scoped>\n    .dataframe tbody tr th:only-of-type {\n        vertical-align: middle;\n    }\n\n    .dataframe tbody tr th {\n        vertical-align: top;\n    }\n\n    .dataframe thead th {\n        text-align: right;\n    }\n</style>\n<table border=\"1\" class=\"dataframe\">\n  <thead>\n    <tr style=\"text-align: right;\">\n      <th></th>\n      <th>Name</th>\n      <th>AtBat</th>\n      <th>Hits</th>\n      <th>HmRun</th>\n      <th>Runs</th>\n    </tr>\n  </thead>\n  <tbody>\n    <tr>\n      <th>0</th>\n      <td>Andy Allanson</td>\n      <td>293</td>\n      <td>66</td>\n      <td>1</td>\n      <td>30</td>\n    </tr>\n    <tr>\n      <th>1</th>\n      <td>Alan Ashby</td>\n      <td>315</td>\n      <td>81</td>\n      <td>7</td>\n      <td>24</td>\n    </tr>\n    <tr>\n      <th>2</th>\n      <td>Alvin Davis</td>\n      <td>479</td>\n      <td>130</td>\n      <td>18</td>\n      <td>66</td>\n    </tr>\n    <tr>\n      <th>4</th>\n      <td>Andre Dawson</td>\n      <td>496</td>\n      <td>141</td>\n      <td>20</td>\n      <td>65</td>\n    </tr>\n    <tr>\n      <th>5</th>\n      <td>Andres Galarraga</td>\n      <td>321</td>\n      <td>87</td>\n      <td>10</td>\n      <td>39</td>\n    </tr>\n    <tr>\n      <th>6</th>\n      <td>Alfredo Griffin</td>\n      <td>594</td>\n      <td>169</td>\n      <td>4</td>\n      <td>74</td>\n    </tr>\n    <tr>\n      <th>8</th>\n      <td>Al Newman</td>\n      <td>185</td>\n      <td>37</td>\n      <td>1</td>\n      <td>23</td>\n    </tr>\n    <tr>\n      <th>10</th>\n      <td>Argenis Salazar</td>\n      <td>298</td>\n      <td>73</td>\n      <td>0</td>\n      <td>24</td>\n    </tr>\n    <tr>\n      <th>11</th>\n      <td>Andres Thomas</td>\n      <td>323</td>\n      <td>81</td>\n      <td>6</td>\n      <td>26</td>\n    </tr>\n    <tr>\n      <th>12</th>\n      <td>Andre Thornton</td>\n      <td>401</td>\n      <td>92</td>\n      <td>17</td>\n      <td>49</td>\n    </tr>\n    <tr>\n      <th>13</th>\n      <td>Alan Trammell</td>\n      <td>574</td>\n      <td>159</td>\n      <td>21</td>\n      <td>107</td>\n    </tr>\n    <tr>\n      <th>14</th>\n      <td>Alex Trevino</td>\n      <td>202</td>\n      <td>53</td>\n      <td>4</td>\n      <td>31</td>\n    </tr>\n    <tr>\n      <th>15</th>\n      <td>Andy VanSlyke</td>\n      <td>418</td>\n      <td>113</td>\n      <td>13</td>\n      <td>48</td>\n    </tr>\n    <tr>\n      <th>16</th>\n      <td>Alan Wiggins</td>\n      <td>239</td>\n      <td>60</td>\n      <td>0</td>\n      <td>30</td>\n    </tr>\n    <tr>\n      <th>17</th>\n      <td>Bill Almon</td>\n      <td>196</td>\n      <td>43</td>\n      <td>7</td>\n      <td>29</td>\n    </tr>\n    <tr>\n      <th>18</th>\n      <td>Billy Beane</td>\n      <td>183</td>\n      <td>39</td>\n      <td>3</td>\n      <td>20</td>\n    </tr>\n    <tr>\n      <th>19</th>\n      <td>Buddy Bell</td>\n      <td>568</td>\n      <td>158</td>\n      <td>20</td>\n      <td>89</td>\n    </tr>\n    <tr>\n      <th>20</th>\n      <td>Buddy Biancalana</td>\n      <td>190</td>\n      <td>46</td>\n      <td>2</td>\n      <td>24</td>\n    </tr>\n    <tr>\n      <th>21</th>\n      <td>Bruce Bochte</td>\n      <td>407</td>\n      <td>104</td>\n      <td>6</td>\n      <td>57</td>\n    </tr>\n    <tr>\n      <th>22</th>\n      <td>Bruce Bochy</td>\n      <td>127</td>\n      <td>32</td>\n      <td>8</td>\n      <td>16</td>\n    </tr>\n    <tr>\n      <th>23</th>\n      <td>Barry Bonds</td>\n      <td>413</td>\n      <td>92</td>\n      <td>16</td>\n      <td>72</td>\n    </tr>\n  </tbody>\n</table>\n</div>"
     },
     "execution_count": 403,
     "metadata": {},
     "output_type": "execute_result"
    }
   ],
   "source": [
    "dt1"
   ],
   "metadata": {
    "collapsed": false,
    "pycharm": {
     "name": "#%%\n"
    }
   }
  },
  {
   "cell_type": "markdown",
   "source": [
    "temp = pd.Series([23,37,999,32,32,28,999,19,24])"
   ],
   "metadata": {
    "collapsed": false,
    "pycharm": {
     "name": "#%% md\n"
    }
   }
  },
  {
   "cell_type": "markdown",
   "source": [],
   "metadata": {
    "collapsed": false,
    "pycharm": {
     "name": "#%% md\n"
    }
   }
  },
  {
   "cell_type": "code",
   "execution_count": 410,
   "outputs": [
    {
     "data": {
      "text/plain": "0       23\n1       37\n2      999\n3       32\n4       32\n5       28\n6     -999\n7       19\n8     1000\n9       80\n10      24\ndtype: int64"
     },
     "execution_count": 410,
     "metadata": {},
     "output_type": "execute_result"
    }
   ],
   "source": [
    "temp = pd.Series([23,37,999,32,32,28,-999,19,1000,80,24])\n",
    "temp"
   ],
   "metadata": {
    "collapsed": false,
    "pycharm": {
     "name": "#%%\n"
    }
   }
  },
  {
   "cell_type": "code",
   "execution_count": 408,
   "outputs": [],
   "source": [
    "temp.replace([temp.values >40, np.nan, inplace=True)"
   ],
   "metadata": {
    "collapsed": false,
    "pycharm": {
     "name": "#%%\n"
    }
   }
  },
  {
   "cell_type": "markdown",
   "source": [
    "temp"
   ],
   "metadata": {
    "collapsed": false,
    "pycharm": {
     "name": "#%% md\n"
    }
   }
  },
  {
   "cell_type": "code",
   "execution_count": 406,
   "outputs": [
    {
     "data": {
      "text/plain": "0    23.0\n1    37.0\n2     NaN\n3    32.0\n4    32.0\n5    28.0\n6     NaN\n7    19.0\n8    24.0\ndtype: float64"
     },
     "execution_count": 406,
     "metadata": {},
     "output_type": "execute_result"
    }
   ],
   "source": [
    "temp"
   ],
   "metadata": {
    "collapsed": false,
    "pycharm": {
     "name": "#%%\n"
    }
   }
  },
  {
   "cell_type": "code",
   "execution_count": 411,
   "outputs": [
    {
     "data": {
      "text/plain": "array([  23,   37,  999,   32,   32,   28, -999,   19, 1000,   80,   24])"
     },
     "execution_count": 411,
     "metadata": {},
     "output_type": "execute_result"
    }
   ],
   "source": [
    "temp.values"
   ],
   "metadata": {
    "collapsed": false,
    "pycharm": {
     "name": "#%%\n"
    }
   }
  },
  {
   "cell_type": "code",
   "execution_count": 412,
   "outputs": [
    {
     "ename": "KeyError",
     "evalue": "'data'",
     "output_type": "error",
     "traceback": [
      "\u001B[0;31m---------------------------------------------------------------------------\u001B[0m",
      "\u001B[0;31mKeyError\u001B[0m                                  Traceback (most recent call last)",
      "Input \u001B[0;32mIn [412]\u001B[0m, in \u001B[0;36m<cell line: 1>\u001B[0;34m()\u001B[0m\n\u001B[0;32m----> 1\u001B[0m temp\u001B[38;5;241m.\u001B[39mreplace(\u001B[43mtemp\u001B[49m\u001B[43m[\u001B[49m\u001B[38;5;124;43m'\u001B[39;49m\u001B[38;5;124;43mdata\u001B[39;49m\u001B[38;5;124;43m'\u001B[39;49m\u001B[43m]\u001B[49m \u001B[38;5;241m>\u001B[39m \u001B[38;5;241m40\u001B[39m, np\u001B[38;5;241m.\u001B[39mnan, inplace\u001B[38;5;241m=\u001B[39m\u001B[38;5;28;01mTrue\u001B[39;00m)\n",
      "File \u001B[0;32m~/anaconda3/envs/DataScience/lib/python3.10/site-packages/pandas/core/series.py:958\u001B[0m, in \u001B[0;36mSeries.__getitem__\u001B[0;34m(self, key)\u001B[0m\n\u001B[1;32m    955\u001B[0m     \u001B[38;5;28;01mreturn\u001B[39;00m \u001B[38;5;28mself\u001B[39m\u001B[38;5;241m.\u001B[39m_values[key]\n\u001B[1;32m    957\u001B[0m \u001B[38;5;28;01melif\u001B[39;00m key_is_scalar:\n\u001B[0;32m--> 958\u001B[0m     \u001B[38;5;28;01mreturn\u001B[39;00m \u001B[38;5;28;43mself\u001B[39;49m\u001B[38;5;241;43m.\u001B[39;49m\u001B[43m_get_value\u001B[49m\u001B[43m(\u001B[49m\u001B[43mkey\u001B[49m\u001B[43m)\u001B[49m\n\u001B[1;32m    960\u001B[0m \u001B[38;5;28;01mif\u001B[39;00m is_hashable(key):\n\u001B[1;32m    961\u001B[0m     \u001B[38;5;66;03m# Otherwise index.get_value will raise InvalidIndexError\u001B[39;00m\n\u001B[1;32m    962\u001B[0m     \u001B[38;5;28;01mtry\u001B[39;00m:\n\u001B[1;32m    963\u001B[0m         \u001B[38;5;66;03m# For labels that don't resolve as scalars like tuples and frozensets\u001B[39;00m\n",
      "File \u001B[0;32m~/anaconda3/envs/DataScience/lib/python3.10/site-packages/pandas/core/series.py:1069\u001B[0m, in \u001B[0;36mSeries._get_value\u001B[0;34m(self, label, takeable)\u001B[0m\n\u001B[1;32m   1066\u001B[0m     \u001B[38;5;28;01mreturn\u001B[39;00m \u001B[38;5;28mself\u001B[39m\u001B[38;5;241m.\u001B[39m_values[label]\n\u001B[1;32m   1068\u001B[0m \u001B[38;5;66;03m# Similar to Index.get_value, but we do not fall back to positional\u001B[39;00m\n\u001B[0;32m-> 1069\u001B[0m loc \u001B[38;5;241m=\u001B[39m \u001B[38;5;28;43mself\u001B[39;49m\u001B[38;5;241;43m.\u001B[39;49m\u001B[43mindex\u001B[49m\u001B[38;5;241;43m.\u001B[39;49m\u001B[43mget_loc\u001B[49m\u001B[43m(\u001B[49m\u001B[43mlabel\u001B[49m\u001B[43m)\u001B[49m\n\u001B[1;32m   1070\u001B[0m \u001B[38;5;28;01mreturn\u001B[39;00m \u001B[38;5;28mself\u001B[39m\u001B[38;5;241m.\u001B[39mindex\u001B[38;5;241m.\u001B[39m_get_values_for_loc(\u001B[38;5;28mself\u001B[39m, loc, label)\n",
      "File \u001B[0;32m~/anaconda3/envs/DataScience/lib/python3.10/site-packages/pandas/core/indexes/range.py:389\u001B[0m, in \u001B[0;36mRangeIndex.get_loc\u001B[0;34m(self, key, method, tolerance)\u001B[0m\n\u001B[1;32m    387\u001B[0m             \u001B[38;5;28;01mraise\u001B[39;00m \u001B[38;5;167;01mKeyError\u001B[39;00m(key) \u001B[38;5;28;01mfrom\u001B[39;00m \u001B[38;5;21;01merr\u001B[39;00m\n\u001B[1;32m    388\u001B[0m     \u001B[38;5;28mself\u001B[39m\u001B[38;5;241m.\u001B[39m_check_indexing_error(key)\n\u001B[0;32m--> 389\u001B[0m     \u001B[38;5;28;01mraise\u001B[39;00m \u001B[38;5;167;01mKeyError\u001B[39;00m(key)\n\u001B[1;32m    390\u001B[0m \u001B[38;5;28;01mreturn\u001B[39;00m \u001B[38;5;28msuper\u001B[39m()\u001B[38;5;241m.\u001B[39mget_loc(key, method\u001B[38;5;241m=\u001B[39mmethod, tolerance\u001B[38;5;241m=\u001B[39mtolerance)\n",
      "\u001B[0;31mKeyError\u001B[0m: 'data'"
     ]
    }
   ],
   "source": [
    "temp.replace(temp['data'] > 40, np.nan, inplace=True)"
   ],
   "metadata": {
    "collapsed": false,
    "pycharm": {
     "name": "#%%\n"
    }
   }
  },
  {
   "cell_type": "markdown",
   "source": [],
   "metadata": {
    "collapsed": false,
    "pycharm": {
     "name": "#%% md\n"
    }
   }
  },
  {
   "cell_type": "code",
   "execution_count": 413,
   "outputs": [
    {
     "data": {
      "text/plain": "0       23\n1       37\n2      999\n3       32\n4       32\n5       28\n6     -999\n7       19\n8     1000\n9       80\n10      24\ndtype: int64"
     },
     "execution_count": 413,
     "metadata": {},
     "output_type": "execute_result"
    }
   ],
   "source": [
    "temp"
   ],
   "metadata": {
    "collapsed": false,
    "pycharm": {
     "name": "#%%\n"
    }
   }
  },
  {
   "cell_type": "code",
   "execution_count": 416,
   "outputs": [
    {
     "ename": "AttributeError",
     "evalue": "'Series' object has no attribute 'data'",
     "output_type": "error",
     "traceback": [
      "\u001B[0;31m---------------------------------------------------------------------------\u001B[0m",
      "\u001B[0;31mAttributeError\u001B[0m                            Traceback (most recent call last)",
      "Input \u001B[0;32mIn [416]\u001B[0m, in \u001B[0;36m<cell line: 1>\u001B[0;34m()\u001B[0m\n\u001B[0;32m----> 1\u001B[0m \u001B[43mtemp\u001B[49m\u001B[38;5;241;43m.\u001B[39;49m\u001B[43mdata\u001B[49m\n",
      "File \u001B[0;32m~/anaconda3/envs/DataScience/lib/python3.10/site-packages/pandas/core/generic.py:5575\u001B[0m, in \u001B[0;36mNDFrame.__getattr__\u001B[0;34m(self, name)\u001B[0m\n\u001B[1;32m   5568\u001B[0m \u001B[38;5;28;01mif\u001B[39;00m (\n\u001B[1;32m   5569\u001B[0m     name \u001B[38;5;129;01mnot\u001B[39;00m \u001B[38;5;129;01min\u001B[39;00m \u001B[38;5;28mself\u001B[39m\u001B[38;5;241m.\u001B[39m_internal_names_set\n\u001B[1;32m   5570\u001B[0m     \u001B[38;5;129;01mand\u001B[39;00m name \u001B[38;5;129;01mnot\u001B[39;00m \u001B[38;5;129;01min\u001B[39;00m \u001B[38;5;28mself\u001B[39m\u001B[38;5;241m.\u001B[39m_metadata\n\u001B[1;32m   5571\u001B[0m     \u001B[38;5;129;01mand\u001B[39;00m name \u001B[38;5;129;01mnot\u001B[39;00m \u001B[38;5;129;01min\u001B[39;00m \u001B[38;5;28mself\u001B[39m\u001B[38;5;241m.\u001B[39m_accessors\n\u001B[1;32m   5572\u001B[0m     \u001B[38;5;129;01mand\u001B[39;00m \u001B[38;5;28mself\u001B[39m\u001B[38;5;241m.\u001B[39m_info_axis\u001B[38;5;241m.\u001B[39m_can_hold_identifiers_and_holds_name(name)\n\u001B[1;32m   5573\u001B[0m ):\n\u001B[1;32m   5574\u001B[0m     \u001B[38;5;28;01mreturn\u001B[39;00m \u001B[38;5;28mself\u001B[39m[name]\n\u001B[0;32m-> 5575\u001B[0m \u001B[38;5;28;01mreturn\u001B[39;00m \u001B[38;5;28;43mobject\u001B[39;49m\u001B[38;5;241;43m.\u001B[39;49m\u001B[38;5;21;43m__getattribute__\u001B[39;49m\u001B[43m(\u001B[49m\u001B[38;5;28;43mself\u001B[39;49m\u001B[43m,\u001B[49m\u001B[43m \u001B[49m\u001B[43mname\u001B[49m\u001B[43m)\u001B[49m\n",
      "\u001B[0;31mAttributeError\u001B[0m: 'Series' object has no attribute 'data'"
     ]
    }
   ],
   "source": [
    "temp.data"
   ],
   "metadata": {
    "collapsed": false,
    "pycharm": {
     "name": "#%%\n"
    }
   }
  },
  {
   "cell_type": "code",
   "execution_count": 421,
   "outputs": [
    {
     "ename": "KeyError",
     "evalue": "'data'",
     "output_type": "error",
     "traceback": [
      "\u001B[0;31m---------------------------------------------------------------------------\u001B[0m",
      "\u001B[0;31mKeyError\u001B[0m                                  Traceback (most recent call last)",
      "Input \u001B[0;32mIn [421]\u001B[0m, in \u001B[0;36m<cell line: 1>\u001B[0;34m()\u001B[0m\n\u001B[0;32m----> 1\u001B[0m temp\u001B[38;5;241m.\u001B[39mloc[\u001B[43mtemp\u001B[49m\u001B[43m[\u001B[49m\u001B[38;5;124;43m'\u001B[39;49m\u001B[38;5;124;43mdata\u001B[39;49m\u001B[38;5;124;43m'\u001B[39;49m\u001B[43m]\u001B[49m]\n",
      "File \u001B[0;32m~/anaconda3/envs/DataScience/lib/python3.10/site-packages/pandas/core/series.py:958\u001B[0m, in \u001B[0;36mSeries.__getitem__\u001B[0;34m(self, key)\u001B[0m\n\u001B[1;32m    955\u001B[0m     \u001B[38;5;28;01mreturn\u001B[39;00m \u001B[38;5;28mself\u001B[39m\u001B[38;5;241m.\u001B[39m_values[key]\n\u001B[1;32m    957\u001B[0m \u001B[38;5;28;01melif\u001B[39;00m key_is_scalar:\n\u001B[0;32m--> 958\u001B[0m     \u001B[38;5;28;01mreturn\u001B[39;00m \u001B[38;5;28;43mself\u001B[39;49m\u001B[38;5;241;43m.\u001B[39;49m\u001B[43m_get_value\u001B[49m\u001B[43m(\u001B[49m\u001B[43mkey\u001B[49m\u001B[43m)\u001B[49m\n\u001B[1;32m    960\u001B[0m \u001B[38;5;28;01mif\u001B[39;00m is_hashable(key):\n\u001B[1;32m    961\u001B[0m     \u001B[38;5;66;03m# Otherwise index.get_value will raise InvalidIndexError\u001B[39;00m\n\u001B[1;32m    962\u001B[0m     \u001B[38;5;28;01mtry\u001B[39;00m:\n\u001B[1;32m    963\u001B[0m         \u001B[38;5;66;03m# For labels that don't resolve as scalars like tuples and frozensets\u001B[39;00m\n",
      "File \u001B[0;32m~/anaconda3/envs/DataScience/lib/python3.10/site-packages/pandas/core/series.py:1069\u001B[0m, in \u001B[0;36mSeries._get_value\u001B[0;34m(self, label, takeable)\u001B[0m\n\u001B[1;32m   1066\u001B[0m     \u001B[38;5;28;01mreturn\u001B[39;00m \u001B[38;5;28mself\u001B[39m\u001B[38;5;241m.\u001B[39m_values[label]\n\u001B[1;32m   1068\u001B[0m \u001B[38;5;66;03m# Similar to Index.get_value, but we do not fall back to positional\u001B[39;00m\n\u001B[0;32m-> 1069\u001B[0m loc \u001B[38;5;241m=\u001B[39m \u001B[38;5;28;43mself\u001B[39;49m\u001B[38;5;241;43m.\u001B[39;49m\u001B[43mindex\u001B[49m\u001B[38;5;241;43m.\u001B[39;49m\u001B[43mget_loc\u001B[49m\u001B[43m(\u001B[49m\u001B[43mlabel\u001B[49m\u001B[43m)\u001B[49m\n\u001B[1;32m   1070\u001B[0m \u001B[38;5;28;01mreturn\u001B[39;00m \u001B[38;5;28mself\u001B[39m\u001B[38;5;241m.\u001B[39mindex\u001B[38;5;241m.\u001B[39m_get_values_for_loc(\u001B[38;5;28mself\u001B[39m, loc, label)\n",
      "File \u001B[0;32m~/anaconda3/envs/DataScience/lib/python3.10/site-packages/pandas/core/indexes/range.py:389\u001B[0m, in \u001B[0;36mRangeIndex.get_loc\u001B[0;34m(self, key, method, tolerance)\u001B[0m\n\u001B[1;32m    387\u001B[0m             \u001B[38;5;28;01mraise\u001B[39;00m \u001B[38;5;167;01mKeyError\u001B[39;00m(key) \u001B[38;5;28;01mfrom\u001B[39;00m \u001B[38;5;21;01merr\u001B[39;00m\n\u001B[1;32m    388\u001B[0m     \u001B[38;5;28mself\u001B[39m\u001B[38;5;241m.\u001B[39m_check_indexing_error(key)\n\u001B[0;32m--> 389\u001B[0m     \u001B[38;5;28;01mraise\u001B[39;00m \u001B[38;5;167;01mKeyError\u001B[39;00m(key)\n\u001B[1;32m    390\u001B[0m \u001B[38;5;28;01mreturn\u001B[39;00m \u001B[38;5;28msuper\u001B[39m()\u001B[38;5;241m.\u001B[39mget_loc(key, method\u001B[38;5;241m=\u001B[39mmethod, tolerance\u001B[38;5;241m=\u001B[39mtolerance)\n",
      "\u001B[0;31mKeyError\u001B[0m: 'data'"
     ]
    }
   ],
   "source": [
    "temp.loc[temp['data']]"
   ],
   "metadata": {
    "collapsed": false,
    "pycharm": {
     "name": "#%%\n"
    }
   }
  },
  {
   "cell_type": "code",
   "execution_count": 422,
   "outputs": [
    {
     "data": {
      "text/plain": "   gender\na    male\nb   femal\nc    male\nd    male\ne  female\nf     mal\ng  female",
      "text/html": "<div>\n<style scoped>\n    .dataframe tbody tr th:only-of-type {\n        vertical-align: middle;\n    }\n\n    .dataframe tbody tr th {\n        vertical-align: top;\n    }\n\n    .dataframe thead th {\n        text-align: right;\n    }\n</style>\n<table border=\"1\" class=\"dataframe\">\n  <thead>\n    <tr style=\"text-align: right;\">\n      <th></th>\n      <th>gender</th>\n    </tr>\n  </thead>\n  <tbody>\n    <tr>\n      <th>a</th>\n      <td>male</td>\n    </tr>\n    <tr>\n      <th>b</th>\n      <td>femal</td>\n    </tr>\n    <tr>\n      <th>c</th>\n      <td>male</td>\n    </tr>\n    <tr>\n      <th>d</th>\n      <td>male</td>\n    </tr>\n    <tr>\n      <th>e</th>\n      <td>female</td>\n    </tr>\n    <tr>\n      <th>f</th>\n      <td>mal</td>\n    </tr>\n    <tr>\n      <th>g</th>\n      <td>female</td>\n    </tr>\n  </tbody>\n</table>\n</div>"
     },
     "execution_count": 422,
     "metadata": {},
     "output_type": "execute_result"
    }
   ],
   "source": [
    "gender = pd.DataFrame(['male','femal','male','male','female','mal','female'], index=list('abcdefg'), columns = ['gender'])\n",
    "gender"
   ],
   "metadata": {
    "collapsed": false,
    "pycharm": {
     "name": "#%%\n"
    }
   }
  },
  {
   "cell_type": "code",
   "execution_count": 423,
   "outputs": [
    {
     "data": {
      "text/plain": "   gender\na    male\nb   femal\nc    male\nd    male\ne  female\nf    male\ng  female",
      "text/html": "<div>\n<style scoped>\n    .dataframe tbody tr th:only-of-type {\n        vertical-align: middle;\n    }\n\n    .dataframe tbody tr th {\n        vertical-align: top;\n    }\n\n    .dataframe thead th {\n        text-align: right;\n    }\n</style>\n<table border=\"1\" class=\"dataframe\">\n  <thead>\n    <tr style=\"text-align: right;\">\n      <th></th>\n      <th>gender</th>\n    </tr>\n  </thead>\n  <tbody>\n    <tr>\n      <th>a</th>\n      <td>male</td>\n    </tr>\n    <tr>\n      <th>b</th>\n      <td>femal</td>\n    </tr>\n    <tr>\n      <th>c</th>\n      <td>male</td>\n    </tr>\n    <tr>\n      <th>d</th>\n      <td>male</td>\n    </tr>\n    <tr>\n      <th>e</th>\n      <td>female</td>\n    </tr>\n    <tr>\n      <th>f</th>\n      <td>male</td>\n    </tr>\n    <tr>\n      <th>g</th>\n      <td>female</td>\n    </tr>\n  </tbody>\n</table>\n</div>"
     },
     "execution_count": 423,
     "metadata": {},
     "output_type": "execute_result"
    }
   ],
   "source": [
    "gender.replace({'mal':'male', 'female':'female'})"
   ],
   "metadata": {
    "collapsed": false,
    "pycharm": {
     "name": "#%%\n"
    }
   }
  },
  {
   "cell_type": "code",
   "execution_count": 425,
   "outputs": [
    {
     "data": {
      "text/plain": "0       23\n1       37\n2      999\n3       32\n4       32\n5       28\n6     -999\n7       19\n8     1000\n9       80\n10      24\ndtype: int64"
     },
     "execution_count": 425,
     "metadata": {},
     "output_type": "execute_result"
    }
   ],
   "source": [
    "temp"
   ],
   "metadata": {
    "collapsed": false,
    "pycharm": {
     "name": "#%%\n"
    }
   }
  },
  {
   "cell_type": "code",
   "execution_count": 441,
   "outputs": [
    {
     "data": {
      "text/plain": "0      28\n1      28\n2      28\n3      28\n4      28\n5      28\n6    -999\n7      28\n8      28\n9      28\n10     28\ndtype: int64"
     },
     "execution_count": 441,
     "metadata": {},
     "output_type": "execute_result"
    }
   ],
   "source": [
    "temp[temp>9]=28\n",
    "temp"
   ],
   "metadata": {
    "collapsed": false,
    "pycharm": {
     "name": "#%%\n"
    }
   }
  },
  {
   "cell_type": "code",
   "source": [
    "temp[temp]"
   ],
   "metadata": {
    "collapsed": false,
    "pycharm": {
     "name": "#%%\n"
    }
   },
   "execution_count": 443,
   "outputs": [
    {
     "ename": "KeyError",
     "evalue": "\"None of [Int64Index([28, 28, 28, 28, 28, 28, -999, 28, 28, 28, 28], dtype='int64')] are in the [index]\"",
     "output_type": "error",
     "traceback": [
      "\u001B[0;31m---------------------------------------------------------------------------\u001B[0m",
      "\u001B[0;31mKeyError\u001B[0m                                  Traceback (most recent call last)",
      "Input \u001B[0;32mIn [443]\u001B[0m, in \u001B[0;36m<cell line: 1>\u001B[0;34m()\u001B[0m\n\u001B[0;32m----> 1\u001B[0m \u001B[43mtemp\u001B[49m\u001B[43m[\u001B[49m\u001B[43mtemp\u001B[49m\u001B[43m]\u001B[49m\n",
      "File \u001B[0;32m~/anaconda3/envs/DataScience/lib/python3.10/site-packages/pandas/core/series.py:984\u001B[0m, in \u001B[0;36mSeries.__getitem__\u001B[0;34m(self, key)\u001B[0m\n\u001B[1;32m    981\u001B[0m     key \u001B[38;5;241m=\u001B[39m np\u001B[38;5;241m.\u001B[39masarray(key, dtype\u001B[38;5;241m=\u001B[39m\u001B[38;5;28mbool\u001B[39m)\n\u001B[1;32m    982\u001B[0m     \u001B[38;5;28;01mreturn\u001B[39;00m \u001B[38;5;28mself\u001B[39m\u001B[38;5;241m.\u001B[39m_get_values(key)\n\u001B[0;32m--> 984\u001B[0m \u001B[38;5;28;01mreturn\u001B[39;00m \u001B[38;5;28;43mself\u001B[39;49m\u001B[38;5;241;43m.\u001B[39;49m\u001B[43m_get_with\u001B[49m\u001B[43m(\u001B[49m\u001B[43mkey\u001B[49m\u001B[43m)\u001B[49m\n",
      "File \u001B[0;32m~/anaconda3/envs/DataScience/lib/python3.10/site-packages/pandas/core/series.py:1019\u001B[0m, in \u001B[0;36mSeries._get_with\u001B[0;34m(self, key)\u001B[0m\n\u001B[1;32m   1015\u001B[0m \u001B[38;5;28;01mif\u001B[39;00m key_type \u001B[38;5;241m==\u001B[39m \u001B[38;5;124m\"\u001B[39m\u001B[38;5;124minteger\u001B[39m\u001B[38;5;124m\"\u001B[39m:\n\u001B[1;32m   1016\u001B[0m     \u001B[38;5;66;03m# We need to decide whether to treat this as a positional indexer\u001B[39;00m\n\u001B[1;32m   1017\u001B[0m     \u001B[38;5;66;03m#  (i.e. self.iloc) or label-based (i.e. self.loc)\u001B[39;00m\n\u001B[1;32m   1018\u001B[0m     \u001B[38;5;28;01mif\u001B[39;00m \u001B[38;5;129;01mnot\u001B[39;00m \u001B[38;5;28mself\u001B[39m\u001B[38;5;241m.\u001B[39mindex\u001B[38;5;241m.\u001B[39m_should_fallback_to_positional:\n\u001B[0;32m-> 1019\u001B[0m         \u001B[38;5;28;01mreturn\u001B[39;00m \u001B[38;5;28;43mself\u001B[39;49m\u001B[38;5;241;43m.\u001B[39;49m\u001B[43mloc\u001B[49m\u001B[43m[\u001B[49m\u001B[43mkey\u001B[49m\u001B[43m]\u001B[49m\n\u001B[1;32m   1020\u001B[0m     \u001B[38;5;28;01melse\u001B[39;00m:\n\u001B[1;32m   1021\u001B[0m         \u001B[38;5;28;01mreturn\u001B[39;00m \u001B[38;5;28mself\u001B[39m\u001B[38;5;241m.\u001B[39miloc[key]\n",
      "File \u001B[0;32m~/anaconda3/envs/DataScience/lib/python3.10/site-packages/pandas/core/indexing.py:967\u001B[0m, in \u001B[0;36m_LocationIndexer.__getitem__\u001B[0;34m(self, key)\u001B[0m\n\u001B[1;32m    964\u001B[0m axis \u001B[38;5;241m=\u001B[39m \u001B[38;5;28mself\u001B[39m\u001B[38;5;241m.\u001B[39maxis \u001B[38;5;129;01mor\u001B[39;00m \u001B[38;5;241m0\u001B[39m\n\u001B[1;32m    966\u001B[0m maybe_callable \u001B[38;5;241m=\u001B[39m com\u001B[38;5;241m.\u001B[39mapply_if_callable(key, \u001B[38;5;28mself\u001B[39m\u001B[38;5;241m.\u001B[39mobj)\n\u001B[0;32m--> 967\u001B[0m \u001B[38;5;28;01mreturn\u001B[39;00m \u001B[38;5;28;43mself\u001B[39;49m\u001B[38;5;241;43m.\u001B[39;49m\u001B[43m_getitem_axis\u001B[49m\u001B[43m(\u001B[49m\u001B[43mmaybe_callable\u001B[49m\u001B[43m,\u001B[49m\u001B[43m \u001B[49m\u001B[43maxis\u001B[49m\u001B[38;5;241;43m=\u001B[39;49m\u001B[43maxis\u001B[49m\u001B[43m)\u001B[49m\n",
      "File \u001B[0;32m~/anaconda3/envs/DataScience/lib/python3.10/site-packages/pandas/core/indexing.py:1191\u001B[0m, in \u001B[0;36m_LocIndexer._getitem_axis\u001B[0;34m(self, key, axis)\u001B[0m\n\u001B[1;32m   1188\u001B[0m     \u001B[38;5;28;01mif\u001B[39;00m \u001B[38;5;28mhasattr\u001B[39m(key, \u001B[38;5;124m\"\u001B[39m\u001B[38;5;124mndim\u001B[39m\u001B[38;5;124m\"\u001B[39m) \u001B[38;5;129;01mand\u001B[39;00m key\u001B[38;5;241m.\u001B[39mndim \u001B[38;5;241m>\u001B[39m \u001B[38;5;241m1\u001B[39m:\n\u001B[1;32m   1189\u001B[0m         \u001B[38;5;28;01mraise\u001B[39;00m \u001B[38;5;167;01mValueError\u001B[39;00m(\u001B[38;5;124m\"\u001B[39m\u001B[38;5;124mCannot index with multidimensional key\u001B[39m\u001B[38;5;124m\"\u001B[39m)\n\u001B[0;32m-> 1191\u001B[0m     \u001B[38;5;28;01mreturn\u001B[39;00m \u001B[38;5;28;43mself\u001B[39;49m\u001B[38;5;241;43m.\u001B[39;49m\u001B[43m_getitem_iterable\u001B[49m\u001B[43m(\u001B[49m\u001B[43mkey\u001B[49m\u001B[43m,\u001B[49m\u001B[43m \u001B[49m\u001B[43maxis\u001B[49m\u001B[38;5;241;43m=\u001B[39;49m\u001B[43maxis\u001B[49m\u001B[43m)\u001B[49m\n\u001B[1;32m   1193\u001B[0m \u001B[38;5;66;03m# nested tuple slicing\u001B[39;00m\n\u001B[1;32m   1194\u001B[0m \u001B[38;5;28;01mif\u001B[39;00m is_nested_tuple(key, labels):\n",
      "File \u001B[0;32m~/anaconda3/envs/DataScience/lib/python3.10/site-packages/pandas/core/indexing.py:1132\u001B[0m, in \u001B[0;36m_LocIndexer._getitem_iterable\u001B[0;34m(self, key, axis)\u001B[0m\n\u001B[1;32m   1129\u001B[0m \u001B[38;5;28mself\u001B[39m\u001B[38;5;241m.\u001B[39m_validate_key(key, axis)\n\u001B[1;32m   1131\u001B[0m \u001B[38;5;66;03m# A collection of keys\u001B[39;00m\n\u001B[0;32m-> 1132\u001B[0m keyarr, indexer \u001B[38;5;241m=\u001B[39m \u001B[38;5;28;43mself\u001B[39;49m\u001B[38;5;241;43m.\u001B[39;49m\u001B[43m_get_listlike_indexer\u001B[49m\u001B[43m(\u001B[49m\u001B[43mkey\u001B[49m\u001B[43m,\u001B[49m\u001B[43m \u001B[49m\u001B[43maxis\u001B[49m\u001B[43m)\u001B[49m\n\u001B[1;32m   1133\u001B[0m \u001B[38;5;28;01mreturn\u001B[39;00m \u001B[38;5;28mself\u001B[39m\u001B[38;5;241m.\u001B[39mobj\u001B[38;5;241m.\u001B[39m_reindex_with_indexers(\n\u001B[1;32m   1134\u001B[0m     {axis: [keyarr, indexer]}, copy\u001B[38;5;241m=\u001B[39m\u001B[38;5;28;01mTrue\u001B[39;00m, allow_dups\u001B[38;5;241m=\u001B[39m\u001B[38;5;28;01mTrue\u001B[39;00m\n\u001B[1;32m   1135\u001B[0m )\n",
      "File \u001B[0;32m~/anaconda3/envs/DataScience/lib/python3.10/site-packages/pandas/core/indexing.py:1327\u001B[0m, in \u001B[0;36m_LocIndexer._get_listlike_indexer\u001B[0;34m(self, key, axis)\u001B[0m\n\u001B[1;32m   1324\u001B[0m ax \u001B[38;5;241m=\u001B[39m \u001B[38;5;28mself\u001B[39m\u001B[38;5;241m.\u001B[39mobj\u001B[38;5;241m.\u001B[39m_get_axis(axis)\n\u001B[1;32m   1325\u001B[0m axis_name \u001B[38;5;241m=\u001B[39m \u001B[38;5;28mself\u001B[39m\u001B[38;5;241m.\u001B[39mobj\u001B[38;5;241m.\u001B[39m_get_axis_name(axis)\n\u001B[0;32m-> 1327\u001B[0m keyarr, indexer \u001B[38;5;241m=\u001B[39m \u001B[43max\u001B[49m\u001B[38;5;241;43m.\u001B[39;49m\u001B[43m_get_indexer_strict\u001B[49m\u001B[43m(\u001B[49m\u001B[43mkey\u001B[49m\u001B[43m,\u001B[49m\u001B[43m \u001B[49m\u001B[43maxis_name\u001B[49m\u001B[43m)\u001B[49m\n\u001B[1;32m   1329\u001B[0m \u001B[38;5;28;01mreturn\u001B[39;00m keyarr, indexer\n",
      "File \u001B[0;32m~/anaconda3/envs/DataScience/lib/python3.10/site-packages/pandas/core/indexes/base.py:5782\u001B[0m, in \u001B[0;36mIndex._get_indexer_strict\u001B[0;34m(self, key, axis_name)\u001B[0m\n\u001B[1;32m   5779\u001B[0m \u001B[38;5;28;01melse\u001B[39;00m:\n\u001B[1;32m   5780\u001B[0m     keyarr, indexer, new_indexer \u001B[38;5;241m=\u001B[39m \u001B[38;5;28mself\u001B[39m\u001B[38;5;241m.\u001B[39m_reindex_non_unique(keyarr)\n\u001B[0;32m-> 5782\u001B[0m \u001B[38;5;28;43mself\u001B[39;49m\u001B[38;5;241;43m.\u001B[39;49m\u001B[43m_raise_if_missing\u001B[49m\u001B[43m(\u001B[49m\u001B[43mkeyarr\u001B[49m\u001B[43m,\u001B[49m\u001B[43m \u001B[49m\u001B[43mindexer\u001B[49m\u001B[43m,\u001B[49m\u001B[43m \u001B[49m\u001B[43maxis_name\u001B[49m\u001B[43m)\u001B[49m\n\u001B[1;32m   5784\u001B[0m keyarr \u001B[38;5;241m=\u001B[39m \u001B[38;5;28mself\u001B[39m\u001B[38;5;241m.\u001B[39mtake(indexer)\n\u001B[1;32m   5785\u001B[0m \u001B[38;5;28;01mif\u001B[39;00m \u001B[38;5;28misinstance\u001B[39m(key, Index):\n\u001B[1;32m   5786\u001B[0m     \u001B[38;5;66;03m# GH 42790 - Preserve name from an Index\u001B[39;00m\n",
      "File \u001B[0;32m~/anaconda3/envs/DataScience/lib/python3.10/site-packages/pandas/core/indexes/base.py:5842\u001B[0m, in \u001B[0;36mIndex._raise_if_missing\u001B[0;34m(self, key, indexer, axis_name)\u001B[0m\n\u001B[1;32m   5840\u001B[0m     \u001B[38;5;28;01mif\u001B[39;00m use_interval_msg:\n\u001B[1;32m   5841\u001B[0m         key \u001B[38;5;241m=\u001B[39m \u001B[38;5;28mlist\u001B[39m(key)\n\u001B[0;32m-> 5842\u001B[0m     \u001B[38;5;28;01mraise\u001B[39;00m \u001B[38;5;167;01mKeyError\u001B[39;00m(\u001B[38;5;124mf\u001B[39m\u001B[38;5;124m\"\u001B[39m\u001B[38;5;124mNone of [\u001B[39m\u001B[38;5;132;01m{\u001B[39;00mkey\u001B[38;5;132;01m}\u001B[39;00m\u001B[38;5;124m] are in the [\u001B[39m\u001B[38;5;132;01m{\u001B[39;00maxis_name\u001B[38;5;132;01m}\u001B[39;00m\u001B[38;5;124m]\u001B[39m\u001B[38;5;124m\"\u001B[39m)\n\u001B[1;32m   5844\u001B[0m not_found \u001B[38;5;241m=\u001B[39m \u001B[38;5;28mlist\u001B[39m(ensure_index(key)[missing_mask\u001B[38;5;241m.\u001B[39mnonzero()[\u001B[38;5;241m0\u001B[39m]]\u001B[38;5;241m.\u001B[39munique())\n\u001B[1;32m   5845\u001B[0m \u001B[38;5;28;01mraise\u001B[39;00m \u001B[38;5;167;01mKeyError\u001B[39;00m(\u001B[38;5;124mf\u001B[39m\u001B[38;5;124m\"\u001B[39m\u001B[38;5;132;01m{\u001B[39;00mnot_found\u001B[38;5;132;01m}\u001B[39;00m\u001B[38;5;124m not in index\u001B[39m\u001B[38;5;124m\"\u001B[39m)\n",
      "\u001B[0;31mKeyError\u001B[0m: \"None of [Int64Index([28, 28, 28, 28, 28, 28, -999, 28, 28, 28, 28], dtype='int64')] are in the [index]\""
     ]
    }
   ]
  },
  {
   "cell_type": "code",
   "execution_count": 444,
   "outputs": [
    {
     "data": {
      "text/plain": "       one  two  three\ngreen    0    1      2\nred      3    4      5\nblack    6    7      8\nwhite    9   10     11",
      "text/html": "<div>\n<style scoped>\n    .dataframe tbody tr th:only-of-type {\n        vertical-align: middle;\n    }\n\n    .dataframe tbody tr th {\n        vertical-align: top;\n    }\n\n    .dataframe thead th {\n        text-align: right;\n    }\n</style>\n<table border=\"1\" class=\"dataframe\">\n  <thead>\n    <tr style=\"text-align: right;\">\n      <th></th>\n      <th>one</th>\n      <th>two</th>\n      <th>three</th>\n    </tr>\n  </thead>\n  <tbody>\n    <tr>\n      <th>green</th>\n      <td>0</td>\n      <td>1</td>\n      <td>2</td>\n    </tr>\n    <tr>\n      <th>red</th>\n      <td>3</td>\n      <td>4</td>\n      <td>5</td>\n    </tr>\n    <tr>\n      <th>black</th>\n      <td>6</td>\n      <td>7</td>\n      <td>8</td>\n    </tr>\n    <tr>\n      <th>white</th>\n      <td>9</td>\n      <td>10</td>\n      <td>11</td>\n    </tr>\n  </tbody>\n</table>\n</div>"
     },
     "execution_count": 444,
     "metadata": {},
     "output_type": "execute_result"
    }
   ],
   "source": [
    "data = pd.DataFrame(np.arange(12).reshape((4,3)), index=['green','red','black','white'], columns=['one','two','three'])\n",
    "data"
   ],
   "metadata": {
    "collapsed": false,
    "pycharm": {
     "name": "#%%\n"
    }
   }
  },
  {
   "cell_type": "code",
   "execution_count": 445,
   "outputs": [],
   "source": [
    "data.rename(index={'green':'yellow'}, inplace=True)"
   ],
   "metadata": {
    "collapsed": false,
    "pycharm": {
     "name": "#%%\n"
    }
   }
  },
  {
   "cell_type": "code",
   "execution_count": 446,
   "outputs": [
    {
     "data": {
      "text/plain": "        one  two  three\nyellow    0    1      2\nred       3    4      5\nblack     6    7      8\nwhite     9   10     11",
      "text/html": "<div>\n<style scoped>\n    .dataframe tbody tr th:only-of-type {\n        vertical-align: middle;\n    }\n\n    .dataframe tbody tr th {\n        vertical-align: top;\n    }\n\n    .dataframe thead th {\n        text-align: right;\n    }\n</style>\n<table border=\"1\" class=\"dataframe\">\n  <thead>\n    <tr style=\"text-align: right;\">\n      <th></th>\n      <th>one</th>\n      <th>two</th>\n      <th>three</th>\n    </tr>\n  </thead>\n  <tbody>\n    <tr>\n      <th>yellow</th>\n      <td>0</td>\n      <td>1</td>\n      <td>2</td>\n    </tr>\n    <tr>\n      <th>red</th>\n      <td>3</td>\n      <td>4</td>\n      <td>5</td>\n    </tr>\n    <tr>\n      <th>black</th>\n      <td>6</td>\n      <td>7</td>\n      <td>8</td>\n    </tr>\n    <tr>\n      <th>white</th>\n      <td>9</td>\n      <td>10</td>\n      <td>11</td>\n    </tr>\n  </tbody>\n</table>\n</div>"
     },
     "execution_count": 446,
     "metadata": {},
     "output_type": "execute_result"
    }
   ],
   "source": [
    "data"
   ],
   "metadata": {
    "collapsed": false,
    "pycharm": {
     "name": "#%%\n"
    }
   }
  },
  {
   "cell_type": "code",
   "execution_count": 447,
   "outputs": [
    {
     "data": {
      "text/plain": "        One  Two  Three\nyellow    0    1      2\nred       3    4      5\nblack     6    7      8\nwhite     9   10     11",
      "text/html": "<div>\n<style scoped>\n    .dataframe tbody tr th:only-of-type {\n        vertical-align: middle;\n    }\n\n    .dataframe tbody tr th {\n        vertical-align: top;\n    }\n\n    .dataframe thead th {\n        text-align: right;\n    }\n</style>\n<table border=\"1\" class=\"dataframe\">\n  <thead>\n    <tr style=\"text-align: right;\">\n      <th></th>\n      <th>One</th>\n      <th>Two</th>\n      <th>Three</th>\n    </tr>\n  </thead>\n  <tbody>\n    <tr>\n      <th>yellow</th>\n      <td>0</td>\n      <td>1</td>\n      <td>2</td>\n    </tr>\n    <tr>\n      <th>red</th>\n      <td>3</td>\n      <td>4</td>\n      <td>5</td>\n    </tr>\n    <tr>\n      <th>black</th>\n      <td>6</td>\n      <td>7</td>\n      <td>8</td>\n    </tr>\n    <tr>\n      <th>white</th>\n      <td>9</td>\n      <td>10</td>\n      <td>11</td>\n    </tr>\n  </tbody>\n</table>\n</div>"
     },
     "execution_count": 447,
     "metadata": {},
     "output_type": "execute_result"
    }
   ],
   "source": [
    "data.rename(columns={'one':'One', 'two':'Two','three':'Three'})"
   ],
   "metadata": {
    "collapsed": false,
    "pycharm": {
     "name": "#%%\n"
    }
   }
  },
  {
   "cell_type": "code",
   "execution_count": 449,
   "outputs": [],
   "source": [],
   "metadata": {
    "collapsed": false,
    "pycharm": {
     "name": "#%%\n"
    }
   }
  },
  {
   "cell_type": "code",
   "execution_count": 450,
   "outputs": [
    {
     "data": {
      "text/plain": "        One  Two  Three\nyellow    0    1      2\nred       3    4      5\nblack     6    7      8\nwhite     9   10     11",
      "text/html": "<div>\n<style scoped>\n    .dataframe tbody tr th:only-of-type {\n        vertical-align: middle;\n    }\n\n    .dataframe tbody tr th {\n        vertical-align: top;\n    }\n\n    .dataframe thead th {\n        text-align: right;\n    }\n</style>\n<table border=\"1\" class=\"dataframe\">\n  <thead>\n    <tr style=\"text-align: right;\">\n      <th></th>\n      <th>One</th>\n      <th>Two</th>\n      <th>Three</th>\n    </tr>\n  </thead>\n  <tbody>\n    <tr>\n      <th>yellow</th>\n      <td>0</td>\n      <td>1</td>\n      <td>2</td>\n    </tr>\n    <tr>\n      <th>red</th>\n      <td>3</td>\n      <td>4</td>\n      <td>5</td>\n    </tr>\n    <tr>\n      <th>black</th>\n      <td>6</td>\n      <td>7</td>\n      <td>8</td>\n    </tr>\n    <tr>\n      <th>white</th>\n      <td>9</td>\n      <td>10</td>\n      <td>11</td>\n    </tr>\n  </tbody>\n</table>\n</div>"
     },
     "execution_count": 450,
     "metadata": {},
     "output_type": "execute_result"
    }
   ],
   "source": [
    "data"
   ],
   "metadata": {
    "collapsed": false,
    "pycharm": {
     "name": "#%%\n"
    }
   }
  },
  {
   "cell_type": "code",
   "execution_count": 451,
   "outputs": [
    {
     "data": {
      "text/plain": "     Income  Rating  Cards  Age\n0    19.225     122      3   38\n1    43.540     232      4   69\n2   152.298     828      4   41\n3    55.367     448      1   33\n4    11.741     182     44   59\n5    15.560     352      4   57\n6    59.530     543      3   52\n7    20.191     431      4   42\n8    48.498     456      3   47\n9    30.733     249      4   51\n10   16.479     388      2   26\n11   38.009     245      3   45\n12   14.084     120     55   46\n13   14.312     367      1   59\n14   26.067     266      4   74",
      "text/html": "<div>\n<style scoped>\n    .dataframe tbody tr th:only-of-type {\n        vertical-align: middle;\n    }\n\n    .dataframe tbody tr th {\n        vertical-align: top;\n    }\n\n    .dataframe thead th {\n        text-align: right;\n    }\n</style>\n<table border=\"1\" class=\"dataframe\">\n  <thead>\n    <tr style=\"text-align: right;\">\n      <th></th>\n      <th>Income</th>\n      <th>Rating</th>\n      <th>Cards</th>\n      <th>Age</th>\n    </tr>\n  </thead>\n  <tbody>\n    <tr>\n      <th>0</th>\n      <td>19.225</td>\n      <td>122</td>\n      <td>3</td>\n      <td>38</td>\n    </tr>\n    <tr>\n      <th>1</th>\n      <td>43.540</td>\n      <td>232</td>\n      <td>4</td>\n      <td>69</td>\n    </tr>\n    <tr>\n      <th>2</th>\n      <td>152.298</td>\n      <td>828</td>\n      <td>4</td>\n      <td>41</td>\n    </tr>\n    <tr>\n      <th>3</th>\n      <td>55.367</td>\n      <td>448</td>\n      <td>1</td>\n      <td>33</td>\n    </tr>\n    <tr>\n      <th>4</th>\n      <td>11.741</td>\n      <td>182</td>\n      <td>44</td>\n      <td>59</td>\n    </tr>\n    <tr>\n      <th>5</th>\n      <td>15.560</td>\n      <td>352</td>\n      <td>4</td>\n      <td>57</td>\n    </tr>\n    <tr>\n      <th>6</th>\n      <td>59.530</td>\n      <td>543</td>\n      <td>3</td>\n      <td>52</td>\n    </tr>\n    <tr>\n      <th>7</th>\n      <td>20.191</td>\n      <td>431</td>\n      <td>4</td>\n      <td>42</td>\n    </tr>\n    <tr>\n      <th>8</th>\n      <td>48.498</td>\n      <td>456</td>\n      <td>3</td>\n      <td>47</td>\n    </tr>\n    <tr>\n      <th>9</th>\n      <td>30.733</td>\n      <td>249</td>\n      <td>4</td>\n      <td>51</td>\n    </tr>\n    <tr>\n      <th>10</th>\n      <td>16.479</td>\n      <td>388</td>\n      <td>2</td>\n      <td>26</td>\n    </tr>\n    <tr>\n      <th>11</th>\n      <td>38.009</td>\n      <td>245</td>\n      <td>3</td>\n      <td>45</td>\n    </tr>\n    <tr>\n      <th>12</th>\n      <td>14.084</td>\n      <td>120</td>\n      <td>55</td>\n      <td>46</td>\n    </tr>\n    <tr>\n      <th>13</th>\n      <td>14.312</td>\n      <td>367</td>\n      <td>1</td>\n      <td>59</td>\n    </tr>\n    <tr>\n      <th>14</th>\n      <td>26.067</td>\n      <td>266</td>\n      <td>4</td>\n      <td>74</td>\n    </tr>\n  </tbody>\n</table>\n</div>"
     },
     "execution_count": 451,
     "metadata": {},
     "output_type": "execute_result"
    }
   ],
   "source": [
    "data = pd.read_csv('data/ex2.csv')\n",
    "data.head(15)"
   ],
   "metadata": {
    "collapsed": false,
    "pycharm": {
     "name": "#%%\n"
    }
   }
  },
  {
   "cell_type": "code",
   "execution_count": 452,
   "outputs": [
    {
     "data": {
      "text/plain": "           Income      Rating      Cards       Age\ncount   20.000000   20.000000  20.000000  20.00000\nmean    39.681100  352.700000   7.600000  51.05000\nstd     33.482958  179.936568  14.485565  12.94716\nmin     11.741000  120.000000   1.000000  26.00000\n25%     17.601750  238.750000   2.000000  41.75000\n50%     28.400000  309.000000   3.000000  49.00000\n75%     50.215250  450.000000   4.000000  59.00000\nmax    152.298000  828.000000  55.000000  74.00000",
      "text/html": "<div>\n<style scoped>\n    .dataframe tbody tr th:only-of-type {\n        vertical-align: middle;\n    }\n\n    .dataframe tbody tr th {\n        vertical-align: top;\n    }\n\n    .dataframe thead th {\n        text-align: right;\n    }\n</style>\n<table border=\"1\" class=\"dataframe\">\n  <thead>\n    <tr style=\"text-align: right;\">\n      <th></th>\n      <th>Income</th>\n      <th>Rating</th>\n      <th>Cards</th>\n      <th>Age</th>\n    </tr>\n  </thead>\n  <tbody>\n    <tr>\n      <th>count</th>\n      <td>20.000000</td>\n      <td>20.000000</td>\n      <td>20.000000</td>\n      <td>20.00000</td>\n    </tr>\n    <tr>\n      <th>mean</th>\n      <td>39.681100</td>\n      <td>352.700000</td>\n      <td>7.600000</td>\n      <td>51.05000</td>\n    </tr>\n    <tr>\n      <th>std</th>\n      <td>33.482958</td>\n      <td>179.936568</td>\n      <td>14.485565</td>\n      <td>12.94716</td>\n    </tr>\n    <tr>\n      <th>min</th>\n      <td>11.741000</td>\n      <td>120.000000</td>\n      <td>1.000000</td>\n      <td>26.00000</td>\n    </tr>\n    <tr>\n      <th>25%</th>\n      <td>17.601750</td>\n      <td>238.750000</td>\n      <td>2.000000</td>\n      <td>41.75000</td>\n    </tr>\n    <tr>\n      <th>50%</th>\n      <td>28.400000</td>\n      <td>309.000000</td>\n      <td>3.000000</td>\n      <td>49.00000</td>\n    </tr>\n    <tr>\n      <th>75%</th>\n      <td>50.215250</td>\n      <td>450.000000</td>\n      <td>4.000000</td>\n      <td>59.00000</td>\n    </tr>\n    <tr>\n      <th>max</th>\n      <td>152.298000</td>\n      <td>828.000000</td>\n      <td>55.000000</td>\n      <td>74.00000</td>\n    </tr>\n  </tbody>\n</table>\n</div>"
     },
     "execution_count": 452,
     "metadata": {},
     "output_type": "execute_result"
    }
   ],
   "source": [
    "data.describe()"
   ],
   "metadata": {
    "collapsed": false,
    "pycharm": {
     "name": "#%%\n"
    }
   }
  },
  {
   "cell_type": "code",
   "execution_count": 454,
   "outputs": [
    {
     "ename": "AttributeError",
     "evalue": "'DataFrame' object has no attribute 'cards'",
     "output_type": "error",
     "traceback": [
      "\u001B[0;31m---------------------------------------------------------------------------\u001B[0m",
      "\u001B[0;31mAttributeError\u001B[0m                            Traceback (most recent call last)",
      "Input \u001B[0;32mIn [454]\u001B[0m, in \u001B[0;36m<cell line: 1>\u001B[0;34m()\u001B[0m\n\u001B[0;32m----> 1\u001B[0m data[\u001B[43mdata\u001B[49m\u001B[38;5;241;43m.\u001B[39;49m\u001B[43mcards\u001B[49m]\u001B[38;5;241m>\u001B[39m\u001B[38;5;241m5\u001B[39m\n",
      "File \u001B[0;32m~/anaconda3/envs/DataScience/lib/python3.10/site-packages/pandas/core/generic.py:5575\u001B[0m, in \u001B[0;36mNDFrame.__getattr__\u001B[0;34m(self, name)\u001B[0m\n\u001B[1;32m   5568\u001B[0m \u001B[38;5;28;01mif\u001B[39;00m (\n\u001B[1;32m   5569\u001B[0m     name \u001B[38;5;129;01mnot\u001B[39;00m \u001B[38;5;129;01min\u001B[39;00m \u001B[38;5;28mself\u001B[39m\u001B[38;5;241m.\u001B[39m_internal_names_set\n\u001B[1;32m   5570\u001B[0m     \u001B[38;5;129;01mand\u001B[39;00m name \u001B[38;5;129;01mnot\u001B[39;00m \u001B[38;5;129;01min\u001B[39;00m \u001B[38;5;28mself\u001B[39m\u001B[38;5;241m.\u001B[39m_metadata\n\u001B[1;32m   5571\u001B[0m     \u001B[38;5;129;01mand\u001B[39;00m name \u001B[38;5;129;01mnot\u001B[39;00m \u001B[38;5;129;01min\u001B[39;00m \u001B[38;5;28mself\u001B[39m\u001B[38;5;241m.\u001B[39m_accessors\n\u001B[1;32m   5572\u001B[0m     \u001B[38;5;129;01mand\u001B[39;00m \u001B[38;5;28mself\u001B[39m\u001B[38;5;241m.\u001B[39m_info_axis\u001B[38;5;241m.\u001B[39m_can_hold_identifiers_and_holds_name(name)\n\u001B[1;32m   5573\u001B[0m ):\n\u001B[1;32m   5574\u001B[0m     \u001B[38;5;28;01mreturn\u001B[39;00m \u001B[38;5;28mself\u001B[39m[name]\n\u001B[0;32m-> 5575\u001B[0m \u001B[38;5;28;01mreturn\u001B[39;00m \u001B[38;5;28;43mobject\u001B[39;49m\u001B[38;5;241;43m.\u001B[39;49m\u001B[38;5;21;43m__getattribute__\u001B[39;49m\u001B[43m(\u001B[49m\u001B[38;5;28;43mself\u001B[39;49m\u001B[43m,\u001B[49m\u001B[43m \u001B[49m\u001B[43mname\u001B[49m\u001B[43m)\u001B[49m\n",
      "\u001B[0;31mAttributeError\u001B[0m: 'DataFrame' object has no attribute 'cards'"
     ]
    }
   ],
   "source": [
    "data[data.cards]>5"
   ],
   "metadata": {
    "collapsed": false,
    "pycharm": {
     "name": "#%%\n"
    }
   }
  },
  {
   "cell_type": "code",
   "execution_count": 455,
   "outputs": [
    {
     "data": {
      "text/plain": "     Income  Rating  Cards  Age\n0    19.225     122      3   38\n1    43.540     232      4   69\n2   152.298     828      4   41\n3    55.367     448      1   33\n4    11.741     182     44   59\n5    15.560     352      4   57\n6    59.530     543      3   52\n7    20.191     431      4   42\n8    48.498     456      3   47\n9    30.733     249      4   51\n10   16.479     388      2   26\n11   38.009     245      3   45\n12   14.084     120     55   46\n13   14.312     367      1   59\n14   26.067     266      4   74\n15   36.295     241      2   68\n16   83.851     607      5   47\n17   21.153     256      1   41\n18   17.976     190      3   70\n19   68.713     531      2   56",
      "text/html": "<div>\n<style scoped>\n    .dataframe tbody tr th:only-of-type {\n        vertical-align: middle;\n    }\n\n    .dataframe tbody tr th {\n        vertical-align: top;\n    }\n\n    .dataframe thead th {\n        text-align: right;\n    }\n</style>\n<table border=\"1\" class=\"dataframe\">\n  <thead>\n    <tr style=\"text-align: right;\">\n      <th></th>\n      <th>Income</th>\n      <th>Rating</th>\n      <th>Cards</th>\n      <th>Age</th>\n    </tr>\n  </thead>\n  <tbody>\n    <tr>\n      <th>0</th>\n      <td>19.225</td>\n      <td>122</td>\n      <td>3</td>\n      <td>38</td>\n    </tr>\n    <tr>\n      <th>1</th>\n      <td>43.540</td>\n      <td>232</td>\n      <td>4</td>\n      <td>69</td>\n    </tr>\n    <tr>\n      <th>2</th>\n      <td>152.298</td>\n      <td>828</td>\n      <td>4</td>\n      <td>41</td>\n    </tr>\n    <tr>\n      <th>3</th>\n      <td>55.367</td>\n      <td>448</td>\n      <td>1</td>\n      <td>33</td>\n    </tr>\n    <tr>\n      <th>4</th>\n      <td>11.741</td>\n      <td>182</td>\n      <td>44</td>\n      <td>59</td>\n    </tr>\n    <tr>\n      <th>5</th>\n      <td>15.560</td>\n      <td>352</td>\n      <td>4</td>\n      <td>57</td>\n    </tr>\n    <tr>\n      <th>6</th>\n      <td>59.530</td>\n      <td>543</td>\n      <td>3</td>\n      <td>52</td>\n    </tr>\n    <tr>\n      <th>7</th>\n      <td>20.191</td>\n      <td>431</td>\n      <td>4</td>\n      <td>42</td>\n    </tr>\n    <tr>\n      <th>8</th>\n      <td>48.498</td>\n      <td>456</td>\n      <td>3</td>\n      <td>47</td>\n    </tr>\n    <tr>\n      <th>9</th>\n      <td>30.733</td>\n      <td>249</td>\n      <td>4</td>\n      <td>51</td>\n    </tr>\n    <tr>\n      <th>10</th>\n      <td>16.479</td>\n      <td>388</td>\n      <td>2</td>\n      <td>26</td>\n    </tr>\n    <tr>\n      <th>11</th>\n      <td>38.009</td>\n      <td>245</td>\n      <td>3</td>\n      <td>45</td>\n    </tr>\n    <tr>\n      <th>12</th>\n      <td>14.084</td>\n      <td>120</td>\n      <td>55</td>\n      <td>46</td>\n    </tr>\n    <tr>\n      <th>13</th>\n      <td>14.312</td>\n      <td>367</td>\n      <td>1</td>\n      <td>59</td>\n    </tr>\n    <tr>\n      <th>14</th>\n      <td>26.067</td>\n      <td>266</td>\n      <td>4</td>\n      <td>74</td>\n    </tr>\n    <tr>\n      <th>15</th>\n      <td>36.295</td>\n      <td>241</td>\n      <td>2</td>\n      <td>68</td>\n    </tr>\n    <tr>\n      <th>16</th>\n      <td>83.851</td>\n      <td>607</td>\n      <td>5</td>\n      <td>47</td>\n    </tr>\n    <tr>\n      <th>17</th>\n      <td>21.153</td>\n      <td>256</td>\n      <td>1</td>\n      <td>41</td>\n    </tr>\n    <tr>\n      <th>18</th>\n      <td>17.976</td>\n      <td>190</td>\n      <td>3</td>\n      <td>70</td>\n    </tr>\n    <tr>\n      <th>19</th>\n      <td>68.713</td>\n      <td>531</td>\n      <td>2</td>\n      <td>56</td>\n    </tr>\n  </tbody>\n</table>\n</div>"
     },
     "execution_count": 455,
     "metadata": {},
     "output_type": "execute_result"
    }
   ],
   "source": [
    "data"
   ],
   "metadata": {
    "collapsed": false,
    "pycharm": {
     "name": "#%%\n"
    }
   }
  },
  {
   "cell_type": "code",
   "execution_count": 456,
   "outputs": [
    {
     "data": {
      "text/plain": "    Income  Rating  Cards  Age\n4   11.741     182     44   59\n12  14.084     120     55   46",
      "text/html": "<div>\n<style scoped>\n    .dataframe tbody tr th:only-of-type {\n        vertical-align: middle;\n    }\n\n    .dataframe tbody tr th {\n        vertical-align: top;\n    }\n\n    .dataframe thead th {\n        text-align: right;\n    }\n</style>\n<table border=\"1\" class=\"dataframe\">\n  <thead>\n    <tr style=\"text-align: right;\">\n      <th></th>\n      <th>Income</th>\n      <th>Rating</th>\n      <th>Cards</th>\n      <th>Age</th>\n    </tr>\n  </thead>\n  <tbody>\n    <tr>\n      <th>4</th>\n      <td>11.741</td>\n      <td>182</td>\n      <td>44</td>\n      <td>59</td>\n    </tr>\n    <tr>\n      <th>12</th>\n      <td>14.084</td>\n      <td>120</td>\n      <td>55</td>\n      <td>46</td>\n    </tr>\n  </tbody>\n</table>\n</div>"
     },
     "execution_count": 456,
     "metadata": {},
     "output_type": "execute_result"
    }
   ],
   "source": [
    "data[data.Cards > 5]"
   ],
   "metadata": {
    "collapsed": false,
    "pycharm": {
     "name": "#%%\n"
    }
   }
  },
  {
   "cell_type": "code",
   "execution_count": 457,
   "outputs": [],
   "source": [
    "data.loc[4,['Cards']]=4\n",
    "data.loc[12,['Cards']]=5"
   ],
   "metadata": {
    "collapsed": false,
    "pycharm": {
     "name": "#%%\n"
    }
   }
  },
  {
   "cell_type": "code",
   "execution_count": 458,
   "outputs": [
    {
     "data": {
      "text/plain": "     Income  Rating  Cards  Age\n0    19.225     122      3   38\n1    43.540     232      4   69\n2   152.298     828      4   41\n3    55.367     448      1   33\n4    11.741     182      4   59\n5    15.560     352      4   57\n6    59.530     543      3   52\n7    20.191     431      4   42\n8    48.498     456      3   47\n9    30.733     249      4   51\n10   16.479     388      2   26\n11   38.009     245      3   45\n12   14.084     120      5   46\n13   14.312     367      1   59\n14   26.067     266      4   74\n15   36.295     241      2   68\n16   83.851     607      5   47\n17   21.153     256      1   41\n18   17.976     190      3   70\n19   68.713     531      2   56",
      "text/html": "<div>\n<style scoped>\n    .dataframe tbody tr th:only-of-type {\n        vertical-align: middle;\n    }\n\n    .dataframe tbody tr th {\n        vertical-align: top;\n    }\n\n    .dataframe thead th {\n        text-align: right;\n    }\n</style>\n<table border=\"1\" class=\"dataframe\">\n  <thead>\n    <tr style=\"text-align: right;\">\n      <th></th>\n      <th>Income</th>\n      <th>Rating</th>\n      <th>Cards</th>\n      <th>Age</th>\n    </tr>\n  </thead>\n  <tbody>\n    <tr>\n      <th>0</th>\n      <td>19.225</td>\n      <td>122</td>\n      <td>3</td>\n      <td>38</td>\n    </tr>\n    <tr>\n      <th>1</th>\n      <td>43.540</td>\n      <td>232</td>\n      <td>4</td>\n      <td>69</td>\n    </tr>\n    <tr>\n      <th>2</th>\n      <td>152.298</td>\n      <td>828</td>\n      <td>4</td>\n      <td>41</td>\n    </tr>\n    <tr>\n      <th>3</th>\n      <td>55.367</td>\n      <td>448</td>\n      <td>1</td>\n      <td>33</td>\n    </tr>\n    <tr>\n      <th>4</th>\n      <td>11.741</td>\n      <td>182</td>\n      <td>4</td>\n      <td>59</td>\n    </tr>\n    <tr>\n      <th>5</th>\n      <td>15.560</td>\n      <td>352</td>\n      <td>4</td>\n      <td>57</td>\n    </tr>\n    <tr>\n      <th>6</th>\n      <td>59.530</td>\n      <td>543</td>\n      <td>3</td>\n      <td>52</td>\n    </tr>\n    <tr>\n      <th>7</th>\n      <td>20.191</td>\n      <td>431</td>\n      <td>4</td>\n      <td>42</td>\n    </tr>\n    <tr>\n      <th>8</th>\n      <td>48.498</td>\n      <td>456</td>\n      <td>3</td>\n      <td>47</td>\n    </tr>\n    <tr>\n      <th>9</th>\n      <td>30.733</td>\n      <td>249</td>\n      <td>4</td>\n      <td>51</td>\n    </tr>\n    <tr>\n      <th>10</th>\n      <td>16.479</td>\n      <td>388</td>\n      <td>2</td>\n      <td>26</td>\n    </tr>\n    <tr>\n      <th>11</th>\n      <td>38.009</td>\n      <td>245</td>\n      <td>3</td>\n      <td>45</td>\n    </tr>\n    <tr>\n      <th>12</th>\n      <td>14.084</td>\n      <td>120</td>\n      <td>5</td>\n      <td>46</td>\n    </tr>\n    <tr>\n      <th>13</th>\n      <td>14.312</td>\n      <td>367</td>\n      <td>1</td>\n      <td>59</td>\n    </tr>\n    <tr>\n      <th>14</th>\n      <td>26.067</td>\n      <td>266</td>\n      <td>4</td>\n      <td>74</td>\n    </tr>\n    <tr>\n      <th>15</th>\n      <td>36.295</td>\n      <td>241</td>\n      <td>2</td>\n      <td>68</td>\n    </tr>\n    <tr>\n      <th>16</th>\n      <td>83.851</td>\n      <td>607</td>\n      <td>5</td>\n      <td>47</td>\n    </tr>\n    <tr>\n      <th>17</th>\n      <td>21.153</td>\n      <td>256</td>\n      <td>1</td>\n      <td>41</td>\n    </tr>\n    <tr>\n      <th>18</th>\n      <td>17.976</td>\n      <td>190</td>\n      <td>3</td>\n      <td>70</td>\n    </tr>\n    <tr>\n      <th>19</th>\n      <td>68.713</td>\n      <td>531</td>\n      <td>2</td>\n      <td>56</td>\n    </tr>\n  </tbody>\n</table>\n</div>"
     },
     "execution_count": 458,
     "metadata": {},
     "output_type": "execute_result"
    }
   ],
   "source": [
    "data"
   ],
   "metadata": {
    "collapsed": false,
    "pycharm": {
     "name": "#%%\n"
    }
   }
  },
  {
   "cell_type": "code",
   "execution_count": 459,
   "outputs": [
    {
     "data": {
      "text/plain": "           Income      Rating      Cards       Age\ncount   20.000000   20.000000  20.000000  20.00000\nmean    39.681100  352.700000   3.100000  51.05000\nstd     33.482958  179.936568   1.252366  12.94716\nmin     11.741000  120.000000   1.000000  26.00000\n25%     17.601750  238.750000   2.000000  41.75000\n50%     28.400000  309.000000   3.000000  49.00000\n75%     50.215250  450.000000   4.000000  59.00000\nmax    152.298000  828.000000   5.000000  74.00000",
      "text/html": "<div>\n<style scoped>\n    .dataframe tbody tr th:only-of-type {\n        vertical-align: middle;\n    }\n\n    .dataframe tbody tr th {\n        vertical-align: top;\n    }\n\n    .dataframe thead th {\n        text-align: right;\n    }\n</style>\n<table border=\"1\" class=\"dataframe\">\n  <thead>\n    <tr style=\"text-align: right;\">\n      <th></th>\n      <th>Income</th>\n      <th>Rating</th>\n      <th>Cards</th>\n      <th>Age</th>\n    </tr>\n  </thead>\n  <tbody>\n    <tr>\n      <th>count</th>\n      <td>20.000000</td>\n      <td>20.000000</td>\n      <td>20.000000</td>\n      <td>20.00000</td>\n    </tr>\n    <tr>\n      <th>mean</th>\n      <td>39.681100</td>\n      <td>352.700000</td>\n      <td>3.100000</td>\n      <td>51.05000</td>\n    </tr>\n    <tr>\n      <th>std</th>\n      <td>33.482958</td>\n      <td>179.936568</td>\n      <td>1.252366</td>\n      <td>12.94716</td>\n    </tr>\n    <tr>\n      <th>min</th>\n      <td>11.741000</td>\n      <td>120.000000</td>\n      <td>1.000000</td>\n      <td>26.00000</td>\n    </tr>\n    <tr>\n      <th>25%</th>\n      <td>17.601750</td>\n      <td>238.750000</td>\n      <td>2.000000</td>\n      <td>41.75000</td>\n    </tr>\n    <tr>\n      <th>50%</th>\n      <td>28.400000</td>\n      <td>309.000000</td>\n      <td>3.000000</td>\n      <td>49.00000</td>\n    </tr>\n    <tr>\n      <th>75%</th>\n      <td>50.215250</td>\n      <td>450.000000</td>\n      <td>4.000000</td>\n      <td>59.00000</td>\n    </tr>\n    <tr>\n      <th>max</th>\n      <td>152.298000</td>\n      <td>828.000000</td>\n      <td>5.000000</td>\n      <td>74.00000</td>\n    </tr>\n  </tbody>\n</table>\n</div>"
     },
     "execution_count": 459,
     "metadata": {},
     "output_type": "execute_result"
    }
   ],
   "source": [
    "data.describe()"
   ],
   "metadata": {
    "collapsed": false,
    "pycharm": {
     "name": "#%%\n"
    }
   }
  },
  {
   "cell_type": "code",
   "execution_count": 460,
   "outputs": [
    {
     "data": {
      "text/plain": "0     1\n1     1\n2    14\n3    13\n4    15\n5    11\n6     3\n7    15\n8     4\n9    13\ndtype: int64"
     },
     "execution_count": 460,
     "metadata": {},
     "output_type": "execute_result"
    }
   ],
   "source": [
    "ser1=pd.Series(np.random.randint(20, size=10))\n",
    "ser1"
   ],
   "metadata": {
    "collapsed": false,
    "pycharm": {
     "name": "#%%\n"
    }
   }
  },
  {
   "cell_type": "code",
   "execution_count": 463,
   "outputs": [
    {
     "data": {
      "text/plain": "0    15\n1     3\n2     1\n3     4\n4    13\ndtype: int64"
     },
     "execution_count": 463,
     "metadata": {},
     "output_type": "execute_result"
    }
   ],
   "source": [
    "ser1.sample(frac=.5).reset_index(drop=True)"
   ],
   "metadata": {
    "collapsed": false,
    "pycharm": {
     "name": "#%%\n"
    }
   }
  },
  {
   "cell_type": "code",
   "execution_count": 464,
   "outputs": [
    {
     "data": {
      "text/plain": "   year  age      sex            maritl      race        education        wage\n0  2006   18  1. Male  1. Never Married  1. White     1. < HS Grad   75.043154\n1  2004   24  1. Male  1. Never Married  1. White  4. College Grad   70.476020\n2  2003   45  1. Male        2. Married  1. White  3. Some College  130.982177\n3  2003   43  1. Male        2. Married  3. Asian  4. College Grad  154.685293\n4  2005   50  1. Male       4. Divorced  1. White       2. HS Grad   75.043154",
      "text/html": "<div>\n<style scoped>\n    .dataframe tbody tr th:only-of-type {\n        vertical-align: middle;\n    }\n\n    .dataframe tbody tr th {\n        vertical-align: top;\n    }\n\n    .dataframe thead th {\n        text-align: right;\n    }\n</style>\n<table border=\"1\" class=\"dataframe\">\n  <thead>\n    <tr style=\"text-align: right;\">\n      <th></th>\n      <th>year</th>\n      <th>age</th>\n      <th>sex</th>\n      <th>maritl</th>\n      <th>race</th>\n      <th>education</th>\n      <th>wage</th>\n    </tr>\n  </thead>\n  <tbody>\n    <tr>\n      <th>0</th>\n      <td>2006</td>\n      <td>18</td>\n      <td>1. Male</td>\n      <td>1. Never Married</td>\n      <td>1. White</td>\n      <td>1. &lt; HS Grad</td>\n      <td>75.043154</td>\n    </tr>\n    <tr>\n      <th>1</th>\n      <td>2004</td>\n      <td>24</td>\n      <td>1. Male</td>\n      <td>1. Never Married</td>\n      <td>1. White</td>\n      <td>4. College Grad</td>\n      <td>70.476020</td>\n    </tr>\n    <tr>\n      <th>2</th>\n      <td>2003</td>\n      <td>45</td>\n      <td>1. Male</td>\n      <td>2. Married</td>\n      <td>1. White</td>\n      <td>3. Some College</td>\n      <td>130.982177</td>\n    </tr>\n    <tr>\n      <th>3</th>\n      <td>2003</td>\n      <td>43</td>\n      <td>1. Male</td>\n      <td>2. Married</td>\n      <td>3. Asian</td>\n      <td>4. College Grad</td>\n      <td>154.685293</td>\n    </tr>\n    <tr>\n      <th>4</th>\n      <td>2005</td>\n      <td>50</td>\n      <td>1. Male</td>\n      <td>4. Divorced</td>\n      <td>1. White</td>\n      <td>2. HS Grad</td>\n      <td>75.043154</td>\n    </tr>\n  </tbody>\n</table>\n</div>"
     },
     "execution_count": 464,
     "metadata": {},
     "output_type": "execute_result"
    }
   ],
   "source": [
    "data = pd.read_csv('data/ex3.csv')\n",
    "data.head()"
   ],
   "metadata": {
    "collapsed": false,
    "pycharm": {
     "name": "#%%\n"
    }
   }
  },
  {
   "cell_type": "code",
   "execution_count": 466,
   "outputs": [
    {
     "data": {
      "text/plain": "     year  age      sex            maritl      race           education  \\\n0    2008   59  1. Male        2. Married  3. Asian          2. HS Grad   \n1    2004   37  1. Male        2. Married  1. White     3. Some College   \n2    2008   52  1. Male        2. Married  1. White  5. Advanced Degree   \n3    2003   49  1. Male        2. Married  3. Asian  5. Advanced Degree   \n4    2007   46  1. Male        2. Married  1. White  5. Advanced Degree   \n..    ...  ...      ...               ...       ...                 ...   \n595  2009   61  1. Male  1. Never Married  1. White          2. HS Grad   \n596  2004   29  1. Male  1. Never Married  2. Black          2. HS Grad   \n597  2004   56  1. Male       4. Divorced  1. White          2. HS Grad   \n598  2008   37  1. Male  1. Never Married  1. White     3. Some College   \n599  2004   46  1. Male        2. Married  1. White     4. College Grad   \n\n           wage  \n0    139.213788  \n1    176.989651  \n2    154.685293  \n3    134.705375  \n4    281.745971  \n..          ...  \n595   65.110854  \n596  102.870247  \n597  101.824352  \n598  118.884359  \n599  104.921507  \n\n[600 rows x 7 columns]",
      "text/html": "<div>\n<style scoped>\n    .dataframe tbody tr th:only-of-type {\n        vertical-align: middle;\n    }\n\n    .dataframe tbody tr th {\n        vertical-align: top;\n    }\n\n    .dataframe thead th {\n        text-align: right;\n    }\n</style>\n<table border=\"1\" class=\"dataframe\">\n  <thead>\n    <tr style=\"text-align: right;\">\n      <th></th>\n      <th>year</th>\n      <th>age</th>\n      <th>sex</th>\n      <th>maritl</th>\n      <th>race</th>\n      <th>education</th>\n      <th>wage</th>\n    </tr>\n  </thead>\n  <tbody>\n    <tr>\n      <th>0</th>\n      <td>2008</td>\n      <td>59</td>\n      <td>1. Male</td>\n      <td>2. Married</td>\n      <td>3. Asian</td>\n      <td>2. HS Grad</td>\n      <td>139.213788</td>\n    </tr>\n    <tr>\n      <th>1</th>\n      <td>2004</td>\n      <td>37</td>\n      <td>1. Male</td>\n      <td>2. Married</td>\n      <td>1. White</td>\n      <td>3. Some College</td>\n      <td>176.989651</td>\n    </tr>\n    <tr>\n      <th>2</th>\n      <td>2008</td>\n      <td>52</td>\n      <td>1. Male</td>\n      <td>2. Married</td>\n      <td>1. White</td>\n      <td>5. Advanced Degree</td>\n      <td>154.685293</td>\n    </tr>\n    <tr>\n      <th>3</th>\n      <td>2003</td>\n      <td>49</td>\n      <td>1. Male</td>\n      <td>2. Married</td>\n      <td>3. Asian</td>\n      <td>5. Advanced Degree</td>\n      <td>134.705375</td>\n    </tr>\n    <tr>\n      <th>4</th>\n      <td>2007</td>\n      <td>46</td>\n      <td>1. Male</td>\n      <td>2. Married</td>\n      <td>1. White</td>\n      <td>5. Advanced Degree</td>\n      <td>281.745971</td>\n    </tr>\n    <tr>\n      <th>...</th>\n      <td>...</td>\n      <td>...</td>\n      <td>...</td>\n      <td>...</td>\n      <td>...</td>\n      <td>...</td>\n      <td>...</td>\n    </tr>\n    <tr>\n      <th>595</th>\n      <td>2009</td>\n      <td>61</td>\n      <td>1. Male</td>\n      <td>1. Never Married</td>\n      <td>1. White</td>\n      <td>2. HS Grad</td>\n      <td>65.110854</td>\n    </tr>\n    <tr>\n      <th>596</th>\n      <td>2004</td>\n      <td>29</td>\n      <td>1. Male</td>\n      <td>1. Never Married</td>\n      <td>2. Black</td>\n      <td>2. HS Grad</td>\n      <td>102.870247</td>\n    </tr>\n    <tr>\n      <th>597</th>\n      <td>2004</td>\n      <td>56</td>\n      <td>1. Male</td>\n      <td>4. Divorced</td>\n      <td>1. White</td>\n      <td>2. HS Grad</td>\n      <td>101.824352</td>\n    </tr>\n    <tr>\n      <th>598</th>\n      <td>2008</td>\n      <td>37</td>\n      <td>1. Male</td>\n      <td>1. Never Married</td>\n      <td>1. White</td>\n      <td>3. Some College</td>\n      <td>118.884359</td>\n    </tr>\n    <tr>\n      <th>599</th>\n      <td>2004</td>\n      <td>46</td>\n      <td>1. Male</td>\n      <td>2. Married</td>\n      <td>1. White</td>\n      <td>4. College Grad</td>\n      <td>104.921507</td>\n    </tr>\n  </tbody>\n</table>\n<p>600 rows × 7 columns</p>\n</div>"
     },
     "execution_count": 466,
     "metadata": {},
     "output_type": "execute_result"
    }
   ],
   "source": [
    "sample2 = data.sample(frac=0.2).reset_index(drop=True)\n",
    "sample2"
   ],
   "metadata": {
    "collapsed": false,
    "pycharm": {
     "name": "#%%\n"
    }
   }
  },
  {
   "cell_type": "code",
   "execution_count": 467,
   "outputs": [],
   "source": [
    "data = pd.read_csv('data/ex4.csv')"
   ],
   "metadata": {
    "collapsed": false,
    "pycharm": {
     "name": "#%%\n"
    }
   }
  },
  {
   "cell_type": "code",
   "execution_count": 468,
   "outputs": [
    {
     "data": {
      "text/plain": "    year  age     sex         marital    race           education        wage\n0   2006   18    Male   Never Married   White           < HS Grad   75.043154\n1   2004   24    Male   Never Married   White        College Grad   70.476020\n2   2003   45    Male         Married   Black        Some College  130.982177\n3   2003   43  Female         Married   Asian        College Grad  154.685293\n4   2005   50    Male        Divorced   White             HS Grad   75.043154\n5   2008   54    Male         Married   White        College Grad  127.115744\n6   2009   44  Female         Married   White        Some College  169.528538\n7   2008   30    Male   Never Married   Asian        Some College  111.720849\n8   2006   41  Female   Never Married   Black        Some College  118.884359\n9   2004   52    Male         Married   White             HS Grad  128.680488\n10  2007   45    Male        Divorced   Black        Some College  117.146817\n11  2007   34  Female         Married   White             HS Grad   81.283253\n12  2005   35    Male   Never Married   White             HS Grad   89.492480\n13  2003   39    Male         Married   White        College Grad  134.705375\n14  2009   54  Female         Married   White             HS Grad  134.705375\n15  2009   51    Male         Married   White        Some College   90.481913\n16  2003   37    Male   Never Married   Asian        College Grad   82.679637\n17  2006   50  Female         Married   White  5. Advanced Degree  212.842352\n18  2007   56    Male         Married   White        College Grad  129.156693\n19  2003   37  Female   Never Married   White        Some College   98.599344",
      "text/html": "<div>\n<style scoped>\n    .dataframe tbody tr th:only-of-type {\n        vertical-align: middle;\n    }\n\n    .dataframe tbody tr th {\n        vertical-align: top;\n    }\n\n    .dataframe thead th {\n        text-align: right;\n    }\n</style>\n<table border=\"1\" class=\"dataframe\">\n  <thead>\n    <tr style=\"text-align: right;\">\n      <th></th>\n      <th>year</th>\n      <th>age</th>\n      <th>sex</th>\n      <th>marital</th>\n      <th>race</th>\n      <th>education</th>\n      <th>wage</th>\n    </tr>\n  </thead>\n  <tbody>\n    <tr>\n      <th>0</th>\n      <td>2006</td>\n      <td>18</td>\n      <td>Male</td>\n      <td>Never Married</td>\n      <td>White</td>\n      <td>&lt; HS Grad</td>\n      <td>75.043154</td>\n    </tr>\n    <tr>\n      <th>1</th>\n      <td>2004</td>\n      <td>24</td>\n      <td>Male</td>\n      <td>Never Married</td>\n      <td>White</td>\n      <td>College Grad</td>\n      <td>70.476020</td>\n    </tr>\n    <tr>\n      <th>2</th>\n      <td>2003</td>\n      <td>45</td>\n      <td>Male</td>\n      <td>Married</td>\n      <td>Black</td>\n      <td>Some College</td>\n      <td>130.982177</td>\n    </tr>\n    <tr>\n      <th>3</th>\n      <td>2003</td>\n      <td>43</td>\n      <td>Female</td>\n      <td>Married</td>\n      <td>Asian</td>\n      <td>College Grad</td>\n      <td>154.685293</td>\n    </tr>\n    <tr>\n      <th>4</th>\n      <td>2005</td>\n      <td>50</td>\n      <td>Male</td>\n      <td>Divorced</td>\n      <td>White</td>\n      <td>HS Grad</td>\n      <td>75.043154</td>\n    </tr>\n    <tr>\n      <th>5</th>\n      <td>2008</td>\n      <td>54</td>\n      <td>Male</td>\n      <td>Married</td>\n      <td>White</td>\n      <td>College Grad</td>\n      <td>127.115744</td>\n    </tr>\n    <tr>\n      <th>6</th>\n      <td>2009</td>\n      <td>44</td>\n      <td>Female</td>\n      <td>Married</td>\n      <td>White</td>\n      <td>Some College</td>\n      <td>169.528538</td>\n    </tr>\n    <tr>\n      <th>7</th>\n      <td>2008</td>\n      <td>30</td>\n      <td>Male</td>\n      <td>Never Married</td>\n      <td>Asian</td>\n      <td>Some College</td>\n      <td>111.720849</td>\n    </tr>\n    <tr>\n      <th>8</th>\n      <td>2006</td>\n      <td>41</td>\n      <td>Female</td>\n      <td>Never Married</td>\n      <td>Black</td>\n      <td>Some College</td>\n      <td>118.884359</td>\n    </tr>\n    <tr>\n      <th>9</th>\n      <td>2004</td>\n      <td>52</td>\n      <td>Male</td>\n      <td>Married</td>\n      <td>White</td>\n      <td>HS Grad</td>\n      <td>128.680488</td>\n    </tr>\n    <tr>\n      <th>10</th>\n      <td>2007</td>\n      <td>45</td>\n      <td>Male</td>\n      <td>Divorced</td>\n      <td>Black</td>\n      <td>Some College</td>\n      <td>117.146817</td>\n    </tr>\n    <tr>\n      <th>11</th>\n      <td>2007</td>\n      <td>34</td>\n      <td>Female</td>\n      <td>Married</td>\n      <td>White</td>\n      <td>HS Grad</td>\n      <td>81.283253</td>\n    </tr>\n    <tr>\n      <th>12</th>\n      <td>2005</td>\n      <td>35</td>\n      <td>Male</td>\n      <td>Never Married</td>\n      <td>White</td>\n      <td>HS Grad</td>\n      <td>89.492480</td>\n    </tr>\n    <tr>\n      <th>13</th>\n      <td>2003</td>\n      <td>39</td>\n      <td>Male</td>\n      <td>Married</td>\n      <td>White</td>\n      <td>College Grad</td>\n      <td>134.705375</td>\n    </tr>\n    <tr>\n      <th>14</th>\n      <td>2009</td>\n      <td>54</td>\n      <td>Female</td>\n      <td>Married</td>\n      <td>White</td>\n      <td>HS Grad</td>\n      <td>134.705375</td>\n    </tr>\n    <tr>\n      <th>15</th>\n      <td>2009</td>\n      <td>51</td>\n      <td>Male</td>\n      <td>Married</td>\n      <td>White</td>\n      <td>Some College</td>\n      <td>90.481913</td>\n    </tr>\n    <tr>\n      <th>16</th>\n      <td>2003</td>\n      <td>37</td>\n      <td>Male</td>\n      <td>Never Married</td>\n      <td>Asian</td>\n      <td>College Grad</td>\n      <td>82.679637</td>\n    </tr>\n    <tr>\n      <th>17</th>\n      <td>2006</td>\n      <td>50</td>\n      <td>Female</td>\n      <td>Married</td>\n      <td>White</td>\n      <td>5. Advanced Degree</td>\n      <td>212.842352</td>\n    </tr>\n    <tr>\n      <th>18</th>\n      <td>2007</td>\n      <td>56</td>\n      <td>Male</td>\n      <td>Married</td>\n      <td>White</td>\n      <td>College Grad</td>\n      <td>129.156693</td>\n    </tr>\n    <tr>\n      <th>19</th>\n      <td>2003</td>\n      <td>37</td>\n      <td>Female</td>\n      <td>Never Married</td>\n      <td>White</td>\n      <td>Some College</td>\n      <td>98.599344</td>\n    </tr>\n  </tbody>\n</table>\n</div>"
     },
     "execution_count": 468,
     "metadata": {},
     "output_type": "execute_result"
    }
   ],
   "source": [
    "data"
   ],
   "metadata": {
    "collapsed": false,
    "pycharm": {
     "name": "#%%\n"
    }
   }
  },
  {
   "cell_type": "code",
   "execution_count": 469,
   "outputs": [
    {
     "data": {
      "text/plain": "     Divorced   Married   Never Married\n0           0         0               1\n1           0         0               1\n2           0         1               0\n3           0         1               0\n4           1         0               0\n5           0         1               0\n6           0         1               0\n7           0         0               1\n8           0         0               1\n9           0         1               0\n10          1         0               0\n11          0         1               0\n12          0         0               1\n13          0         1               0\n14          0         1               0\n15          0         1               0\n16          0         0               1\n17          0         1               0\n18          0         1               0\n19          0         0               1",
      "text/html": "<div>\n<style scoped>\n    .dataframe tbody tr th:only-of-type {\n        vertical-align: middle;\n    }\n\n    .dataframe tbody tr th {\n        vertical-align: top;\n    }\n\n    .dataframe thead th {\n        text-align: right;\n    }\n</style>\n<table border=\"1\" class=\"dataframe\">\n  <thead>\n    <tr style=\"text-align: right;\">\n      <th></th>\n      <th>Divorced</th>\n      <th>Married</th>\n      <th>Never Married</th>\n    </tr>\n  </thead>\n  <tbody>\n    <tr>\n      <th>0</th>\n      <td>0</td>\n      <td>0</td>\n      <td>1</td>\n    </tr>\n    <tr>\n      <th>1</th>\n      <td>0</td>\n      <td>0</td>\n      <td>1</td>\n    </tr>\n    <tr>\n      <th>2</th>\n      <td>0</td>\n      <td>1</td>\n      <td>0</td>\n    </tr>\n    <tr>\n      <th>3</th>\n      <td>0</td>\n      <td>1</td>\n      <td>0</td>\n    </tr>\n    <tr>\n      <th>4</th>\n      <td>1</td>\n      <td>0</td>\n      <td>0</td>\n    </tr>\n    <tr>\n      <th>5</th>\n      <td>0</td>\n      <td>1</td>\n      <td>0</td>\n    </tr>\n    <tr>\n      <th>6</th>\n      <td>0</td>\n      <td>1</td>\n      <td>0</td>\n    </tr>\n    <tr>\n      <th>7</th>\n      <td>0</td>\n      <td>0</td>\n      <td>1</td>\n    </tr>\n    <tr>\n      <th>8</th>\n      <td>0</td>\n      <td>0</td>\n      <td>1</td>\n    </tr>\n    <tr>\n      <th>9</th>\n      <td>0</td>\n      <td>1</td>\n      <td>0</td>\n    </tr>\n    <tr>\n      <th>10</th>\n      <td>1</td>\n      <td>0</td>\n      <td>0</td>\n    </tr>\n    <tr>\n      <th>11</th>\n      <td>0</td>\n      <td>1</td>\n      <td>0</td>\n    </tr>\n    <tr>\n      <th>12</th>\n      <td>0</td>\n      <td>0</td>\n      <td>1</td>\n    </tr>\n    <tr>\n      <th>13</th>\n      <td>0</td>\n      <td>1</td>\n      <td>0</td>\n    </tr>\n    <tr>\n      <th>14</th>\n      <td>0</td>\n      <td>1</td>\n      <td>0</td>\n    </tr>\n    <tr>\n      <th>15</th>\n      <td>0</td>\n      <td>1</td>\n      <td>0</td>\n    </tr>\n    <tr>\n      <th>16</th>\n      <td>0</td>\n      <td>0</td>\n      <td>1</td>\n    </tr>\n    <tr>\n      <th>17</th>\n      <td>0</td>\n      <td>1</td>\n      <td>0</td>\n    </tr>\n    <tr>\n      <th>18</th>\n      <td>0</td>\n      <td>1</td>\n      <td>0</td>\n    </tr>\n    <tr>\n      <th>19</th>\n      <td>0</td>\n      <td>0</td>\n      <td>1</td>\n    </tr>\n  </tbody>\n</table>\n</div>"
     },
     "execution_count": 469,
     "metadata": {},
     "output_type": "execute_result"
    }
   ],
   "source": [
    "pd.get_dummies(data['marital'])"
   ],
   "metadata": {
    "collapsed": false,
    "pycharm": {
     "name": "#%%\n"
    }
   }
  },
  {
   "cell_type": "code",
   "execution_count": null,
   "outputs": [],
   "source": [
    "text = 'jone, sam, jake'\n",
    "text.s"
   ],
   "metadata": {
    "collapsed": false,
    "pycharm": {
     "name": "#%%\n"
    }
   }
  }
 ],
 "metadata": {
  "kernelspec": {
   "display_name": "Python 3",
   "language": "python",
   "name": "python3"
  },
  "language_info": {
   "codemirror_mode": {
    "name": "ipython",
    "version": 2
   },
   "file_extension": ".py",
   "mimetype": "text/x-python",
   "name": "python",
   "nbconvert_exporter": "python",
   "pygments_lexer": "ipython2",
   "version": "2.7.6"
  }
 },
 "nbformat": 4,
 "nbformat_minor": 0
}