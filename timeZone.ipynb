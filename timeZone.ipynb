{
 "cells": [
  {
   "cell_type": "code",
   "execution_count": 35,
   "outputs": [],
   "source": [
    "import pandas as pd\n",
    "import pytz\n",
    "from datetime import datetime"
   ],
   "metadata": {
    "collapsed": false,
    "pycharm": {
     "name": "#%%\n"
    }
   }
  },
  {
   "cell_type": "code",
   "execution_count": 3,
   "outputs": [
    {
     "data": {
      "text/plain": "DatetimeIndex(['2021-07-01 13:30:00', '2021-07-01 14:30:00',\n               '2021-07-01 15:30:00', '2021-07-01 16:30:00',\n               '2021-07-01 17:30:00', '2021-07-01 18:30:00',\n               '2021-07-01 19:30:00', '2021-07-01 20:30:00',\n               '2021-07-01 21:30:00', '2021-07-01 22:30:00'],\n              dtype='datetime64[ns]', freq='H')"
     },
     "execution_count": 3,
     "metadata": {},
     "output_type": "execute_result"
    }
   ],
   "source": [
    "date_timeIndex =pd.date_range(\"2021-07-01 13:30\", periods=10, freq='H')\n",
    "date_timeIndex"
   ],
   "metadata": {
    "collapsed": false,
    "pycharm": {
     "name": "#%%\n"
    }
   }
  },
  {
   "cell_type": "code",
   "execution_count": 4,
   "outputs": [
    {
     "name": "stdout",
     "output_type": "stream",
     "text": [
      "None\n"
     ]
    }
   ],
   "source": [
    "print(date_timeIndex.tz)"
   ],
   "metadata": {
    "collapsed": false,
    "pycharm": {
     "name": "#%%\n"
    }
   }
  },
  {
   "cell_type": "code",
   "execution_count": 5,
   "outputs": [],
   "source": [
    "date_timeIndex = pd.date_range('2021-07-01 13:30', periods=10, freq='H', tz='UTC')"
   ],
   "metadata": {
    "collapsed": false,
    "pycharm": {
     "name": "#%%\n"
    }
   }
  },
  {
   "cell_type": "code",
   "execution_count": 6,
   "outputs": [
    {
     "name": "stdout",
     "output_type": "stream",
     "text": [
      "UTC\n"
     ]
    }
   ],
   "source": [
    "print(date_timeIndex.tz)"
   ],
   "metadata": {
    "collapsed": false,
    "pycharm": {
     "name": "#%%\n"
    }
   }
  },
  {
   "cell_type": "code",
   "execution_count": 7,
   "outputs": [
    {
     "data": {
      "text/plain": "                     amount\ntime                       \n2022-05-08 00:00:00     100\n2022-05-08 01:00:00     104\n2022-05-08 02:00:00     108\n2022-05-08 03:00:00     113\n2022-05-08 04:00:00     117\n2022-05-08 05:00:00     121\n2022-05-08 06:00:00     125\n2022-05-08 07:00:00     129\n2022-05-08 08:00:00     133\n2022-05-08 09:00:00     138\n2022-05-08 10:00:00     142\n2022-05-08 11:00:00     146\n2022-05-08 12:00:00     150\n2022-05-08 13:00:00     154\n2022-05-08 14:00:00     158\n2022-05-08 15:00:00     163\n2022-05-08 16:00:00     167\n2022-05-08 17:00:00     171\n2022-05-08 18:00:00     175\n2022-05-08 19:00:00     179",
      "text/html": "<div>\n<style scoped>\n    .dataframe tbody tr th:only-of-type {\n        vertical-align: middle;\n    }\n\n    .dataframe tbody tr th {\n        vertical-align: top;\n    }\n\n    .dataframe thead th {\n        text-align: right;\n    }\n</style>\n<table border=\"1\" class=\"dataframe\">\n  <thead>\n    <tr style=\"text-align: right;\">\n      <th></th>\n      <th>amount</th>\n    </tr>\n    <tr>\n      <th>time</th>\n      <th></th>\n    </tr>\n  </thead>\n  <tbody>\n    <tr>\n      <th>2022-05-08 00:00:00</th>\n      <td>100</td>\n    </tr>\n    <tr>\n      <th>2022-05-08 01:00:00</th>\n      <td>104</td>\n    </tr>\n    <tr>\n      <th>2022-05-08 02:00:00</th>\n      <td>108</td>\n    </tr>\n    <tr>\n      <th>2022-05-08 03:00:00</th>\n      <td>113</td>\n    </tr>\n    <tr>\n      <th>2022-05-08 04:00:00</th>\n      <td>117</td>\n    </tr>\n    <tr>\n      <th>2022-05-08 05:00:00</th>\n      <td>121</td>\n    </tr>\n    <tr>\n      <th>2022-05-08 06:00:00</th>\n      <td>125</td>\n    </tr>\n    <tr>\n      <th>2022-05-08 07:00:00</th>\n      <td>129</td>\n    </tr>\n    <tr>\n      <th>2022-05-08 08:00:00</th>\n      <td>133</td>\n    </tr>\n    <tr>\n      <th>2022-05-08 09:00:00</th>\n      <td>138</td>\n    </tr>\n    <tr>\n      <th>2022-05-08 10:00:00</th>\n      <td>142</td>\n    </tr>\n    <tr>\n      <th>2022-05-08 11:00:00</th>\n      <td>146</td>\n    </tr>\n    <tr>\n      <th>2022-05-08 12:00:00</th>\n      <td>150</td>\n    </tr>\n    <tr>\n      <th>2022-05-08 13:00:00</th>\n      <td>154</td>\n    </tr>\n    <tr>\n      <th>2022-05-08 14:00:00</th>\n      <td>158</td>\n    </tr>\n    <tr>\n      <th>2022-05-08 15:00:00</th>\n      <td>163</td>\n    </tr>\n    <tr>\n      <th>2022-05-08 16:00:00</th>\n      <td>167</td>\n    </tr>\n    <tr>\n      <th>2022-05-08 17:00:00</th>\n      <td>171</td>\n    </tr>\n    <tr>\n      <th>2022-05-08 18:00:00</th>\n      <td>175</td>\n    </tr>\n    <tr>\n      <th>2022-05-08 19:00:00</th>\n      <td>179</td>\n    </tr>\n  </tbody>\n</table>\n</div>"
     },
     "execution_count": 7,
     "metadata": {},
     "output_type": "execute_result"
    }
   ],
   "source": [
    "TS = pd.read_csv('data/ex18.csv', index_col='time', parse_dates=True)\n",
    "TS"
   ],
   "metadata": {
    "collapsed": false,
    "pycharm": {
     "name": "#%%\n"
    }
   }
  },
  {
   "cell_type": "code",
   "execution_count": 8,
   "outputs": [
    {
     "name": "stdout",
     "output_type": "stream",
     "text": [
      "None\n"
     ]
    }
   ],
   "source": [
    "print(TS.index.tz)"
   ],
   "metadata": {
    "collapsed": false,
    "pycharm": {
     "name": "#%%\n"
    }
   }
  },
  {
   "cell_type": "code",
   "execution_count": 9,
   "outputs": [
    {
     "data": {
      "text/plain": "                           amount\ntime                             \n2022-05-08 00:00:00+00:00     100\n2022-05-08 01:00:00+00:00     104\n2022-05-08 02:00:00+00:00     108\n2022-05-08 03:00:00+00:00     113\n2022-05-08 04:00:00+00:00     117\n2022-05-08 05:00:00+00:00     121\n2022-05-08 06:00:00+00:00     125\n2022-05-08 07:00:00+00:00     129\n2022-05-08 08:00:00+00:00     133\n2022-05-08 09:00:00+00:00     138\n2022-05-08 10:00:00+00:00     142\n2022-05-08 11:00:00+00:00     146\n2022-05-08 12:00:00+00:00     150\n2022-05-08 13:00:00+00:00     154\n2022-05-08 14:00:00+00:00     158\n2022-05-08 15:00:00+00:00     163\n2022-05-08 16:00:00+00:00     167\n2022-05-08 17:00:00+00:00     171\n2022-05-08 18:00:00+00:00     175\n2022-05-08 19:00:00+00:00     179",
      "text/html": "<div>\n<style scoped>\n    .dataframe tbody tr th:only-of-type {\n        vertical-align: middle;\n    }\n\n    .dataframe tbody tr th {\n        vertical-align: top;\n    }\n\n    .dataframe thead th {\n        text-align: right;\n    }\n</style>\n<table border=\"1\" class=\"dataframe\">\n  <thead>\n    <tr style=\"text-align: right;\">\n      <th></th>\n      <th>amount</th>\n    </tr>\n    <tr>\n      <th>time</th>\n      <th></th>\n    </tr>\n  </thead>\n  <tbody>\n    <tr>\n      <th>2022-05-08 00:00:00+00:00</th>\n      <td>100</td>\n    </tr>\n    <tr>\n      <th>2022-05-08 01:00:00+00:00</th>\n      <td>104</td>\n    </tr>\n    <tr>\n      <th>2022-05-08 02:00:00+00:00</th>\n      <td>108</td>\n    </tr>\n    <tr>\n      <th>2022-05-08 03:00:00+00:00</th>\n      <td>113</td>\n    </tr>\n    <tr>\n      <th>2022-05-08 04:00:00+00:00</th>\n      <td>117</td>\n    </tr>\n    <tr>\n      <th>2022-05-08 05:00:00+00:00</th>\n      <td>121</td>\n    </tr>\n    <tr>\n      <th>2022-05-08 06:00:00+00:00</th>\n      <td>125</td>\n    </tr>\n    <tr>\n      <th>2022-05-08 07:00:00+00:00</th>\n      <td>129</td>\n    </tr>\n    <tr>\n      <th>2022-05-08 08:00:00+00:00</th>\n      <td>133</td>\n    </tr>\n    <tr>\n      <th>2022-05-08 09:00:00+00:00</th>\n      <td>138</td>\n    </tr>\n    <tr>\n      <th>2022-05-08 10:00:00+00:00</th>\n      <td>142</td>\n    </tr>\n    <tr>\n      <th>2022-05-08 11:00:00+00:00</th>\n      <td>146</td>\n    </tr>\n    <tr>\n      <th>2022-05-08 12:00:00+00:00</th>\n      <td>150</td>\n    </tr>\n    <tr>\n      <th>2022-05-08 13:00:00+00:00</th>\n      <td>154</td>\n    </tr>\n    <tr>\n      <th>2022-05-08 14:00:00+00:00</th>\n      <td>158</td>\n    </tr>\n    <tr>\n      <th>2022-05-08 15:00:00+00:00</th>\n      <td>163</td>\n    </tr>\n    <tr>\n      <th>2022-05-08 16:00:00+00:00</th>\n      <td>167</td>\n    </tr>\n    <tr>\n      <th>2022-05-08 17:00:00+00:00</th>\n      <td>171</td>\n    </tr>\n    <tr>\n      <th>2022-05-08 18:00:00+00:00</th>\n      <td>175</td>\n    </tr>\n    <tr>\n      <th>2022-05-08 19:00:00+00:00</th>\n      <td>179</td>\n    </tr>\n  </tbody>\n</table>\n</div>"
     },
     "execution_count": 9,
     "metadata": {},
     "output_type": "execute_result"
    }
   ],
   "source": [
    "TS.tz_localize('UTC')"
   ],
   "metadata": {
    "collapsed": false,
    "pycharm": {
     "name": "#%%\n"
    }
   }
  },
  {
   "cell_type": "code",
   "execution_count": 20,
   "outputs": [
    {
     "data": {
      "text/plain": "                           amount\ntime                             \n2022-05-08 00:00:00+12:00     100\n2022-05-08 01:00:00+12:00     104\n2022-05-08 02:00:00+12:00     108\n2022-05-08 03:00:00+12:00     113\n2022-05-08 04:00:00+12:00     117\n2022-05-08 05:00:00+12:00     121\n2022-05-08 06:00:00+12:00     125\n2022-05-08 07:00:00+12:00     129\n2022-05-08 08:00:00+12:00     133\n2022-05-08 09:00:00+12:00     138\n2022-05-08 10:00:00+12:00     142\n2022-05-08 11:00:00+12:00     146\n2022-05-08 12:00:00+12:00     150\n2022-05-08 13:00:00+12:00     154\n2022-05-08 14:00:00+12:00     158\n2022-05-08 15:00:00+12:00     163\n2022-05-08 16:00:00+12:00     167\n2022-05-08 17:00:00+12:00     171\n2022-05-08 18:00:00+12:00     175\n2022-05-08 19:00:00+12:00     179",
      "text/html": "<div>\n<style scoped>\n    .dataframe tbody tr th:only-of-type {\n        vertical-align: middle;\n    }\n\n    .dataframe tbody tr th {\n        vertical-align: top;\n    }\n\n    .dataframe thead th {\n        text-align: right;\n    }\n</style>\n<table border=\"1\" class=\"dataframe\">\n  <thead>\n    <tr style=\"text-align: right;\">\n      <th></th>\n      <th>amount</th>\n    </tr>\n    <tr>\n      <th>time</th>\n      <th></th>\n    </tr>\n  </thead>\n  <tbody>\n    <tr>\n      <th>2022-05-08 00:00:00+12:00</th>\n      <td>100</td>\n    </tr>\n    <tr>\n      <th>2022-05-08 01:00:00+12:00</th>\n      <td>104</td>\n    </tr>\n    <tr>\n      <th>2022-05-08 02:00:00+12:00</th>\n      <td>108</td>\n    </tr>\n    <tr>\n      <th>2022-05-08 03:00:00+12:00</th>\n      <td>113</td>\n    </tr>\n    <tr>\n      <th>2022-05-08 04:00:00+12:00</th>\n      <td>117</td>\n    </tr>\n    <tr>\n      <th>2022-05-08 05:00:00+12:00</th>\n      <td>121</td>\n    </tr>\n    <tr>\n      <th>2022-05-08 06:00:00+12:00</th>\n      <td>125</td>\n    </tr>\n    <tr>\n      <th>2022-05-08 07:00:00+12:00</th>\n      <td>129</td>\n    </tr>\n    <tr>\n      <th>2022-05-08 08:00:00+12:00</th>\n      <td>133</td>\n    </tr>\n    <tr>\n      <th>2022-05-08 09:00:00+12:00</th>\n      <td>138</td>\n    </tr>\n    <tr>\n      <th>2022-05-08 10:00:00+12:00</th>\n      <td>142</td>\n    </tr>\n    <tr>\n      <th>2022-05-08 11:00:00+12:00</th>\n      <td>146</td>\n    </tr>\n    <tr>\n      <th>2022-05-08 12:00:00+12:00</th>\n      <td>150</td>\n    </tr>\n    <tr>\n      <th>2022-05-08 13:00:00+12:00</th>\n      <td>154</td>\n    </tr>\n    <tr>\n      <th>2022-05-08 14:00:00+12:00</th>\n      <td>158</td>\n    </tr>\n    <tr>\n      <th>2022-05-08 15:00:00+12:00</th>\n      <td>163</td>\n    </tr>\n    <tr>\n      <th>2022-05-08 16:00:00+12:00</th>\n      <td>167</td>\n    </tr>\n    <tr>\n      <th>2022-05-08 17:00:00+12:00</th>\n      <td>171</td>\n    </tr>\n    <tr>\n      <th>2022-05-08 18:00:00+12:00</th>\n      <td>175</td>\n    </tr>\n    <tr>\n      <th>2022-05-08 19:00:00+12:00</th>\n      <td>179</td>\n    </tr>\n  </tbody>\n</table>\n</div>"
     },
     "execution_count": 20,
     "metadata": {},
     "output_type": "execute_result"
    }
   ],
   "source": [
    "TS.tz_localize('Pacific/Auckland')"
   ],
   "metadata": {
    "collapsed": false,
    "pycharm": {
     "name": "#%%\n"
    }
   }
  },
  {
   "cell_type": "code",
   "execution_count": 21,
   "outputs": [
    {
     "data": {
      "text/plain": "                     amount\ntime                       \n2022-05-08 00:00:00     100\n2022-05-08 01:00:00     104\n2022-05-08 02:00:00     108\n2022-05-08 03:00:00     113\n2022-05-08 04:00:00     117\n2022-05-08 05:00:00     121\n2022-05-08 06:00:00     125\n2022-05-08 07:00:00     129\n2022-05-08 08:00:00     133\n2022-05-08 09:00:00     138\n2022-05-08 10:00:00     142\n2022-05-08 11:00:00     146\n2022-05-08 12:00:00     150\n2022-05-08 13:00:00     154\n2022-05-08 14:00:00     158\n2022-05-08 15:00:00     163\n2022-05-08 16:00:00     167\n2022-05-08 17:00:00     171\n2022-05-08 18:00:00     175\n2022-05-08 19:00:00     179",
      "text/html": "<div>\n<style scoped>\n    .dataframe tbody tr th:only-of-type {\n        vertical-align: middle;\n    }\n\n    .dataframe tbody tr th {\n        vertical-align: top;\n    }\n\n    .dataframe thead th {\n        text-align: right;\n    }\n</style>\n<table border=\"1\" class=\"dataframe\">\n  <thead>\n    <tr style=\"text-align: right;\">\n      <th></th>\n      <th>amount</th>\n    </tr>\n    <tr>\n      <th>time</th>\n      <th></th>\n    </tr>\n  </thead>\n  <tbody>\n    <tr>\n      <th>2022-05-08 00:00:00</th>\n      <td>100</td>\n    </tr>\n    <tr>\n      <th>2022-05-08 01:00:00</th>\n      <td>104</td>\n    </tr>\n    <tr>\n      <th>2022-05-08 02:00:00</th>\n      <td>108</td>\n    </tr>\n    <tr>\n      <th>2022-05-08 03:00:00</th>\n      <td>113</td>\n    </tr>\n    <tr>\n      <th>2022-05-08 04:00:00</th>\n      <td>117</td>\n    </tr>\n    <tr>\n      <th>2022-05-08 05:00:00</th>\n      <td>121</td>\n    </tr>\n    <tr>\n      <th>2022-05-08 06:00:00</th>\n      <td>125</td>\n    </tr>\n    <tr>\n      <th>2022-05-08 07:00:00</th>\n      <td>129</td>\n    </tr>\n    <tr>\n      <th>2022-05-08 08:00:00</th>\n      <td>133</td>\n    </tr>\n    <tr>\n      <th>2022-05-08 09:00:00</th>\n      <td>138</td>\n    </tr>\n    <tr>\n      <th>2022-05-08 10:00:00</th>\n      <td>142</td>\n    </tr>\n    <tr>\n      <th>2022-05-08 11:00:00</th>\n      <td>146</td>\n    </tr>\n    <tr>\n      <th>2022-05-08 12:00:00</th>\n      <td>150</td>\n    </tr>\n    <tr>\n      <th>2022-05-08 13:00:00</th>\n      <td>154</td>\n    </tr>\n    <tr>\n      <th>2022-05-08 14:00:00</th>\n      <td>158</td>\n    </tr>\n    <tr>\n      <th>2022-05-08 15:00:00</th>\n      <td>163</td>\n    </tr>\n    <tr>\n      <th>2022-05-08 16:00:00</th>\n      <td>167</td>\n    </tr>\n    <tr>\n      <th>2022-05-08 17:00:00</th>\n      <td>171</td>\n    </tr>\n    <tr>\n      <th>2022-05-08 18:00:00</th>\n      <td>175</td>\n    </tr>\n    <tr>\n      <th>2022-05-08 19:00:00</th>\n      <td>179</td>\n    </tr>\n  </tbody>\n</table>\n</div>"
     },
     "execution_count": 21,
     "metadata": {},
     "output_type": "execute_result"
    }
   ],
   "source": [
    "TS"
   ],
   "metadata": {
    "collapsed": false,
    "pycharm": {
     "name": "#%%\n"
    }
   }
  },
  {
   "cell_type": "code",
   "execution_count": 16,
   "outputs": [
    {
     "data": {
      "text/plain": "['Africa/Abidjan',\n 'Africa/Accra',\n 'Africa/Addis_Ababa',\n 'Africa/Algiers',\n 'Africa/Asmara',\n 'Africa/Bamako',\n 'Africa/Bangui',\n 'Africa/Banjul',\n 'Africa/Bissau',\n 'Africa/Blantyre',\n 'Africa/Brazzaville',\n 'Africa/Bujumbura',\n 'Africa/Cairo',\n 'Africa/Casablanca',\n 'Africa/Ceuta',\n 'Africa/Conakry',\n 'Africa/Dakar',\n 'Africa/Dar_es_Salaam',\n 'Africa/Djibouti',\n 'Africa/Douala',\n 'Africa/El_Aaiun',\n 'Africa/Freetown',\n 'Africa/Gaborone',\n 'Africa/Harare',\n 'Africa/Johannesburg',\n 'Africa/Juba',\n 'Africa/Kampala',\n 'Africa/Khartoum',\n 'Africa/Kigali',\n 'Africa/Kinshasa',\n 'Africa/Lagos',\n 'Africa/Libreville',\n 'Africa/Lome',\n 'Africa/Luanda',\n 'Africa/Lubumbashi',\n 'Africa/Lusaka',\n 'Africa/Malabo',\n 'Africa/Maputo',\n 'Africa/Maseru',\n 'Africa/Mbabane',\n 'Africa/Mogadishu',\n 'Africa/Monrovia',\n 'Africa/Nairobi',\n 'Africa/Ndjamena',\n 'Africa/Niamey',\n 'Africa/Nouakchott',\n 'Africa/Ouagadougou',\n 'Africa/Porto-Novo',\n 'Africa/Sao_Tome',\n 'Africa/Tripoli',\n 'Africa/Tunis',\n 'Africa/Windhoek',\n 'America/Adak',\n 'America/Anchorage',\n 'America/Anguilla',\n 'America/Antigua',\n 'America/Araguaina',\n 'America/Argentina/Buenos_Aires',\n 'America/Argentina/Catamarca',\n 'America/Argentina/Cordoba',\n 'America/Argentina/Jujuy',\n 'America/Argentina/La_Rioja',\n 'America/Argentina/Mendoza',\n 'America/Argentina/Rio_Gallegos',\n 'America/Argentina/Salta',\n 'America/Argentina/San_Juan',\n 'America/Argentina/San_Luis',\n 'America/Argentina/Tucuman',\n 'America/Argentina/Ushuaia',\n 'America/Aruba',\n 'America/Asuncion',\n 'America/Atikokan',\n 'America/Bahia',\n 'America/Bahia_Banderas',\n 'America/Barbados',\n 'America/Belem',\n 'America/Belize',\n 'America/Blanc-Sablon',\n 'America/Boa_Vista',\n 'America/Bogota',\n 'America/Boise',\n 'America/Cambridge_Bay',\n 'America/Campo_Grande',\n 'America/Cancun',\n 'America/Caracas',\n 'America/Cayenne',\n 'America/Cayman',\n 'America/Chicago',\n 'America/Chihuahua',\n 'America/Costa_Rica',\n 'America/Creston',\n 'America/Cuiaba',\n 'America/Curacao',\n 'America/Danmarkshavn',\n 'America/Dawson',\n 'America/Dawson_Creek',\n 'America/Denver',\n 'America/Detroit',\n 'America/Dominica',\n 'America/Edmonton',\n 'America/Eirunepe',\n 'America/El_Salvador',\n 'America/Fort_Nelson',\n 'America/Fortaleza',\n 'America/Glace_Bay',\n 'America/Goose_Bay',\n 'America/Grand_Turk',\n 'America/Grenada',\n 'America/Guadeloupe',\n 'America/Guatemala',\n 'America/Guayaquil',\n 'America/Guyana',\n 'America/Halifax',\n 'America/Havana',\n 'America/Hermosillo',\n 'America/Indiana/Indianapolis',\n 'America/Indiana/Knox',\n 'America/Indiana/Marengo',\n 'America/Indiana/Petersburg',\n 'America/Indiana/Tell_City',\n 'America/Indiana/Vevay',\n 'America/Indiana/Vincennes',\n 'America/Indiana/Winamac',\n 'America/Inuvik',\n 'America/Iqaluit',\n 'America/Jamaica',\n 'America/Juneau',\n 'America/Kentucky/Louisville',\n 'America/Kentucky/Monticello',\n 'America/Kralendijk',\n 'America/La_Paz',\n 'America/Lima',\n 'America/Los_Angeles',\n 'America/Lower_Princes',\n 'America/Maceio',\n 'America/Managua',\n 'America/Manaus',\n 'America/Marigot',\n 'America/Martinique',\n 'America/Matamoros',\n 'America/Mazatlan',\n 'America/Menominee',\n 'America/Merida',\n 'America/Metlakatla',\n 'America/Mexico_City',\n 'America/Miquelon',\n 'America/Moncton',\n 'America/Monterrey',\n 'America/Montevideo',\n 'America/Montserrat',\n 'America/Nassau',\n 'America/New_York',\n 'America/Nipigon',\n 'America/Nome',\n 'America/Noronha',\n 'America/North_Dakota/Beulah',\n 'America/North_Dakota/Center',\n 'America/North_Dakota/New_Salem',\n 'America/Nuuk',\n 'America/Ojinaga',\n 'America/Panama',\n 'America/Pangnirtung',\n 'America/Paramaribo',\n 'America/Phoenix',\n 'America/Port-au-Prince',\n 'America/Port_of_Spain',\n 'America/Porto_Velho',\n 'America/Puerto_Rico',\n 'America/Punta_Arenas',\n 'America/Rainy_River',\n 'America/Rankin_Inlet',\n 'America/Recife',\n 'America/Regina',\n 'America/Resolute',\n 'America/Rio_Branco',\n 'America/Santarem',\n 'America/Santiago',\n 'America/Santo_Domingo',\n 'America/Sao_Paulo',\n 'America/Scoresbysund',\n 'America/Sitka',\n 'America/St_Barthelemy',\n 'America/St_Johns',\n 'America/St_Kitts',\n 'America/St_Lucia',\n 'America/St_Thomas',\n 'America/St_Vincent',\n 'America/Swift_Current',\n 'America/Tegucigalpa',\n 'America/Thule',\n 'America/Thunder_Bay',\n 'America/Tijuana',\n 'America/Toronto',\n 'America/Tortola',\n 'America/Vancouver',\n 'America/Whitehorse',\n 'America/Winnipeg',\n 'America/Yakutat',\n 'America/Yellowknife',\n 'Antarctica/Casey',\n 'Antarctica/Davis',\n 'Antarctica/DumontDUrville',\n 'Antarctica/Macquarie',\n 'Antarctica/Mawson',\n 'Antarctica/McMurdo',\n 'Antarctica/Palmer',\n 'Antarctica/Rothera',\n 'Antarctica/Syowa',\n 'Antarctica/Troll',\n 'Antarctica/Vostok',\n 'Arctic/Longyearbyen',\n 'Asia/Aden',\n 'Asia/Almaty',\n 'Asia/Amman',\n 'Asia/Anadyr',\n 'Asia/Aqtau',\n 'Asia/Aqtobe',\n 'Asia/Ashgabat',\n 'Asia/Atyrau',\n 'Asia/Baghdad',\n 'Asia/Bahrain',\n 'Asia/Baku',\n 'Asia/Bangkok',\n 'Asia/Barnaul',\n 'Asia/Beirut',\n 'Asia/Bishkek',\n 'Asia/Brunei',\n 'Asia/Chita',\n 'Asia/Choibalsan',\n 'Asia/Colombo',\n 'Asia/Damascus',\n 'Asia/Dhaka',\n 'Asia/Dili',\n 'Asia/Dubai',\n 'Asia/Dushanbe',\n 'Asia/Famagusta',\n 'Asia/Gaza',\n 'Asia/Hebron',\n 'Asia/Ho_Chi_Minh',\n 'Asia/Hong_Kong',\n 'Asia/Hovd',\n 'Asia/Irkutsk',\n 'Asia/Jakarta',\n 'Asia/Jayapura',\n 'Asia/Jerusalem',\n 'Asia/Kabul',\n 'Asia/Kamchatka',\n 'Asia/Karachi',\n 'Asia/Kathmandu',\n 'Asia/Khandyga',\n 'Asia/Kolkata',\n 'Asia/Krasnoyarsk',\n 'Asia/Kuala_Lumpur',\n 'Asia/Kuching',\n 'Asia/Kuwait',\n 'Asia/Macau',\n 'Asia/Magadan',\n 'Asia/Makassar',\n 'Asia/Manila',\n 'Asia/Muscat',\n 'Asia/Nicosia',\n 'Asia/Novokuznetsk',\n 'Asia/Novosibirsk',\n 'Asia/Omsk',\n 'Asia/Oral',\n 'Asia/Phnom_Penh',\n 'Asia/Pontianak',\n 'Asia/Pyongyang',\n 'Asia/Qatar',\n 'Asia/Qostanay',\n 'Asia/Qyzylorda',\n 'Asia/Riyadh',\n 'Asia/Sakhalin',\n 'Asia/Samarkand',\n 'Asia/Seoul',\n 'Asia/Shanghai',\n 'Asia/Singapore',\n 'Asia/Srednekolymsk',\n 'Asia/Taipei',\n 'Asia/Tashkent',\n 'Asia/Tbilisi',\n 'Asia/Tehran',\n 'Asia/Thimphu',\n 'Asia/Tokyo',\n 'Asia/Tomsk',\n 'Asia/Ulaanbaatar',\n 'Asia/Urumqi',\n 'Asia/Ust-Nera',\n 'Asia/Vientiane',\n 'Asia/Vladivostok',\n 'Asia/Yakutsk',\n 'Asia/Yangon',\n 'Asia/Yekaterinburg',\n 'Asia/Yerevan',\n 'Atlantic/Azores',\n 'Atlantic/Bermuda',\n 'Atlantic/Canary',\n 'Atlantic/Cape_Verde',\n 'Atlantic/Faroe',\n 'Atlantic/Madeira',\n 'Atlantic/Reykjavik',\n 'Atlantic/South_Georgia',\n 'Atlantic/St_Helena',\n 'Atlantic/Stanley',\n 'Australia/Adelaide',\n 'Australia/Brisbane',\n 'Australia/Broken_Hill',\n 'Australia/Darwin',\n 'Australia/Eucla',\n 'Australia/Hobart',\n 'Australia/Lindeman',\n 'Australia/Lord_Howe',\n 'Australia/Melbourne',\n 'Australia/Perth',\n 'Australia/Sydney',\n 'Canada/Atlantic',\n 'Canada/Central',\n 'Canada/Eastern',\n 'Canada/Mountain',\n 'Canada/Newfoundland',\n 'Canada/Pacific',\n 'Europe/Amsterdam',\n 'Europe/Andorra',\n 'Europe/Astrakhan',\n 'Europe/Athens',\n 'Europe/Belgrade',\n 'Europe/Berlin',\n 'Europe/Bratislava',\n 'Europe/Brussels',\n 'Europe/Bucharest',\n 'Europe/Budapest',\n 'Europe/Busingen',\n 'Europe/Chisinau',\n 'Europe/Copenhagen',\n 'Europe/Dublin',\n 'Europe/Gibraltar',\n 'Europe/Guernsey',\n 'Europe/Helsinki',\n 'Europe/Isle_of_Man',\n 'Europe/Istanbul',\n 'Europe/Jersey',\n 'Europe/Kaliningrad',\n 'Europe/Kiev',\n 'Europe/Kirov',\n 'Europe/Lisbon',\n 'Europe/Ljubljana',\n 'Europe/London',\n 'Europe/Luxembourg',\n 'Europe/Madrid',\n 'Europe/Malta',\n 'Europe/Mariehamn',\n 'Europe/Minsk',\n 'Europe/Monaco',\n 'Europe/Moscow',\n 'Europe/Oslo',\n 'Europe/Paris',\n 'Europe/Podgorica',\n 'Europe/Prague',\n 'Europe/Riga',\n 'Europe/Rome',\n 'Europe/Samara',\n 'Europe/San_Marino',\n 'Europe/Sarajevo',\n 'Europe/Saratov',\n 'Europe/Simferopol',\n 'Europe/Skopje',\n 'Europe/Sofia',\n 'Europe/Stockholm',\n 'Europe/Tallinn',\n 'Europe/Tirane',\n 'Europe/Ulyanovsk',\n 'Europe/Uzhgorod',\n 'Europe/Vaduz',\n 'Europe/Vatican',\n 'Europe/Vienna',\n 'Europe/Vilnius',\n 'Europe/Volgograd',\n 'Europe/Warsaw',\n 'Europe/Zagreb',\n 'Europe/Zaporozhye',\n 'Europe/Zurich',\n 'GMT',\n 'Indian/Antananarivo',\n 'Indian/Chagos',\n 'Indian/Christmas',\n 'Indian/Cocos',\n 'Indian/Comoro',\n 'Indian/Kerguelen',\n 'Indian/Mahe',\n 'Indian/Maldives',\n 'Indian/Mauritius',\n 'Indian/Mayotte',\n 'Indian/Reunion',\n 'Pacific/Apia',\n 'Pacific/Auckland',\n 'Pacific/Bougainville',\n 'Pacific/Chatham',\n 'Pacific/Chuuk',\n 'Pacific/Easter',\n 'Pacific/Efate',\n 'Pacific/Fakaofo',\n 'Pacific/Fiji',\n 'Pacific/Funafuti',\n 'Pacific/Galapagos',\n 'Pacific/Gambier',\n 'Pacific/Guadalcanal',\n 'Pacific/Guam',\n 'Pacific/Honolulu',\n 'Pacific/Kanton',\n 'Pacific/Kiritimati',\n 'Pacific/Kosrae',\n 'Pacific/Kwajalein',\n 'Pacific/Majuro',\n 'Pacific/Marquesas',\n 'Pacific/Midway',\n 'Pacific/Nauru',\n 'Pacific/Niue',\n 'Pacific/Norfolk',\n 'Pacific/Noumea',\n 'Pacific/Pago_Pago',\n 'Pacific/Palau',\n 'Pacific/Pitcairn',\n 'Pacific/Pohnpei',\n 'Pacific/Port_Moresby',\n 'Pacific/Rarotonga',\n 'Pacific/Saipan',\n 'Pacific/Tahiti',\n 'Pacific/Tarawa',\n 'Pacific/Tongatapu',\n 'Pacific/Wake',\n 'Pacific/Wallis',\n 'US/Alaska',\n 'US/Arizona',\n 'US/Central',\n 'US/Eastern',\n 'US/Hawaii',\n 'US/Mountain',\n 'US/Pacific',\n 'UTC']"
     },
     "execution_count": 16,
     "metadata": {},
     "output_type": "execute_result"
    }
   ],
   "source": [
    "pytz.common_timezones"
   ],
   "metadata": {
    "collapsed": false,
    "pycharm": {
     "name": "#%%\n"
    }
   }
  },
  {
   "cell_type": "code",
   "execution_count": 23,
   "outputs": [
    {
     "ename": "TypeError",
     "evalue": "Cannot convert tz-naive timestamps, use tz_localize to localize",
     "output_type": "error",
     "traceback": [
      "\u001B[0;31m---------------------------------------------------------------------------\u001B[0m",
      "\u001B[0;31mTypeError\u001B[0m                                 Traceback (most recent call last)",
      "Input \u001B[0;32mIn [23]\u001B[0m, in \u001B[0;36m<cell line: 1>\u001B[0;34m()\u001B[0m\n\u001B[0;32m----> 1\u001B[0m \u001B[43mTS\u001B[49m\u001B[38;5;241;43m.\u001B[39;49m\u001B[43mindex\u001B[49m\u001B[38;5;241;43m.\u001B[39;49m\u001B[43mtz_convert\u001B[49m\u001B[43m(\u001B[49m\u001B[43m \u001B[49m\u001B[38;5;124;43m'\u001B[39;49m\u001B[38;5;124;43mAfrica/Djibouti\u001B[39;49m\u001B[38;5;124;43m'\u001B[39;49m\u001B[43m)\u001B[49m\n",
      "File \u001B[0;32m~/anaconda3/envs/DataScience/lib/python3.10/site-packages/pandas/core/indexes/datetimes.py:268\u001B[0m, in \u001B[0;36mDatetimeIndex.tz_convert\u001B[0;34m(self, tz)\u001B[0m\n\u001B[1;32m    266\u001B[0m \u001B[38;5;129m@doc\u001B[39m(DatetimeArray\u001B[38;5;241m.\u001B[39mtz_convert)\n\u001B[1;32m    267\u001B[0m \u001B[38;5;28;01mdef\u001B[39;00m \u001B[38;5;21mtz_convert\u001B[39m(\u001B[38;5;28mself\u001B[39m, tz) \u001B[38;5;241m-\u001B[39m\u001B[38;5;241m>\u001B[39m DatetimeIndex:\n\u001B[0;32m--> 268\u001B[0m     arr \u001B[38;5;241m=\u001B[39m \u001B[38;5;28;43mself\u001B[39;49m\u001B[38;5;241;43m.\u001B[39;49m\u001B[43m_data\u001B[49m\u001B[38;5;241;43m.\u001B[39;49m\u001B[43mtz_convert\u001B[49m\u001B[43m(\u001B[49m\u001B[43mtz\u001B[49m\u001B[43m)\u001B[49m\n\u001B[1;32m    269\u001B[0m     \u001B[38;5;28;01mreturn\u001B[39;00m \u001B[38;5;28mtype\u001B[39m(\u001B[38;5;28mself\u001B[39m)\u001B[38;5;241m.\u001B[39m_simple_new(arr, name\u001B[38;5;241m=\u001B[39m\u001B[38;5;28mself\u001B[39m\u001B[38;5;241m.\u001B[39mname)\n",
      "File \u001B[0;32m~/anaconda3/envs/DataScience/lib/python3.10/site-packages/pandas/core/arrays/datetimes.py:874\u001B[0m, in \u001B[0;36mDatetimeArray.tz_convert\u001B[0;34m(self, tz)\u001B[0m\n\u001B[1;32m    870\u001B[0m tz \u001B[38;5;241m=\u001B[39m timezones\u001B[38;5;241m.\u001B[39mmaybe_get_tz(tz)\n\u001B[1;32m    872\u001B[0m \u001B[38;5;28;01mif\u001B[39;00m \u001B[38;5;28mself\u001B[39m\u001B[38;5;241m.\u001B[39mtz \u001B[38;5;129;01mis\u001B[39;00m \u001B[38;5;28;01mNone\u001B[39;00m:\n\u001B[1;32m    873\u001B[0m     \u001B[38;5;66;03m# tz naive, use tz_localize\u001B[39;00m\n\u001B[0;32m--> 874\u001B[0m     \u001B[38;5;28;01mraise\u001B[39;00m \u001B[38;5;167;01mTypeError\u001B[39;00m(\n\u001B[1;32m    875\u001B[0m         \u001B[38;5;124m\"\u001B[39m\u001B[38;5;124mCannot convert tz-naive timestamps, use tz_localize to localize\u001B[39m\u001B[38;5;124m\"\u001B[39m\n\u001B[1;32m    876\u001B[0m     )\n\u001B[1;32m    878\u001B[0m \u001B[38;5;66;03m# No conversion since timestamps are all UTC to begin with\u001B[39;00m\n\u001B[1;32m    879\u001B[0m dtype \u001B[38;5;241m=\u001B[39m tz_to_dtype(tz)\n",
      "\u001B[0;31mTypeError\u001B[0m: Cannot convert tz-naive timestamps, use tz_localize to localize"
     ]
    }
   ],
   "source": [
    "TS.index.tz_convert( 'Africa/Djibouti')"
   ],
   "metadata": {
    "collapsed": false,
    "pycharm": {
     "name": "#%%\n"
    }
   }
  },
  {
   "cell_type": "code",
   "execution_count": 24,
   "outputs": [
    {
     "data": {
      "text/plain": "DatetimeIndex(['2022-05-08 00:00:00', '2022-05-08 01:00:00',\n               '2022-05-08 02:00:00', '2022-05-08 03:00:00',\n               '2022-05-08 04:00:00', '2022-05-08 05:00:00',\n               '2022-05-08 06:00:00', '2022-05-08 07:00:00',\n               '2022-05-08 08:00:00', '2022-05-08 09:00:00',\n               '2022-05-08 10:00:00', '2022-05-08 11:00:00',\n               '2022-05-08 12:00:00', '2022-05-08 13:00:00',\n               '2022-05-08 14:00:00', '2022-05-08 15:00:00',\n               '2022-05-08 16:00:00', '2022-05-08 17:00:00',\n               '2022-05-08 18:00:00', '2022-05-08 19:00:00'],\n              dtype='datetime64[ns]', name='time', freq=None)"
     },
     "execution_count": 24,
     "metadata": {},
     "output_type": "execute_result"
    }
   ],
   "source": [
    "TS.index"
   ],
   "metadata": {
    "collapsed": false,
    "pycharm": {
     "name": "#%%\n"
    }
   }
  },
  {
   "cell_type": "code",
   "execution_count": 25,
   "outputs": [
    {
     "data": {
      "text/plain": "                           amount\ntime                             \n2022-05-08 00:00:00+12:00     100\n2022-05-08 01:00:00+12:00     104\n2022-05-08 02:00:00+12:00     108\n2022-05-08 03:00:00+12:00     113\n2022-05-08 04:00:00+12:00     117\n2022-05-08 05:00:00+12:00     121\n2022-05-08 06:00:00+12:00     125\n2022-05-08 07:00:00+12:00     129\n2022-05-08 08:00:00+12:00     133\n2022-05-08 09:00:00+12:00     138\n2022-05-08 10:00:00+12:00     142\n2022-05-08 11:00:00+12:00     146\n2022-05-08 12:00:00+12:00     150\n2022-05-08 13:00:00+12:00     154\n2022-05-08 14:00:00+12:00     158\n2022-05-08 15:00:00+12:00     163\n2022-05-08 16:00:00+12:00     167\n2022-05-08 17:00:00+12:00     171\n2022-05-08 18:00:00+12:00     175\n2022-05-08 19:00:00+12:00     179",
      "text/html": "<div>\n<style scoped>\n    .dataframe tbody tr th:only-of-type {\n        vertical-align: middle;\n    }\n\n    .dataframe tbody tr th {\n        vertical-align: top;\n    }\n\n    .dataframe thead th {\n        text-align: right;\n    }\n</style>\n<table border=\"1\" class=\"dataframe\">\n  <thead>\n    <tr style=\"text-align: right;\">\n      <th></th>\n      <th>amount</th>\n    </tr>\n    <tr>\n      <th>time</th>\n      <th></th>\n    </tr>\n  </thead>\n  <tbody>\n    <tr>\n      <th>2022-05-08 00:00:00+12:00</th>\n      <td>100</td>\n    </tr>\n    <tr>\n      <th>2022-05-08 01:00:00+12:00</th>\n      <td>104</td>\n    </tr>\n    <tr>\n      <th>2022-05-08 02:00:00+12:00</th>\n      <td>108</td>\n    </tr>\n    <tr>\n      <th>2022-05-08 03:00:00+12:00</th>\n      <td>113</td>\n    </tr>\n    <tr>\n      <th>2022-05-08 04:00:00+12:00</th>\n      <td>117</td>\n    </tr>\n    <tr>\n      <th>2022-05-08 05:00:00+12:00</th>\n      <td>121</td>\n    </tr>\n    <tr>\n      <th>2022-05-08 06:00:00+12:00</th>\n      <td>125</td>\n    </tr>\n    <tr>\n      <th>2022-05-08 07:00:00+12:00</th>\n      <td>129</td>\n    </tr>\n    <tr>\n      <th>2022-05-08 08:00:00+12:00</th>\n      <td>133</td>\n    </tr>\n    <tr>\n      <th>2022-05-08 09:00:00+12:00</th>\n      <td>138</td>\n    </tr>\n    <tr>\n      <th>2022-05-08 10:00:00+12:00</th>\n      <td>142</td>\n    </tr>\n    <tr>\n      <th>2022-05-08 11:00:00+12:00</th>\n      <td>146</td>\n    </tr>\n    <tr>\n      <th>2022-05-08 12:00:00+12:00</th>\n      <td>150</td>\n    </tr>\n    <tr>\n      <th>2022-05-08 13:00:00+12:00</th>\n      <td>154</td>\n    </tr>\n    <tr>\n      <th>2022-05-08 14:00:00+12:00</th>\n      <td>158</td>\n    </tr>\n    <tr>\n      <th>2022-05-08 15:00:00+12:00</th>\n      <td>163</td>\n    </tr>\n    <tr>\n      <th>2022-05-08 16:00:00+12:00</th>\n      <td>167</td>\n    </tr>\n    <tr>\n      <th>2022-05-08 17:00:00+12:00</th>\n      <td>171</td>\n    </tr>\n    <tr>\n      <th>2022-05-08 18:00:00+12:00</th>\n      <td>175</td>\n    </tr>\n    <tr>\n      <th>2022-05-08 19:00:00+12:00</th>\n      <td>179</td>\n    </tr>\n  </tbody>\n</table>\n</div>"
     },
     "execution_count": 25,
     "metadata": {},
     "output_type": "execute_result"
    }
   ],
   "source": [
    "TS.tz_localize('Pacific/Auckland')"
   ],
   "metadata": {
    "collapsed": false,
    "pycharm": {
     "name": "#%%\n"
    }
   }
  },
  {
   "cell_type": "code",
   "execution_count": 27,
   "outputs": [
    {
     "name": "stdout",
     "output_type": "stream",
     "text": [
      "UTC\n"
     ]
    }
   ],
   "source": [
    "print(date_timeIndex.tz)"
   ],
   "metadata": {
    "collapsed": false,
    "pycharm": {
     "name": "#%%\n"
    }
   }
  },
  {
   "cell_type": "code",
   "execution_count": 28,
   "outputs": [
    {
     "data": {
      "text/plain": "DatetimeIndex(['2021-07-01 16:30:00+03:00', '2021-07-01 17:30:00+03:00',\n               '2021-07-01 18:30:00+03:00', '2021-07-01 19:30:00+03:00',\n               '2021-07-01 20:30:00+03:00', '2021-07-01 21:30:00+03:00',\n               '2021-07-01 22:30:00+03:00', '2021-07-01 23:30:00+03:00',\n               '2021-07-02 00:30:00+03:00', '2021-07-02 01:30:00+03:00'],\n              dtype='datetime64[ns, Africa/Addis_Ababa]', freq='H')"
     },
     "execution_count": 28,
     "metadata": {},
     "output_type": "execute_result"
    }
   ],
   "source": [
    "date_timeIndex.tz_convert( 'Africa/Addis_Ababa')"
   ],
   "metadata": {
    "collapsed": false,
    "pycharm": {
     "name": "#%%\n"
    }
   }
  },
  {
   "cell_type": "code",
   "execution_count": 34,
   "outputs": [],
   "source": [
    "from datetime import timedelta\n",
    "\n"
   ],
   "metadata": {
    "collapsed": false,
    "pycharm": {
     "name": "#%%\n"
    }
   }
  },
  {
   "cell_type": "code",
   "execution_count": 41,
   "outputs": [
    {
     "data": {
      "text/plain": "datetime.datetime(2021, 11, 11, 11, 30)"
     },
     "execution_count": 41,
     "metadata": {},
     "output_type": "execute_result"
    }
   ],
   "source": [
    "time1 = datetime(year=2021, month=11, day=11, hour=11, minute=30)\n"
   ],
   "metadata": {
    "collapsed": false,
    "pycharm": {
     "name": "#%%\n"
    }
   }
  },
  {
   "cell_type": "code",
   "execution_count": 43,
   "outputs": [
    {
     "ename": "AttributeError",
     "evalue": "'datetime.datetime' object has no attribute 'tz_localize'",
     "output_type": "error",
     "traceback": [
      "\u001B[0;31m---------------------------------------------------------------------------\u001B[0m",
      "\u001B[0;31mAttributeError\u001B[0m                            Traceback (most recent call last)",
      "Input \u001B[0;32mIn [43]\u001B[0m, in \u001B[0;36m<cell line: 1>\u001B[0;34m()\u001B[0m\n\u001B[0;32m----> 1\u001B[0m \u001B[43mtime1\u001B[49m\u001B[38;5;241;43m.\u001B[39;49m\u001B[43mtz_localize\u001B[49m(\u001B[38;5;124m'\u001B[39m\u001B[38;5;124mPacific/Auckland\u001B[39m\u001B[38;5;124m'\u001B[39m)\n",
      "\u001B[0;31mAttributeError\u001B[0m: 'datetime.datetime' object has no attribute 'tz_localize'"
     ]
    }
   ],
   "source": [
    "time1.tz_localize('Pacific/Auckland')"
   ],
   "metadata": {
    "collapsed": false,
    "pycharm": {
     "name": "#%%\n"
    }
   }
  },
  {
   "cell_type": "code",
   "execution_count": 46,
   "outputs": [
    {
     "data": {
      "text/plain": "datetime.datetime(2021, 11, 11, 23, 30)"
     },
     "execution_count": 46,
     "metadata": {},
     "output_type": "execute_result"
    }
   ],
   "source": [
    "time1 + timedelta(hours=12)"
   ],
   "metadata": {
    "collapsed": false,
    "pycharm": {
     "name": "#%%\n"
    }
   }
  },
  {
   "cell_type": "code",
   "execution_count": null,
   "outputs": [],
   "source": [],
   "metadata": {
    "collapsed": false,
    "pycharm": {
     "name": "#%%\n"
    }
   }
  }
 ],
 "metadata": {
  "kernelspec": {
   "display_name": "Python 3",
   "language": "python",
   "name": "python3"
  },
  "language_info": {
   "codemirror_mode": {
    "name": "ipython",
    "version": 2
   },
   "file_extension": ".py",
   "mimetype": "text/x-python",
   "name": "python",
   "nbconvert_exporter": "python",
   "pygments_lexer": "ipython2",
   "version": "2.7.6"
  }
 },
 "nbformat": 4,
 "nbformat_minor": 0
}