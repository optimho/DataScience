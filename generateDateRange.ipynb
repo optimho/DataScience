{
 "cells": [
  {
   "cell_type": "code",
   "execution_count": 1,
   "outputs": [],
   "source": [
    "from datetime import datetime\n",
    "import pandas as pd"
   ],
   "metadata": {
    "collapsed": false,
    "pycharm": {
     "name": "#%%\n"
    }
   }
  },
  {
   "cell_type": "code",
   "execution_count": 2,
   "outputs": [
    {
     "data": {
      "text/plain": "google    float64\napple     float64\ndtype: object"
     },
     "execution_count": 2,
     "metadata": {},
     "output_type": "execute_result"
    }
   ],
   "source": [
    "df = pd.read_csv('data/ex16.csv')\n",
    "df.dtypes"
   ],
   "metadata": {
    "collapsed": false,
    "pycharm": {
     "name": "#%%\n"
    }
   }
  },
  {
   "cell_type": "code",
   "execution_count": 3,
   "outputs": [
    {
     "data": {
      "text/plain": "RangeIndex(start=0, stop=15, step=1)"
     },
     "execution_count": 3,
     "metadata": {},
     "output_type": "execute_result"
    }
   ],
   "source": [
    "df.index"
   ],
   "metadata": {
    "collapsed": false,
    "pycharm": {
     "name": "#%%\n"
    }
   }
  },
  {
   "cell_type": "code",
   "execution_count": 4,
   "outputs": [
    {
     "data": {
      "text/plain": "DatetimeIndex(['2020-05-01', '2020-05-02', '2020-05-03', '2020-05-04',\n               '2020-05-05', '2020-05-06', '2020-05-07', '2020-05-08',\n               '2020-05-09', '2020-05-10', '2020-05-11', '2020-05-12',\n               '2020-05-13', '2020-05-14', '2020-05-15'],\n              dtype='datetime64[ns]', freq='D')"
     },
     "execution_count": 4,
     "metadata": {},
     "output_type": "execute_result"
    }
   ],
   "source": [
    "index = pd.date_range(start='2020-05-01', end='2020-05-15')\n",
    "index"
   ],
   "metadata": {
    "collapsed": false,
    "pycharm": {
     "name": "#%%\n"
    }
   }
  },
  {
   "cell_type": "code",
   "execution_count": 5,
   "outputs": [
    {
     "data": {
      "text/plain": "             google   apple\n2020-05-01  2410.12  131.24\n2020-05-02  2429.89  133.25\n2020-05-03  2379.91  133.35\n2020-05-04  2307.12  134.16\n2020-05-05  2326.74  134.49\n2020-05-06  2315.30  134.09\n2020-05-07  2267.92  131.72\n2020-05-08  2293.29  133.27\n2020-05-09  2293.63  132.88\n2020-05-10  2410.12  131.24\n2020-05-11  2429.89  133.25\n2020-05-12  2379.91  133.35\n2020-05-13  2307.12  134.16\n2020-05-14  2326.74  134.49\n2020-05-15  2315.30  134.09",
      "text/html": "<div>\n<style scoped>\n    .dataframe tbody tr th:only-of-type {\n        vertical-align: middle;\n    }\n\n    .dataframe tbody tr th {\n        vertical-align: top;\n    }\n\n    .dataframe thead th {\n        text-align: right;\n    }\n</style>\n<table border=\"1\" class=\"dataframe\">\n  <thead>\n    <tr style=\"text-align: right;\">\n      <th></th>\n      <th>google</th>\n      <th>apple</th>\n    </tr>\n  </thead>\n  <tbody>\n    <tr>\n      <th>2020-05-01</th>\n      <td>2410.12</td>\n      <td>131.24</td>\n    </tr>\n    <tr>\n      <th>2020-05-02</th>\n      <td>2429.89</td>\n      <td>133.25</td>\n    </tr>\n    <tr>\n      <th>2020-05-03</th>\n      <td>2379.91</td>\n      <td>133.35</td>\n    </tr>\n    <tr>\n      <th>2020-05-04</th>\n      <td>2307.12</td>\n      <td>134.16</td>\n    </tr>\n    <tr>\n      <th>2020-05-05</th>\n      <td>2326.74</td>\n      <td>134.49</td>\n    </tr>\n    <tr>\n      <th>2020-05-06</th>\n      <td>2315.30</td>\n      <td>134.09</td>\n    </tr>\n    <tr>\n      <th>2020-05-07</th>\n      <td>2267.92</td>\n      <td>131.72</td>\n    </tr>\n    <tr>\n      <th>2020-05-08</th>\n      <td>2293.29</td>\n      <td>133.27</td>\n    </tr>\n    <tr>\n      <th>2020-05-09</th>\n      <td>2293.63</td>\n      <td>132.88</td>\n    </tr>\n    <tr>\n      <th>2020-05-10</th>\n      <td>2410.12</td>\n      <td>131.24</td>\n    </tr>\n    <tr>\n      <th>2020-05-11</th>\n      <td>2429.89</td>\n      <td>133.25</td>\n    </tr>\n    <tr>\n      <th>2020-05-12</th>\n      <td>2379.91</td>\n      <td>133.35</td>\n    </tr>\n    <tr>\n      <th>2020-05-13</th>\n      <td>2307.12</td>\n      <td>134.16</td>\n    </tr>\n    <tr>\n      <th>2020-05-14</th>\n      <td>2326.74</td>\n      <td>134.49</td>\n    </tr>\n    <tr>\n      <th>2020-05-15</th>\n      <td>2315.30</td>\n      <td>134.09</td>\n    </tr>\n  </tbody>\n</table>\n</div>"
     },
     "execution_count": 5,
     "metadata": {},
     "output_type": "execute_result"
    }
   ],
   "source": [
    "ts=df.set_index(index)\n",
    "ts"
   ],
   "metadata": {
    "collapsed": false,
    "pycharm": {
     "name": "#%%\n"
    }
   }
  },
  {
   "cell_type": "code",
   "execution_count": 6,
   "outputs": [],
   "source": [
    "index2 = pd.date_range(start='2020-05-01', periods=15)"
   ],
   "metadata": {
    "collapsed": false,
    "pycharm": {
     "name": "#%%\n"
    }
   }
  },
  {
   "cell_type": "code",
   "execution_count": 7,
   "outputs": [
    {
     "data": {
      "text/plain": "DatetimeIndex(['2020-05-01', '2020-05-02', '2020-05-03', '2020-05-04',\n               '2020-05-05', '2020-05-06', '2020-05-07', '2020-05-08',\n               '2020-05-09', '2020-05-10', '2020-05-11', '2020-05-12',\n               '2020-05-13', '2020-05-14', '2020-05-15'],\n              dtype='datetime64[ns]', freq='D')"
     },
     "execution_count": 7,
     "metadata": {},
     "output_type": "execute_result"
    }
   ],
   "source": [
    "index2"
   ],
   "metadata": {
    "collapsed": false,
    "pycharm": {
     "name": "#%%\n"
    }
   }
  },
  {
   "cell_type": "code",
   "execution_count": 9,
   "outputs": [],
   "source": [
    "index3= pd.date_range('2020-01-01', '2020-12-31', freq='BM')"
   ],
   "metadata": {
    "collapsed": false,
    "pycharm": {
     "name": "#%%\n"
    }
   }
  },
  {
   "cell_type": "code",
   "execution_count": 10,
   "outputs": [
    {
     "data": {
      "text/plain": "DatetimeIndex(['2020-01-31', '2020-02-28', '2020-03-31', '2020-04-30',\n               '2020-05-29', '2020-06-30', '2020-07-31', '2020-08-31',\n               '2020-09-30', '2020-10-30', '2020-11-30', '2020-12-31'],\n              dtype='datetime64[ns]', freq='BM')"
     },
     "execution_count": 10,
     "metadata": {},
     "output_type": "execute_result"
    }
   ],
   "source": [
    "index3"
   ],
   "metadata": {
    "collapsed": false,
    "pycharm": {
     "name": "#%%\n"
    }
   }
  },
  {
   "cell_type": "code",
   "execution_count": 11,
   "outputs": [],
   "source": [
    "index3= pd.date_range('2020-01-01', '2020-12-31', freq='1h30min')"
   ],
   "metadata": {
    "collapsed": false,
    "pycharm": {
     "name": "#%%\n"
    }
   }
  },
  {
   "cell_type": "code",
   "execution_count": 12,
   "outputs": [
    {
     "data": {
      "text/plain": "DatetimeIndex(['2020-01-01 00:00:00', '2020-01-01 01:30:00',\n               '2020-01-01 03:00:00', '2020-01-01 04:30:00',\n               '2020-01-01 06:00:00', '2020-01-01 07:30:00',\n               '2020-01-01 09:00:00', '2020-01-01 10:30:00',\n               '2020-01-01 12:00:00', '2020-01-01 13:30:00',\n               ...\n               '2020-12-30 10:30:00', '2020-12-30 12:00:00',\n               '2020-12-30 13:30:00', '2020-12-30 15:00:00',\n               '2020-12-30 16:30:00', '2020-12-30 18:00:00',\n               '2020-12-30 19:30:00', '2020-12-30 21:00:00',\n               '2020-12-30 22:30:00', '2020-12-31 00:00:00'],\n              dtype='datetime64[ns]', length=5841, freq='90T')"
     },
     "execution_count": 12,
     "metadata": {},
     "output_type": "execute_result"
    }
   ],
   "source": [
    "index3"
   ],
   "metadata": {
    "collapsed": false,
    "pycharm": {
     "name": "#%%\n"
    }
   }
  },
  {
   "cell_type": "code",
   "execution_count": null,
   "outputs": [],
   "source": [],
   "metadata": {
    "collapsed": false,
    "pycharm": {
     "name": "#%%\n"
    }
   }
  }
 ],
 "metadata": {
  "kernelspec": {
   "display_name": "Python 3",
   "language": "python",
   "name": "python3"
  },
  "language_info": {
   "codemirror_mode": {
    "name": "ipython",
    "version": 2
   },
   "file_extension": ".py",
   "mimetype": "text/x-python",
   "name": "python",
   "nbconvert_exporter": "python",
   "pygments_lexer": "ipython2",
   "version": "2.7.6"
  }
 },
 "nbformat": 4,
 "nbformat_minor": 0
}