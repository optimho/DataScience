{
 "cells": [
  {
   "cell_type": "markdown",
   "metadata": {
    "pycharm": {
     "name": "#%% md\n"
    }
   },
   "source": [
    "![title](img/cover4.png)"
   ]
  },
  {
   "cell_type": "markdown",
   "metadata": {
    "pycharm": {
     "name": "#%% md\n"
    }
   },
   "source": [
    "<center><em>Copyright! This material is protected, please do not copy or distribute.    by:Taher Assaf</em></center>"
   ]
  },
  {
   "cell_type": "markdown",
   "metadata": {
    "pycharm": {
     "name": "#%% md\n"
    }
   },
   "source": [
    "***\n",
    "<h1 align=\"center\">Udemy course : Python Bootcamp for Data Science 2021 Numpy Pandas & Seaborn</h1> \n",
    "\n",
    "***"
   ]
  },
  {
   "cell_type": "markdown",
   "metadata": {
    "pycharm": {
     "name": "#%% md\n"
    }
   },
   "source": [
    "### The Exercise for  Module 7\n",
    "hello\n",
    "#### Instruction:  Please write your code after the phrase \" ## Your codes begin here:\""
   ]
  },
  {
   "cell_type": "markdown",
   "metadata": {
    "pycharm": {
     "name": "#%% md\n"
    }
   },
   "source": [
    "#### Q1. Create a pandas series named 'series1' with the values [12, 14, 16, 18] and index ['a', 'b', 'c', 'd'] ? Then display it?\n",
    "\n",
    "**Hint**: You will need the function (**pd.Series()**)\n",
    "  "
   ]
  },
  {
   "cell_type": "code",
   "execution_count": 4,
   "metadata": {
    "pycharm": {
     "name": "#%%\n"
    }
   },
   "outputs": [
    {
     "data": {
      "text/plain": "a    12\nb    14\nc    16\nd    18\ndtype: int64"
     },
     "execution_count": 4,
     "metadata": {},
     "output_type": "execute_result"
    }
   ],
   "source": [
    "import pandas as pd\n",
    "import numpy as np\n",
    "np.random.seed(50)   ## Used to generate the same numbers each time we run the script.\n",
    "\n",
    "## Your codes begin here:\n",
    "\n"
   ]
  },
  {
   "cell_type": "markdown",
   "metadata": {
    "pycharm": {
     "name": "#%% md\n"
    }
   },
   "source": [
    "#### Q2. Convert the dictionary in the next code cell into a pandas dataframe named 'df1'? then display it?\n",
    "\n",
    "**Hint1:** Do not forget to run the first cell below to create the dictionary first.\n",
    "\n",
    "**Hint2:** you will need the function **pd.DataFrame()**."
   ]
  },
  {
   "cell_type": "code",
   "execution_count": 5,
   "metadata": {
    "pycharm": {
     "name": "#%%\n"
    }
   },
   "outputs": [],
   "source": [
    "# Just run this cell to create the dictionary.\n",
    "\n",
    "dictionary1 = {'name': ['Bob', 'Sam','William','Jon', 'Bill', 'Maria', 'Jenny', 'Jack'],\n",
    "        'age': [23, 19, 29, 32, 43, 23, 18, 26], 'income': [55, 65, 44, 98, 59, 87, 81, 78]}"
   ]
  },
  {
   "cell_type": "code",
   "execution_count": 8,
   "metadata": {
    "pycharm": {
     "name": "#%%\n"
    }
   },
   "outputs": [
    {
     "data": {
      "text/plain": "      name  age  income\n0      Bob   23      55\n1      Sam   19      65\n2  William   29      44\n3      Jon   32      98\n4     Bill   43      59\n5    Maria   23      87\n6    Jenny   18      81\n7     Jack   26      78",
      "text/html": "<div>\n<style scoped>\n    .dataframe tbody tr th:only-of-type {\n        vertical-align: middle;\n    }\n\n    .dataframe tbody tr th {\n        vertical-align: top;\n    }\n\n    .dataframe thead th {\n        text-align: right;\n    }\n</style>\n<table border=\"1\" class=\"dataframe\">\n  <thead>\n    <tr style=\"text-align: right;\">\n      <th></th>\n      <th>name</th>\n      <th>age</th>\n      <th>income</th>\n    </tr>\n  </thead>\n  <tbody>\n    <tr>\n      <th>0</th>\n      <td>Bob</td>\n      <td>23</td>\n      <td>55</td>\n    </tr>\n    <tr>\n      <th>1</th>\n      <td>Sam</td>\n      <td>19</td>\n      <td>65</td>\n    </tr>\n    <tr>\n      <th>2</th>\n      <td>William</td>\n      <td>29</td>\n      <td>44</td>\n    </tr>\n    <tr>\n      <th>3</th>\n      <td>Jon</td>\n      <td>32</td>\n      <td>98</td>\n    </tr>\n    <tr>\n      <th>4</th>\n      <td>Bill</td>\n      <td>43</td>\n      <td>59</td>\n    </tr>\n    <tr>\n      <th>5</th>\n      <td>Maria</td>\n      <td>23</td>\n      <td>87</td>\n    </tr>\n    <tr>\n      <th>6</th>\n      <td>Jenny</td>\n      <td>18</td>\n      <td>81</td>\n    </tr>\n    <tr>\n      <th>7</th>\n      <td>Jack</td>\n      <td>26</td>\n      <td>78</td>\n    </tr>\n  </tbody>\n</table>\n</div>"
     },
     "execution_count": 8,
     "metadata": {},
     "output_type": "execute_result"
    }
   ],
   "source": [
    "## Your codes begin here:\n",
    "\n"
   ]
  },
  {
   "cell_type": "markdown",
   "metadata": {
    "pycharm": {
     "name": "#%% md\n"
    }
   },
   "source": [
    "#### Q3. Display the head and the tail of the dataframe 'df1' from Q2 in two separate code cells?\n",
    "\n",
    "**Hint:** you will need these functions: **head()** and **tail()**.\n"
   ]
  },
  {
   "cell_type": "code",
   "execution_count": 9,
   "metadata": {
    "pycharm": {
     "name": "#%%\n"
    }
   },
   "outputs": [
    {
     "data": {
      "text/plain": "      name  age  income\n0      Bob   23      55\n1      Sam   19      65\n2  William   29      44\n3      Jon   32      98\n4     Bill   43      59",
      "text/html": "<div>\n<style scoped>\n    .dataframe tbody tr th:only-of-type {\n        vertical-align: middle;\n    }\n\n    .dataframe tbody tr th {\n        vertical-align: top;\n    }\n\n    .dataframe thead th {\n        text-align: right;\n    }\n</style>\n<table border=\"1\" class=\"dataframe\">\n  <thead>\n    <tr style=\"text-align: right;\">\n      <th></th>\n      <th>name</th>\n      <th>age</th>\n      <th>income</th>\n    </tr>\n  </thead>\n  <tbody>\n    <tr>\n      <th>0</th>\n      <td>Bob</td>\n      <td>23</td>\n      <td>55</td>\n    </tr>\n    <tr>\n      <th>1</th>\n      <td>Sam</td>\n      <td>19</td>\n      <td>65</td>\n    </tr>\n    <tr>\n      <th>2</th>\n      <td>William</td>\n      <td>29</td>\n      <td>44</td>\n    </tr>\n    <tr>\n      <th>3</th>\n      <td>Jon</td>\n      <td>32</td>\n      <td>98</td>\n    </tr>\n    <tr>\n      <th>4</th>\n      <td>Bill</td>\n      <td>43</td>\n      <td>59</td>\n    </tr>\n  </tbody>\n</table>\n</div>"
     },
     "execution_count": 9,
     "metadata": {},
     "output_type": "execute_result"
    }
   ],
   "source": [
    "# display the head of the dataframe df1\n",
    "## Your codes begin here:\n",
    "\n"
   ]
  },
  {
   "cell_type": "code",
   "execution_count": 10,
   "metadata": {
    "pycharm": {
     "name": "#%%\n"
    }
   },
   "outputs": [
    {
     "data": {
      "text/plain": "    name  age  income\n3    Jon   32      98\n4   Bill   43      59\n5  Maria   23      87\n6  Jenny   18      81\n7   Jack   26      78",
      "text/html": "<div>\n<style scoped>\n    .dataframe tbody tr th:only-of-type {\n        vertical-align: middle;\n    }\n\n    .dataframe tbody tr th {\n        vertical-align: top;\n    }\n\n    .dataframe thead th {\n        text-align: right;\n    }\n</style>\n<table border=\"1\" class=\"dataframe\">\n  <thead>\n    <tr style=\"text-align: right;\">\n      <th></th>\n      <th>name</th>\n      <th>age</th>\n      <th>income</th>\n    </tr>\n  </thead>\n  <tbody>\n    <tr>\n      <th>3</th>\n      <td>Jon</td>\n      <td>32</td>\n      <td>98</td>\n    </tr>\n    <tr>\n      <th>4</th>\n      <td>Bill</td>\n      <td>43</td>\n      <td>59</td>\n    </tr>\n    <tr>\n      <th>5</th>\n      <td>Maria</td>\n      <td>23</td>\n      <td>87</td>\n    </tr>\n    <tr>\n      <th>6</th>\n      <td>Jenny</td>\n      <td>18</td>\n      <td>81</td>\n    </tr>\n    <tr>\n      <th>7</th>\n      <td>Jack</td>\n      <td>26</td>\n      <td>78</td>\n    </tr>\n  </tbody>\n</table>\n</div>"
     },
     "execution_count": 10,
     "metadata": {},
     "output_type": "execute_result"
    }
   ],
   "source": [
    "# display the tail of the dataframe df1\n",
    "## Your codes begin here:\n"
   ]
  },
  {
   "cell_type": "markdown",
   "metadata": {
    "pycharm": {
     "name": "#%% md\n"
    }
   },
   "source": [
    "#### Q4. Set the index for the dataframe 'df1' from Q2 to be the column ( 'name' ) and make this change reflected and saved to the original dataframe? Then display the dataframe?\n",
    "\n",
    "**Hint1:** you will need this functions: **set_index()**.\n",
    "\n",
    "**Hint2:** To make changes permenant, use the argument: **inplace = True**.\n"
   ]
  },
  {
   "cell_type": "code",
   "execution_count": 16,
   "metadata": {
    "pycharm": {
     "name": "#%%\n"
    }
   },
   "outputs": [
    {
     "data": {
      "text/plain": "         age  income\nname                \nBob       23      55\nSam       19      65\nWilliam   29      44\nJon       32      98\nBill      43      59\nMaria     23      87\nJenny     18      81\nJack      26      78",
      "text/html": "<div>\n<style scoped>\n    .dataframe tbody tr th:only-of-type {\n        vertical-align: middle;\n    }\n\n    .dataframe tbody tr th {\n        vertical-align: top;\n    }\n\n    .dataframe thead th {\n        text-align: right;\n    }\n</style>\n<table border=\"1\" class=\"dataframe\">\n  <thead>\n    <tr style=\"text-align: right;\">\n      <th></th>\n      <th>age</th>\n      <th>income</th>\n    </tr>\n    <tr>\n      <th>name</th>\n      <th></th>\n      <th></th>\n    </tr>\n  </thead>\n  <tbody>\n    <tr>\n      <th>Bob</th>\n      <td>23</td>\n      <td>55</td>\n    </tr>\n    <tr>\n      <th>Sam</th>\n      <td>19</td>\n      <td>65</td>\n    </tr>\n    <tr>\n      <th>William</th>\n      <td>29</td>\n      <td>44</td>\n    </tr>\n    <tr>\n      <th>Jon</th>\n      <td>32</td>\n      <td>98</td>\n    </tr>\n    <tr>\n      <th>Bill</th>\n      <td>43</td>\n      <td>59</td>\n    </tr>\n    <tr>\n      <th>Maria</th>\n      <td>23</td>\n      <td>87</td>\n    </tr>\n    <tr>\n      <th>Jenny</th>\n      <td>18</td>\n      <td>81</td>\n    </tr>\n    <tr>\n      <th>Jack</th>\n      <td>26</td>\n      <td>78</td>\n    </tr>\n  </tbody>\n</table>\n</div>"
     },
     "execution_count": 16,
     "metadata": {},
     "output_type": "execute_result"
    }
   ],
   "source": [
    "## Your codes begin here:\n",
    "df1.set_index('name', inplace=True)\n",
    "df1"
   ]
  },
  {
   "cell_type": "markdown",
   "metadata": {
    "pycharm": {
     "name": "#%% md\n"
    }
   },
   "source": [
    "#### Q5. For the dataframe ('df1'), select or display the column named ('income') ? "
   ]
  },
  {
   "cell_type": "code",
   "execution_count": 17,
   "metadata": {
    "pycharm": {
     "name": "#%%\n"
    }
   },
   "outputs": [
    {
     "data": {
      "text/plain": "name\nBob        55\nSam        65\nWilliam    44\nJon        98\nBill       59\nMaria      87\nJenny      81\nJack       78\nName: income, dtype: int64"
     },
     "execution_count": 17,
     "metadata": {},
     "output_type": "execute_result"
    }
   ],
   "source": [
    "## Your codes begin here:\n"
   ]
  },
  {
   "cell_type": "markdown",
   "metadata": {
    "pycharm": {
     "name": "#%% md\n"
    }
   },
   "source": [
    "#### Q6. For the dataframe ('df1'), select or display the rows with the index 'Bob'  and 'Jake' ? "
   ]
  },
  {
   "cell_type": "code",
   "execution_count": 22,
   "metadata": {
    "pycharm": {
     "name": "#%%\n"
    }
   },
   "outputs": [
    {
     "data": {
      "text/plain": "      age  income\nname             \nBob    23      55\nSam    19      65",
      "text/html": "<div>\n<style scoped>\n    .dataframe tbody tr th:only-of-type {\n        vertical-align: middle;\n    }\n\n    .dataframe tbody tr th {\n        vertical-align: top;\n    }\n\n    .dataframe thead th {\n        text-align: right;\n    }\n</style>\n<table border=\"1\" class=\"dataframe\">\n  <thead>\n    <tr style=\"text-align: right;\">\n      <th></th>\n      <th>age</th>\n      <th>income</th>\n    </tr>\n    <tr>\n      <th>name</th>\n      <th></th>\n      <th></th>\n    </tr>\n  </thead>\n  <tbody>\n    <tr>\n      <th>Bob</th>\n      <td>23</td>\n      <td>55</td>\n    </tr>\n    <tr>\n      <th>Sam</th>\n      <td>19</td>\n      <td>65</td>\n    </tr>\n  </tbody>\n</table>\n</div>"
     },
     "execution_count": 22,
     "metadata": {},
     "output_type": "execute_result"
    }
   ],
   "source": [
    "## Your codes begin here:\n"
   ]
  },
  {
   "cell_type": "markdown",
   "metadata": {
    "pycharm": {
     "name": "#%% md\n"
    }
   },
   "source": [
    "#### Q6. Sort the index of dataframe ('df1') and make the change saved to the dataframe? Then display the dataframe?\n",
    "**Hint1:** you will need this functions: **sort_index()**.\n",
    "\n",
    "**Hint2:** To make changes permenant, use the argument: **inplace = True**."
   ]
  },
  {
   "cell_type": "code",
   "execution_count": 24,
   "metadata": {
    "pycharm": {
     "name": "#%%\n"
    }
   },
   "outputs": [
    {
     "data": {
      "text/plain": "         age  income\nname                \nBill      43      59\nBob       23      55\nJack      26      78\nJenny     18      81\nJon       32      98\nMaria     23      87\nSam       19      65\nWilliam   29      44",
      "text/html": "<div>\n<style scoped>\n    .dataframe tbody tr th:only-of-type {\n        vertical-align: middle;\n    }\n\n    .dataframe tbody tr th {\n        vertical-align: top;\n    }\n\n    .dataframe thead th {\n        text-align: right;\n    }\n</style>\n<table border=\"1\" class=\"dataframe\">\n  <thead>\n    <tr style=\"text-align: right;\">\n      <th></th>\n      <th>age</th>\n      <th>income</th>\n    </tr>\n    <tr>\n      <th>name</th>\n      <th></th>\n      <th></th>\n    </tr>\n  </thead>\n  <tbody>\n    <tr>\n      <th>Bill</th>\n      <td>43</td>\n      <td>59</td>\n    </tr>\n    <tr>\n      <th>Bob</th>\n      <td>23</td>\n      <td>55</td>\n    </tr>\n    <tr>\n      <th>Jack</th>\n      <td>26</td>\n      <td>78</td>\n    </tr>\n    <tr>\n      <th>Jenny</th>\n      <td>18</td>\n      <td>81</td>\n    </tr>\n    <tr>\n      <th>Jon</th>\n      <td>32</td>\n      <td>98</td>\n    </tr>\n    <tr>\n      <th>Maria</th>\n      <td>23</td>\n      <td>87</td>\n    </tr>\n    <tr>\n      <th>Sam</th>\n      <td>19</td>\n      <td>65</td>\n    </tr>\n    <tr>\n      <th>William</th>\n      <td>29</td>\n      <td>44</td>\n    </tr>\n  </tbody>\n</table>\n</div>"
     },
     "execution_count": 24,
     "metadata": {},
     "output_type": "execute_result"
    }
   ],
   "source": [
    "## Your codes begin here:\n"
   ]
  },
  {
   "cell_type": "markdown",
   "metadata": {
    "pycharm": {
     "name": "#%% md\n"
    }
   },
   "source": [
    "#### Q7. Sort the dataframe ('df1') based to the 'income' column?\n",
    "\n",
    "**Hint:** you will need this functions: **sort_values()**."
   ]
  },
  {
   "cell_type": "code",
   "execution_count": 37,
   "metadata": {
    "pycharm": {
     "name": "#%%\n"
    }
   },
   "outputs": [
    {
     "data": {
      "text/plain": "         age  income\nname                \nJon       32      98\nMaria     23      87\nJenny     18      81\nJack      26      78\nSam       19      65\nBill      43      59\nBob       23      55\nWilliam   29      44",
      "text/html": "<div>\n<style scoped>\n    .dataframe tbody tr th:only-of-type {\n        vertical-align: middle;\n    }\n\n    .dataframe tbody tr th {\n        vertical-align: top;\n    }\n\n    .dataframe thead th {\n        text-align: right;\n    }\n</style>\n<table border=\"1\" class=\"dataframe\">\n  <thead>\n    <tr style=\"text-align: right;\">\n      <th></th>\n      <th>age</th>\n      <th>income</th>\n    </tr>\n    <tr>\n      <th>name</th>\n      <th></th>\n      <th></th>\n    </tr>\n  </thead>\n  <tbody>\n    <tr>\n      <th>Jon</th>\n      <td>32</td>\n      <td>98</td>\n    </tr>\n    <tr>\n      <th>Maria</th>\n      <td>23</td>\n      <td>87</td>\n    </tr>\n    <tr>\n      <th>Jenny</th>\n      <td>18</td>\n      <td>81</td>\n    </tr>\n    <tr>\n      <th>Jack</th>\n      <td>26</td>\n      <td>78</td>\n    </tr>\n    <tr>\n      <th>Sam</th>\n      <td>19</td>\n      <td>65</td>\n    </tr>\n    <tr>\n      <th>Bill</th>\n      <td>43</td>\n      <td>59</td>\n    </tr>\n    <tr>\n      <th>Bob</th>\n      <td>23</td>\n      <td>55</td>\n    </tr>\n    <tr>\n      <th>William</th>\n      <td>29</td>\n      <td>44</td>\n    </tr>\n  </tbody>\n</table>\n</div>"
     },
     "execution_count": 37,
     "metadata": {},
     "output_type": "execute_result"
    }
   ],
   "source": [
    "## Your codes begin here:\n",
    "\n"
   ]
  },
  {
   "cell_type": "markdown",
   "metadata": {
    "pycharm": {
     "name": "#%% md\n"
    }
   },
   "source": [
    "#### Q8. Delete the column with the label 'income' from the dataframe ('df1')?\n",
    "\n",
    "**Hint1:** you will need this functions: **drop()**.\n",
    "\n",
    "**Hint2:** To delete a column you need to use the argument: **axis = 1**."
   ]
  },
  {
   "cell_type": "code",
   "execution_count": 32,
   "metadata": {
    "scrolled": true,
    "pycharm": {
     "name": "#%%\n"
    }
   },
   "outputs": [
    {
     "data": {
      "text/plain": "         age\nname        \nBill      43\nBob       23\nJack      26\nJenny     18\nJon       32\nMaria     23\nSam       19\nWilliam   29",
      "text/html": "<div>\n<style scoped>\n    .dataframe tbody tr th:only-of-type {\n        vertical-align: middle;\n    }\n\n    .dataframe tbody tr th {\n        vertical-align: top;\n    }\n\n    .dataframe thead th {\n        text-align: right;\n    }\n</style>\n<table border=\"1\" class=\"dataframe\">\n  <thead>\n    <tr style=\"text-align: right;\">\n      <th></th>\n      <th>age</th>\n    </tr>\n    <tr>\n      <th>name</th>\n      <th></th>\n    </tr>\n  </thead>\n  <tbody>\n    <tr>\n      <th>Bill</th>\n      <td>43</td>\n    </tr>\n    <tr>\n      <th>Bob</th>\n      <td>23</td>\n    </tr>\n    <tr>\n      <th>Jack</th>\n      <td>26</td>\n    </tr>\n    <tr>\n      <th>Jenny</th>\n      <td>18</td>\n    </tr>\n    <tr>\n      <th>Jon</th>\n      <td>32</td>\n    </tr>\n    <tr>\n      <th>Maria</th>\n      <td>23</td>\n    </tr>\n    <tr>\n      <th>Sam</th>\n      <td>19</td>\n    </tr>\n    <tr>\n      <th>William</th>\n      <td>29</td>\n    </tr>\n  </tbody>\n</table>\n</div>"
     },
     "execution_count": 32,
     "metadata": {},
     "output_type": "execute_result"
    }
   ],
   "source": [
    "## Your codes begin here:\n",
    "\n"
   ]
  },
  {
   "cell_type": "markdown",
   "metadata": {
    "pycharm": {
     "name": "#%% md\n"
    }
   },
   "source": [
    "***\n",
    "# Solutions\n",
    "***"
   ]
  },
  {
   "cell_type": "markdown",
   "metadata": {
    "pycharm": {
     "name": "#%% md\n"
    }
   },
   "source": [
    "#### Q1. Create a pandas series named 'series1' with the values [12, 14, 16, 18] and index ['a', 'b', 'c', 'd'] ? Then display it?"
   ]
  },
  {
   "cell_type": "code",
   "execution_count": 36,
   "metadata": {
    "pycharm": {
     "name": "#%%\n"
    }
   },
   "outputs": [
    {
     "data": {
      "text/plain": "a    12\nb    14\nc    16\nd    18\ndtype: int64"
     },
     "execution_count": 36,
     "metadata": {},
     "output_type": "execute_result"
    }
   ],
   "source": [
    "import pandas as pd\n",
    "import numpy as np\n",
    "np.random.seed(50)   ## Used to generate the same numbers each time we run the script.\n",
    "\n",
    "## Your codes begin here:\n",
    "\n",
    "series1 = pd.Series([12, 14, 16, 18], index= ['a','b','c','d'])\n",
    "series1"
   ]
  },
  {
   "cell_type": "markdown",
   "metadata": {
    "pycharm": {
     "name": "#%% md\n"
    }
   },
   "source": [
    "#### Q2. Convert the dictionary in the next code cell into a pandas dataframe named 'df1'? then display it?"
   ]
  },
  {
   "cell_type": "code",
   "execution_count": 37,
   "metadata": {
    "pycharm": {
     "name": "#%%\n"
    }
   },
   "outputs": [],
   "source": [
    "# Just run this cell to create the dictionary.\n",
    "\n",
    "dictionary1 = {'name': ['Bob', 'Sam','William','Jon', 'Bill', 'Maria', 'Jenny', 'Jack'],\n",
    "        'age': [23, 19, 29, 32, 43, 23, 18, 26], 'income': [55, 65, 44, 98, 59, 87, 81, 78]}"
   ]
  },
  {
   "cell_type": "code",
   "execution_count": 38,
   "metadata": {
    "pycharm": {
     "name": "#%%\n"
    }
   },
   "outputs": [
    {
     "data": {
      "text/plain": "      name  age  income\n0      Bob   23      55\n1      Sam   19      65\n2  William   29      44\n3      Jon   32      98\n4     Bill   43      59\n5    Maria   23      87\n6    Jenny   18      81\n7     Jack   26      78",
      "text/html": "<div>\n<style scoped>\n    .dataframe tbody tr th:only-of-type {\n        vertical-align: middle;\n    }\n\n    .dataframe tbody tr th {\n        vertical-align: top;\n    }\n\n    .dataframe thead th {\n        text-align: right;\n    }\n</style>\n<table border=\"1\" class=\"dataframe\">\n  <thead>\n    <tr style=\"text-align: right;\">\n      <th></th>\n      <th>name</th>\n      <th>age</th>\n      <th>income</th>\n    </tr>\n  </thead>\n  <tbody>\n    <tr>\n      <th>0</th>\n      <td>Bob</td>\n      <td>23</td>\n      <td>55</td>\n    </tr>\n    <tr>\n      <th>1</th>\n      <td>Sam</td>\n      <td>19</td>\n      <td>65</td>\n    </tr>\n    <tr>\n      <th>2</th>\n      <td>William</td>\n      <td>29</td>\n      <td>44</td>\n    </tr>\n    <tr>\n      <th>3</th>\n      <td>Jon</td>\n      <td>32</td>\n      <td>98</td>\n    </tr>\n    <tr>\n      <th>4</th>\n      <td>Bill</td>\n      <td>43</td>\n      <td>59</td>\n    </tr>\n    <tr>\n      <th>5</th>\n      <td>Maria</td>\n      <td>23</td>\n      <td>87</td>\n    </tr>\n    <tr>\n      <th>6</th>\n      <td>Jenny</td>\n      <td>18</td>\n      <td>81</td>\n    </tr>\n    <tr>\n      <th>7</th>\n      <td>Jack</td>\n      <td>26</td>\n      <td>78</td>\n    </tr>\n  </tbody>\n</table>\n</div>"
     },
     "execution_count": 38,
     "metadata": {},
     "output_type": "execute_result"
    }
   ],
   "source": [
    "## Your codes begin here:\n",
    "\n",
    "df1 = pd.DataFrame(dictionary1)\n",
    "df1"
   ]
  },
  {
   "cell_type": "markdown",
   "metadata": {
    "pycharm": {
     "name": "#%% md\n"
    }
   },
   "source": [
    "#### Q3. Display the head and the tail of the dataframe 'df1' from Q2 in two separate code cells?"
   ]
  },
  {
   "cell_type": "code",
   "execution_count": 39,
   "metadata": {
    "pycharm": {
     "name": "#%%\n"
    }
   },
   "outputs": [
    {
     "data": {
      "text/plain": "      name  age  income\n0      Bob   23      55\n1      Sam   19      65\n2  William   29      44\n3      Jon   32      98\n4     Bill   43      59",
      "text/html": "<div>\n<style scoped>\n    .dataframe tbody tr th:only-of-type {\n        vertical-align: middle;\n    }\n\n    .dataframe tbody tr th {\n        vertical-align: top;\n    }\n\n    .dataframe thead th {\n        text-align: right;\n    }\n</style>\n<table border=\"1\" class=\"dataframe\">\n  <thead>\n    <tr style=\"text-align: right;\">\n      <th></th>\n      <th>name</th>\n      <th>age</th>\n      <th>income</th>\n    </tr>\n  </thead>\n  <tbody>\n    <tr>\n      <th>0</th>\n      <td>Bob</td>\n      <td>23</td>\n      <td>55</td>\n    </tr>\n    <tr>\n      <th>1</th>\n      <td>Sam</td>\n      <td>19</td>\n      <td>65</td>\n    </tr>\n    <tr>\n      <th>2</th>\n      <td>William</td>\n      <td>29</td>\n      <td>44</td>\n    </tr>\n    <tr>\n      <th>3</th>\n      <td>Jon</td>\n      <td>32</td>\n      <td>98</td>\n    </tr>\n    <tr>\n      <th>4</th>\n      <td>Bill</td>\n      <td>43</td>\n      <td>59</td>\n    </tr>\n  </tbody>\n</table>\n</div>"
     },
     "execution_count": 39,
     "metadata": {},
     "output_type": "execute_result"
    }
   ],
   "source": [
    "# display the head of the dataframe df1\n",
    "## Your codes begin here:\n",
    "\n",
    "df1.head()"
   ]
  },
  {
   "cell_type": "code",
   "execution_count": 40,
   "metadata": {
    "pycharm": {
     "name": "#%%\n"
    }
   },
   "outputs": [
    {
     "data": {
      "text/plain": "    name  age  income\n3    Jon   32      98\n4   Bill   43      59\n5  Maria   23      87\n6  Jenny   18      81\n7   Jack   26      78",
      "text/html": "<div>\n<style scoped>\n    .dataframe tbody tr th:only-of-type {\n        vertical-align: middle;\n    }\n\n    .dataframe tbody tr th {\n        vertical-align: top;\n    }\n\n    .dataframe thead th {\n        text-align: right;\n    }\n</style>\n<table border=\"1\" class=\"dataframe\">\n  <thead>\n    <tr style=\"text-align: right;\">\n      <th></th>\n      <th>name</th>\n      <th>age</th>\n      <th>income</th>\n    </tr>\n  </thead>\n  <tbody>\n    <tr>\n      <th>3</th>\n      <td>Jon</td>\n      <td>32</td>\n      <td>98</td>\n    </tr>\n    <tr>\n      <th>4</th>\n      <td>Bill</td>\n      <td>43</td>\n      <td>59</td>\n    </tr>\n    <tr>\n      <th>5</th>\n      <td>Maria</td>\n      <td>23</td>\n      <td>87</td>\n    </tr>\n    <tr>\n      <th>6</th>\n      <td>Jenny</td>\n      <td>18</td>\n      <td>81</td>\n    </tr>\n    <tr>\n      <th>7</th>\n      <td>Jack</td>\n      <td>26</td>\n      <td>78</td>\n    </tr>\n  </tbody>\n</table>\n</div>"
     },
     "execution_count": 40,
     "metadata": {},
     "output_type": "execute_result"
    }
   ],
   "source": [
    "# display the tail of the dataframe df1\n",
    "## Your codes begin here:\n",
    "\n",
    "df1.tail()"
   ]
  },
  {
   "cell_type": "markdown",
   "metadata": {
    "pycharm": {
     "name": "#%% md\n"
    }
   },
   "source": [
    "#### Q4. Set the index for the dataframe 'df1' from Q2 to be the column ( 'name' ) and make this change reflected and saved to the original dataframe? Then display the dataframe?"
   ]
  },
  {
   "cell_type": "code",
   "execution_count": 41,
   "metadata": {
    "pycharm": {
     "name": "#%%\n"
    }
   },
   "outputs": [
    {
     "data": {
      "text/plain": "         age  income\nname                \nBob       23      55\nSam       19      65\nWilliam   29      44\nJon       32      98\nBill      43      59\nMaria     23      87\nJenny     18      81\nJack      26      78",
      "text/html": "<div>\n<style scoped>\n    .dataframe tbody tr th:only-of-type {\n        vertical-align: middle;\n    }\n\n    .dataframe tbody tr th {\n        vertical-align: top;\n    }\n\n    .dataframe thead th {\n        text-align: right;\n    }\n</style>\n<table border=\"1\" class=\"dataframe\">\n  <thead>\n    <tr style=\"text-align: right;\">\n      <th></th>\n      <th>age</th>\n      <th>income</th>\n    </tr>\n    <tr>\n      <th>name</th>\n      <th></th>\n      <th></th>\n    </tr>\n  </thead>\n  <tbody>\n    <tr>\n      <th>Bob</th>\n      <td>23</td>\n      <td>55</td>\n    </tr>\n    <tr>\n      <th>Sam</th>\n      <td>19</td>\n      <td>65</td>\n    </tr>\n    <tr>\n      <th>William</th>\n      <td>29</td>\n      <td>44</td>\n    </tr>\n    <tr>\n      <th>Jon</th>\n      <td>32</td>\n      <td>98</td>\n    </tr>\n    <tr>\n      <th>Bill</th>\n      <td>43</td>\n      <td>59</td>\n    </tr>\n    <tr>\n      <th>Maria</th>\n      <td>23</td>\n      <td>87</td>\n    </tr>\n    <tr>\n      <th>Jenny</th>\n      <td>18</td>\n      <td>81</td>\n    </tr>\n    <tr>\n      <th>Jack</th>\n      <td>26</td>\n      <td>78</td>\n    </tr>\n  </tbody>\n</table>\n</div>"
     },
     "execution_count": 41,
     "metadata": {},
     "output_type": "execute_result"
    }
   ],
   "source": [
    "## Your codes begin here:\n",
    "\n",
    "df1.set_index('name', inplace = True)\n",
    "df1"
   ]
  },
  {
   "cell_type": "markdown",
   "metadata": {
    "pycharm": {
     "name": "#%% md\n"
    }
   },
   "source": [
    "#### Q5. For the dataframe ('df1'), select or display the column named ('income') ? "
   ]
  },
  {
   "cell_type": "code",
   "execution_count": 30,
   "metadata": {
    "pycharm": {
     "name": "#%%\n"
    }
   },
   "outputs": [
    {
     "data": {
      "text/plain": "         age  income\nname                \nWilliam   29      44\nBob       23      55\nBill      43      59\nSam       19      65\nJack      26      78\nJenny     18      81\nMaria     23      87\nJon       32      98",
      "text/html": "<div>\n<style scoped>\n    .dataframe tbody tr th:only-of-type {\n        vertical-align: middle;\n    }\n\n    .dataframe tbody tr th {\n        vertical-align: top;\n    }\n\n    .dataframe thead th {\n        text-align: right;\n    }\n</style>\n<table border=\"1\" class=\"dataframe\">\n  <thead>\n    <tr style=\"text-align: right;\">\n      <th></th>\n      <th>age</th>\n      <th>income</th>\n    </tr>\n    <tr>\n      <th>name</th>\n      <th></th>\n      <th></th>\n    </tr>\n  </thead>\n  <tbody>\n    <tr>\n      <th>William</th>\n      <td>29</td>\n      <td>44</td>\n    </tr>\n    <tr>\n      <th>Bob</th>\n      <td>23</td>\n      <td>55</td>\n    </tr>\n    <tr>\n      <th>Bill</th>\n      <td>43</td>\n      <td>59</td>\n    </tr>\n    <tr>\n      <th>Sam</th>\n      <td>19</td>\n      <td>65</td>\n    </tr>\n    <tr>\n      <th>Jack</th>\n      <td>26</td>\n      <td>78</td>\n    </tr>\n    <tr>\n      <th>Jenny</th>\n      <td>18</td>\n      <td>81</td>\n    </tr>\n    <tr>\n      <th>Maria</th>\n      <td>23</td>\n      <td>87</td>\n    </tr>\n    <tr>\n      <th>Jon</th>\n      <td>32</td>\n      <td>98</td>\n    </tr>\n  </tbody>\n</table>\n</div>"
     },
     "execution_count": 30,
     "metadata": {},
     "output_type": "execute_result"
    }
   ],
   "source": [
    "## Your codes begin here:\n",
    "\n",
    "df1.sort_values(['income'])"
   ]
  },
  {
   "cell_type": "markdown",
   "metadata": {
    "pycharm": {
     "name": "#%% md\n"
    }
   },
   "source": [
    "#### Q6. For the dataframe ('df1'), select or display the rows with the index 'Bob'  and 'Jake' ? "
   ]
  },
  {
   "cell_type": "code",
   "execution_count": 43,
   "metadata": {
    "pycharm": {
     "name": "#%%\n"
    }
   },
   "outputs": [
    {
     "data": {
      "text/plain": "      age  income\nname             \nBob    23      55\nJack   26      78",
      "text/html": "<div>\n<style scoped>\n    .dataframe tbody tr th:only-of-type {\n        vertical-align: middle;\n    }\n\n    .dataframe tbody tr th {\n        vertical-align: top;\n    }\n\n    .dataframe thead th {\n        text-align: right;\n    }\n</style>\n<table border=\"1\" class=\"dataframe\">\n  <thead>\n    <tr style=\"text-align: right;\">\n      <th></th>\n      <th>age</th>\n      <th>income</th>\n    </tr>\n    <tr>\n      <th>name</th>\n      <th></th>\n      <th></th>\n    </tr>\n  </thead>\n  <tbody>\n    <tr>\n      <th>Bob</th>\n      <td>23</td>\n      <td>55</td>\n    </tr>\n    <tr>\n      <th>Jack</th>\n      <td>26</td>\n      <td>78</td>\n    </tr>\n  </tbody>\n</table>\n</div>"
     },
     "execution_count": 43,
     "metadata": {},
     "output_type": "execute_result"
    }
   ],
   "source": [
    "## Your codes begin here:\n",
    "\n",
    "df1.loc[['Bob', 'Jack']]"
   ]
  },
  {
   "cell_type": "markdown",
   "metadata": {
    "pycharm": {
     "name": "#%% md\n"
    }
   },
   "source": [
    "#### Q6. Sort the index of dataframe ('df1') and make the change saved to the dataframe? Then display the dataframe?"
   ]
  },
  {
   "cell_type": "code",
   "execution_count": 44,
   "metadata": {
    "pycharm": {
     "name": "#%%\n"
    }
   },
   "outputs": [
    {
     "data": {
      "text/plain": "         age  income\nname                \nBill      43      59\nBob       23      55\nJack      26      78\nJenny     18      81\nJon       32      98\nMaria     23      87\nSam       19      65\nWilliam   29      44",
      "text/html": "<div>\n<style scoped>\n    .dataframe tbody tr th:only-of-type {\n        vertical-align: middle;\n    }\n\n    .dataframe tbody tr th {\n        vertical-align: top;\n    }\n\n    .dataframe thead th {\n        text-align: right;\n    }\n</style>\n<table border=\"1\" class=\"dataframe\">\n  <thead>\n    <tr style=\"text-align: right;\">\n      <th></th>\n      <th>age</th>\n      <th>income</th>\n    </tr>\n    <tr>\n      <th>name</th>\n      <th></th>\n      <th></th>\n    </tr>\n  </thead>\n  <tbody>\n    <tr>\n      <th>Bill</th>\n      <td>43</td>\n      <td>59</td>\n    </tr>\n    <tr>\n      <th>Bob</th>\n      <td>23</td>\n      <td>55</td>\n    </tr>\n    <tr>\n      <th>Jack</th>\n      <td>26</td>\n      <td>78</td>\n    </tr>\n    <tr>\n      <th>Jenny</th>\n      <td>18</td>\n      <td>81</td>\n    </tr>\n    <tr>\n      <th>Jon</th>\n      <td>32</td>\n      <td>98</td>\n    </tr>\n    <tr>\n      <th>Maria</th>\n      <td>23</td>\n      <td>87</td>\n    </tr>\n    <tr>\n      <th>Sam</th>\n      <td>19</td>\n      <td>65</td>\n    </tr>\n    <tr>\n      <th>William</th>\n      <td>29</td>\n      <td>44</td>\n    </tr>\n  </tbody>\n</table>\n</div>"
     },
     "execution_count": 44,
     "metadata": {},
     "output_type": "execute_result"
    }
   ],
   "source": [
    "## Your codes begin here:\n",
    "\n",
    "df1.sort_index(inplace = True)\n",
    "df1"
   ]
  },
  {
   "cell_type": "markdown",
   "metadata": {
    "pycharm": {
     "name": "#%% md\n"
    }
   },
   "source": [
    "#### Q7. Sort the dataframe ('df1') based to the 'income' column?"
   ]
  },
  {
   "cell_type": "code",
   "execution_count": 45,
   "metadata": {
    "pycharm": {
     "name": "#%%\n"
    }
   },
   "outputs": [
    {
     "data": {
      "text/plain": "         age  income\nname                \nWilliam   29      44\nBob       23      55\nBill      43      59\nSam       19      65\nJack      26      78\nJenny     18      81\nMaria     23      87\nJon       32      98",
      "text/html": "<div>\n<style scoped>\n    .dataframe tbody tr th:only-of-type {\n        vertical-align: middle;\n    }\n\n    .dataframe tbody tr th {\n        vertical-align: top;\n    }\n\n    .dataframe thead th {\n        text-align: right;\n    }\n</style>\n<table border=\"1\" class=\"dataframe\">\n  <thead>\n    <tr style=\"text-align: right;\">\n      <th></th>\n      <th>age</th>\n      <th>income</th>\n    </tr>\n    <tr>\n      <th>name</th>\n      <th></th>\n      <th></th>\n    </tr>\n  </thead>\n  <tbody>\n    <tr>\n      <th>William</th>\n      <td>29</td>\n      <td>44</td>\n    </tr>\n    <tr>\n      <th>Bob</th>\n      <td>23</td>\n      <td>55</td>\n    </tr>\n    <tr>\n      <th>Bill</th>\n      <td>43</td>\n      <td>59</td>\n    </tr>\n    <tr>\n      <th>Sam</th>\n      <td>19</td>\n      <td>65</td>\n    </tr>\n    <tr>\n      <th>Jack</th>\n      <td>26</td>\n      <td>78</td>\n    </tr>\n    <tr>\n      <th>Jenny</th>\n      <td>18</td>\n      <td>81</td>\n    </tr>\n    <tr>\n      <th>Maria</th>\n      <td>23</td>\n      <td>87</td>\n    </tr>\n    <tr>\n      <th>Jon</th>\n      <td>32</td>\n      <td>98</td>\n    </tr>\n  </tbody>\n</table>\n</div>"
     },
     "execution_count": 45,
     "metadata": {},
     "output_type": "execute_result"
    }
   ],
   "source": [
    "## Your codes begin here:\n",
    "\n",
    "df1.sort_values(by = 'income')"
   ]
  },
  {
   "cell_type": "markdown",
   "metadata": {
    "pycharm": {
     "name": "#%% md\n"
    }
   },
   "source": [
    "#### Q8. Delete the column with the label 'income' from the dataframe ('df1')?"
   ]
  },
  {
   "cell_type": "code",
   "execution_count": 46,
   "metadata": {
    "scrolled": true,
    "pycharm": {
     "name": "#%%\n"
    }
   },
   "outputs": [
    {
     "data": {
      "text/plain": "         age\nname        \nBill      43\nBob       23\nJack      26\nJenny     18\nJon       32\nMaria     23\nSam       19\nWilliam   29",
      "text/html": "<div>\n<style scoped>\n    .dataframe tbody tr th:only-of-type {\n        vertical-align: middle;\n    }\n\n    .dataframe tbody tr th {\n        vertical-align: top;\n    }\n\n    .dataframe thead th {\n        text-align: right;\n    }\n</style>\n<table border=\"1\" class=\"dataframe\">\n  <thead>\n    <tr style=\"text-align: right;\">\n      <th></th>\n      <th>age</th>\n    </tr>\n    <tr>\n      <th>name</th>\n      <th></th>\n    </tr>\n  </thead>\n  <tbody>\n    <tr>\n      <th>Bill</th>\n      <td>43</td>\n    </tr>\n    <tr>\n      <th>Bob</th>\n      <td>23</td>\n    </tr>\n    <tr>\n      <th>Jack</th>\n      <td>26</td>\n    </tr>\n    <tr>\n      <th>Jenny</th>\n      <td>18</td>\n    </tr>\n    <tr>\n      <th>Jon</th>\n      <td>32</td>\n    </tr>\n    <tr>\n      <th>Maria</th>\n      <td>23</td>\n    </tr>\n    <tr>\n      <th>Sam</th>\n      <td>19</td>\n    </tr>\n    <tr>\n      <th>William</th>\n      <td>29</td>\n    </tr>\n  </tbody>\n</table>\n</div>"
     },
     "execution_count": 46,
     "metadata": {},
     "output_type": "execute_result"
    }
   ],
   "source": [
    "## Your codes begin here:\n",
    "\n",
    "df1.drop('income', axis  = 1)"
   ]
  },
  {
   "cell_type": "markdown",
   "metadata": {
    "pycharm": {
     "name": "#%% md\n"
    }
   },
   "source": [
    "***\n",
    "\n",
    "<h1 align=\"center\">Thank You</h1> \n",
    "\n",
    "***"
   ]
  },
  {
   "cell_type": "code",
   "execution_count": 47,
   "outputs": [
    {
     "name": "stdout",
     "output_type": "stream",
     "text": [
      "1\n"
     ]
    }
   ],
   "source": [
    "print(1)"
   ],
   "metadata": {
    "collapsed": false,
    "pycharm": {
     "name": "#%%\n"
    }
   }
  },
  {
   "cell_type": "code",
   "execution_count": 1,
   "outputs": [
    {
     "name": "stdout",
     "output_type": "stream",
     "text": [
      "2\n"
     ]
    }
   ],
   "source": [
    "print(2)\n"
   ],
   "metadata": {
    "collapsed": false,
    "pycharm": {
     "name": "#%%\n"
    }
   }
  },
  {
   "cell_type": "code",
   "execution_count": null,
   "outputs": [],
   "source": [],
   "metadata": {
    "collapsed": false,
    "pycharm": {
     "name": "#%%\n"
    }
   }
  }
 ],
 "metadata": {
  "kernelspec": {
   "name": "pycharm-583ddd74",
   "language": "python",
   "display_name": "PyCharm (DataScience)"
  },
  "language_info": {
   "codemirror_mode": {
    "name": "ipython",
    "version": 3
   },
   "file_extension": ".py",
   "mimetype": "text/x-python",
   "name": "python",
   "nbconvert_exporter": "python",
   "pygments_lexer": "ipython3",
   "version": "3.8.5"
  }
 },
 "nbformat": 4,
 "nbformat_minor": 4
}