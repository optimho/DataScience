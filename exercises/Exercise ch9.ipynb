{
 "cells": [
  {
   "cell_type": "markdown",
   "metadata": {
    "pycharm": {
     "name": "#%% md\n"
    }
   },
   "source": [
    "![title](img/cover4.png)"
   ]
  },
  {
   "cell_type": "markdown",
   "metadata": {
    "pycharm": {
     "name": "#%% md\n"
    }
   },
   "source": [
    "<center><em>Copyright! This material is protected, please do not copy or distribute.    by:Taher Assaf</em></center>"
   ]
  },
  {
   "cell_type": "markdown",
   "metadata": {
    "pycharm": {
     "name": "#%% md\n"
    }
   },
   "source": [
    "***\n",
    "<h1 align=\"center\">Udemy course : Python Bootcamp for Data Science 2021 Numpy Pandas & Seaborn</h1> \n",
    "\n",
    "***"
   ]
  },
  {
   "cell_type": "markdown",
   "metadata": {
    "pycharm": {
     "name": "#%% md\n"
    }
   },
   "source": [
    "### The Exercise for  Module 9\n",
    "\n",
    "#### Instruction:  Please write your code after the phrase \" ## Your codes begin here:\""
   ]
  },
  {
   "cell_type": "markdown",
   "metadata": {
    "pycharm": {
     "name": "#%% md\n"
    }
   },
   "source": [
    "#### Q1. In this dataframe named 'customers' (which is created in the first code cell below): check for missing values in this dataset?\n",
    "\n",
    "**Hint1:** Do not forget to run the first cell below to create the dataframe first.\n",
    "\n",
    "**Hint2:** you will need the function **isnull()** with the function **any()** to give summary of missing values for columns.\n",
    "  "
   ]
  },
  {
   "cell_type": "code",
   "execution_count": 1,
   "metadata": {
    "pycharm": {
     "name": "#%%\n"
    }
   },
   "outputs": [
    {
     "data": {
      "text/plain": "   Income   Limit  Rating  Cards  Age  Education  Gender Student Married  \\\n0  19.225  1433.0     NaN      3   38         14  Female      No      No   \n1  43.540     NaN   232.0      4   69         11    Male      No      No   \n2  55.367  6340.0   448.0      1   33         15    Male      No     Yes   \n3  11.741  2271.0     NaN      4   59         12  Female      No      No   \n4  15.560  4307.0   352.0      4   57          8    Male      No     Yes   \n\n          Ethnicity  Balance  \n0         Caucasian        0  \n1         Caucasian        0  \n2         Caucasian      815  \n3             Asian        0  \n4  African American      579  ",
      "text/html": "<div>\n<style scoped>\n    .dataframe tbody tr th:only-of-type {\n        vertical-align: middle;\n    }\n\n    .dataframe tbody tr th {\n        vertical-align: top;\n    }\n\n    .dataframe thead th {\n        text-align: right;\n    }\n</style>\n<table border=\"1\" class=\"dataframe\">\n  <thead>\n    <tr style=\"text-align: right;\">\n      <th></th>\n      <th>Income</th>\n      <th>Limit</th>\n      <th>Rating</th>\n      <th>Cards</th>\n      <th>Age</th>\n      <th>Education</th>\n      <th>Gender</th>\n      <th>Student</th>\n      <th>Married</th>\n      <th>Ethnicity</th>\n      <th>Balance</th>\n    </tr>\n  </thead>\n  <tbody>\n    <tr>\n      <th>0</th>\n      <td>19.225</td>\n      <td>1433.0</td>\n      <td>NaN</td>\n      <td>3</td>\n      <td>38</td>\n      <td>14</td>\n      <td>Female</td>\n      <td>No</td>\n      <td>No</td>\n      <td>Caucasian</td>\n      <td>0</td>\n    </tr>\n    <tr>\n      <th>1</th>\n      <td>43.540</td>\n      <td>NaN</td>\n      <td>232.0</td>\n      <td>4</td>\n      <td>69</td>\n      <td>11</td>\n      <td>Male</td>\n      <td>No</td>\n      <td>No</td>\n      <td>Caucasian</td>\n      <td>0</td>\n    </tr>\n    <tr>\n      <th>2</th>\n      <td>55.367</td>\n      <td>6340.0</td>\n      <td>448.0</td>\n      <td>1</td>\n      <td>33</td>\n      <td>15</td>\n      <td>Male</td>\n      <td>No</td>\n      <td>Yes</td>\n      <td>Caucasian</td>\n      <td>815</td>\n    </tr>\n    <tr>\n      <th>3</th>\n      <td>11.741</td>\n      <td>2271.0</td>\n      <td>NaN</td>\n      <td>4</td>\n      <td>59</td>\n      <td>12</td>\n      <td>Female</td>\n      <td>No</td>\n      <td>No</td>\n      <td>Asian</td>\n      <td>0</td>\n    </tr>\n    <tr>\n      <th>4</th>\n      <td>15.560</td>\n      <td>4307.0</td>\n      <td>352.0</td>\n      <td>4</td>\n      <td>57</td>\n      <td>8</td>\n      <td>Male</td>\n      <td>No</td>\n      <td>Yes</td>\n      <td>African American</td>\n      <td>579</td>\n    </tr>\n  </tbody>\n</table>\n</div>"
     },
     "execution_count": 1,
     "metadata": {},
     "output_type": "execute_result"
    }
   ],
   "source": [
    "## just run this cell to create the 'customers' dataframe.\n",
    "\n",
    "import pandas as pd\n",
    "customers = pd.read_csv('data/customers.csv')\n",
    "customers.head()"
   ]
  },
  {
   "cell_type": "code",
   "execution_count": 12,
   "metadata": {
    "pycharm": {
     "name": "#%%\n"
    }
   },
   "outputs": [
    {
     "data": {
      "text/plain": "Income       False\nLimit         True\nRating        True\nCards        False\nAge          False\nEducation    False\nGender       False\nStudent      False\nMarried      False\nEthnicity    False\nBalance      False\ndtype: bool"
     },
     "execution_count": 12,
     "metadata": {},
     "output_type": "execute_result"
    }
   ],
   "source": [
    "## check for missing data\n",
    "\n",
    "## Your codes begin here:\n"
   ]
  },
  {
   "cell_type": "markdown",
   "metadata": {
    "pycharm": {
     "name": "#%% md\n"
    }
   },
   "source": [
    "#### Q2. Delete all missing values in the dataframe 'customers' by creating a new dataframe named 'customers2' without missing values? Then display the head of the new dataframe 'customers2'?\n",
    "\n",
    "\n",
    "**Hint:** you will need the function **dropna()**."
   ]
  },
  {
   "cell_type": "code",
   "execution_count": 3,
   "metadata": {
    "pycharm": {
     "name": "#%%\n"
    }
   },
   "outputs": [
    {
     "data": {
      "text/plain": "<bound method DataFrame.notna of      Income   Limit  Rating  Cards  Age  Education  Gender Student Married  \\\n2    55.367  6340.0   448.0      1   33         15    Male      No     Yes   \n4    15.560  4307.0   352.0      4   57          8    Male      No     Yes   \n6    20.191  5767.0   431.0      4   42         16    Male      No     Yes   \n7    48.498  6040.0   456.0      3   47         16    Male      No     Yes   \n8    30.733  2832.0   249.0      4   51         13    Male      No      No   \n9    16.479  5435.0   388.0      2   26         16    Male      No      No   \n10   38.009  3075.0   245.0      3   45         15  Female      No      No   \n12   14.312  5382.0   367.0      1   59         17    Male     Yes      No   \n13   26.067  3388.0   266.0      4   74         17  Female      No     Yes   \n14   36.295  2963.0   241.0      2   68         14  Female     Yes      No   \n15   83.851  8494.0   607.0      5   47         18    Male      No      No   \n16   21.153  3736.0   256.0      1   41         11    Male      No      No   \n17   17.976  2433.0   190.0      3   70         16  Female     Yes      No   \n19  146.183  9540.0   682.0      6   66         15    Male      No      No   \n20   15.846  4768.0   365.0      4   53         12  Female      No      No   \n21   12.031  3182.0   259.0      2   58         18  Female      No     Yes   \n22   16.819  1337.0   115.0      2   74         15    Male      No     Yes   \n23   39.110  3189.0   263.0      3   72         12    Male      No      No   \n24  107.986  6033.0   449.0      4   64         14    Male      No     Yes   \n25   13.561  3261.0   279.0      5   37         19    Male      No     Yes   \n26   34.537  3271.0   250.0      3   57         17  Female      No     Yes   \n29   69.251  6386.0   474.0      4   30         12  Female      No     Yes   \n30   16.482  3326.0   268.0      4   41         15    Male      No      No   \n31   40.442  4828.0   369.0      5   81          8  Female      No      No   \n32   35.177  2117.0   186.0      3   62         16  Female      No      No   \n33   91.362  9113.0   626.0      1   47         17    Male      No     Yes   \n34   27.039  2161.0   173.0      3   40         17  Female      No      No   \n35   23.012  1410.0   137.0      3   81         16    Male      No      No   \n36   27.241  1402.0   128.0      2   67         15  Female      No     Yes   \n37  148.080  8157.0   599.0      2   83         13    Male      No     Yes   \n38   62.602  7056.0   481.0      1   84         11  Female      No      No   \n40   29.564  2529.0   192.0      1   30         12  Female      No     Yes   \n41   27.578  2531.0   195.0      1   34         15  Female      No     Yes   \n42   26.427  5533.0   433.0      5   50         15  Female     Yes     Yes   \n43   57.202  3411.0   259.0      3   72         11  Female      No      No   \n44  123.299  8376.0   610.0      2   89         17    Male     Yes      No   \n45   18.145  3461.0   279.0      3   56         15    Male      No     Yes   \n46   23.793  3821.0   281.0      4   56         12  Female     Yes     Yes   \n47   10.726  1568.0   162.0      5   46         19    Male      No     Yes   \n48   23.283  5443.0   407.0      4   49         13    Male      No     Yes   \n\n           Ethnicity  Balance  \n2          Caucasian      815  \n4   African American      579  \n6   African American     1023  \n7          Caucasian      812  \n8          Caucasian        0  \n9   African American      937  \n10  African American        0  \n12             Asian     1380  \n13  African American      155  \n14  African American      375  \n15         Caucasian     1311  \n16         Caucasian      298  \n17         Caucasian      431  \n19         Caucasian     1050  \n20         Caucasian      745  \n21  African American      210  \n22             Asian        0  \n23             Asian        0  \n24         Caucasian      227  \n25             Asian      297  \n26             Asian       47  \n29             Asian      768  \n30         Caucasian      271  \n31  African American      510  \n32         Caucasian        0  \n33             Asian     1341  \n34         Caucasian        0  \n35         Caucasian        0  \n36             Asian        0  \n37         Caucasian      454  \n38         Caucasian      904  \n40         Caucasian        0  \n41         Caucasian        0  \n42             Asian     1404  \n43         Caucasian        0  \n44  African American     1259  \n45  African American      255  \n46  African American      868  \n47             Asian        0  \n48  African American      912  >"
     },
     "execution_count": 3,
     "metadata": {},
     "output_type": "execute_result"
    }
   ],
   "source": [
    "## Your codes begin here:\n",
    "\n"
   ]
  },
  {
   "cell_type": "markdown",
   "metadata": {
    "pycharm": {
     "name": "#%% md\n"
    }
   },
   "source": [
    "#### Q3. In the dataframe 'customers', fill in the missing values with the average value (mean) for each columns by creating a new dataframe named customers3? Then display the head of the new dataframe\n",
    "\n",
    "**Hint1:** you will need the function **fillna()**.\n",
    "\n",
    "**Hint2:** the mean can be calculated using this code **customers.mean()**."
   ]
  },
  {
   "cell_type": "code",
   "execution_count": 13,
   "metadata": {
    "pycharm": {
     "name": "#%%\n"
    }
   },
   "outputs": [
    {
     "name": "stderr",
     "output_type": "stream",
     "text": [
      "C:\\Users\\Tech\\AppData\\Local\\Temp\\ipykernel_8208\\1166498854.py:3: FutureWarning: Dropping of nuisance columns in DataFrame reductions (with 'numeric_only=None') is deprecated; in a future version this will raise TypeError.  Select only valid columns before calling the reduction.\n",
      "  customers3 = customers.fillna(customers.mean())\n"
     ]
    },
    {
     "data": {
      "text/plain": "     Income        Limit      Rating  Cards  Age  Education  Gender Student  \\\n0    19.225  1433.000000  345.772727      3   38         14  Female      No   \n1    43.540  4138.222222  232.000000      4   69         11    Male      No   \n2    55.367  6340.000000  448.000000      1   33         15    Male      No   \n3    11.741  2271.000000  345.772727      4   59         12  Female      No   \n4    15.560  4307.000000  352.000000      4   57          8    Male      No   \n5    59.530  4138.222222  543.000000     33   52          9  Female      No   \n6    20.191  5767.000000  431.000000      4   42         16    Male      No   \n7    48.498  6040.000000  456.000000      3   47         16    Male      No   \n8    30.733  2832.000000  249.000000      4   51         13    Male      No   \n9    16.479  5435.000000  388.000000      2   26         16    Male      No   \n10   38.009  3075.000000  245.000000      3   45         15  Female      No   \n11   14.084   855.000000  345.772727      5   46         17  Female      No   \n12   14.312  5382.000000  367.000000      1   59         17    Male     Yes   \n13   26.067  3388.000000  266.000000      4   74         17  Female      No   \n14   36.295  2963.000000  241.000000      2   68         14  Female     Yes   \n15   83.851  8494.000000  607.000000      5   47         18    Male      No   \n16   21.153  3736.000000  256.000000      1   41         11    Male      No   \n17   17.976  2433.000000  190.000000      3   70         16  Female     Yes   \n18   68.713  4138.222222  531.000000     22   56         16    Male     Yes   \n19  146.183  9540.000000  682.000000      6   66         15    Male      No   \n20   15.846  4768.000000  365.000000      4   53         12  Female      No   \n21   12.031  3182.000000  259.000000      2   58         18  Female      No   \n22   16.819  1337.000000  115.000000      2   74         15    Male      No   \n23   39.110  3189.000000  263.000000      3   72         12    Male      No   \n24  107.986  6033.000000  449.000000      4   64         14    Male      No   \n25   13.561  3261.000000  279.000000      5   37         19    Male      No   \n26   34.537  3271.000000  250.000000      3   57         17  Female      No   \n27   28.575  2959.000000  345.772727      2   60         11  Female      No   \n28   46.007  4138.222222  491.000000      4   42         14    Male      No   \n29   69.251  6386.000000  474.000000      4   30         12  Female      No   \n30   16.482  3326.000000  268.000000      4   41         15    Male      No   \n31   40.442  4828.000000  369.000000      5   81          8  Female      No   \n32   35.177  2117.000000  186.000000      3   62         16  Female      No   \n33   91.362  9113.000000  626.000000      1   47         17    Male      No   \n34   27.039  2161.000000  173.000000      3   40         17  Female      No   \n35   23.012  1410.000000  137.000000      3   81         16    Male      No   \n36   27.241  1402.000000  128.000000      2   67         15  Female      No   \n37  148.080  8157.000000  599.000000      2   83         13    Male      No   \n38   62.602  7056.000000  481.000000      1   84         11  Female      No   \n39   11.808  1300.000000  345.772727      3   77         14  Female      No   \n40   29.564  2529.000000  192.000000      1   30         12  Female      No   \n41   27.578  2531.000000  195.000000      1   34         15  Female      No   \n42   26.427  5533.000000  433.000000      5   50         15  Female     Yes   \n43   57.202  3411.000000  259.000000      3   72         11  Female      No   \n44  123.299  8376.000000  610.000000      2   89         17    Male     Yes   \n45   18.145  3461.000000  279.000000      3   56         15    Male      No   \n46   23.793  3821.000000  281.000000      4   56         12  Female     Yes   \n47   10.726  1568.000000  162.000000      5   46         19    Male      No   \n48   23.283  5443.000000  407.000000      4   49         13    Male      No   \n\n   Married         Ethnicity  Balance  \n0       No         Caucasian        0  \n1       No         Caucasian        0  \n2      Yes         Caucasian      815  \n3       No             Asian        0  \n4      Yes  African American      579  \n5       No  African American     1176  \n6      Yes  African American     1023  \n7      Yes         Caucasian      812  \n8       No         Caucasian        0  \n9       No  African American      937  \n10      No  African American        0  \n11     Yes  African American        0  \n12      No             Asian     1380  \n13     Yes  African American      155  \n14      No  African American      375  \n15      No         Caucasian     1311  \n16      No         Caucasian      298  \n17      No         Caucasian      431  \n18      No         Caucasian     1587  \n19      No         Caucasian     1050  \n20      No         Caucasian      745  \n21     Yes  African American      210  \n22     Yes             Asian        0  \n23      No             Asian        0  \n24     Yes         Caucasian      227  \n25     Yes             Asian      297  \n26     Yes             Asian       47  \n27      No  African American        0  \n28     Yes         Caucasian     1046  \n29     Yes             Asian      768  \n30      No         Caucasian      271  \n31      No  African American      510  \n32      No         Caucasian        0  \n33     Yes             Asian     1341  \n34      No         Caucasian        0  \n35      No         Caucasian        0  \n36     Yes             Asian        0  \n37     Yes         Caucasian      454  \n38      No         Caucasian      904  \n39      No  African American        0  \n40     Yes         Caucasian        0  \n41     Yes         Caucasian        0  \n42     Yes             Asian     1404  \n43      No         Caucasian        0  \n44      No  African American     1259  \n45     Yes  African American      255  \n46     Yes  African American      868  \n47     Yes             Asian        0  \n48     Yes  African American      912  ",
      "text/html": "<div>\n<style scoped>\n    .dataframe tbody tr th:only-of-type {\n        vertical-align: middle;\n    }\n\n    .dataframe tbody tr th {\n        vertical-align: top;\n    }\n\n    .dataframe thead th {\n        text-align: right;\n    }\n</style>\n<table border=\"1\" class=\"dataframe\">\n  <thead>\n    <tr style=\"text-align: right;\">\n      <th></th>\n      <th>Income</th>\n      <th>Limit</th>\n      <th>Rating</th>\n      <th>Cards</th>\n      <th>Age</th>\n      <th>Education</th>\n      <th>Gender</th>\n      <th>Student</th>\n      <th>Married</th>\n      <th>Ethnicity</th>\n      <th>Balance</th>\n    </tr>\n  </thead>\n  <tbody>\n    <tr>\n      <th>0</th>\n      <td>19.225</td>\n      <td>1433.000000</td>\n      <td>345.772727</td>\n      <td>3</td>\n      <td>38</td>\n      <td>14</td>\n      <td>Female</td>\n      <td>No</td>\n      <td>No</td>\n      <td>Caucasian</td>\n      <td>0</td>\n    </tr>\n    <tr>\n      <th>1</th>\n      <td>43.540</td>\n      <td>4138.222222</td>\n      <td>232.000000</td>\n      <td>4</td>\n      <td>69</td>\n      <td>11</td>\n      <td>Male</td>\n      <td>No</td>\n      <td>No</td>\n      <td>Caucasian</td>\n      <td>0</td>\n    </tr>\n    <tr>\n      <th>2</th>\n      <td>55.367</td>\n      <td>6340.000000</td>\n      <td>448.000000</td>\n      <td>1</td>\n      <td>33</td>\n      <td>15</td>\n      <td>Male</td>\n      <td>No</td>\n      <td>Yes</td>\n      <td>Caucasian</td>\n      <td>815</td>\n    </tr>\n    <tr>\n      <th>3</th>\n      <td>11.741</td>\n      <td>2271.000000</td>\n      <td>345.772727</td>\n      <td>4</td>\n      <td>59</td>\n      <td>12</td>\n      <td>Female</td>\n      <td>No</td>\n      <td>No</td>\n      <td>Asian</td>\n      <td>0</td>\n    </tr>\n    <tr>\n      <th>4</th>\n      <td>15.560</td>\n      <td>4307.000000</td>\n      <td>352.000000</td>\n      <td>4</td>\n      <td>57</td>\n      <td>8</td>\n      <td>Male</td>\n      <td>No</td>\n      <td>Yes</td>\n      <td>African American</td>\n      <td>579</td>\n    </tr>\n    <tr>\n      <th>5</th>\n      <td>59.530</td>\n      <td>4138.222222</td>\n      <td>543.000000</td>\n      <td>33</td>\n      <td>52</td>\n      <td>9</td>\n      <td>Female</td>\n      <td>No</td>\n      <td>No</td>\n      <td>African American</td>\n      <td>1176</td>\n    </tr>\n    <tr>\n      <th>6</th>\n      <td>20.191</td>\n      <td>5767.000000</td>\n      <td>431.000000</td>\n      <td>4</td>\n      <td>42</td>\n      <td>16</td>\n      <td>Male</td>\n      <td>No</td>\n      <td>Yes</td>\n      <td>African American</td>\n      <td>1023</td>\n    </tr>\n    <tr>\n      <th>7</th>\n      <td>48.498</td>\n      <td>6040.000000</td>\n      <td>456.000000</td>\n      <td>3</td>\n      <td>47</td>\n      <td>16</td>\n      <td>Male</td>\n      <td>No</td>\n      <td>Yes</td>\n      <td>Caucasian</td>\n      <td>812</td>\n    </tr>\n    <tr>\n      <th>8</th>\n      <td>30.733</td>\n      <td>2832.000000</td>\n      <td>249.000000</td>\n      <td>4</td>\n      <td>51</td>\n      <td>13</td>\n      <td>Male</td>\n      <td>No</td>\n      <td>No</td>\n      <td>Caucasian</td>\n      <td>0</td>\n    </tr>\n    <tr>\n      <th>9</th>\n      <td>16.479</td>\n      <td>5435.000000</td>\n      <td>388.000000</td>\n      <td>2</td>\n      <td>26</td>\n      <td>16</td>\n      <td>Male</td>\n      <td>No</td>\n      <td>No</td>\n      <td>African American</td>\n      <td>937</td>\n    </tr>\n    <tr>\n      <th>10</th>\n      <td>38.009</td>\n      <td>3075.000000</td>\n      <td>245.000000</td>\n      <td>3</td>\n      <td>45</td>\n      <td>15</td>\n      <td>Female</td>\n      <td>No</td>\n      <td>No</td>\n      <td>African American</td>\n      <td>0</td>\n    </tr>\n    <tr>\n      <th>11</th>\n      <td>14.084</td>\n      <td>855.000000</td>\n      <td>345.772727</td>\n      <td>5</td>\n      <td>46</td>\n      <td>17</td>\n      <td>Female</td>\n      <td>No</td>\n      <td>Yes</td>\n      <td>African American</td>\n      <td>0</td>\n    </tr>\n    <tr>\n      <th>12</th>\n      <td>14.312</td>\n      <td>5382.000000</td>\n      <td>367.000000</td>\n      <td>1</td>\n      <td>59</td>\n      <td>17</td>\n      <td>Male</td>\n      <td>Yes</td>\n      <td>No</td>\n      <td>Asian</td>\n      <td>1380</td>\n    </tr>\n    <tr>\n      <th>13</th>\n      <td>26.067</td>\n      <td>3388.000000</td>\n      <td>266.000000</td>\n      <td>4</td>\n      <td>74</td>\n      <td>17</td>\n      <td>Female</td>\n      <td>No</td>\n      <td>Yes</td>\n      <td>African American</td>\n      <td>155</td>\n    </tr>\n    <tr>\n      <th>14</th>\n      <td>36.295</td>\n      <td>2963.000000</td>\n      <td>241.000000</td>\n      <td>2</td>\n      <td>68</td>\n      <td>14</td>\n      <td>Female</td>\n      <td>Yes</td>\n      <td>No</td>\n      <td>African American</td>\n      <td>375</td>\n    </tr>\n    <tr>\n      <th>15</th>\n      <td>83.851</td>\n      <td>8494.000000</td>\n      <td>607.000000</td>\n      <td>5</td>\n      <td>47</td>\n      <td>18</td>\n      <td>Male</td>\n      <td>No</td>\n      <td>No</td>\n      <td>Caucasian</td>\n      <td>1311</td>\n    </tr>\n    <tr>\n      <th>16</th>\n      <td>21.153</td>\n      <td>3736.000000</td>\n      <td>256.000000</td>\n      <td>1</td>\n      <td>41</td>\n      <td>11</td>\n      <td>Male</td>\n      <td>No</td>\n      <td>No</td>\n      <td>Caucasian</td>\n      <td>298</td>\n    </tr>\n    <tr>\n      <th>17</th>\n      <td>17.976</td>\n      <td>2433.000000</td>\n      <td>190.000000</td>\n      <td>3</td>\n      <td>70</td>\n      <td>16</td>\n      <td>Female</td>\n      <td>Yes</td>\n      <td>No</td>\n      <td>Caucasian</td>\n      <td>431</td>\n    </tr>\n    <tr>\n      <th>18</th>\n      <td>68.713</td>\n      <td>4138.222222</td>\n      <td>531.000000</td>\n      <td>22</td>\n      <td>56</td>\n      <td>16</td>\n      <td>Male</td>\n      <td>Yes</td>\n      <td>No</td>\n      <td>Caucasian</td>\n      <td>1587</td>\n    </tr>\n    <tr>\n      <th>19</th>\n      <td>146.183</td>\n      <td>9540.000000</td>\n      <td>682.000000</td>\n      <td>6</td>\n      <td>66</td>\n      <td>15</td>\n      <td>Male</td>\n      <td>No</td>\n      <td>No</td>\n      <td>Caucasian</td>\n      <td>1050</td>\n    </tr>\n    <tr>\n      <th>20</th>\n      <td>15.846</td>\n      <td>4768.000000</td>\n      <td>365.000000</td>\n      <td>4</td>\n      <td>53</td>\n      <td>12</td>\n      <td>Female</td>\n      <td>No</td>\n      <td>No</td>\n      <td>Caucasian</td>\n      <td>745</td>\n    </tr>\n    <tr>\n      <th>21</th>\n      <td>12.031</td>\n      <td>3182.000000</td>\n      <td>259.000000</td>\n      <td>2</td>\n      <td>58</td>\n      <td>18</td>\n      <td>Female</td>\n      <td>No</td>\n      <td>Yes</td>\n      <td>African American</td>\n      <td>210</td>\n    </tr>\n    <tr>\n      <th>22</th>\n      <td>16.819</td>\n      <td>1337.000000</td>\n      <td>115.000000</td>\n      <td>2</td>\n      <td>74</td>\n      <td>15</td>\n      <td>Male</td>\n      <td>No</td>\n      <td>Yes</td>\n      <td>Asian</td>\n      <td>0</td>\n    </tr>\n    <tr>\n      <th>23</th>\n      <td>39.110</td>\n      <td>3189.000000</td>\n      <td>263.000000</td>\n      <td>3</td>\n      <td>72</td>\n      <td>12</td>\n      <td>Male</td>\n      <td>No</td>\n      <td>No</td>\n      <td>Asian</td>\n      <td>0</td>\n    </tr>\n    <tr>\n      <th>24</th>\n      <td>107.986</td>\n      <td>6033.000000</td>\n      <td>449.000000</td>\n      <td>4</td>\n      <td>64</td>\n      <td>14</td>\n      <td>Male</td>\n      <td>No</td>\n      <td>Yes</td>\n      <td>Caucasian</td>\n      <td>227</td>\n    </tr>\n    <tr>\n      <th>25</th>\n      <td>13.561</td>\n      <td>3261.000000</td>\n      <td>279.000000</td>\n      <td>5</td>\n      <td>37</td>\n      <td>19</td>\n      <td>Male</td>\n      <td>No</td>\n      <td>Yes</td>\n      <td>Asian</td>\n      <td>297</td>\n    </tr>\n    <tr>\n      <th>26</th>\n      <td>34.537</td>\n      <td>3271.000000</td>\n      <td>250.000000</td>\n      <td>3</td>\n      <td>57</td>\n      <td>17</td>\n      <td>Female</td>\n      <td>No</td>\n      <td>Yes</td>\n      <td>Asian</td>\n      <td>47</td>\n    </tr>\n    <tr>\n      <th>27</th>\n      <td>28.575</td>\n      <td>2959.000000</td>\n      <td>345.772727</td>\n      <td>2</td>\n      <td>60</td>\n      <td>11</td>\n      <td>Female</td>\n      <td>No</td>\n      <td>No</td>\n      <td>African American</td>\n      <td>0</td>\n    </tr>\n    <tr>\n      <th>28</th>\n      <td>46.007</td>\n      <td>4138.222222</td>\n      <td>491.000000</td>\n      <td>4</td>\n      <td>42</td>\n      <td>14</td>\n      <td>Male</td>\n      <td>No</td>\n      <td>Yes</td>\n      <td>Caucasian</td>\n      <td>1046</td>\n    </tr>\n    <tr>\n      <th>29</th>\n      <td>69.251</td>\n      <td>6386.000000</td>\n      <td>474.000000</td>\n      <td>4</td>\n      <td>30</td>\n      <td>12</td>\n      <td>Female</td>\n      <td>No</td>\n      <td>Yes</td>\n      <td>Asian</td>\n      <td>768</td>\n    </tr>\n    <tr>\n      <th>30</th>\n      <td>16.482</td>\n      <td>3326.000000</td>\n      <td>268.000000</td>\n      <td>4</td>\n      <td>41</td>\n      <td>15</td>\n      <td>Male</td>\n      <td>No</td>\n      <td>No</td>\n      <td>Caucasian</td>\n      <td>271</td>\n    </tr>\n    <tr>\n      <th>31</th>\n      <td>40.442</td>\n      <td>4828.000000</td>\n      <td>369.000000</td>\n      <td>5</td>\n      <td>81</td>\n      <td>8</td>\n      <td>Female</td>\n      <td>No</td>\n      <td>No</td>\n      <td>African American</td>\n      <td>510</td>\n    </tr>\n    <tr>\n      <th>32</th>\n      <td>35.177</td>\n      <td>2117.000000</td>\n      <td>186.000000</td>\n      <td>3</td>\n      <td>62</td>\n      <td>16</td>\n      <td>Female</td>\n      <td>No</td>\n      <td>No</td>\n      <td>Caucasian</td>\n      <td>0</td>\n    </tr>\n    <tr>\n      <th>33</th>\n      <td>91.362</td>\n      <td>9113.000000</td>\n      <td>626.000000</td>\n      <td>1</td>\n      <td>47</td>\n      <td>17</td>\n      <td>Male</td>\n      <td>No</td>\n      <td>Yes</td>\n      <td>Asian</td>\n      <td>1341</td>\n    </tr>\n    <tr>\n      <th>34</th>\n      <td>27.039</td>\n      <td>2161.000000</td>\n      <td>173.000000</td>\n      <td>3</td>\n      <td>40</td>\n      <td>17</td>\n      <td>Female</td>\n      <td>No</td>\n      <td>No</td>\n      <td>Caucasian</td>\n      <td>0</td>\n    </tr>\n    <tr>\n      <th>35</th>\n      <td>23.012</td>\n      <td>1410.000000</td>\n      <td>137.000000</td>\n      <td>3</td>\n      <td>81</td>\n      <td>16</td>\n      <td>Male</td>\n      <td>No</td>\n      <td>No</td>\n      <td>Caucasian</td>\n      <td>0</td>\n    </tr>\n    <tr>\n      <th>36</th>\n      <td>27.241</td>\n      <td>1402.000000</td>\n      <td>128.000000</td>\n      <td>2</td>\n      <td>67</td>\n      <td>15</td>\n      <td>Female</td>\n      <td>No</td>\n      <td>Yes</td>\n      <td>Asian</td>\n      <td>0</td>\n    </tr>\n    <tr>\n      <th>37</th>\n      <td>148.080</td>\n      <td>8157.000000</td>\n      <td>599.000000</td>\n      <td>2</td>\n      <td>83</td>\n      <td>13</td>\n      <td>Male</td>\n      <td>No</td>\n      <td>Yes</td>\n      <td>Caucasian</td>\n      <td>454</td>\n    </tr>\n    <tr>\n      <th>38</th>\n      <td>62.602</td>\n      <td>7056.000000</td>\n      <td>481.000000</td>\n      <td>1</td>\n      <td>84</td>\n      <td>11</td>\n      <td>Female</td>\n      <td>No</td>\n      <td>No</td>\n      <td>Caucasian</td>\n      <td>904</td>\n    </tr>\n    <tr>\n      <th>39</th>\n      <td>11.808</td>\n      <td>1300.000000</td>\n      <td>345.772727</td>\n      <td>3</td>\n      <td>77</td>\n      <td>14</td>\n      <td>Female</td>\n      <td>No</td>\n      <td>No</td>\n      <td>African American</td>\n      <td>0</td>\n    </tr>\n    <tr>\n      <th>40</th>\n      <td>29.564</td>\n      <td>2529.000000</td>\n      <td>192.000000</td>\n      <td>1</td>\n      <td>30</td>\n      <td>12</td>\n      <td>Female</td>\n      <td>No</td>\n      <td>Yes</td>\n      <td>Caucasian</td>\n      <td>0</td>\n    </tr>\n    <tr>\n      <th>41</th>\n      <td>27.578</td>\n      <td>2531.000000</td>\n      <td>195.000000</td>\n      <td>1</td>\n      <td>34</td>\n      <td>15</td>\n      <td>Female</td>\n      <td>No</td>\n      <td>Yes</td>\n      <td>Caucasian</td>\n      <td>0</td>\n    </tr>\n    <tr>\n      <th>42</th>\n      <td>26.427</td>\n      <td>5533.000000</td>\n      <td>433.000000</td>\n      <td>5</td>\n      <td>50</td>\n      <td>15</td>\n      <td>Female</td>\n      <td>Yes</td>\n      <td>Yes</td>\n      <td>Asian</td>\n      <td>1404</td>\n    </tr>\n    <tr>\n      <th>43</th>\n      <td>57.202</td>\n      <td>3411.000000</td>\n      <td>259.000000</td>\n      <td>3</td>\n      <td>72</td>\n      <td>11</td>\n      <td>Female</td>\n      <td>No</td>\n      <td>No</td>\n      <td>Caucasian</td>\n      <td>0</td>\n    </tr>\n    <tr>\n      <th>44</th>\n      <td>123.299</td>\n      <td>8376.000000</td>\n      <td>610.000000</td>\n      <td>2</td>\n      <td>89</td>\n      <td>17</td>\n      <td>Male</td>\n      <td>Yes</td>\n      <td>No</td>\n      <td>African American</td>\n      <td>1259</td>\n    </tr>\n    <tr>\n      <th>45</th>\n      <td>18.145</td>\n      <td>3461.000000</td>\n      <td>279.000000</td>\n      <td>3</td>\n      <td>56</td>\n      <td>15</td>\n      <td>Male</td>\n      <td>No</td>\n      <td>Yes</td>\n      <td>African American</td>\n      <td>255</td>\n    </tr>\n    <tr>\n      <th>46</th>\n      <td>23.793</td>\n      <td>3821.000000</td>\n      <td>281.000000</td>\n      <td>4</td>\n      <td>56</td>\n      <td>12</td>\n      <td>Female</td>\n      <td>Yes</td>\n      <td>Yes</td>\n      <td>African American</td>\n      <td>868</td>\n    </tr>\n    <tr>\n      <th>47</th>\n      <td>10.726</td>\n      <td>1568.000000</td>\n      <td>162.000000</td>\n      <td>5</td>\n      <td>46</td>\n      <td>19</td>\n      <td>Male</td>\n      <td>No</td>\n      <td>Yes</td>\n      <td>Asian</td>\n      <td>0</td>\n    </tr>\n    <tr>\n      <th>48</th>\n      <td>23.283</td>\n      <td>5443.000000</td>\n      <td>407.000000</td>\n      <td>4</td>\n      <td>49</td>\n      <td>13</td>\n      <td>Male</td>\n      <td>No</td>\n      <td>Yes</td>\n      <td>African American</td>\n      <td>912</td>\n    </tr>\n  </tbody>\n</table>\n</div>"
     },
     "execution_count": 13,
     "metadata": {},
     "output_type": "execute_result"
    }
   ],
   "source": [
    "## Your codes begin here:\n",
    "\n"
   ]
  },
  {
   "cell_type": "markdown",
   "metadata": {
    "pycharm": {
     "name": "#%% md\n"
    }
   },
   "source": [
    "#### Q4. Check for douple entry in the dataframe 'customers', and delete them if found?\n",
    "\n",
    "**Hint1:** you will need the function **duplicated().any()** to check for double entry.\n",
    "\n",
    "**Hint2:** you will need the function **drop_duplicates()** to delete all double entries.\n"
   ]
  },
  {
   "cell_type": "code",
   "execution_count": 16,
   "metadata": {
    "pycharm": {
     "name": "#%%\n"
    }
   },
   "outputs": [
    {
     "data": {
      "text/plain": "False"
     },
     "execution_count": 16,
     "metadata": {},
     "output_type": "execute_result"
    }
   ],
   "source": [
    "## Your codes begin here:\n"
   ]
  },
  {
   "cell_type": "markdown",
   "metadata": {
    "pycharm": {
     "name": "#%% md\n"
    }
   },
   "source": [
    "#### Q5. Rename the column with the label ('Income') to the label ('Personal Income') in the dataframe 'customers' and make the change saved to the dataframe? Then display the head of the dataframe customers?\n",
    "\n",
    "**Hint1:** you will need the function **rename()**. with the argument **columns =**\n",
    "\n",
    "**Hint2:** To make the changes saved to the dataframe use the argument **inplace =True**."
   ]
  },
  {
   "cell_type": "code",
   "execution_count": 20,
   "metadata": {
    "pycharm": {
     "name": "#%%\n"
    }
   },
   "outputs": [
    {
     "data": {
      "text/plain": "   Personal Income   Limit  Rating  Cards  Age  Education  Gender Student  \\\n0           19.225  1433.0     NaN      3   38         14  Female      No   \n1           43.540     NaN   232.0      4   69         11    Male      No   \n2           55.367  6340.0   448.0      1   33         15    Male      No   \n3           11.741  2271.0     NaN      4   59         12  Female      No   \n4           15.560  4307.0   352.0      4   57          8    Male      No   \n\n  Married         Ethnicity  Balance  \n0      No         Caucasian        0  \n1      No         Caucasian        0  \n2     Yes         Caucasian      815  \n3      No             Asian        0  \n4     Yes  African American      579  ",
      "text/html": "<div>\n<style scoped>\n    .dataframe tbody tr th:only-of-type {\n        vertical-align: middle;\n    }\n\n    .dataframe tbody tr th {\n        vertical-align: top;\n    }\n\n    .dataframe thead th {\n        text-align: right;\n    }\n</style>\n<table border=\"1\" class=\"dataframe\">\n  <thead>\n    <tr style=\"text-align: right;\">\n      <th></th>\n      <th>Personal Income</th>\n      <th>Limit</th>\n      <th>Rating</th>\n      <th>Cards</th>\n      <th>Age</th>\n      <th>Education</th>\n      <th>Gender</th>\n      <th>Student</th>\n      <th>Married</th>\n      <th>Ethnicity</th>\n      <th>Balance</th>\n    </tr>\n  </thead>\n  <tbody>\n    <tr>\n      <th>0</th>\n      <td>19.225</td>\n      <td>1433.0</td>\n      <td>NaN</td>\n      <td>3</td>\n      <td>38</td>\n      <td>14</td>\n      <td>Female</td>\n      <td>No</td>\n      <td>No</td>\n      <td>Caucasian</td>\n      <td>0</td>\n    </tr>\n    <tr>\n      <th>1</th>\n      <td>43.540</td>\n      <td>NaN</td>\n      <td>232.0</td>\n      <td>4</td>\n      <td>69</td>\n      <td>11</td>\n      <td>Male</td>\n      <td>No</td>\n      <td>No</td>\n      <td>Caucasian</td>\n      <td>0</td>\n    </tr>\n    <tr>\n      <th>2</th>\n      <td>55.367</td>\n      <td>6340.0</td>\n      <td>448.0</td>\n      <td>1</td>\n      <td>33</td>\n      <td>15</td>\n      <td>Male</td>\n      <td>No</td>\n      <td>Yes</td>\n      <td>Caucasian</td>\n      <td>815</td>\n    </tr>\n    <tr>\n      <th>3</th>\n      <td>11.741</td>\n      <td>2271.0</td>\n      <td>NaN</td>\n      <td>4</td>\n      <td>59</td>\n      <td>12</td>\n      <td>Female</td>\n      <td>No</td>\n      <td>No</td>\n      <td>Asian</td>\n      <td>0</td>\n    </tr>\n    <tr>\n      <th>4</th>\n      <td>15.560</td>\n      <td>4307.0</td>\n      <td>352.0</td>\n      <td>4</td>\n      <td>57</td>\n      <td>8</td>\n      <td>Male</td>\n      <td>No</td>\n      <td>Yes</td>\n      <td>African American</td>\n      <td>579</td>\n    </tr>\n  </tbody>\n</table>\n</div>"
     },
     "execution_count": 20,
     "metadata": {},
     "output_type": "execute_result"
    }
   ],
   "source": [
    "## Your codes begin here:"
   ]
  },
  {
   "cell_type": "markdown",
   "metadata": {
    "pycharm": {
     "name": "#%% md\n"
    }
   },
   "source": [
    "#### Q6. Check for outliers in the column 'Cards', by displaying all values with card number greater than five? Then delete all the entries with outliers?\n",
    "\n",
    "**Hint1**: you will need to use **boolean indexing** to display Cards values gretaer than 5.\n",
    "\n",
    "**Hint2:** To delete outliers, you will need the function **drop()**."
   ]
  },
  {
   "cell_type": "code",
   "execution_count": 22,
   "metadata": {
    "pycharm": {
     "name": "#%%\n"
    }
   },
   "outputs": [
    {
     "data": {
      "text/plain": "    Personal Income   Limit  Rating  Cards  Age  Education  Gender Student  \\\n5            59.530     NaN   543.0     33   52          9  Female      No   \n18           68.713     NaN   531.0     22   56         16    Male     Yes   \n19          146.183  9540.0   682.0      6   66         15    Male      No   \n\n   Married         Ethnicity  Balance  \n5       No  African American     1176  \n18      No         Caucasian     1587  \n19      No         Caucasian     1050  ",
      "text/html": "<div>\n<style scoped>\n    .dataframe tbody tr th:only-of-type {\n        vertical-align: middle;\n    }\n\n    .dataframe tbody tr th {\n        vertical-align: top;\n    }\n\n    .dataframe thead th {\n        text-align: right;\n    }\n</style>\n<table border=\"1\" class=\"dataframe\">\n  <thead>\n    <tr style=\"text-align: right;\">\n      <th></th>\n      <th>Personal Income</th>\n      <th>Limit</th>\n      <th>Rating</th>\n      <th>Cards</th>\n      <th>Age</th>\n      <th>Education</th>\n      <th>Gender</th>\n      <th>Student</th>\n      <th>Married</th>\n      <th>Ethnicity</th>\n      <th>Balance</th>\n    </tr>\n  </thead>\n  <tbody>\n    <tr>\n      <th>5</th>\n      <td>59.530</td>\n      <td>NaN</td>\n      <td>543.0</td>\n      <td>33</td>\n      <td>52</td>\n      <td>9</td>\n      <td>Female</td>\n      <td>No</td>\n      <td>No</td>\n      <td>African American</td>\n      <td>1176</td>\n    </tr>\n    <tr>\n      <th>18</th>\n      <td>68.713</td>\n      <td>NaN</td>\n      <td>531.0</td>\n      <td>22</td>\n      <td>56</td>\n      <td>16</td>\n      <td>Male</td>\n      <td>Yes</td>\n      <td>No</td>\n      <td>Caucasian</td>\n      <td>1587</td>\n    </tr>\n    <tr>\n      <th>19</th>\n      <td>146.183</td>\n      <td>9540.0</td>\n      <td>682.0</td>\n      <td>6</td>\n      <td>66</td>\n      <td>15</td>\n      <td>Male</td>\n      <td>No</td>\n      <td>No</td>\n      <td>Caucasian</td>\n      <td>1050</td>\n    </tr>\n  </tbody>\n</table>\n</div>"
     },
     "execution_count": 22,
     "metadata": {},
     "output_type": "execute_result"
    }
   ],
   "source": [
    "# display entries with cards greater than 5\n",
    "## Your codes begin here:\n",
    "\n"
   ]
  },
  {
   "cell_type": "code",
   "execution_count": 36,
   "metadata": {
    "pycharm": {
     "name": "#%%\n"
    }
   },
   "outputs": [
    {
     "ename": "KeyError",
     "evalue": "'[5, 18, 19] not found in axis'",
     "output_type": "error",
     "traceback": [
      "\u001B[1;31m---------------------------------------------------------------------------\u001B[0m",
      "\u001B[1;31mKeyError\u001B[0m                                  Traceback (most recent call last)",
      "Input \u001B[1;32mIn [36]\u001B[0m, in \u001B[0;36m<cell line: 3>\u001B[1;34m()\u001B[0m\n\u001B[0;32m      1\u001B[0m \u001B[38;5;66;03m# Delete entries with outliers\u001B[39;00m\n\u001B[0;32m      2\u001B[0m \u001B[38;5;66;03m## Your codes begin here:\u001B[39;00m\n\u001B[1;32m----> 3\u001B[0m customers \u001B[38;5;241m=\u001B[39m \u001B[43mcustomers\u001B[49m\u001B[38;5;241;43m.\u001B[39;49m\u001B[43mdrop\u001B[49m\u001B[43m(\u001B[49m\u001B[43m[\u001B[49m\u001B[38;5;241;43m5\u001B[39;49m\u001B[43m,\u001B[49m\u001B[38;5;241;43m18\u001B[39;49m\u001B[43m,\u001B[49m\u001B[38;5;241;43m19\u001B[39;49m\u001B[43m]\u001B[49m\u001B[43m)\u001B[49m\n",
      "File \u001B[1;32m~\\miniconda3\\envs\\dataScience\\lib\\site-packages\\pandas\\util\\_decorators.py:311\u001B[0m, in \u001B[0;36mdeprecate_nonkeyword_arguments.<locals>.decorate.<locals>.wrapper\u001B[1;34m(*args, **kwargs)\u001B[0m\n\u001B[0;32m    305\u001B[0m \u001B[38;5;28;01mif\u001B[39;00m \u001B[38;5;28mlen\u001B[39m(args) \u001B[38;5;241m>\u001B[39m num_allow_args:\n\u001B[0;32m    306\u001B[0m     warnings\u001B[38;5;241m.\u001B[39mwarn(\n\u001B[0;32m    307\u001B[0m         msg\u001B[38;5;241m.\u001B[39mformat(arguments\u001B[38;5;241m=\u001B[39marguments),\n\u001B[0;32m    308\u001B[0m         \u001B[38;5;167;01mFutureWarning\u001B[39;00m,\n\u001B[0;32m    309\u001B[0m         stacklevel\u001B[38;5;241m=\u001B[39mstacklevel,\n\u001B[0;32m    310\u001B[0m     )\n\u001B[1;32m--> 311\u001B[0m \u001B[38;5;28;01mreturn\u001B[39;00m func(\u001B[38;5;241m*\u001B[39margs, \u001B[38;5;241m*\u001B[39m\u001B[38;5;241m*\u001B[39mkwargs)\n",
      "File \u001B[1;32m~\\miniconda3\\envs\\dataScience\\lib\\site-packages\\pandas\\core\\frame.py:4954\u001B[0m, in \u001B[0;36mDataFrame.drop\u001B[1;34m(self, labels, axis, index, columns, level, inplace, errors)\u001B[0m\n\u001B[0;32m   4806\u001B[0m \u001B[38;5;129m@deprecate_nonkeyword_arguments\u001B[39m(version\u001B[38;5;241m=\u001B[39m\u001B[38;5;28;01mNone\u001B[39;00m, allowed_args\u001B[38;5;241m=\u001B[39m[\u001B[38;5;124m\"\u001B[39m\u001B[38;5;124mself\u001B[39m\u001B[38;5;124m\"\u001B[39m, \u001B[38;5;124m\"\u001B[39m\u001B[38;5;124mlabels\u001B[39m\u001B[38;5;124m\"\u001B[39m])\n\u001B[0;32m   4807\u001B[0m \u001B[38;5;28;01mdef\u001B[39;00m \u001B[38;5;21mdrop\u001B[39m(\n\u001B[0;32m   4808\u001B[0m     \u001B[38;5;28mself\u001B[39m,\n\u001B[1;32m   (...)\u001B[0m\n\u001B[0;32m   4815\u001B[0m     errors: \u001B[38;5;28mstr\u001B[39m \u001B[38;5;241m=\u001B[39m \u001B[38;5;124m\"\u001B[39m\u001B[38;5;124mraise\u001B[39m\u001B[38;5;124m\"\u001B[39m,\n\u001B[0;32m   4816\u001B[0m ):\n\u001B[0;32m   4817\u001B[0m     \u001B[38;5;124;03m\"\"\"\u001B[39;00m\n\u001B[0;32m   4818\u001B[0m \u001B[38;5;124;03m    Drop specified labels from rows or columns.\u001B[39;00m\n\u001B[0;32m   4819\u001B[0m \n\u001B[1;32m   (...)\u001B[0m\n\u001B[0;32m   4952\u001B[0m \u001B[38;5;124;03m            weight  1.0     0.8\u001B[39;00m\n\u001B[0;32m   4953\u001B[0m \u001B[38;5;124;03m    \"\"\"\u001B[39;00m\n\u001B[1;32m-> 4954\u001B[0m     \u001B[38;5;28;01mreturn\u001B[39;00m \u001B[38;5;28;43msuper\u001B[39;49m\u001B[43m(\u001B[49m\u001B[43m)\u001B[49m\u001B[38;5;241;43m.\u001B[39;49m\u001B[43mdrop\u001B[49m\u001B[43m(\u001B[49m\n\u001B[0;32m   4955\u001B[0m \u001B[43m        \u001B[49m\u001B[43mlabels\u001B[49m\u001B[38;5;241;43m=\u001B[39;49m\u001B[43mlabels\u001B[49m\u001B[43m,\u001B[49m\n\u001B[0;32m   4956\u001B[0m \u001B[43m        \u001B[49m\u001B[43maxis\u001B[49m\u001B[38;5;241;43m=\u001B[39;49m\u001B[43maxis\u001B[49m\u001B[43m,\u001B[49m\n\u001B[0;32m   4957\u001B[0m \u001B[43m        \u001B[49m\u001B[43mindex\u001B[49m\u001B[38;5;241;43m=\u001B[39;49m\u001B[43mindex\u001B[49m\u001B[43m,\u001B[49m\n\u001B[0;32m   4958\u001B[0m \u001B[43m        \u001B[49m\u001B[43mcolumns\u001B[49m\u001B[38;5;241;43m=\u001B[39;49m\u001B[43mcolumns\u001B[49m\u001B[43m,\u001B[49m\n\u001B[0;32m   4959\u001B[0m \u001B[43m        \u001B[49m\u001B[43mlevel\u001B[49m\u001B[38;5;241;43m=\u001B[39;49m\u001B[43mlevel\u001B[49m\u001B[43m,\u001B[49m\n\u001B[0;32m   4960\u001B[0m \u001B[43m        \u001B[49m\u001B[43minplace\u001B[49m\u001B[38;5;241;43m=\u001B[39;49m\u001B[43minplace\u001B[49m\u001B[43m,\u001B[49m\n\u001B[0;32m   4961\u001B[0m \u001B[43m        \u001B[49m\u001B[43merrors\u001B[49m\u001B[38;5;241;43m=\u001B[39;49m\u001B[43merrors\u001B[49m\u001B[43m,\u001B[49m\n\u001B[0;32m   4962\u001B[0m \u001B[43m    \u001B[49m\u001B[43m)\u001B[49m\n",
      "File \u001B[1;32m~\\miniconda3\\envs\\dataScience\\lib\\site-packages\\pandas\\core\\generic.py:4267\u001B[0m, in \u001B[0;36mNDFrame.drop\u001B[1;34m(self, labels, axis, index, columns, level, inplace, errors)\u001B[0m\n\u001B[0;32m   4265\u001B[0m \u001B[38;5;28;01mfor\u001B[39;00m axis, labels \u001B[38;5;129;01min\u001B[39;00m axes\u001B[38;5;241m.\u001B[39mitems():\n\u001B[0;32m   4266\u001B[0m     \u001B[38;5;28;01mif\u001B[39;00m labels \u001B[38;5;129;01mis\u001B[39;00m \u001B[38;5;129;01mnot\u001B[39;00m \u001B[38;5;28;01mNone\u001B[39;00m:\n\u001B[1;32m-> 4267\u001B[0m         obj \u001B[38;5;241m=\u001B[39m \u001B[43mobj\u001B[49m\u001B[38;5;241;43m.\u001B[39;49m\u001B[43m_drop_axis\u001B[49m\u001B[43m(\u001B[49m\u001B[43mlabels\u001B[49m\u001B[43m,\u001B[49m\u001B[43m \u001B[49m\u001B[43maxis\u001B[49m\u001B[43m,\u001B[49m\u001B[43m \u001B[49m\u001B[43mlevel\u001B[49m\u001B[38;5;241;43m=\u001B[39;49m\u001B[43mlevel\u001B[49m\u001B[43m,\u001B[49m\u001B[43m \u001B[49m\u001B[43merrors\u001B[49m\u001B[38;5;241;43m=\u001B[39;49m\u001B[43merrors\u001B[49m\u001B[43m)\u001B[49m\n\u001B[0;32m   4269\u001B[0m \u001B[38;5;28;01mif\u001B[39;00m inplace:\n\u001B[0;32m   4270\u001B[0m     \u001B[38;5;28mself\u001B[39m\u001B[38;5;241m.\u001B[39m_update_inplace(obj)\n",
      "File \u001B[1;32m~\\miniconda3\\envs\\dataScience\\lib\\site-packages\\pandas\\core\\generic.py:4311\u001B[0m, in \u001B[0;36mNDFrame._drop_axis\u001B[1;34m(self, labels, axis, level, errors, consolidate, only_slice)\u001B[0m\n\u001B[0;32m   4309\u001B[0m         new_axis \u001B[38;5;241m=\u001B[39m axis\u001B[38;5;241m.\u001B[39mdrop(labels, level\u001B[38;5;241m=\u001B[39mlevel, errors\u001B[38;5;241m=\u001B[39merrors)\n\u001B[0;32m   4310\u001B[0m     \u001B[38;5;28;01melse\u001B[39;00m:\n\u001B[1;32m-> 4311\u001B[0m         new_axis \u001B[38;5;241m=\u001B[39m \u001B[43maxis\u001B[49m\u001B[38;5;241;43m.\u001B[39;49m\u001B[43mdrop\u001B[49m\u001B[43m(\u001B[49m\u001B[43mlabels\u001B[49m\u001B[43m,\u001B[49m\u001B[43m \u001B[49m\u001B[43merrors\u001B[49m\u001B[38;5;241;43m=\u001B[39;49m\u001B[43merrors\u001B[49m\u001B[43m)\u001B[49m\n\u001B[0;32m   4312\u001B[0m     indexer \u001B[38;5;241m=\u001B[39m axis\u001B[38;5;241m.\u001B[39mget_indexer(new_axis)\n\u001B[0;32m   4314\u001B[0m \u001B[38;5;66;03m# Case for non-unique axis\u001B[39;00m\n\u001B[0;32m   4315\u001B[0m \u001B[38;5;28;01melse\u001B[39;00m:\n",
      "File \u001B[1;32m~\\miniconda3\\envs\\dataScience\\lib\\site-packages\\pandas\\core\\indexes\\base.py:6644\u001B[0m, in \u001B[0;36mIndex.drop\u001B[1;34m(self, labels, errors)\u001B[0m\n\u001B[0;32m   6642\u001B[0m \u001B[38;5;28;01mif\u001B[39;00m mask\u001B[38;5;241m.\u001B[39many():\n\u001B[0;32m   6643\u001B[0m     \u001B[38;5;28;01mif\u001B[39;00m errors \u001B[38;5;241m!=\u001B[39m \u001B[38;5;124m\"\u001B[39m\u001B[38;5;124mignore\u001B[39m\u001B[38;5;124m\"\u001B[39m:\n\u001B[1;32m-> 6644\u001B[0m         \u001B[38;5;28;01mraise\u001B[39;00m \u001B[38;5;167;01mKeyError\u001B[39;00m(\u001B[38;5;124mf\u001B[39m\u001B[38;5;124m\"\u001B[39m\u001B[38;5;132;01m{\u001B[39;00m\u001B[38;5;28mlist\u001B[39m(labels[mask])\u001B[38;5;132;01m}\u001B[39;00m\u001B[38;5;124m not found in axis\u001B[39m\u001B[38;5;124m\"\u001B[39m)\n\u001B[0;32m   6645\u001B[0m     indexer \u001B[38;5;241m=\u001B[39m indexer[\u001B[38;5;241m~\u001B[39mmask]\n\u001B[0;32m   6646\u001B[0m \u001B[38;5;28;01mreturn\u001B[39;00m \u001B[38;5;28mself\u001B[39m\u001B[38;5;241m.\u001B[39mdelete(indexer)\n",
      "\u001B[1;31mKeyError\u001B[0m: '[5, 18, 19] not found in axis'"
     ]
    }
   ],
   "source": [
    "# Delete entries with outliers\n",
    "## Your codes begin here:\n"
   ]
  },
  {
   "cell_type": "markdown",
   "metadata": {
    "pycharm": {
     "name": "#%% md\n"
    }
   },
   "source": [
    "#### Q7. Generate a random subset from the dataframe 'customers' which contains only 25% of the data and save it in a new dataframe named ('random_sample')? Then display the head of this new dataframe?\n",
    "\n",
    "**Hint:** you will need the function **sample()**.\n"
   ]
  },
  {
   "cell_type": "code",
   "execution_count": 41,
   "metadata": {
    "pycharm": {
     "name": "#%%\n"
    }
   },
   "outputs": [
    {
     "name": "stdout",
     "output_type": "stream",
     "text": [
      " \n"
     ]
    },
    {
     "data": {
      "text/plain": "    Personal Income   Limit  Rating  Cards  Age  Education  Gender Student  \\\n3            11.741  2271.0     NaN      4   59         12  Female      No   \n36           27.241  1402.0   128.0      2   67         15  Female      No   \n44          123.299  8376.0   610.0      2   89         17    Male     Yes   \n30           16.482  3326.0   268.0      4   41         15    Male      No   \n41           27.578  2531.0   195.0      1   34         15  Female      No   \n26           34.537  3271.0   250.0      3   57         17  Female      No   \n42           26.427  5533.0   433.0      5   50         15  Female     Yes   \n40           29.564  2529.0   192.0      1   30         12  Female      No   \n7            48.498  6040.0   456.0      3   47         16    Male      No   \n22           16.819  1337.0   115.0      2   74         15    Male      No   \n20           15.846  4768.0   365.0      4   53         12  Female      No   \n24          107.986  6033.0   449.0      4   64         14    Male      No   \n\n   Married         Ethnicity  Balance  \n3       No             Asian        0  \n36     Yes             Asian        0  \n44      No  African American     1259  \n30      No         Caucasian      271  \n41     Yes         Caucasian        0  \n26     Yes             Asian       47  \n42     Yes             Asian     1404  \n40     Yes         Caucasian        0  \n7      Yes         Caucasian      812  \n22     Yes             Asian        0  \n20      No         Caucasian      745  \n24     Yes         Caucasian      227  ",
      "text/html": "<div>\n<style scoped>\n    .dataframe tbody tr th:only-of-type {\n        vertical-align: middle;\n    }\n\n    .dataframe tbody tr th {\n        vertical-align: top;\n    }\n\n    .dataframe thead th {\n        text-align: right;\n    }\n</style>\n<table border=\"1\" class=\"dataframe\">\n  <thead>\n    <tr style=\"text-align: right;\">\n      <th></th>\n      <th>Personal Income</th>\n      <th>Limit</th>\n      <th>Rating</th>\n      <th>Cards</th>\n      <th>Age</th>\n      <th>Education</th>\n      <th>Gender</th>\n      <th>Student</th>\n      <th>Married</th>\n      <th>Ethnicity</th>\n      <th>Balance</th>\n    </tr>\n  </thead>\n  <tbody>\n    <tr>\n      <th>3</th>\n      <td>11.741</td>\n      <td>2271.0</td>\n      <td>NaN</td>\n      <td>4</td>\n      <td>59</td>\n      <td>12</td>\n      <td>Female</td>\n      <td>No</td>\n      <td>No</td>\n      <td>Asian</td>\n      <td>0</td>\n    </tr>\n    <tr>\n      <th>36</th>\n      <td>27.241</td>\n      <td>1402.0</td>\n      <td>128.0</td>\n      <td>2</td>\n      <td>67</td>\n      <td>15</td>\n      <td>Female</td>\n      <td>No</td>\n      <td>Yes</td>\n      <td>Asian</td>\n      <td>0</td>\n    </tr>\n    <tr>\n      <th>44</th>\n      <td>123.299</td>\n      <td>8376.0</td>\n      <td>610.0</td>\n      <td>2</td>\n      <td>89</td>\n      <td>17</td>\n      <td>Male</td>\n      <td>Yes</td>\n      <td>No</td>\n      <td>African American</td>\n      <td>1259</td>\n    </tr>\n    <tr>\n      <th>30</th>\n      <td>16.482</td>\n      <td>3326.0</td>\n      <td>268.0</td>\n      <td>4</td>\n      <td>41</td>\n      <td>15</td>\n      <td>Male</td>\n      <td>No</td>\n      <td>No</td>\n      <td>Caucasian</td>\n      <td>271</td>\n    </tr>\n    <tr>\n      <th>41</th>\n      <td>27.578</td>\n      <td>2531.0</td>\n      <td>195.0</td>\n      <td>1</td>\n      <td>34</td>\n      <td>15</td>\n      <td>Female</td>\n      <td>No</td>\n      <td>Yes</td>\n      <td>Caucasian</td>\n      <td>0</td>\n    </tr>\n    <tr>\n      <th>26</th>\n      <td>34.537</td>\n      <td>3271.0</td>\n      <td>250.0</td>\n      <td>3</td>\n      <td>57</td>\n      <td>17</td>\n      <td>Female</td>\n      <td>No</td>\n      <td>Yes</td>\n      <td>Asian</td>\n      <td>47</td>\n    </tr>\n    <tr>\n      <th>42</th>\n      <td>26.427</td>\n      <td>5533.0</td>\n      <td>433.0</td>\n      <td>5</td>\n      <td>50</td>\n      <td>15</td>\n      <td>Female</td>\n      <td>Yes</td>\n      <td>Yes</td>\n      <td>Asian</td>\n      <td>1404</td>\n    </tr>\n    <tr>\n      <th>40</th>\n      <td>29.564</td>\n      <td>2529.0</td>\n      <td>192.0</td>\n      <td>1</td>\n      <td>30</td>\n      <td>12</td>\n      <td>Female</td>\n      <td>No</td>\n      <td>Yes</td>\n      <td>Caucasian</td>\n      <td>0</td>\n    </tr>\n    <tr>\n      <th>7</th>\n      <td>48.498</td>\n      <td>6040.0</td>\n      <td>456.0</td>\n      <td>3</td>\n      <td>47</td>\n      <td>16</td>\n      <td>Male</td>\n      <td>No</td>\n      <td>Yes</td>\n      <td>Caucasian</td>\n      <td>812</td>\n    </tr>\n    <tr>\n      <th>22</th>\n      <td>16.819</td>\n      <td>1337.0</td>\n      <td>115.0</td>\n      <td>2</td>\n      <td>74</td>\n      <td>15</td>\n      <td>Male</td>\n      <td>No</td>\n      <td>Yes</td>\n      <td>Asian</td>\n      <td>0</td>\n    </tr>\n    <tr>\n      <th>20</th>\n      <td>15.846</td>\n      <td>4768.0</td>\n      <td>365.0</td>\n      <td>4</td>\n      <td>53</td>\n      <td>12</td>\n      <td>Female</td>\n      <td>No</td>\n      <td>No</td>\n      <td>Caucasian</td>\n      <td>745</td>\n    </tr>\n    <tr>\n      <th>24</th>\n      <td>107.986</td>\n      <td>6033.0</td>\n      <td>449.0</td>\n      <td>4</td>\n      <td>64</td>\n      <td>14</td>\n      <td>Male</td>\n      <td>No</td>\n      <td>Yes</td>\n      <td>Caucasian</td>\n      <td>227</td>\n    </tr>\n  </tbody>\n</table>\n</div>"
     },
     "execution_count": 41,
     "metadata": {},
     "output_type": "execute_result"
    }
   ],
   "source": [
    "## Your codes begin here:\n",
    "\n"
   ]
  },
  {
   "cell_type": "markdown",
   "metadata": {
    "pycharm": {
     "name": "#%% md\n"
    }
   },
   "source": [
    "#### Q8. Reset the index for the dataframe 'random_sample' that was created in Q7? then display the head of the dataframe 'randome_sample'?\n",
    "\n",
    "**Hint1:** you will need the function **reset_index()**. To delete old index use **drop = True**.\n",
    "\n",
    "**Hint2:** To make the changes saved to the dataframe use the argument **inplace =True**.\n"
   ]
  },
  {
   "cell_type": "code",
   "execution_count": 43,
   "metadata": {
    "pycharm": {
     "name": "#%%\n"
    }
   },
   "outputs": [
    {
     "data": {
      "text/plain": "    Personal Income   Limit  Rating  Cards  Age  Education  Gender Student  \\\n0            11.741  2271.0     NaN      4   59         12  Female      No   \n1            27.241  1402.0   128.0      2   67         15  Female      No   \n2           123.299  8376.0   610.0      2   89         17    Male     Yes   \n3            16.482  3326.0   268.0      4   41         15    Male      No   \n4            27.578  2531.0   195.0      1   34         15  Female      No   \n5            34.537  3271.0   250.0      3   57         17  Female      No   \n6            26.427  5533.0   433.0      5   50         15  Female     Yes   \n7            29.564  2529.0   192.0      1   30         12  Female      No   \n8            48.498  6040.0   456.0      3   47         16    Male      No   \n9            16.819  1337.0   115.0      2   74         15    Male      No   \n10           15.846  4768.0   365.0      4   53         12  Female      No   \n11          107.986  6033.0   449.0      4   64         14    Male      No   \n\n   Married         Ethnicity  Balance  \n0       No             Asian        0  \n1      Yes             Asian        0  \n2       No  African American     1259  \n3       No         Caucasian      271  \n4      Yes         Caucasian        0  \n5      Yes             Asian       47  \n6      Yes             Asian     1404  \n7      Yes         Caucasian        0  \n8      Yes         Caucasian      812  \n9      Yes             Asian        0  \n10      No         Caucasian      745  \n11     Yes         Caucasian      227  ",
      "text/html": "<div>\n<style scoped>\n    .dataframe tbody tr th:only-of-type {\n        vertical-align: middle;\n    }\n\n    .dataframe tbody tr th {\n        vertical-align: top;\n    }\n\n    .dataframe thead th {\n        text-align: right;\n    }\n</style>\n<table border=\"1\" class=\"dataframe\">\n  <thead>\n    <tr style=\"text-align: right;\">\n      <th></th>\n      <th>Personal Income</th>\n      <th>Limit</th>\n      <th>Rating</th>\n      <th>Cards</th>\n      <th>Age</th>\n      <th>Education</th>\n      <th>Gender</th>\n      <th>Student</th>\n      <th>Married</th>\n      <th>Ethnicity</th>\n      <th>Balance</th>\n    </tr>\n  </thead>\n  <tbody>\n    <tr>\n      <th>0</th>\n      <td>11.741</td>\n      <td>2271.0</td>\n      <td>NaN</td>\n      <td>4</td>\n      <td>59</td>\n      <td>12</td>\n      <td>Female</td>\n      <td>No</td>\n      <td>No</td>\n      <td>Asian</td>\n      <td>0</td>\n    </tr>\n    <tr>\n      <th>1</th>\n      <td>27.241</td>\n      <td>1402.0</td>\n      <td>128.0</td>\n      <td>2</td>\n      <td>67</td>\n      <td>15</td>\n      <td>Female</td>\n      <td>No</td>\n      <td>Yes</td>\n      <td>Asian</td>\n      <td>0</td>\n    </tr>\n    <tr>\n      <th>2</th>\n      <td>123.299</td>\n      <td>8376.0</td>\n      <td>610.0</td>\n      <td>2</td>\n      <td>89</td>\n      <td>17</td>\n      <td>Male</td>\n      <td>Yes</td>\n      <td>No</td>\n      <td>African American</td>\n      <td>1259</td>\n    </tr>\n    <tr>\n      <th>3</th>\n      <td>16.482</td>\n      <td>3326.0</td>\n      <td>268.0</td>\n      <td>4</td>\n      <td>41</td>\n      <td>15</td>\n      <td>Male</td>\n      <td>No</td>\n      <td>No</td>\n      <td>Caucasian</td>\n      <td>271</td>\n    </tr>\n    <tr>\n      <th>4</th>\n      <td>27.578</td>\n      <td>2531.0</td>\n      <td>195.0</td>\n      <td>1</td>\n      <td>34</td>\n      <td>15</td>\n      <td>Female</td>\n      <td>No</td>\n      <td>Yes</td>\n      <td>Caucasian</td>\n      <td>0</td>\n    </tr>\n    <tr>\n      <th>5</th>\n      <td>34.537</td>\n      <td>3271.0</td>\n      <td>250.0</td>\n      <td>3</td>\n      <td>57</td>\n      <td>17</td>\n      <td>Female</td>\n      <td>No</td>\n      <td>Yes</td>\n      <td>Asian</td>\n      <td>47</td>\n    </tr>\n    <tr>\n      <th>6</th>\n      <td>26.427</td>\n      <td>5533.0</td>\n      <td>433.0</td>\n      <td>5</td>\n      <td>50</td>\n      <td>15</td>\n      <td>Female</td>\n      <td>Yes</td>\n      <td>Yes</td>\n      <td>Asian</td>\n      <td>1404</td>\n    </tr>\n    <tr>\n      <th>7</th>\n      <td>29.564</td>\n      <td>2529.0</td>\n      <td>192.0</td>\n      <td>1</td>\n      <td>30</td>\n      <td>12</td>\n      <td>Female</td>\n      <td>No</td>\n      <td>Yes</td>\n      <td>Caucasian</td>\n      <td>0</td>\n    </tr>\n    <tr>\n      <th>8</th>\n      <td>48.498</td>\n      <td>6040.0</td>\n      <td>456.0</td>\n      <td>3</td>\n      <td>47</td>\n      <td>16</td>\n      <td>Male</td>\n      <td>No</td>\n      <td>Yes</td>\n      <td>Caucasian</td>\n      <td>812</td>\n    </tr>\n    <tr>\n      <th>9</th>\n      <td>16.819</td>\n      <td>1337.0</td>\n      <td>115.0</td>\n      <td>2</td>\n      <td>74</td>\n      <td>15</td>\n      <td>Male</td>\n      <td>No</td>\n      <td>Yes</td>\n      <td>Asian</td>\n      <td>0</td>\n    </tr>\n    <tr>\n      <th>10</th>\n      <td>15.846</td>\n      <td>4768.0</td>\n      <td>365.0</td>\n      <td>4</td>\n      <td>53</td>\n      <td>12</td>\n      <td>Female</td>\n      <td>No</td>\n      <td>No</td>\n      <td>Caucasian</td>\n      <td>745</td>\n    </tr>\n    <tr>\n      <th>11</th>\n      <td>107.986</td>\n      <td>6033.0</td>\n      <td>449.0</td>\n      <td>4</td>\n      <td>64</td>\n      <td>14</td>\n      <td>Male</td>\n      <td>No</td>\n      <td>Yes</td>\n      <td>Caucasian</td>\n      <td>227</td>\n    </tr>\n  </tbody>\n</table>\n</div>"
     },
     "execution_count": 43,
     "metadata": {},
     "output_type": "execute_result"
    }
   ],
   "source": [
    "## Your codes begin here:\n"
   ]
  },
  {
   "cell_type": "markdown",
   "metadata": {
    "pycharm": {
     "name": "#%% md\n"
    }
   },
   "source": [
    "#### Q9. Create dummy variables from hte categorical variable ('Gender') and save them into a new dataframe named 'dummy'? Then add these dummy variables to the datafarme 'customers'?\n",
    "\n",
    "**Hint1**: you will need the function **pd.get_dummies**().\n",
    "\n",
    "Hint2: To join dataframes you will need this function **join()**."
   ]
  },
  {
   "cell_type": "code",
   "execution_count": 49,
   "metadata": {
    "scrolled": true,
    "pycharm": {
     "name": "#%%\n"
    }
   },
   "outputs": [
    {
     "data": {
      "text/plain": "    Personal Income   Limit  Rating  Cards  Age  Education  Gender Student  \\\n0            19.225  1433.0     NaN      3   38         14  Female      No   \n1            43.540     NaN   232.0      4   69         11    Male      No   \n2            55.367  6340.0   448.0      1   33         15    Male      No   \n3            11.741  2271.0     NaN      4   59         12  Female      No   \n4            15.560  4307.0   352.0      4   57          8    Male      No   \n6            20.191  5767.0   431.0      4   42         16    Male      No   \n7            48.498  6040.0   456.0      3   47         16    Male      No   \n8            30.733  2832.0   249.0      4   51         13    Male      No   \n9            16.479  5435.0   388.0      2   26         16    Male      No   \n10           38.009  3075.0   245.0      3   45         15  Female      No   \n11           14.084   855.0     NaN      5   46         17  Female      No   \n12           14.312  5382.0   367.0      1   59         17    Male     Yes   \n13           26.067  3388.0   266.0      4   74         17  Female      No   \n14           36.295  2963.0   241.0      2   68         14  Female     Yes   \n15           83.851  8494.0   607.0      5   47         18    Male      No   \n16           21.153  3736.0   256.0      1   41         11    Male      No   \n17           17.976  2433.0   190.0      3   70         16  Female     Yes   \n20           15.846  4768.0   365.0      4   53         12  Female      No   \n21           12.031  3182.0   259.0      2   58         18  Female      No   \n22           16.819  1337.0   115.0      2   74         15    Male      No   \n23           39.110  3189.0   263.0      3   72         12    Male      No   \n24          107.986  6033.0   449.0      4   64         14    Male      No   \n25           13.561  3261.0   279.0      5   37         19    Male      No   \n26           34.537  3271.0   250.0      3   57         17  Female      No   \n27           28.575  2959.0     NaN      2   60         11  Female      No   \n28           46.007     NaN   491.0      4   42         14    Male      No   \n29           69.251  6386.0   474.0      4   30         12  Female      No   \n30           16.482  3326.0   268.0      4   41         15    Male      No   \n31           40.442  4828.0   369.0      5   81          8  Female      No   \n32           35.177  2117.0   186.0      3   62         16  Female      No   \n33           91.362  9113.0   626.0      1   47         17    Male      No   \n34           27.039  2161.0   173.0      3   40         17  Female      No   \n35           23.012  1410.0   137.0      3   81         16    Male      No   \n36           27.241  1402.0   128.0      2   67         15  Female      No   \n37          148.080  8157.0   599.0      2   83         13    Male      No   \n38           62.602  7056.0   481.0      1   84         11  Female      No   \n39           11.808  1300.0     NaN      3   77         14  Female      No   \n40           29.564  2529.0   192.0      1   30         12  Female      No   \n41           27.578  2531.0   195.0      1   34         15  Female      No   \n42           26.427  5533.0   433.0      5   50         15  Female     Yes   \n43           57.202  3411.0   259.0      3   72         11  Female      No   \n44          123.299  8376.0   610.0      2   89         17    Male     Yes   \n45           18.145  3461.0   279.0      3   56         15    Male      No   \n46           23.793  3821.0   281.0      4   56         12  Female     Yes   \n47           10.726  1568.0   162.0      5   46         19    Male      No   \n48           23.283  5443.0   407.0      4   49         13    Male      No   \n\n   Married         Ethnicity  Balance   Male  Female  \n0       No         Caucasian        0      0       1  \n1       No         Caucasian        0      1       0  \n2      Yes         Caucasian      815      1       0  \n3       No             Asian        0      0       1  \n4      Yes  African American      579      1       0  \n6      Yes  African American     1023      1       0  \n7      Yes         Caucasian      812      1       0  \n8       No         Caucasian        0      1       0  \n9       No  African American      937      1       0  \n10      No  African American        0      0       1  \n11     Yes  African American        0      0       1  \n12      No             Asian     1380      1       0  \n13     Yes  African American      155      0       1  \n14      No  African American      375      0       1  \n15      No         Caucasian     1311      1       0  \n16      No         Caucasian      298      1       0  \n17      No         Caucasian      431      0       1  \n20      No         Caucasian      745      0       1  \n21     Yes  African American      210      0       1  \n22     Yes             Asian        0      1       0  \n23      No             Asian        0      1       0  \n24     Yes         Caucasian      227      1       0  \n25     Yes             Asian      297      1       0  \n26     Yes             Asian       47      0       1  \n27      No  African American        0      0       1  \n28     Yes         Caucasian     1046      1       0  \n29     Yes             Asian      768      0       1  \n30      No         Caucasian      271      1       0  \n31      No  African American      510      0       1  \n32      No         Caucasian        0      0       1  \n33     Yes             Asian     1341      1       0  \n34      No         Caucasian        0      0       1  \n35      No         Caucasian        0      1       0  \n36     Yes             Asian        0      0       1  \n37     Yes         Caucasian      454      1       0  \n38      No         Caucasian      904      0       1  \n39      No  African American        0      0       1  \n40     Yes         Caucasian        0      0       1  \n41     Yes         Caucasian        0      0       1  \n42     Yes             Asian     1404      0       1  \n43      No         Caucasian        0      0       1  \n44      No  African American     1259      1       0  \n45     Yes  African American      255      1       0  \n46     Yes  African American      868      0       1  \n47     Yes             Asian        0      1       0  \n48     Yes  African American      912      1       0  ",
      "text/html": "<div>\n<style scoped>\n    .dataframe tbody tr th:only-of-type {\n        vertical-align: middle;\n    }\n\n    .dataframe tbody tr th {\n        vertical-align: top;\n    }\n\n    .dataframe thead th {\n        text-align: right;\n    }\n</style>\n<table border=\"1\" class=\"dataframe\">\n  <thead>\n    <tr style=\"text-align: right;\">\n      <th></th>\n      <th>Personal Income</th>\n      <th>Limit</th>\n      <th>Rating</th>\n      <th>Cards</th>\n      <th>Age</th>\n      <th>Education</th>\n      <th>Gender</th>\n      <th>Student</th>\n      <th>Married</th>\n      <th>Ethnicity</th>\n      <th>Balance</th>\n      <th>Male</th>\n      <th>Female</th>\n    </tr>\n  </thead>\n  <tbody>\n    <tr>\n      <th>0</th>\n      <td>19.225</td>\n      <td>1433.0</td>\n      <td>NaN</td>\n      <td>3</td>\n      <td>38</td>\n      <td>14</td>\n      <td>Female</td>\n      <td>No</td>\n      <td>No</td>\n      <td>Caucasian</td>\n      <td>0</td>\n      <td>0</td>\n      <td>1</td>\n    </tr>\n    <tr>\n      <th>1</th>\n      <td>43.540</td>\n      <td>NaN</td>\n      <td>232.0</td>\n      <td>4</td>\n      <td>69</td>\n      <td>11</td>\n      <td>Male</td>\n      <td>No</td>\n      <td>No</td>\n      <td>Caucasian</td>\n      <td>0</td>\n      <td>1</td>\n      <td>0</td>\n    </tr>\n    <tr>\n      <th>2</th>\n      <td>55.367</td>\n      <td>6340.0</td>\n      <td>448.0</td>\n      <td>1</td>\n      <td>33</td>\n      <td>15</td>\n      <td>Male</td>\n      <td>No</td>\n      <td>Yes</td>\n      <td>Caucasian</td>\n      <td>815</td>\n      <td>1</td>\n      <td>0</td>\n    </tr>\n    <tr>\n      <th>3</th>\n      <td>11.741</td>\n      <td>2271.0</td>\n      <td>NaN</td>\n      <td>4</td>\n      <td>59</td>\n      <td>12</td>\n      <td>Female</td>\n      <td>No</td>\n      <td>No</td>\n      <td>Asian</td>\n      <td>0</td>\n      <td>0</td>\n      <td>1</td>\n    </tr>\n    <tr>\n      <th>4</th>\n      <td>15.560</td>\n      <td>4307.0</td>\n      <td>352.0</td>\n      <td>4</td>\n      <td>57</td>\n      <td>8</td>\n      <td>Male</td>\n      <td>No</td>\n      <td>Yes</td>\n      <td>African American</td>\n      <td>579</td>\n      <td>1</td>\n      <td>0</td>\n    </tr>\n    <tr>\n      <th>6</th>\n      <td>20.191</td>\n      <td>5767.0</td>\n      <td>431.0</td>\n      <td>4</td>\n      <td>42</td>\n      <td>16</td>\n      <td>Male</td>\n      <td>No</td>\n      <td>Yes</td>\n      <td>African American</td>\n      <td>1023</td>\n      <td>1</td>\n      <td>0</td>\n    </tr>\n    <tr>\n      <th>7</th>\n      <td>48.498</td>\n      <td>6040.0</td>\n      <td>456.0</td>\n      <td>3</td>\n      <td>47</td>\n      <td>16</td>\n      <td>Male</td>\n      <td>No</td>\n      <td>Yes</td>\n      <td>Caucasian</td>\n      <td>812</td>\n      <td>1</td>\n      <td>0</td>\n    </tr>\n    <tr>\n      <th>8</th>\n      <td>30.733</td>\n      <td>2832.0</td>\n      <td>249.0</td>\n      <td>4</td>\n      <td>51</td>\n      <td>13</td>\n      <td>Male</td>\n      <td>No</td>\n      <td>No</td>\n      <td>Caucasian</td>\n      <td>0</td>\n      <td>1</td>\n      <td>0</td>\n    </tr>\n    <tr>\n      <th>9</th>\n      <td>16.479</td>\n      <td>5435.0</td>\n      <td>388.0</td>\n      <td>2</td>\n      <td>26</td>\n      <td>16</td>\n      <td>Male</td>\n      <td>No</td>\n      <td>No</td>\n      <td>African American</td>\n      <td>937</td>\n      <td>1</td>\n      <td>0</td>\n    </tr>\n    <tr>\n      <th>10</th>\n      <td>38.009</td>\n      <td>3075.0</td>\n      <td>245.0</td>\n      <td>3</td>\n      <td>45</td>\n      <td>15</td>\n      <td>Female</td>\n      <td>No</td>\n      <td>No</td>\n      <td>African American</td>\n      <td>0</td>\n      <td>0</td>\n      <td>1</td>\n    </tr>\n    <tr>\n      <th>11</th>\n      <td>14.084</td>\n      <td>855.0</td>\n      <td>NaN</td>\n      <td>5</td>\n      <td>46</td>\n      <td>17</td>\n      <td>Female</td>\n      <td>No</td>\n      <td>Yes</td>\n      <td>African American</td>\n      <td>0</td>\n      <td>0</td>\n      <td>1</td>\n    </tr>\n    <tr>\n      <th>12</th>\n      <td>14.312</td>\n      <td>5382.0</td>\n      <td>367.0</td>\n      <td>1</td>\n      <td>59</td>\n      <td>17</td>\n      <td>Male</td>\n      <td>Yes</td>\n      <td>No</td>\n      <td>Asian</td>\n      <td>1380</td>\n      <td>1</td>\n      <td>0</td>\n    </tr>\n    <tr>\n      <th>13</th>\n      <td>26.067</td>\n      <td>3388.0</td>\n      <td>266.0</td>\n      <td>4</td>\n      <td>74</td>\n      <td>17</td>\n      <td>Female</td>\n      <td>No</td>\n      <td>Yes</td>\n      <td>African American</td>\n      <td>155</td>\n      <td>0</td>\n      <td>1</td>\n    </tr>\n    <tr>\n      <th>14</th>\n      <td>36.295</td>\n      <td>2963.0</td>\n      <td>241.0</td>\n      <td>2</td>\n      <td>68</td>\n      <td>14</td>\n      <td>Female</td>\n      <td>Yes</td>\n      <td>No</td>\n      <td>African American</td>\n      <td>375</td>\n      <td>0</td>\n      <td>1</td>\n    </tr>\n    <tr>\n      <th>15</th>\n      <td>83.851</td>\n      <td>8494.0</td>\n      <td>607.0</td>\n      <td>5</td>\n      <td>47</td>\n      <td>18</td>\n      <td>Male</td>\n      <td>No</td>\n      <td>No</td>\n      <td>Caucasian</td>\n      <td>1311</td>\n      <td>1</td>\n      <td>0</td>\n    </tr>\n    <tr>\n      <th>16</th>\n      <td>21.153</td>\n      <td>3736.0</td>\n      <td>256.0</td>\n      <td>1</td>\n      <td>41</td>\n      <td>11</td>\n      <td>Male</td>\n      <td>No</td>\n      <td>No</td>\n      <td>Caucasian</td>\n      <td>298</td>\n      <td>1</td>\n      <td>0</td>\n    </tr>\n    <tr>\n      <th>17</th>\n      <td>17.976</td>\n      <td>2433.0</td>\n      <td>190.0</td>\n      <td>3</td>\n      <td>70</td>\n      <td>16</td>\n      <td>Female</td>\n      <td>Yes</td>\n      <td>No</td>\n      <td>Caucasian</td>\n      <td>431</td>\n      <td>0</td>\n      <td>1</td>\n    </tr>\n    <tr>\n      <th>20</th>\n      <td>15.846</td>\n      <td>4768.0</td>\n      <td>365.0</td>\n      <td>4</td>\n      <td>53</td>\n      <td>12</td>\n      <td>Female</td>\n      <td>No</td>\n      <td>No</td>\n      <td>Caucasian</td>\n      <td>745</td>\n      <td>0</td>\n      <td>1</td>\n    </tr>\n    <tr>\n      <th>21</th>\n      <td>12.031</td>\n      <td>3182.0</td>\n      <td>259.0</td>\n      <td>2</td>\n      <td>58</td>\n      <td>18</td>\n      <td>Female</td>\n      <td>No</td>\n      <td>Yes</td>\n      <td>African American</td>\n      <td>210</td>\n      <td>0</td>\n      <td>1</td>\n    </tr>\n    <tr>\n      <th>22</th>\n      <td>16.819</td>\n      <td>1337.0</td>\n      <td>115.0</td>\n      <td>2</td>\n      <td>74</td>\n      <td>15</td>\n      <td>Male</td>\n      <td>No</td>\n      <td>Yes</td>\n      <td>Asian</td>\n      <td>0</td>\n      <td>1</td>\n      <td>0</td>\n    </tr>\n    <tr>\n      <th>23</th>\n      <td>39.110</td>\n      <td>3189.0</td>\n      <td>263.0</td>\n      <td>3</td>\n      <td>72</td>\n      <td>12</td>\n      <td>Male</td>\n      <td>No</td>\n      <td>No</td>\n      <td>Asian</td>\n      <td>0</td>\n      <td>1</td>\n      <td>0</td>\n    </tr>\n    <tr>\n      <th>24</th>\n      <td>107.986</td>\n      <td>6033.0</td>\n      <td>449.0</td>\n      <td>4</td>\n      <td>64</td>\n      <td>14</td>\n      <td>Male</td>\n      <td>No</td>\n      <td>Yes</td>\n      <td>Caucasian</td>\n      <td>227</td>\n      <td>1</td>\n      <td>0</td>\n    </tr>\n    <tr>\n      <th>25</th>\n      <td>13.561</td>\n      <td>3261.0</td>\n      <td>279.0</td>\n      <td>5</td>\n      <td>37</td>\n      <td>19</td>\n      <td>Male</td>\n      <td>No</td>\n      <td>Yes</td>\n      <td>Asian</td>\n      <td>297</td>\n      <td>1</td>\n      <td>0</td>\n    </tr>\n    <tr>\n      <th>26</th>\n      <td>34.537</td>\n      <td>3271.0</td>\n      <td>250.0</td>\n      <td>3</td>\n      <td>57</td>\n      <td>17</td>\n      <td>Female</td>\n      <td>No</td>\n      <td>Yes</td>\n      <td>Asian</td>\n      <td>47</td>\n      <td>0</td>\n      <td>1</td>\n    </tr>\n    <tr>\n      <th>27</th>\n      <td>28.575</td>\n      <td>2959.0</td>\n      <td>NaN</td>\n      <td>2</td>\n      <td>60</td>\n      <td>11</td>\n      <td>Female</td>\n      <td>No</td>\n      <td>No</td>\n      <td>African American</td>\n      <td>0</td>\n      <td>0</td>\n      <td>1</td>\n    </tr>\n    <tr>\n      <th>28</th>\n      <td>46.007</td>\n      <td>NaN</td>\n      <td>491.0</td>\n      <td>4</td>\n      <td>42</td>\n      <td>14</td>\n      <td>Male</td>\n      <td>No</td>\n      <td>Yes</td>\n      <td>Caucasian</td>\n      <td>1046</td>\n      <td>1</td>\n      <td>0</td>\n    </tr>\n    <tr>\n      <th>29</th>\n      <td>69.251</td>\n      <td>6386.0</td>\n      <td>474.0</td>\n      <td>4</td>\n      <td>30</td>\n      <td>12</td>\n      <td>Female</td>\n      <td>No</td>\n      <td>Yes</td>\n      <td>Asian</td>\n      <td>768</td>\n      <td>0</td>\n      <td>1</td>\n    </tr>\n    <tr>\n      <th>30</th>\n      <td>16.482</td>\n      <td>3326.0</td>\n      <td>268.0</td>\n      <td>4</td>\n      <td>41</td>\n      <td>15</td>\n      <td>Male</td>\n      <td>No</td>\n      <td>No</td>\n      <td>Caucasian</td>\n      <td>271</td>\n      <td>1</td>\n      <td>0</td>\n    </tr>\n    <tr>\n      <th>31</th>\n      <td>40.442</td>\n      <td>4828.0</td>\n      <td>369.0</td>\n      <td>5</td>\n      <td>81</td>\n      <td>8</td>\n      <td>Female</td>\n      <td>No</td>\n      <td>No</td>\n      <td>African American</td>\n      <td>510</td>\n      <td>0</td>\n      <td>1</td>\n    </tr>\n    <tr>\n      <th>32</th>\n      <td>35.177</td>\n      <td>2117.0</td>\n      <td>186.0</td>\n      <td>3</td>\n      <td>62</td>\n      <td>16</td>\n      <td>Female</td>\n      <td>No</td>\n      <td>No</td>\n      <td>Caucasian</td>\n      <td>0</td>\n      <td>0</td>\n      <td>1</td>\n    </tr>\n    <tr>\n      <th>33</th>\n      <td>91.362</td>\n      <td>9113.0</td>\n      <td>626.0</td>\n      <td>1</td>\n      <td>47</td>\n      <td>17</td>\n      <td>Male</td>\n      <td>No</td>\n      <td>Yes</td>\n      <td>Asian</td>\n      <td>1341</td>\n      <td>1</td>\n      <td>0</td>\n    </tr>\n    <tr>\n      <th>34</th>\n      <td>27.039</td>\n      <td>2161.0</td>\n      <td>173.0</td>\n      <td>3</td>\n      <td>40</td>\n      <td>17</td>\n      <td>Female</td>\n      <td>No</td>\n      <td>No</td>\n      <td>Caucasian</td>\n      <td>0</td>\n      <td>0</td>\n      <td>1</td>\n    </tr>\n    <tr>\n      <th>35</th>\n      <td>23.012</td>\n      <td>1410.0</td>\n      <td>137.0</td>\n      <td>3</td>\n      <td>81</td>\n      <td>16</td>\n      <td>Male</td>\n      <td>No</td>\n      <td>No</td>\n      <td>Caucasian</td>\n      <td>0</td>\n      <td>1</td>\n      <td>0</td>\n    </tr>\n    <tr>\n      <th>36</th>\n      <td>27.241</td>\n      <td>1402.0</td>\n      <td>128.0</td>\n      <td>2</td>\n      <td>67</td>\n      <td>15</td>\n      <td>Female</td>\n      <td>No</td>\n      <td>Yes</td>\n      <td>Asian</td>\n      <td>0</td>\n      <td>0</td>\n      <td>1</td>\n    </tr>\n    <tr>\n      <th>37</th>\n      <td>148.080</td>\n      <td>8157.0</td>\n      <td>599.0</td>\n      <td>2</td>\n      <td>83</td>\n      <td>13</td>\n      <td>Male</td>\n      <td>No</td>\n      <td>Yes</td>\n      <td>Caucasian</td>\n      <td>454</td>\n      <td>1</td>\n      <td>0</td>\n    </tr>\n    <tr>\n      <th>38</th>\n      <td>62.602</td>\n      <td>7056.0</td>\n      <td>481.0</td>\n      <td>1</td>\n      <td>84</td>\n      <td>11</td>\n      <td>Female</td>\n      <td>No</td>\n      <td>No</td>\n      <td>Caucasian</td>\n      <td>904</td>\n      <td>0</td>\n      <td>1</td>\n    </tr>\n    <tr>\n      <th>39</th>\n      <td>11.808</td>\n      <td>1300.0</td>\n      <td>NaN</td>\n      <td>3</td>\n      <td>77</td>\n      <td>14</td>\n      <td>Female</td>\n      <td>No</td>\n      <td>No</td>\n      <td>African American</td>\n      <td>0</td>\n      <td>0</td>\n      <td>1</td>\n    </tr>\n    <tr>\n      <th>40</th>\n      <td>29.564</td>\n      <td>2529.0</td>\n      <td>192.0</td>\n      <td>1</td>\n      <td>30</td>\n      <td>12</td>\n      <td>Female</td>\n      <td>No</td>\n      <td>Yes</td>\n      <td>Caucasian</td>\n      <td>0</td>\n      <td>0</td>\n      <td>1</td>\n    </tr>\n    <tr>\n      <th>41</th>\n      <td>27.578</td>\n      <td>2531.0</td>\n      <td>195.0</td>\n      <td>1</td>\n      <td>34</td>\n      <td>15</td>\n      <td>Female</td>\n      <td>No</td>\n      <td>Yes</td>\n      <td>Caucasian</td>\n      <td>0</td>\n      <td>0</td>\n      <td>1</td>\n    </tr>\n    <tr>\n      <th>42</th>\n      <td>26.427</td>\n      <td>5533.0</td>\n      <td>433.0</td>\n      <td>5</td>\n      <td>50</td>\n      <td>15</td>\n      <td>Female</td>\n      <td>Yes</td>\n      <td>Yes</td>\n      <td>Asian</td>\n      <td>1404</td>\n      <td>0</td>\n      <td>1</td>\n    </tr>\n    <tr>\n      <th>43</th>\n      <td>57.202</td>\n      <td>3411.0</td>\n      <td>259.0</td>\n      <td>3</td>\n      <td>72</td>\n      <td>11</td>\n      <td>Female</td>\n      <td>No</td>\n      <td>No</td>\n      <td>Caucasian</td>\n      <td>0</td>\n      <td>0</td>\n      <td>1</td>\n    </tr>\n    <tr>\n      <th>44</th>\n      <td>123.299</td>\n      <td>8376.0</td>\n      <td>610.0</td>\n      <td>2</td>\n      <td>89</td>\n      <td>17</td>\n      <td>Male</td>\n      <td>Yes</td>\n      <td>No</td>\n      <td>African American</td>\n      <td>1259</td>\n      <td>1</td>\n      <td>0</td>\n    </tr>\n    <tr>\n      <th>45</th>\n      <td>18.145</td>\n      <td>3461.0</td>\n      <td>279.0</td>\n      <td>3</td>\n      <td>56</td>\n      <td>15</td>\n      <td>Male</td>\n      <td>No</td>\n      <td>Yes</td>\n      <td>African American</td>\n      <td>255</td>\n      <td>1</td>\n      <td>0</td>\n    </tr>\n    <tr>\n      <th>46</th>\n      <td>23.793</td>\n      <td>3821.0</td>\n      <td>281.0</td>\n      <td>4</td>\n      <td>56</td>\n      <td>12</td>\n      <td>Female</td>\n      <td>Yes</td>\n      <td>Yes</td>\n      <td>African American</td>\n      <td>868</td>\n      <td>0</td>\n      <td>1</td>\n    </tr>\n    <tr>\n      <th>47</th>\n      <td>10.726</td>\n      <td>1568.0</td>\n      <td>162.0</td>\n      <td>5</td>\n      <td>46</td>\n      <td>19</td>\n      <td>Male</td>\n      <td>No</td>\n      <td>Yes</td>\n      <td>Asian</td>\n      <td>0</td>\n      <td>1</td>\n      <td>0</td>\n    </tr>\n    <tr>\n      <th>48</th>\n      <td>23.283</td>\n      <td>5443.0</td>\n      <td>407.0</td>\n      <td>4</td>\n      <td>49</td>\n      <td>13</td>\n      <td>Male</td>\n      <td>No</td>\n      <td>Yes</td>\n      <td>African American</td>\n      <td>912</td>\n      <td>1</td>\n      <td>0</td>\n    </tr>\n  </tbody>\n</table>\n</div>"
     },
     "execution_count": 49,
     "metadata": {},
     "output_type": "execute_result"
    }
   ],
   "source": [
    "## Your codes begin here:\n",
    "\n"
   ]
  },
  {
   "cell_type": "markdown",
   "metadata": {
    "pycharm": {
     "name": "#%% md\n"
    }
   },
   "source": [
    "***\n",
    "# Solutions\n",
    "***"
   ]
  },
  {
   "cell_type": "markdown",
   "metadata": {
    "pycharm": {
     "name": "#%% md\n"
    }
   },
   "source": [
    "#### Q1. In this dataframe named 'customers' (which is created in the first code cell below): check for missing values in this dataset?"
   ]
  },
  {
   "cell_type": "code",
   "execution_count": 12,
   "metadata": {
    "pycharm": {
     "name": "#%%\n"
    }
   },
   "outputs": [
    {
     "data": {
      "text/html": [
       "<div>\n",
       "<style scoped>\n",
       "    .dataframe tbody tr th:only-of-type {\n",
       "        vertical-align: middle;\n",
       "    }\n",
       "\n",
       "    .dataframe tbody tr th {\n",
       "        vertical-align: top;\n",
       "    }\n",
       "\n",
       "    .dataframe thead th {\n",
       "        text-align: right;\n",
       "    }\n",
       "</style>\n",
       "<table border=\"1\" class=\"dataframe\">\n",
       "  <thead>\n",
       "    <tr style=\"text-align: right;\">\n",
       "      <th></th>\n",
       "      <th>Income</th>\n",
       "      <th>Limit</th>\n",
       "      <th>Rating</th>\n",
       "      <th>Cards</th>\n",
       "      <th>Age</th>\n",
       "      <th>Education</th>\n",
       "      <th>Gender</th>\n",
       "      <th>Student</th>\n",
       "      <th>Married</th>\n",
       "      <th>Ethnicity</th>\n",
       "      <th>Balance</th>\n",
       "    </tr>\n",
       "  </thead>\n",
       "  <tbody>\n",
       "    <tr>\n",
       "      <th>0</th>\n",
       "      <td>19.225</td>\n",
       "      <td>1433.0</td>\n",
       "      <td>NaN</td>\n",
       "      <td>3</td>\n",
       "      <td>38</td>\n",
       "      <td>14</td>\n",
       "      <td>Female</td>\n",
       "      <td>No</td>\n",
       "      <td>No</td>\n",
       "      <td>Caucasian</td>\n",
       "      <td>0</td>\n",
       "    </tr>\n",
       "    <tr>\n",
       "      <th>1</th>\n",
       "      <td>43.540</td>\n",
       "      <td>NaN</td>\n",
       "      <td>232.0</td>\n",
       "      <td>4</td>\n",
       "      <td>69</td>\n",
       "      <td>11</td>\n",
       "      <td>Male</td>\n",
       "      <td>No</td>\n",
       "      <td>No</td>\n",
       "      <td>Caucasian</td>\n",
       "      <td>0</td>\n",
       "    </tr>\n",
       "    <tr>\n",
       "      <th>2</th>\n",
       "      <td>55.367</td>\n",
       "      <td>6340.0</td>\n",
       "      <td>448.0</td>\n",
       "      <td>1</td>\n",
       "      <td>33</td>\n",
       "      <td>15</td>\n",
       "      <td>Male</td>\n",
       "      <td>No</td>\n",
       "      <td>Yes</td>\n",
       "      <td>Caucasian</td>\n",
       "      <td>815</td>\n",
       "    </tr>\n",
       "    <tr>\n",
       "      <th>3</th>\n",
       "      <td>11.741</td>\n",
       "      <td>2271.0</td>\n",
       "      <td>NaN</td>\n",
       "      <td>4</td>\n",
       "      <td>59</td>\n",
       "      <td>12</td>\n",
       "      <td>Female</td>\n",
       "      <td>No</td>\n",
       "      <td>No</td>\n",
       "      <td>Asian</td>\n",
       "      <td>0</td>\n",
       "    </tr>\n",
       "    <tr>\n",
       "      <th>4</th>\n",
       "      <td>15.560</td>\n",
       "      <td>4307.0</td>\n",
       "      <td>352.0</td>\n",
       "      <td>4</td>\n",
       "      <td>57</td>\n",
       "      <td>8</td>\n",
       "      <td>Male</td>\n",
       "      <td>No</td>\n",
       "      <td>Yes</td>\n",
       "      <td>African American</td>\n",
       "      <td>579</td>\n",
       "    </tr>\n",
       "  </tbody>\n",
       "</table>\n",
       "</div>"
      ],
      "text/plain": [
       "   Income   Limit  Rating  Cards  Age  Education  Gender Student Married  \\\n",
       "0  19.225  1433.0     NaN      3   38         14  Female      No      No   \n",
       "1  43.540     NaN   232.0      4   69         11    Male      No      No   \n",
       "2  55.367  6340.0   448.0      1   33         15    Male      No     Yes   \n",
       "3  11.741  2271.0     NaN      4   59         12  Female      No      No   \n",
       "4  15.560  4307.0   352.0      4   57          8    Male      No     Yes   \n",
       "\n",
       "          Ethnicity  Balance  \n",
       "0         Caucasian        0  \n",
       "1         Caucasian        0  \n",
       "2         Caucasian      815  \n",
       "3             Asian        0  \n",
       "4  African American      579  "
      ]
     },
     "execution_count": 12,
     "metadata": {},
     "output_type": "execute_result"
    }
   ],
   "source": [
    "## just run this cell to create the 'customers' dataframe.\n",
    "\n",
    "import pandas as pd\n",
    "customers = pd.read_csv('data/customers.csv')\n",
    "customers.head()"
   ]
  },
  {
   "cell_type": "code",
   "execution_count": 13,
   "metadata": {
    "pycharm": {
     "name": "#%%\n"
    }
   },
   "outputs": [
    {
     "data": {
      "text/plain": [
       "Income       False\n",
       "Limit         True\n",
       "Rating        True\n",
       "Cards        False\n",
       "Age          False\n",
       "Education    False\n",
       "Gender       False\n",
       "Student      False\n",
       "Married      False\n",
       "Ethnicity    False\n",
       "Balance      False\n",
       "dtype: bool"
      ]
     },
     "execution_count": 13,
     "metadata": {},
     "output_type": "execute_result"
    }
   ],
   "source": [
    "## check for missing data\n",
    "\n",
    "## Your codes begin here:\n",
    "\n",
    "customers.isnull().any()"
   ]
  },
  {
   "cell_type": "markdown",
   "metadata": {
    "pycharm": {
     "name": "#%% md\n"
    }
   },
   "source": [
    "#### Q2. Delete all missing values in the dataframe 'customers' by creating a new dataframe named 'customers2' without missing values? Then display the head of the new dataframe 'customers2'?"
   ]
  },
  {
   "cell_type": "code",
   "execution_count": 14,
   "metadata": {
    "pycharm": {
     "name": "#%%\n"
    }
   },
   "outputs": [
    {
     "data": {
      "text/html": [
       "<div>\n",
       "<style scoped>\n",
       "    .dataframe tbody tr th:only-of-type {\n",
       "        vertical-align: middle;\n",
       "    }\n",
       "\n",
       "    .dataframe tbody tr th {\n",
       "        vertical-align: top;\n",
       "    }\n",
       "\n",
       "    .dataframe thead th {\n",
       "        text-align: right;\n",
       "    }\n",
       "</style>\n",
       "<table border=\"1\" class=\"dataframe\">\n",
       "  <thead>\n",
       "    <tr style=\"text-align: right;\">\n",
       "      <th></th>\n",
       "      <th>Income</th>\n",
       "      <th>Limit</th>\n",
       "      <th>Rating</th>\n",
       "      <th>Cards</th>\n",
       "      <th>Age</th>\n",
       "      <th>Education</th>\n",
       "      <th>Gender</th>\n",
       "      <th>Student</th>\n",
       "      <th>Married</th>\n",
       "      <th>Ethnicity</th>\n",
       "      <th>Balance</th>\n",
       "    </tr>\n",
       "  </thead>\n",
       "  <tbody>\n",
       "    <tr>\n",
       "      <th>2</th>\n",
       "      <td>55.367</td>\n",
       "      <td>6340.0</td>\n",
       "      <td>448.0</td>\n",
       "      <td>1</td>\n",
       "      <td>33</td>\n",
       "      <td>15</td>\n",
       "      <td>Male</td>\n",
       "      <td>No</td>\n",
       "      <td>Yes</td>\n",
       "      <td>Caucasian</td>\n",
       "      <td>815</td>\n",
       "    </tr>\n",
       "    <tr>\n",
       "      <th>4</th>\n",
       "      <td>15.560</td>\n",
       "      <td>4307.0</td>\n",
       "      <td>352.0</td>\n",
       "      <td>4</td>\n",
       "      <td>57</td>\n",
       "      <td>8</td>\n",
       "      <td>Male</td>\n",
       "      <td>No</td>\n",
       "      <td>Yes</td>\n",
       "      <td>African American</td>\n",
       "      <td>579</td>\n",
       "    </tr>\n",
       "    <tr>\n",
       "      <th>6</th>\n",
       "      <td>20.191</td>\n",
       "      <td>5767.0</td>\n",
       "      <td>431.0</td>\n",
       "      <td>4</td>\n",
       "      <td>42</td>\n",
       "      <td>16</td>\n",
       "      <td>Male</td>\n",
       "      <td>No</td>\n",
       "      <td>Yes</td>\n",
       "      <td>African American</td>\n",
       "      <td>1023</td>\n",
       "    </tr>\n",
       "    <tr>\n",
       "      <th>7</th>\n",
       "      <td>48.498</td>\n",
       "      <td>6040.0</td>\n",
       "      <td>456.0</td>\n",
       "      <td>3</td>\n",
       "      <td>47</td>\n",
       "      <td>16</td>\n",
       "      <td>Male</td>\n",
       "      <td>No</td>\n",
       "      <td>Yes</td>\n",
       "      <td>Caucasian</td>\n",
       "      <td>812</td>\n",
       "    </tr>\n",
       "    <tr>\n",
       "      <th>8</th>\n",
       "      <td>30.733</td>\n",
       "      <td>2832.0</td>\n",
       "      <td>249.0</td>\n",
       "      <td>4</td>\n",
       "      <td>51</td>\n",
       "      <td>13</td>\n",
       "      <td>Male</td>\n",
       "      <td>No</td>\n",
       "      <td>No</td>\n",
       "      <td>Caucasian</td>\n",
       "      <td>0</td>\n",
       "    </tr>\n",
       "  </tbody>\n",
       "</table>\n",
       "</div>"
      ],
      "text/plain": [
       "   Income   Limit  Rating  Cards  Age  Education Gender Student Married  \\\n",
       "2  55.367  6340.0   448.0      1   33         15   Male      No     Yes   \n",
       "4  15.560  4307.0   352.0      4   57          8   Male      No     Yes   \n",
       "6  20.191  5767.0   431.0      4   42         16   Male      No     Yes   \n",
       "7  48.498  6040.0   456.0      3   47         16   Male      No     Yes   \n",
       "8  30.733  2832.0   249.0      4   51         13   Male      No      No   \n",
       "\n",
       "          Ethnicity  Balance  \n",
       "2         Caucasian      815  \n",
       "4  African American      579  \n",
       "6  African American     1023  \n",
       "7         Caucasian      812  \n",
       "8         Caucasian        0  "
      ]
     },
     "execution_count": 14,
     "metadata": {},
     "output_type": "execute_result"
    }
   ],
   "source": [
    "## Your codes begin here:\n",
    "\n",
    "customers2 = customers.dropna()\n",
    "customers2.head()"
   ]
  },
  {
   "cell_type": "markdown",
   "metadata": {
    "pycharm": {
     "name": "#%% md\n"
    }
   },
   "source": [
    "#### Q3. In the dataframe 'customers', fill in the missing values with the average value (mean) for each columns by creating a new dataframe named customers3? Then display the head of the new dataframe"
   ]
  },
  {
   "cell_type": "code",
   "execution_count": 15,
   "metadata": {
    "pycharm": {
     "name": "#%%\n"
    }
   },
   "outputs": [
    {
     "data": {
      "text/html": [
       "<div>\n",
       "<style scoped>\n",
       "    .dataframe tbody tr th:only-of-type {\n",
       "        vertical-align: middle;\n",
       "    }\n",
       "\n",
       "    .dataframe tbody tr th {\n",
       "        vertical-align: top;\n",
       "    }\n",
       "\n",
       "    .dataframe thead th {\n",
       "        text-align: right;\n",
       "    }\n",
       "</style>\n",
       "<table border=\"1\" class=\"dataframe\">\n",
       "  <thead>\n",
       "    <tr style=\"text-align: right;\">\n",
       "      <th></th>\n",
       "      <th>Income</th>\n",
       "      <th>Limit</th>\n",
       "      <th>Rating</th>\n",
       "      <th>Cards</th>\n",
       "      <th>Age</th>\n",
       "      <th>Education</th>\n",
       "      <th>Gender</th>\n",
       "      <th>Student</th>\n",
       "      <th>Married</th>\n",
       "      <th>Ethnicity</th>\n",
       "      <th>Balance</th>\n",
       "    </tr>\n",
       "  </thead>\n",
       "  <tbody>\n",
       "    <tr>\n",
       "      <th>0</th>\n",
       "      <td>19.225</td>\n",
       "      <td>1433.000000</td>\n",
       "      <td>345.772727</td>\n",
       "      <td>3</td>\n",
       "      <td>38</td>\n",
       "      <td>14</td>\n",
       "      <td>Female</td>\n",
       "      <td>No</td>\n",
       "      <td>No</td>\n",
       "      <td>Caucasian</td>\n",
       "      <td>0</td>\n",
       "    </tr>\n",
       "    <tr>\n",
       "      <th>1</th>\n",
       "      <td>43.540</td>\n",
       "      <td>4138.222222</td>\n",
       "      <td>232.000000</td>\n",
       "      <td>4</td>\n",
       "      <td>69</td>\n",
       "      <td>11</td>\n",
       "      <td>Male</td>\n",
       "      <td>No</td>\n",
       "      <td>No</td>\n",
       "      <td>Caucasian</td>\n",
       "      <td>0</td>\n",
       "    </tr>\n",
       "    <tr>\n",
       "      <th>2</th>\n",
       "      <td>55.367</td>\n",
       "      <td>6340.000000</td>\n",
       "      <td>448.000000</td>\n",
       "      <td>1</td>\n",
       "      <td>33</td>\n",
       "      <td>15</td>\n",
       "      <td>Male</td>\n",
       "      <td>No</td>\n",
       "      <td>Yes</td>\n",
       "      <td>Caucasian</td>\n",
       "      <td>815</td>\n",
       "    </tr>\n",
       "    <tr>\n",
       "      <th>3</th>\n",
       "      <td>11.741</td>\n",
       "      <td>2271.000000</td>\n",
       "      <td>345.772727</td>\n",
       "      <td>4</td>\n",
       "      <td>59</td>\n",
       "      <td>12</td>\n",
       "      <td>Female</td>\n",
       "      <td>No</td>\n",
       "      <td>No</td>\n",
       "      <td>Asian</td>\n",
       "      <td>0</td>\n",
       "    </tr>\n",
       "    <tr>\n",
       "      <th>4</th>\n",
       "      <td>15.560</td>\n",
       "      <td>4307.000000</td>\n",
       "      <td>352.000000</td>\n",
       "      <td>4</td>\n",
       "      <td>57</td>\n",
       "      <td>8</td>\n",
       "      <td>Male</td>\n",
       "      <td>No</td>\n",
       "      <td>Yes</td>\n",
       "      <td>African American</td>\n",
       "      <td>579</td>\n",
       "    </tr>\n",
       "  </tbody>\n",
       "</table>\n",
       "</div>"
      ],
      "text/plain": [
       "   Income        Limit      Rating  Cards  Age  Education  Gender Student  \\\n",
       "0  19.225  1433.000000  345.772727      3   38         14  Female      No   \n",
       "1  43.540  4138.222222  232.000000      4   69         11    Male      No   \n",
       "2  55.367  6340.000000  448.000000      1   33         15    Male      No   \n",
       "3  11.741  2271.000000  345.772727      4   59         12  Female      No   \n",
       "4  15.560  4307.000000  352.000000      4   57          8    Male      No   \n",
       "\n",
       "  Married         Ethnicity  Balance  \n",
       "0      No         Caucasian        0  \n",
       "1      No         Caucasian        0  \n",
       "2     Yes         Caucasian      815  \n",
       "3      No             Asian        0  \n",
       "4     Yes  African American      579  "
      ]
     },
     "execution_count": 15,
     "metadata": {},
     "output_type": "execute_result"
    }
   ],
   "source": [
    "## Your codes begin here:\n",
    "\n",
    "customers3 = customers.fillna(customers.mean())\n",
    "customers3.head()"
   ]
  },
  {
   "cell_type": "markdown",
   "metadata": {
    "pycharm": {
     "name": "#%% md\n"
    }
   },
   "source": [
    "#### Q4. Check for douple entry in the dataframe 'customers', and delete them if found?"
   ]
  },
  {
   "cell_type": "code",
   "execution_count": 16,
   "metadata": {
    "pycharm": {
     "name": "#%%\n"
    }
   },
   "outputs": [
    {
     "data": {
      "text/plain": [
       "False"
      ]
     },
     "execution_count": 16,
     "metadata": {},
     "output_type": "execute_result"
    }
   ],
   "source": [
    "## Your codes begin here:\n",
    "\n",
    "customers.duplicated().any()"
   ]
  },
  {
   "cell_type": "markdown",
   "metadata": {
    "pycharm": {
     "name": "#%% md\n"
    }
   },
   "source": [
    "#### Q5. Rename the column with the label ('Income') to the label ('Personal Income') in the dataframe 'customers' and make the change saved to the dataframe? Then display the head of the dataframe customers?"
   ]
  },
  {
   "cell_type": "code",
   "execution_count": 17,
   "metadata": {
    "pycharm": {
     "name": "#%%\n"
    }
   },
   "outputs": [
    {
     "data": {
      "text/html": [
       "<div>\n",
       "<style scoped>\n",
       "    .dataframe tbody tr th:only-of-type {\n",
       "        vertical-align: middle;\n",
       "    }\n",
       "\n",
       "    .dataframe tbody tr th {\n",
       "        vertical-align: top;\n",
       "    }\n",
       "\n",
       "    .dataframe thead th {\n",
       "        text-align: right;\n",
       "    }\n",
       "</style>\n",
       "<table border=\"1\" class=\"dataframe\">\n",
       "  <thead>\n",
       "    <tr style=\"text-align: right;\">\n",
       "      <th></th>\n",
       "      <th>Personal Income</th>\n",
       "      <th>Limit</th>\n",
       "      <th>Rating</th>\n",
       "      <th>Cards</th>\n",
       "      <th>Age</th>\n",
       "      <th>Education</th>\n",
       "      <th>Gender</th>\n",
       "      <th>Student</th>\n",
       "      <th>Married</th>\n",
       "      <th>Ethnicity</th>\n",
       "      <th>Balance</th>\n",
       "    </tr>\n",
       "  </thead>\n",
       "  <tbody>\n",
       "    <tr>\n",
       "      <th>0</th>\n",
       "      <td>19.225</td>\n",
       "      <td>1433.0</td>\n",
       "      <td>NaN</td>\n",
       "      <td>3</td>\n",
       "      <td>38</td>\n",
       "      <td>14</td>\n",
       "      <td>Female</td>\n",
       "      <td>No</td>\n",
       "      <td>No</td>\n",
       "      <td>Caucasian</td>\n",
       "      <td>0</td>\n",
       "    </tr>\n",
       "    <tr>\n",
       "      <th>1</th>\n",
       "      <td>43.540</td>\n",
       "      <td>NaN</td>\n",
       "      <td>232.0</td>\n",
       "      <td>4</td>\n",
       "      <td>69</td>\n",
       "      <td>11</td>\n",
       "      <td>Male</td>\n",
       "      <td>No</td>\n",
       "      <td>No</td>\n",
       "      <td>Caucasian</td>\n",
       "      <td>0</td>\n",
       "    </tr>\n",
       "    <tr>\n",
       "      <th>2</th>\n",
       "      <td>55.367</td>\n",
       "      <td>6340.0</td>\n",
       "      <td>448.0</td>\n",
       "      <td>1</td>\n",
       "      <td>33</td>\n",
       "      <td>15</td>\n",
       "      <td>Male</td>\n",
       "      <td>No</td>\n",
       "      <td>Yes</td>\n",
       "      <td>Caucasian</td>\n",
       "      <td>815</td>\n",
       "    </tr>\n",
       "    <tr>\n",
       "      <th>3</th>\n",
       "      <td>11.741</td>\n",
       "      <td>2271.0</td>\n",
       "      <td>NaN</td>\n",
       "      <td>4</td>\n",
       "      <td>59</td>\n",
       "      <td>12</td>\n",
       "      <td>Female</td>\n",
       "      <td>No</td>\n",
       "      <td>No</td>\n",
       "      <td>Asian</td>\n",
       "      <td>0</td>\n",
       "    </tr>\n",
       "    <tr>\n",
       "      <th>4</th>\n",
       "      <td>15.560</td>\n",
       "      <td>4307.0</td>\n",
       "      <td>352.0</td>\n",
       "      <td>4</td>\n",
       "      <td>57</td>\n",
       "      <td>8</td>\n",
       "      <td>Male</td>\n",
       "      <td>No</td>\n",
       "      <td>Yes</td>\n",
       "      <td>African American</td>\n",
       "      <td>579</td>\n",
       "    </tr>\n",
       "  </tbody>\n",
       "</table>\n",
       "</div>"
      ],
      "text/plain": [
       "   Personal Income   Limit  Rating  Cards  Age  Education  Gender Student  \\\n",
       "0           19.225  1433.0     NaN      3   38         14  Female      No   \n",
       "1           43.540     NaN   232.0      4   69         11    Male      No   \n",
       "2           55.367  6340.0   448.0      1   33         15    Male      No   \n",
       "3           11.741  2271.0     NaN      4   59         12  Female      No   \n",
       "4           15.560  4307.0   352.0      4   57          8    Male      No   \n",
       "\n",
       "  Married         Ethnicity  Balance  \n",
       "0      No         Caucasian        0  \n",
       "1      No         Caucasian        0  \n",
       "2     Yes         Caucasian      815  \n",
       "3      No             Asian        0  \n",
       "4     Yes  African American      579  "
      ]
     },
     "execution_count": 17,
     "metadata": {},
     "output_type": "execute_result"
    }
   ],
   "source": [
    "## Your codes begin here:\n",
    "\n",
    "customers.rename(columns = {'Income':'Personal Income'}, inplace =True)\n",
    "customers.head()"
   ]
  },
  {
   "cell_type": "markdown",
   "metadata": {
    "pycharm": {
     "name": "#%% md\n"
    }
   },
   "source": [
    "#### Q6. Check for outliers in the column 'Cards', by displaying all values with card number greater than five? Then delete all the entries with outliers?"
   ]
  },
  {
   "cell_type": "code",
   "execution_count": 18,
   "metadata": {
    "pycharm": {
     "name": "#%%\n"
    }
   },
   "outputs": [
    {
     "data": {
      "text/html": [
       "<div>\n",
       "<style scoped>\n",
       "    .dataframe tbody tr th:only-of-type {\n",
       "        vertical-align: middle;\n",
       "    }\n",
       "\n",
       "    .dataframe tbody tr th {\n",
       "        vertical-align: top;\n",
       "    }\n",
       "\n",
       "    .dataframe thead th {\n",
       "        text-align: right;\n",
       "    }\n",
       "</style>\n",
       "<table border=\"1\" class=\"dataframe\">\n",
       "  <thead>\n",
       "    <tr style=\"text-align: right;\">\n",
       "      <th></th>\n",
       "      <th>Personal Income</th>\n",
       "      <th>Limit</th>\n",
       "      <th>Rating</th>\n",
       "      <th>Cards</th>\n",
       "      <th>Age</th>\n",
       "      <th>Education</th>\n",
       "      <th>Gender</th>\n",
       "      <th>Student</th>\n",
       "      <th>Married</th>\n",
       "      <th>Ethnicity</th>\n",
       "      <th>Balance</th>\n",
       "    </tr>\n",
       "  </thead>\n",
       "  <tbody>\n",
       "    <tr>\n",
       "      <th>5</th>\n",
       "      <td>59.530</td>\n",
       "      <td>NaN</td>\n",
       "      <td>543.0</td>\n",
       "      <td>33</td>\n",
       "      <td>52</td>\n",
       "      <td>9</td>\n",
       "      <td>Female</td>\n",
       "      <td>No</td>\n",
       "      <td>No</td>\n",
       "      <td>African American</td>\n",
       "      <td>1176</td>\n",
       "    </tr>\n",
       "    <tr>\n",
       "      <th>18</th>\n",
       "      <td>68.713</td>\n",
       "      <td>NaN</td>\n",
       "      <td>531.0</td>\n",
       "      <td>22</td>\n",
       "      <td>56</td>\n",
       "      <td>16</td>\n",
       "      <td>Male</td>\n",
       "      <td>Yes</td>\n",
       "      <td>No</td>\n",
       "      <td>Caucasian</td>\n",
       "      <td>1587</td>\n",
       "    </tr>\n",
       "    <tr>\n",
       "      <th>19</th>\n",
       "      <td>146.183</td>\n",
       "      <td>9540.0</td>\n",
       "      <td>682.0</td>\n",
       "      <td>6</td>\n",
       "      <td>66</td>\n",
       "      <td>15</td>\n",
       "      <td>Male</td>\n",
       "      <td>No</td>\n",
       "      <td>No</td>\n",
       "      <td>Caucasian</td>\n",
       "      <td>1050</td>\n",
       "    </tr>\n",
       "  </tbody>\n",
       "</table>\n",
       "</div>"
      ],
      "text/plain": [
       "    Personal Income   Limit  Rating  Cards  Age  Education  Gender Student  \\\n",
       "5            59.530     NaN   543.0     33   52          9  Female      No   \n",
       "18           68.713     NaN   531.0     22   56         16    Male     Yes   \n",
       "19          146.183  9540.0   682.0      6   66         15    Male      No   \n",
       "\n",
       "   Married         Ethnicity  Balance  \n",
       "5       No  African American     1176  \n",
       "18      No         Caucasian     1587  \n",
       "19      No         Caucasian     1050  "
      ]
     },
     "execution_count": 18,
     "metadata": {},
     "output_type": "execute_result"
    }
   ],
   "source": [
    "# display entries with cards greater than 5\n",
    "## Your codes begin here:\n",
    "\n",
    "customers[customers['Cards'] > 5]"
   ]
  },
  {
   "cell_type": "code",
   "execution_count": 19,
   "metadata": {
    "pycharm": {
     "name": "#%%\n"
    }
   },
   "outputs": [],
   "source": [
    "# Delete entries with outliers\n",
    "## Your codes begin here:\n",
    "\n",
    "customers = customers.drop([5, 18, 19])"
   ]
  },
  {
   "cell_type": "markdown",
   "metadata": {
    "pycharm": {
     "name": "#%% md\n"
    }
   },
   "source": [
    "#### Q7. Generate a random subset from the dataframe 'customers' which contains only 25% of the data and save it in a new dataframe named ('random_sample')? Then display the head of this new dataframe?"
   ]
  },
  {
   "cell_type": "code",
   "execution_count": 20,
   "metadata": {
    "pycharm": {
     "name": "#%%\n"
    }
   },
   "outputs": [
    {
     "data": {
      "text/html": [
       "<div>\n",
       "<style scoped>\n",
       "    .dataframe tbody tr th:only-of-type {\n",
       "        vertical-align: middle;\n",
       "    }\n",
       "\n",
       "    .dataframe tbody tr th {\n",
       "        vertical-align: top;\n",
       "    }\n",
       "\n",
       "    .dataframe thead th {\n",
       "        text-align: right;\n",
       "    }\n",
       "</style>\n",
       "<table border=\"1\" class=\"dataframe\">\n",
       "  <thead>\n",
       "    <tr style=\"text-align: right;\">\n",
       "      <th></th>\n",
       "      <th>Personal Income</th>\n",
       "      <th>Limit</th>\n",
       "      <th>Rating</th>\n",
       "      <th>Cards</th>\n",
       "      <th>Age</th>\n",
       "      <th>Education</th>\n",
       "      <th>Gender</th>\n",
       "      <th>Student</th>\n",
       "      <th>Married</th>\n",
       "      <th>Ethnicity</th>\n",
       "      <th>Balance</th>\n",
       "    </tr>\n",
       "  </thead>\n",
       "  <tbody>\n",
       "    <tr>\n",
       "      <th>16</th>\n",
       "      <td>21.153</td>\n",
       "      <td>3736.0</td>\n",
       "      <td>256.0</td>\n",
       "      <td>1</td>\n",
       "      <td>41</td>\n",
       "      <td>11</td>\n",
       "      <td>Male</td>\n",
       "      <td>No</td>\n",
       "      <td>No</td>\n",
       "      <td>Caucasian</td>\n",
       "      <td>298</td>\n",
       "    </tr>\n",
       "    <tr>\n",
       "      <th>22</th>\n",
       "      <td>16.819</td>\n",
       "      <td>1337.0</td>\n",
       "      <td>115.0</td>\n",
       "      <td>2</td>\n",
       "      <td>74</td>\n",
       "      <td>15</td>\n",
       "      <td>Male</td>\n",
       "      <td>No</td>\n",
       "      <td>Yes</td>\n",
       "      <td>Asian</td>\n",
       "      <td>0</td>\n",
       "    </tr>\n",
       "    <tr>\n",
       "      <th>4</th>\n",
       "      <td>15.560</td>\n",
       "      <td>4307.0</td>\n",
       "      <td>352.0</td>\n",
       "      <td>4</td>\n",
       "      <td>57</td>\n",
       "      <td>8</td>\n",
       "      <td>Male</td>\n",
       "      <td>No</td>\n",
       "      <td>Yes</td>\n",
       "      <td>African American</td>\n",
       "      <td>579</td>\n",
       "    </tr>\n",
       "    <tr>\n",
       "      <th>3</th>\n",
       "      <td>11.741</td>\n",
       "      <td>2271.0</td>\n",
       "      <td>NaN</td>\n",
       "      <td>4</td>\n",
       "      <td>59</td>\n",
       "      <td>12</td>\n",
       "      <td>Female</td>\n",
       "      <td>No</td>\n",
       "      <td>No</td>\n",
       "      <td>Asian</td>\n",
       "      <td>0</td>\n",
       "    </tr>\n",
       "    <tr>\n",
       "      <th>41</th>\n",
       "      <td>27.578</td>\n",
       "      <td>2531.0</td>\n",
       "      <td>195.0</td>\n",
       "      <td>1</td>\n",
       "      <td>34</td>\n",
       "      <td>15</td>\n",
       "      <td>Female</td>\n",
       "      <td>No</td>\n",
       "      <td>Yes</td>\n",
       "      <td>Caucasian</td>\n",
       "      <td>0</td>\n",
       "    </tr>\n",
       "  </tbody>\n",
       "</table>\n",
       "</div>"
      ],
      "text/plain": [
       "    Personal Income   Limit  Rating  Cards  Age  Education  Gender Student  \\\n",
       "16           21.153  3736.0   256.0      1   41         11    Male      No   \n",
       "22           16.819  1337.0   115.0      2   74         15    Male      No   \n",
       "4            15.560  4307.0   352.0      4   57          8    Male      No   \n",
       "3            11.741  2271.0     NaN      4   59         12  Female      No   \n",
       "41           27.578  2531.0   195.0      1   34         15  Female      No   \n",
       "\n",
       "   Married         Ethnicity  Balance  \n",
       "16      No         Caucasian      298  \n",
       "22     Yes             Asian        0  \n",
       "4      Yes  African American      579  \n",
       "3       No             Asian        0  \n",
       "41     Yes         Caucasian        0  "
      ]
     },
     "execution_count": 20,
     "metadata": {},
     "output_type": "execute_result"
    }
   ],
   "source": [
    "## Your codes begin here:\n",
    "\n",
    "randome_sample = customers.sample(frac = 0.25)\n",
    "randome_sample.head()"
   ]
  },
  {
   "cell_type": "markdown",
   "metadata": {
    "pycharm": {
     "name": "#%% md\n"
    }
   },
   "source": [
    "#### Q8. Reset the index for the dataframe 'random_sample' that was created in Q7? then display the head of the dataframe 'randome_sample'?"
   ]
  },
  {
   "cell_type": "code",
   "execution_count": 21,
   "metadata": {
    "pycharm": {
     "name": "#%%\n"
    }
   },
   "outputs": [
    {
     "data": {
      "text/html": [
       "<div>\n",
       "<style scoped>\n",
       "    .dataframe tbody tr th:only-of-type {\n",
       "        vertical-align: middle;\n",
       "    }\n",
       "\n",
       "    .dataframe tbody tr th {\n",
       "        vertical-align: top;\n",
       "    }\n",
       "\n",
       "    .dataframe thead th {\n",
       "        text-align: right;\n",
       "    }\n",
       "</style>\n",
       "<table border=\"1\" class=\"dataframe\">\n",
       "  <thead>\n",
       "    <tr style=\"text-align: right;\">\n",
       "      <th></th>\n",
       "      <th>Personal Income</th>\n",
       "      <th>Limit</th>\n",
       "      <th>Rating</th>\n",
       "      <th>Cards</th>\n",
       "      <th>Age</th>\n",
       "      <th>Education</th>\n",
       "      <th>Gender</th>\n",
       "      <th>Student</th>\n",
       "      <th>Married</th>\n",
       "      <th>Ethnicity</th>\n",
       "      <th>Balance</th>\n",
       "    </tr>\n",
       "  </thead>\n",
       "  <tbody>\n",
       "    <tr>\n",
       "      <th>0</th>\n",
       "      <td>21.153</td>\n",
       "      <td>3736.0</td>\n",
       "      <td>256.0</td>\n",
       "      <td>1</td>\n",
       "      <td>41</td>\n",
       "      <td>11</td>\n",
       "      <td>Male</td>\n",
       "      <td>No</td>\n",
       "      <td>No</td>\n",
       "      <td>Caucasian</td>\n",
       "      <td>298</td>\n",
       "    </tr>\n",
       "    <tr>\n",
       "      <th>1</th>\n",
       "      <td>16.819</td>\n",
       "      <td>1337.0</td>\n",
       "      <td>115.0</td>\n",
       "      <td>2</td>\n",
       "      <td>74</td>\n",
       "      <td>15</td>\n",
       "      <td>Male</td>\n",
       "      <td>No</td>\n",
       "      <td>Yes</td>\n",
       "      <td>Asian</td>\n",
       "      <td>0</td>\n",
       "    </tr>\n",
       "    <tr>\n",
       "      <th>2</th>\n",
       "      <td>15.560</td>\n",
       "      <td>4307.0</td>\n",
       "      <td>352.0</td>\n",
       "      <td>4</td>\n",
       "      <td>57</td>\n",
       "      <td>8</td>\n",
       "      <td>Male</td>\n",
       "      <td>No</td>\n",
       "      <td>Yes</td>\n",
       "      <td>African American</td>\n",
       "      <td>579</td>\n",
       "    </tr>\n",
       "    <tr>\n",
       "      <th>3</th>\n",
       "      <td>11.741</td>\n",
       "      <td>2271.0</td>\n",
       "      <td>NaN</td>\n",
       "      <td>4</td>\n",
       "      <td>59</td>\n",
       "      <td>12</td>\n",
       "      <td>Female</td>\n",
       "      <td>No</td>\n",
       "      <td>No</td>\n",
       "      <td>Asian</td>\n",
       "      <td>0</td>\n",
       "    </tr>\n",
       "    <tr>\n",
       "      <th>4</th>\n",
       "      <td>27.578</td>\n",
       "      <td>2531.0</td>\n",
       "      <td>195.0</td>\n",
       "      <td>1</td>\n",
       "      <td>34</td>\n",
       "      <td>15</td>\n",
       "      <td>Female</td>\n",
       "      <td>No</td>\n",
       "      <td>Yes</td>\n",
       "      <td>Caucasian</td>\n",
       "      <td>0</td>\n",
       "    </tr>\n",
       "  </tbody>\n",
       "</table>\n",
       "</div>"
      ],
      "text/plain": [
       "   Personal Income   Limit  Rating  Cards  Age  Education  Gender Student  \\\n",
       "0           21.153  3736.0   256.0      1   41         11    Male      No   \n",
       "1           16.819  1337.0   115.0      2   74         15    Male      No   \n",
       "2           15.560  4307.0   352.0      4   57          8    Male      No   \n",
       "3           11.741  2271.0     NaN      4   59         12  Female      No   \n",
       "4           27.578  2531.0   195.0      1   34         15  Female      No   \n",
       "\n",
       "  Married         Ethnicity  Balance  \n",
       "0      No         Caucasian      298  \n",
       "1     Yes             Asian        0  \n",
       "2     Yes  African American      579  \n",
       "3      No             Asian        0  \n",
       "4     Yes         Caucasian        0  "
      ]
     },
     "execution_count": 21,
     "metadata": {},
     "output_type": "execute_result"
    }
   ],
   "source": [
    "## Your codes begin here:\n",
    "\n",
    "randome_sample.reset_index(drop =True, inplace = True)\n",
    "randome_sample.head()"
   ]
  },
  {
   "cell_type": "markdown",
   "metadata": {
    "pycharm": {
     "name": "#%% md\n"
    }
   },
   "source": [
    "#### Q9. Create dummy variables from hte categorical variable ('Gender') and save them into a new dataframe named 'dummy'? Then add these dummy variables to the datafarme 'customers'?"
   ]
  },
  {
   "cell_type": "code",
   "execution_count": 22,
   "metadata": {
    "scrolled": false,
    "pycharm": {
     "name": "#%%\n"
    }
   },
   "outputs": [
    {
     "data": {
      "text/html": [
       "<div>\n",
       "<style scoped>\n",
       "    .dataframe tbody tr th:only-of-type {\n",
       "        vertical-align: middle;\n",
       "    }\n",
       "\n",
       "    .dataframe tbody tr th {\n",
       "        vertical-align: top;\n",
       "    }\n",
       "\n",
       "    .dataframe thead th {\n",
       "        text-align: right;\n",
       "    }\n",
       "</style>\n",
       "<table border=\"1\" class=\"dataframe\">\n",
       "  <thead>\n",
       "    <tr style=\"text-align: right;\">\n",
       "      <th></th>\n",
       "      <th>Personal Income</th>\n",
       "      <th>Limit</th>\n",
       "      <th>Rating</th>\n",
       "      <th>Cards</th>\n",
       "      <th>Age</th>\n",
       "      <th>Education</th>\n",
       "      <th>Gender</th>\n",
       "      <th>Student</th>\n",
       "      <th>Married</th>\n",
       "      <th>Ethnicity</th>\n",
       "      <th>Balance</th>\n",
       "      <th>Male</th>\n",
       "      <th>Female</th>\n",
       "    </tr>\n",
       "  </thead>\n",
       "  <tbody>\n",
       "    <tr>\n",
       "      <th>0</th>\n",
       "      <td>19.225</td>\n",
       "      <td>1433.0</td>\n",
       "      <td>NaN</td>\n",
       "      <td>3</td>\n",
       "      <td>38</td>\n",
       "      <td>14</td>\n",
       "      <td>Female</td>\n",
       "      <td>No</td>\n",
       "      <td>No</td>\n",
       "      <td>Caucasian</td>\n",
       "      <td>0</td>\n",
       "      <td>0</td>\n",
       "      <td>1</td>\n",
       "    </tr>\n",
       "    <tr>\n",
       "      <th>1</th>\n",
       "      <td>43.540</td>\n",
       "      <td>NaN</td>\n",
       "      <td>232.0</td>\n",
       "      <td>4</td>\n",
       "      <td>69</td>\n",
       "      <td>11</td>\n",
       "      <td>Male</td>\n",
       "      <td>No</td>\n",
       "      <td>No</td>\n",
       "      <td>Caucasian</td>\n",
       "      <td>0</td>\n",
       "      <td>1</td>\n",
       "      <td>0</td>\n",
       "    </tr>\n",
       "    <tr>\n",
       "      <th>2</th>\n",
       "      <td>55.367</td>\n",
       "      <td>6340.0</td>\n",
       "      <td>448.0</td>\n",
       "      <td>1</td>\n",
       "      <td>33</td>\n",
       "      <td>15</td>\n",
       "      <td>Male</td>\n",
       "      <td>No</td>\n",
       "      <td>Yes</td>\n",
       "      <td>Caucasian</td>\n",
       "      <td>815</td>\n",
       "      <td>1</td>\n",
       "      <td>0</td>\n",
       "    </tr>\n",
       "    <tr>\n",
       "      <th>3</th>\n",
       "      <td>11.741</td>\n",
       "      <td>2271.0</td>\n",
       "      <td>NaN</td>\n",
       "      <td>4</td>\n",
       "      <td>59</td>\n",
       "      <td>12</td>\n",
       "      <td>Female</td>\n",
       "      <td>No</td>\n",
       "      <td>No</td>\n",
       "      <td>Asian</td>\n",
       "      <td>0</td>\n",
       "      <td>0</td>\n",
       "      <td>1</td>\n",
       "    </tr>\n",
       "    <tr>\n",
       "      <th>4</th>\n",
       "      <td>15.560</td>\n",
       "      <td>4307.0</td>\n",
       "      <td>352.0</td>\n",
       "      <td>4</td>\n",
       "      <td>57</td>\n",
       "      <td>8</td>\n",
       "      <td>Male</td>\n",
       "      <td>No</td>\n",
       "      <td>Yes</td>\n",
       "      <td>African American</td>\n",
       "      <td>579</td>\n",
       "      <td>1</td>\n",
       "      <td>0</td>\n",
       "    </tr>\n",
       "    <tr>\n",
       "      <th>6</th>\n",
       "      <td>20.191</td>\n",
       "      <td>5767.0</td>\n",
       "      <td>431.0</td>\n",
       "      <td>4</td>\n",
       "      <td>42</td>\n",
       "      <td>16</td>\n",
       "      <td>Male</td>\n",
       "      <td>No</td>\n",
       "      <td>Yes</td>\n",
       "      <td>African American</td>\n",
       "      <td>1023</td>\n",
       "      <td>1</td>\n",
       "      <td>0</td>\n",
       "    </tr>\n",
       "    <tr>\n",
       "      <th>7</th>\n",
       "      <td>48.498</td>\n",
       "      <td>6040.0</td>\n",
       "      <td>456.0</td>\n",
       "      <td>3</td>\n",
       "      <td>47</td>\n",
       "      <td>16</td>\n",
       "      <td>Male</td>\n",
       "      <td>No</td>\n",
       "      <td>Yes</td>\n",
       "      <td>Caucasian</td>\n",
       "      <td>812</td>\n",
       "      <td>1</td>\n",
       "      <td>0</td>\n",
       "    </tr>\n",
       "    <tr>\n",
       "      <th>8</th>\n",
       "      <td>30.733</td>\n",
       "      <td>2832.0</td>\n",
       "      <td>249.0</td>\n",
       "      <td>4</td>\n",
       "      <td>51</td>\n",
       "      <td>13</td>\n",
       "      <td>Male</td>\n",
       "      <td>No</td>\n",
       "      <td>No</td>\n",
       "      <td>Caucasian</td>\n",
       "      <td>0</td>\n",
       "      <td>1</td>\n",
       "      <td>0</td>\n",
       "    </tr>\n",
       "    <tr>\n",
       "      <th>9</th>\n",
       "      <td>16.479</td>\n",
       "      <td>5435.0</td>\n",
       "      <td>388.0</td>\n",
       "      <td>2</td>\n",
       "      <td>26</td>\n",
       "      <td>16</td>\n",
       "      <td>Male</td>\n",
       "      <td>No</td>\n",
       "      <td>No</td>\n",
       "      <td>African American</td>\n",
       "      <td>937</td>\n",
       "      <td>1</td>\n",
       "      <td>0</td>\n",
       "    </tr>\n",
       "    <tr>\n",
       "      <th>10</th>\n",
       "      <td>38.009</td>\n",
       "      <td>3075.0</td>\n",
       "      <td>245.0</td>\n",
       "      <td>3</td>\n",
       "      <td>45</td>\n",
       "      <td>15</td>\n",
       "      <td>Female</td>\n",
       "      <td>No</td>\n",
       "      <td>No</td>\n",
       "      <td>African American</td>\n",
       "      <td>0</td>\n",
       "      <td>0</td>\n",
       "      <td>1</td>\n",
       "    </tr>\n",
       "    <tr>\n",
       "      <th>11</th>\n",
       "      <td>14.084</td>\n",
       "      <td>855.0</td>\n",
       "      <td>NaN</td>\n",
       "      <td>5</td>\n",
       "      <td>46</td>\n",
       "      <td>17</td>\n",
       "      <td>Female</td>\n",
       "      <td>No</td>\n",
       "      <td>Yes</td>\n",
       "      <td>African American</td>\n",
       "      <td>0</td>\n",
       "      <td>0</td>\n",
       "      <td>1</td>\n",
       "    </tr>\n",
       "    <tr>\n",
       "      <th>12</th>\n",
       "      <td>14.312</td>\n",
       "      <td>5382.0</td>\n",
       "      <td>367.0</td>\n",
       "      <td>1</td>\n",
       "      <td>59</td>\n",
       "      <td>17</td>\n",
       "      <td>Male</td>\n",
       "      <td>Yes</td>\n",
       "      <td>No</td>\n",
       "      <td>Asian</td>\n",
       "      <td>1380</td>\n",
       "      <td>1</td>\n",
       "      <td>0</td>\n",
       "    </tr>\n",
       "    <tr>\n",
       "      <th>13</th>\n",
       "      <td>26.067</td>\n",
       "      <td>3388.0</td>\n",
       "      <td>266.0</td>\n",
       "      <td>4</td>\n",
       "      <td>74</td>\n",
       "      <td>17</td>\n",
       "      <td>Female</td>\n",
       "      <td>No</td>\n",
       "      <td>Yes</td>\n",
       "      <td>African American</td>\n",
       "      <td>155</td>\n",
       "      <td>0</td>\n",
       "      <td>1</td>\n",
       "    </tr>\n",
       "    <tr>\n",
       "      <th>14</th>\n",
       "      <td>36.295</td>\n",
       "      <td>2963.0</td>\n",
       "      <td>241.0</td>\n",
       "      <td>2</td>\n",
       "      <td>68</td>\n",
       "      <td>14</td>\n",
       "      <td>Female</td>\n",
       "      <td>Yes</td>\n",
       "      <td>No</td>\n",
       "      <td>African American</td>\n",
       "      <td>375</td>\n",
       "      <td>0</td>\n",
       "      <td>1</td>\n",
       "    </tr>\n",
       "    <tr>\n",
       "      <th>15</th>\n",
       "      <td>83.851</td>\n",
       "      <td>8494.0</td>\n",
       "      <td>607.0</td>\n",
       "      <td>5</td>\n",
       "      <td>47</td>\n",
       "      <td>18</td>\n",
       "      <td>Male</td>\n",
       "      <td>No</td>\n",
       "      <td>No</td>\n",
       "      <td>Caucasian</td>\n",
       "      <td>1311</td>\n",
       "      <td>1</td>\n",
       "      <td>0</td>\n",
       "    </tr>\n",
       "    <tr>\n",
       "      <th>16</th>\n",
       "      <td>21.153</td>\n",
       "      <td>3736.0</td>\n",
       "      <td>256.0</td>\n",
       "      <td>1</td>\n",
       "      <td>41</td>\n",
       "      <td>11</td>\n",
       "      <td>Male</td>\n",
       "      <td>No</td>\n",
       "      <td>No</td>\n",
       "      <td>Caucasian</td>\n",
       "      <td>298</td>\n",
       "      <td>1</td>\n",
       "      <td>0</td>\n",
       "    </tr>\n",
       "    <tr>\n",
       "      <th>17</th>\n",
       "      <td>17.976</td>\n",
       "      <td>2433.0</td>\n",
       "      <td>190.0</td>\n",
       "      <td>3</td>\n",
       "      <td>70</td>\n",
       "      <td>16</td>\n",
       "      <td>Female</td>\n",
       "      <td>Yes</td>\n",
       "      <td>No</td>\n",
       "      <td>Caucasian</td>\n",
       "      <td>431</td>\n",
       "      <td>0</td>\n",
       "      <td>1</td>\n",
       "    </tr>\n",
       "    <tr>\n",
       "      <th>20</th>\n",
       "      <td>15.846</td>\n",
       "      <td>4768.0</td>\n",
       "      <td>365.0</td>\n",
       "      <td>4</td>\n",
       "      <td>53</td>\n",
       "      <td>12</td>\n",
       "      <td>Female</td>\n",
       "      <td>No</td>\n",
       "      <td>No</td>\n",
       "      <td>Caucasian</td>\n",
       "      <td>745</td>\n",
       "      <td>0</td>\n",
       "      <td>1</td>\n",
       "    </tr>\n",
       "    <tr>\n",
       "      <th>21</th>\n",
       "      <td>12.031</td>\n",
       "      <td>3182.0</td>\n",
       "      <td>259.0</td>\n",
       "      <td>2</td>\n",
       "      <td>58</td>\n",
       "      <td>18</td>\n",
       "      <td>Female</td>\n",
       "      <td>No</td>\n",
       "      <td>Yes</td>\n",
       "      <td>African American</td>\n",
       "      <td>210</td>\n",
       "      <td>0</td>\n",
       "      <td>1</td>\n",
       "    </tr>\n",
       "    <tr>\n",
       "      <th>22</th>\n",
       "      <td>16.819</td>\n",
       "      <td>1337.0</td>\n",
       "      <td>115.0</td>\n",
       "      <td>2</td>\n",
       "      <td>74</td>\n",
       "      <td>15</td>\n",
       "      <td>Male</td>\n",
       "      <td>No</td>\n",
       "      <td>Yes</td>\n",
       "      <td>Asian</td>\n",
       "      <td>0</td>\n",
       "      <td>1</td>\n",
       "      <td>0</td>\n",
       "    </tr>\n",
       "    <tr>\n",
       "      <th>23</th>\n",
       "      <td>39.110</td>\n",
       "      <td>3189.0</td>\n",
       "      <td>263.0</td>\n",
       "      <td>3</td>\n",
       "      <td>72</td>\n",
       "      <td>12</td>\n",
       "      <td>Male</td>\n",
       "      <td>No</td>\n",
       "      <td>No</td>\n",
       "      <td>Asian</td>\n",
       "      <td>0</td>\n",
       "      <td>1</td>\n",
       "      <td>0</td>\n",
       "    </tr>\n",
       "    <tr>\n",
       "      <th>24</th>\n",
       "      <td>107.986</td>\n",
       "      <td>6033.0</td>\n",
       "      <td>449.0</td>\n",
       "      <td>4</td>\n",
       "      <td>64</td>\n",
       "      <td>14</td>\n",
       "      <td>Male</td>\n",
       "      <td>No</td>\n",
       "      <td>Yes</td>\n",
       "      <td>Caucasian</td>\n",
       "      <td>227</td>\n",
       "      <td>1</td>\n",
       "      <td>0</td>\n",
       "    </tr>\n",
       "    <tr>\n",
       "      <th>25</th>\n",
       "      <td>13.561</td>\n",
       "      <td>3261.0</td>\n",
       "      <td>279.0</td>\n",
       "      <td>5</td>\n",
       "      <td>37</td>\n",
       "      <td>19</td>\n",
       "      <td>Male</td>\n",
       "      <td>No</td>\n",
       "      <td>Yes</td>\n",
       "      <td>Asian</td>\n",
       "      <td>297</td>\n",
       "      <td>1</td>\n",
       "      <td>0</td>\n",
       "    </tr>\n",
       "    <tr>\n",
       "      <th>26</th>\n",
       "      <td>34.537</td>\n",
       "      <td>3271.0</td>\n",
       "      <td>250.0</td>\n",
       "      <td>3</td>\n",
       "      <td>57</td>\n",
       "      <td>17</td>\n",
       "      <td>Female</td>\n",
       "      <td>No</td>\n",
       "      <td>Yes</td>\n",
       "      <td>Asian</td>\n",
       "      <td>47</td>\n",
       "      <td>0</td>\n",
       "      <td>1</td>\n",
       "    </tr>\n",
       "    <tr>\n",
       "      <th>27</th>\n",
       "      <td>28.575</td>\n",
       "      <td>2959.0</td>\n",
       "      <td>NaN</td>\n",
       "      <td>2</td>\n",
       "      <td>60</td>\n",
       "      <td>11</td>\n",
       "      <td>Female</td>\n",
       "      <td>No</td>\n",
       "      <td>No</td>\n",
       "      <td>African American</td>\n",
       "      <td>0</td>\n",
       "      <td>0</td>\n",
       "      <td>1</td>\n",
       "    </tr>\n",
       "    <tr>\n",
       "      <th>28</th>\n",
       "      <td>46.007</td>\n",
       "      <td>NaN</td>\n",
       "      <td>491.0</td>\n",
       "      <td>4</td>\n",
       "      <td>42</td>\n",
       "      <td>14</td>\n",
       "      <td>Male</td>\n",
       "      <td>No</td>\n",
       "      <td>Yes</td>\n",
       "      <td>Caucasian</td>\n",
       "      <td>1046</td>\n",
       "      <td>1</td>\n",
       "      <td>0</td>\n",
       "    </tr>\n",
       "    <tr>\n",
       "      <th>29</th>\n",
       "      <td>69.251</td>\n",
       "      <td>6386.0</td>\n",
       "      <td>474.0</td>\n",
       "      <td>4</td>\n",
       "      <td>30</td>\n",
       "      <td>12</td>\n",
       "      <td>Female</td>\n",
       "      <td>No</td>\n",
       "      <td>Yes</td>\n",
       "      <td>Asian</td>\n",
       "      <td>768</td>\n",
       "      <td>0</td>\n",
       "      <td>1</td>\n",
       "    </tr>\n",
       "    <tr>\n",
       "      <th>30</th>\n",
       "      <td>16.482</td>\n",
       "      <td>3326.0</td>\n",
       "      <td>268.0</td>\n",
       "      <td>4</td>\n",
       "      <td>41</td>\n",
       "      <td>15</td>\n",
       "      <td>Male</td>\n",
       "      <td>No</td>\n",
       "      <td>No</td>\n",
       "      <td>Caucasian</td>\n",
       "      <td>271</td>\n",
       "      <td>1</td>\n",
       "      <td>0</td>\n",
       "    </tr>\n",
       "    <tr>\n",
       "      <th>31</th>\n",
       "      <td>40.442</td>\n",
       "      <td>4828.0</td>\n",
       "      <td>369.0</td>\n",
       "      <td>5</td>\n",
       "      <td>81</td>\n",
       "      <td>8</td>\n",
       "      <td>Female</td>\n",
       "      <td>No</td>\n",
       "      <td>No</td>\n",
       "      <td>African American</td>\n",
       "      <td>510</td>\n",
       "      <td>0</td>\n",
       "      <td>1</td>\n",
       "    </tr>\n",
       "    <tr>\n",
       "      <th>32</th>\n",
       "      <td>35.177</td>\n",
       "      <td>2117.0</td>\n",
       "      <td>186.0</td>\n",
       "      <td>3</td>\n",
       "      <td>62</td>\n",
       "      <td>16</td>\n",
       "      <td>Female</td>\n",
       "      <td>No</td>\n",
       "      <td>No</td>\n",
       "      <td>Caucasian</td>\n",
       "      <td>0</td>\n",
       "      <td>0</td>\n",
       "      <td>1</td>\n",
       "    </tr>\n",
       "    <tr>\n",
       "      <th>33</th>\n",
       "      <td>91.362</td>\n",
       "      <td>9113.0</td>\n",
       "      <td>626.0</td>\n",
       "      <td>1</td>\n",
       "      <td>47</td>\n",
       "      <td>17</td>\n",
       "      <td>Male</td>\n",
       "      <td>No</td>\n",
       "      <td>Yes</td>\n",
       "      <td>Asian</td>\n",
       "      <td>1341</td>\n",
       "      <td>1</td>\n",
       "      <td>0</td>\n",
       "    </tr>\n",
       "    <tr>\n",
       "      <th>34</th>\n",
       "      <td>27.039</td>\n",
       "      <td>2161.0</td>\n",
       "      <td>173.0</td>\n",
       "      <td>3</td>\n",
       "      <td>40</td>\n",
       "      <td>17</td>\n",
       "      <td>Female</td>\n",
       "      <td>No</td>\n",
       "      <td>No</td>\n",
       "      <td>Caucasian</td>\n",
       "      <td>0</td>\n",
       "      <td>0</td>\n",
       "      <td>1</td>\n",
       "    </tr>\n",
       "    <tr>\n",
       "      <th>35</th>\n",
       "      <td>23.012</td>\n",
       "      <td>1410.0</td>\n",
       "      <td>137.0</td>\n",
       "      <td>3</td>\n",
       "      <td>81</td>\n",
       "      <td>16</td>\n",
       "      <td>Male</td>\n",
       "      <td>No</td>\n",
       "      <td>No</td>\n",
       "      <td>Caucasian</td>\n",
       "      <td>0</td>\n",
       "      <td>1</td>\n",
       "      <td>0</td>\n",
       "    </tr>\n",
       "    <tr>\n",
       "      <th>36</th>\n",
       "      <td>27.241</td>\n",
       "      <td>1402.0</td>\n",
       "      <td>128.0</td>\n",
       "      <td>2</td>\n",
       "      <td>67</td>\n",
       "      <td>15</td>\n",
       "      <td>Female</td>\n",
       "      <td>No</td>\n",
       "      <td>Yes</td>\n",
       "      <td>Asian</td>\n",
       "      <td>0</td>\n",
       "      <td>0</td>\n",
       "      <td>1</td>\n",
       "    </tr>\n",
       "    <tr>\n",
       "      <th>37</th>\n",
       "      <td>148.080</td>\n",
       "      <td>8157.0</td>\n",
       "      <td>599.0</td>\n",
       "      <td>2</td>\n",
       "      <td>83</td>\n",
       "      <td>13</td>\n",
       "      <td>Male</td>\n",
       "      <td>No</td>\n",
       "      <td>Yes</td>\n",
       "      <td>Caucasian</td>\n",
       "      <td>454</td>\n",
       "      <td>1</td>\n",
       "      <td>0</td>\n",
       "    </tr>\n",
       "    <tr>\n",
       "      <th>38</th>\n",
       "      <td>62.602</td>\n",
       "      <td>7056.0</td>\n",
       "      <td>481.0</td>\n",
       "      <td>1</td>\n",
       "      <td>84</td>\n",
       "      <td>11</td>\n",
       "      <td>Female</td>\n",
       "      <td>No</td>\n",
       "      <td>No</td>\n",
       "      <td>Caucasian</td>\n",
       "      <td>904</td>\n",
       "      <td>0</td>\n",
       "      <td>1</td>\n",
       "    </tr>\n",
       "    <tr>\n",
       "      <th>39</th>\n",
       "      <td>11.808</td>\n",
       "      <td>1300.0</td>\n",
       "      <td>NaN</td>\n",
       "      <td>3</td>\n",
       "      <td>77</td>\n",
       "      <td>14</td>\n",
       "      <td>Female</td>\n",
       "      <td>No</td>\n",
       "      <td>No</td>\n",
       "      <td>African American</td>\n",
       "      <td>0</td>\n",
       "      <td>0</td>\n",
       "      <td>1</td>\n",
       "    </tr>\n",
       "    <tr>\n",
       "      <th>40</th>\n",
       "      <td>29.564</td>\n",
       "      <td>2529.0</td>\n",
       "      <td>192.0</td>\n",
       "      <td>1</td>\n",
       "      <td>30</td>\n",
       "      <td>12</td>\n",
       "      <td>Female</td>\n",
       "      <td>No</td>\n",
       "      <td>Yes</td>\n",
       "      <td>Caucasian</td>\n",
       "      <td>0</td>\n",
       "      <td>0</td>\n",
       "      <td>1</td>\n",
       "    </tr>\n",
       "    <tr>\n",
       "      <th>41</th>\n",
       "      <td>27.578</td>\n",
       "      <td>2531.0</td>\n",
       "      <td>195.0</td>\n",
       "      <td>1</td>\n",
       "      <td>34</td>\n",
       "      <td>15</td>\n",
       "      <td>Female</td>\n",
       "      <td>No</td>\n",
       "      <td>Yes</td>\n",
       "      <td>Caucasian</td>\n",
       "      <td>0</td>\n",
       "      <td>0</td>\n",
       "      <td>1</td>\n",
       "    </tr>\n",
       "    <tr>\n",
       "      <th>42</th>\n",
       "      <td>26.427</td>\n",
       "      <td>5533.0</td>\n",
       "      <td>433.0</td>\n",
       "      <td>5</td>\n",
       "      <td>50</td>\n",
       "      <td>15</td>\n",
       "      <td>Female</td>\n",
       "      <td>Yes</td>\n",
       "      <td>Yes</td>\n",
       "      <td>Asian</td>\n",
       "      <td>1404</td>\n",
       "      <td>0</td>\n",
       "      <td>1</td>\n",
       "    </tr>\n",
       "    <tr>\n",
       "      <th>43</th>\n",
       "      <td>57.202</td>\n",
       "      <td>3411.0</td>\n",
       "      <td>259.0</td>\n",
       "      <td>3</td>\n",
       "      <td>72</td>\n",
       "      <td>11</td>\n",
       "      <td>Female</td>\n",
       "      <td>No</td>\n",
       "      <td>No</td>\n",
       "      <td>Caucasian</td>\n",
       "      <td>0</td>\n",
       "      <td>0</td>\n",
       "      <td>1</td>\n",
       "    </tr>\n",
       "    <tr>\n",
       "      <th>44</th>\n",
       "      <td>123.299</td>\n",
       "      <td>8376.0</td>\n",
       "      <td>610.0</td>\n",
       "      <td>2</td>\n",
       "      <td>89</td>\n",
       "      <td>17</td>\n",
       "      <td>Male</td>\n",
       "      <td>Yes</td>\n",
       "      <td>No</td>\n",
       "      <td>African American</td>\n",
       "      <td>1259</td>\n",
       "      <td>1</td>\n",
       "      <td>0</td>\n",
       "    </tr>\n",
       "    <tr>\n",
       "      <th>45</th>\n",
       "      <td>18.145</td>\n",
       "      <td>3461.0</td>\n",
       "      <td>279.0</td>\n",
       "      <td>3</td>\n",
       "      <td>56</td>\n",
       "      <td>15</td>\n",
       "      <td>Male</td>\n",
       "      <td>No</td>\n",
       "      <td>Yes</td>\n",
       "      <td>African American</td>\n",
       "      <td>255</td>\n",
       "      <td>1</td>\n",
       "      <td>0</td>\n",
       "    </tr>\n",
       "    <tr>\n",
       "      <th>46</th>\n",
       "      <td>23.793</td>\n",
       "      <td>3821.0</td>\n",
       "      <td>281.0</td>\n",
       "      <td>4</td>\n",
       "      <td>56</td>\n",
       "      <td>12</td>\n",
       "      <td>Female</td>\n",
       "      <td>Yes</td>\n",
       "      <td>Yes</td>\n",
       "      <td>African American</td>\n",
       "      <td>868</td>\n",
       "      <td>0</td>\n",
       "      <td>1</td>\n",
       "    </tr>\n",
       "    <tr>\n",
       "      <th>47</th>\n",
       "      <td>10.726</td>\n",
       "      <td>1568.0</td>\n",
       "      <td>162.0</td>\n",
       "      <td>5</td>\n",
       "      <td>46</td>\n",
       "      <td>19</td>\n",
       "      <td>Male</td>\n",
       "      <td>No</td>\n",
       "      <td>Yes</td>\n",
       "      <td>Asian</td>\n",
       "      <td>0</td>\n",
       "      <td>1</td>\n",
       "      <td>0</td>\n",
       "    </tr>\n",
       "    <tr>\n",
       "      <th>48</th>\n",
       "      <td>23.283</td>\n",
       "      <td>5443.0</td>\n",
       "      <td>407.0</td>\n",
       "      <td>4</td>\n",
       "      <td>49</td>\n",
       "      <td>13</td>\n",
       "      <td>Male</td>\n",
       "      <td>No</td>\n",
       "      <td>Yes</td>\n",
       "      <td>African American</td>\n",
       "      <td>912</td>\n",
       "      <td>1</td>\n",
       "      <td>0</td>\n",
       "    </tr>\n",
       "  </tbody>\n",
       "</table>\n",
       "</div>"
      ],
      "text/plain": [
       "    Personal Income   Limit  Rating  Cards  Age  Education  Gender Student  \\\n",
       "0            19.225  1433.0     NaN      3   38         14  Female      No   \n",
       "1            43.540     NaN   232.0      4   69         11    Male      No   \n",
       "2            55.367  6340.0   448.0      1   33         15    Male      No   \n",
       "3            11.741  2271.0     NaN      4   59         12  Female      No   \n",
       "4            15.560  4307.0   352.0      4   57          8    Male      No   \n",
       "6            20.191  5767.0   431.0      4   42         16    Male      No   \n",
       "7            48.498  6040.0   456.0      3   47         16    Male      No   \n",
       "8            30.733  2832.0   249.0      4   51         13    Male      No   \n",
       "9            16.479  5435.0   388.0      2   26         16    Male      No   \n",
       "10           38.009  3075.0   245.0      3   45         15  Female      No   \n",
       "11           14.084   855.0     NaN      5   46         17  Female      No   \n",
       "12           14.312  5382.0   367.0      1   59         17    Male     Yes   \n",
       "13           26.067  3388.0   266.0      4   74         17  Female      No   \n",
       "14           36.295  2963.0   241.0      2   68         14  Female     Yes   \n",
       "15           83.851  8494.0   607.0      5   47         18    Male      No   \n",
       "16           21.153  3736.0   256.0      1   41         11    Male      No   \n",
       "17           17.976  2433.0   190.0      3   70         16  Female     Yes   \n",
       "20           15.846  4768.0   365.0      4   53         12  Female      No   \n",
       "21           12.031  3182.0   259.0      2   58         18  Female      No   \n",
       "22           16.819  1337.0   115.0      2   74         15    Male      No   \n",
       "23           39.110  3189.0   263.0      3   72         12    Male      No   \n",
       "24          107.986  6033.0   449.0      4   64         14    Male      No   \n",
       "25           13.561  3261.0   279.0      5   37         19    Male      No   \n",
       "26           34.537  3271.0   250.0      3   57         17  Female      No   \n",
       "27           28.575  2959.0     NaN      2   60         11  Female      No   \n",
       "28           46.007     NaN   491.0      4   42         14    Male      No   \n",
       "29           69.251  6386.0   474.0      4   30         12  Female      No   \n",
       "30           16.482  3326.0   268.0      4   41         15    Male      No   \n",
       "31           40.442  4828.0   369.0      5   81          8  Female      No   \n",
       "32           35.177  2117.0   186.0      3   62         16  Female      No   \n",
       "33           91.362  9113.0   626.0      1   47         17    Male      No   \n",
       "34           27.039  2161.0   173.0      3   40         17  Female      No   \n",
       "35           23.012  1410.0   137.0      3   81         16    Male      No   \n",
       "36           27.241  1402.0   128.0      2   67         15  Female      No   \n",
       "37          148.080  8157.0   599.0      2   83         13    Male      No   \n",
       "38           62.602  7056.0   481.0      1   84         11  Female      No   \n",
       "39           11.808  1300.0     NaN      3   77         14  Female      No   \n",
       "40           29.564  2529.0   192.0      1   30         12  Female      No   \n",
       "41           27.578  2531.0   195.0      1   34         15  Female      No   \n",
       "42           26.427  5533.0   433.0      5   50         15  Female     Yes   \n",
       "43           57.202  3411.0   259.0      3   72         11  Female      No   \n",
       "44          123.299  8376.0   610.0      2   89         17    Male     Yes   \n",
       "45           18.145  3461.0   279.0      3   56         15    Male      No   \n",
       "46           23.793  3821.0   281.0      4   56         12  Female     Yes   \n",
       "47           10.726  1568.0   162.0      5   46         19    Male      No   \n",
       "48           23.283  5443.0   407.0      4   49         13    Male      No   \n",
       "\n",
       "   Married         Ethnicity  Balance   Male  Female  \n",
       "0       No         Caucasian        0      0       1  \n",
       "1       No         Caucasian        0      1       0  \n",
       "2      Yes         Caucasian      815      1       0  \n",
       "3       No             Asian        0      0       1  \n",
       "4      Yes  African American      579      1       0  \n",
       "6      Yes  African American     1023      1       0  \n",
       "7      Yes         Caucasian      812      1       0  \n",
       "8       No         Caucasian        0      1       0  \n",
       "9       No  African American      937      1       0  \n",
       "10      No  African American        0      0       1  \n",
       "11     Yes  African American        0      0       1  \n",
       "12      No             Asian     1380      1       0  \n",
       "13     Yes  African American      155      0       1  \n",
       "14      No  African American      375      0       1  \n",
       "15      No         Caucasian     1311      1       0  \n",
       "16      No         Caucasian      298      1       0  \n",
       "17      No         Caucasian      431      0       1  \n",
       "20      No         Caucasian      745      0       1  \n",
       "21     Yes  African American      210      0       1  \n",
       "22     Yes             Asian        0      1       0  \n",
       "23      No             Asian        0      1       0  \n",
       "24     Yes         Caucasian      227      1       0  \n",
       "25     Yes             Asian      297      1       0  \n",
       "26     Yes             Asian       47      0       1  \n",
       "27      No  African American        0      0       1  \n",
       "28     Yes         Caucasian     1046      1       0  \n",
       "29     Yes             Asian      768      0       1  \n",
       "30      No         Caucasian      271      1       0  \n",
       "31      No  African American      510      0       1  \n",
       "32      No         Caucasian        0      0       1  \n",
       "33     Yes             Asian     1341      1       0  \n",
       "34      No         Caucasian        0      0       1  \n",
       "35      No         Caucasian        0      1       0  \n",
       "36     Yes             Asian        0      0       1  \n",
       "37     Yes         Caucasian      454      1       0  \n",
       "38      No         Caucasian      904      0       1  \n",
       "39      No  African American        0      0       1  \n",
       "40     Yes         Caucasian        0      0       1  \n",
       "41     Yes         Caucasian        0      0       1  \n",
       "42     Yes             Asian     1404      0       1  \n",
       "43      No         Caucasian        0      0       1  \n",
       "44      No  African American     1259      1       0  \n",
       "45     Yes  African American      255      1       0  \n",
       "46     Yes  African American      868      0       1  \n",
       "47     Yes             Asian        0      1       0  \n",
       "48     Yes  African American      912      1       0  "
      ]
     },
     "execution_count": 22,
     "metadata": {},
     "output_type": "execute_result"
    }
   ],
   "source": [
    "## Your codes begin here:\n",
    "\n",
    "dummy = pd.get_dummies(customers['Gender'])\n",
    "customers.join(dummy)"
   ]
  },
  {
   "cell_type": "markdown",
   "metadata": {
    "pycharm": {
     "name": "#%% md\n"
    }
   },
   "source": [
    "***\n",
    "\n",
    "<h1 align=\"center\">Thank You</h1> \n",
    "\n",
    "***"
   ]
  }
 ],
 "metadata": {
  "kernelspec": {
   "display_name": "Python 3",
   "language": "python",
   "name": "python3"
  },
  "language_info": {
   "codemirror_mode": {
    "name": "ipython",
    "version": 3
   },
   "file_extension": ".py",
   "mimetype": "text/x-python",
   "name": "python",
   "nbconvert_exporter": "python",
   "pygments_lexer": "ipython3",
   "version": "3.8.5"
  }
 },
 "nbformat": 4,
 "nbformat_minor": 4
}