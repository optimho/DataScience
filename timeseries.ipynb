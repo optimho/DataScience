{
 "cells": [
  {
   "cell_type": "code",
   "execution_count": 1,
   "outputs": [],
   "source": [
    "from datetime import datetime\n",
    "import pandas as pd"
   ],
   "metadata": {
    "collapsed": false,
    "pycharm": {
     "name": "#%%\n"
    }
   }
  },
  {
   "cell_type": "code",
   "execution_count": 3,
   "outputs": [],
   "source": [
    "df = pd.read_csv('data/ex15.csv')"
   ],
   "metadata": {
    "collapsed": false,
    "pycharm": {
     "name": "#%%\n"
    }
   }
  },
  {
   "cell_type": "code",
   "execution_count": 4,
   "outputs": [
    {
     "data": {
      "text/plain": "date       object\ngoogle    float64\napple     float64\ndtype: object"
     },
     "execution_count": 4,
     "metadata": {},
     "output_type": "execute_result"
    }
   ],
   "source": [
    "df.dtypes"
   ],
   "metadata": {
    "collapsed": false,
    "pycharm": {
     "name": "#%%\n"
    }
   }
  },
  {
   "cell_type": "code",
   "execution_count": 5,
   "outputs": [
    {
     "data": {
      "text/plain": "date      16\ngoogle    16\napple     16\ndtype: int64"
     },
     "execution_count": 5,
     "metadata": {},
     "output_type": "execute_result"
    }
   ],
   "source": [
    "df.count()"
   ],
   "metadata": {
    "collapsed": false,
    "pycharm": {
     "name": "#%%\n"
    }
   }
  },
  {
   "cell_type": "code",
   "execution_count": 8,
   "outputs": [],
   "source": [
    "df['date']=pd.to_datetime(df['date'])"
   ],
   "metadata": {
    "collapsed": false,
    "pycharm": {
     "name": "#%%\n"
    }
   }
  },
  {
   "cell_type": "code",
   "execution_count": 9,
   "outputs": [
    {
     "data": {
      "text/plain": "date      datetime64[ns]\ngoogle           float64\napple            float64\ndtype: object"
     },
     "execution_count": 9,
     "metadata": {},
     "output_type": "execute_result"
    }
   ],
   "source": [
    "df.dtypes"
   ],
   "metadata": {
    "collapsed": false,
    "pycharm": {
     "name": "#%%\n"
    }
   }
  },
  {
   "cell_type": "code",
   "execution_count": 10,
   "outputs": [
    {
     "data": {
      "text/plain": "        date   google   apple\n0 2019-04-30  2410.12  131.24\n1 2019-05-29  2429.89  133.25\n2 2019-06-28  2379.91  133.35\n3 2019-07-27  2307.12  134.16\n4 2020-04-26  2326.74  134.49",
      "text/html": "<div>\n<style scoped>\n    .dataframe tbody tr th:only-of-type {\n        vertical-align: middle;\n    }\n\n    .dataframe tbody tr th {\n        vertical-align: top;\n    }\n\n    .dataframe thead th {\n        text-align: right;\n    }\n</style>\n<table border=\"1\" class=\"dataframe\">\n  <thead>\n    <tr style=\"text-align: right;\">\n      <th></th>\n      <th>date</th>\n      <th>google</th>\n      <th>apple</th>\n    </tr>\n  </thead>\n  <tbody>\n    <tr>\n      <th>0</th>\n      <td>2019-04-30</td>\n      <td>2410.12</td>\n      <td>131.24</td>\n    </tr>\n    <tr>\n      <th>1</th>\n      <td>2019-05-29</td>\n      <td>2429.89</td>\n      <td>133.25</td>\n    </tr>\n    <tr>\n      <th>2</th>\n      <td>2019-06-28</td>\n      <td>2379.91</td>\n      <td>133.35</td>\n    </tr>\n    <tr>\n      <th>3</th>\n      <td>2019-07-27</td>\n      <td>2307.12</td>\n      <td>134.16</td>\n    </tr>\n    <tr>\n      <th>4</th>\n      <td>2020-04-26</td>\n      <td>2326.74</td>\n      <td>134.49</td>\n    </tr>\n  </tbody>\n</table>\n</div>"
     },
     "execution_count": 10,
     "metadata": {},
     "output_type": "execute_result"
    }
   ],
   "source": [
    "df.head()"
   ],
   "metadata": {
    "collapsed": false,
    "pycharm": {
     "name": "#%%\n"
    }
   }
  },
  {
   "cell_type": "code",
   "execution_count": 11,
   "outputs": [
    {
     "data": {
      "text/plain": "             google   apple\ndate                       \n2019-04-30  2410.12  131.24\n2019-05-29  2429.89  133.25\n2019-06-28  2379.91  133.35\n2019-07-27  2307.12  134.16\n2020-04-26  2326.74  134.49\n2020-05-23  2315.30  134.09\n2020-06-24  2267.92  131.72\n2020-07-20  2293.29  133.27\n2021-04-20  2293.63  132.88\n2021-05-30  2410.12  131.24\n2021-06-29  2429.89  133.25\n2021-07-28  2379.91  133.35\n2021-04-27  2307.12  134.16\n2022-05-26  2326.74  134.49\n2022-06-23  2315.30  134.09\n2022-07-22  2267.92  131.72",
      "text/html": "<div>\n<style scoped>\n    .dataframe tbody tr th:only-of-type {\n        vertical-align: middle;\n    }\n\n    .dataframe tbody tr th {\n        vertical-align: top;\n    }\n\n    .dataframe thead th {\n        text-align: right;\n    }\n</style>\n<table border=\"1\" class=\"dataframe\">\n  <thead>\n    <tr style=\"text-align: right;\">\n      <th></th>\n      <th>google</th>\n      <th>apple</th>\n    </tr>\n    <tr>\n      <th>date</th>\n      <th></th>\n      <th></th>\n    </tr>\n  </thead>\n  <tbody>\n    <tr>\n      <th>2019-04-30</th>\n      <td>2410.12</td>\n      <td>131.24</td>\n    </tr>\n    <tr>\n      <th>2019-05-29</th>\n      <td>2429.89</td>\n      <td>133.25</td>\n    </tr>\n    <tr>\n      <th>2019-06-28</th>\n      <td>2379.91</td>\n      <td>133.35</td>\n    </tr>\n    <tr>\n      <th>2019-07-27</th>\n      <td>2307.12</td>\n      <td>134.16</td>\n    </tr>\n    <tr>\n      <th>2020-04-26</th>\n      <td>2326.74</td>\n      <td>134.49</td>\n    </tr>\n    <tr>\n      <th>2020-05-23</th>\n      <td>2315.30</td>\n      <td>134.09</td>\n    </tr>\n    <tr>\n      <th>2020-06-24</th>\n      <td>2267.92</td>\n      <td>131.72</td>\n    </tr>\n    <tr>\n      <th>2020-07-20</th>\n      <td>2293.29</td>\n      <td>133.27</td>\n    </tr>\n    <tr>\n      <th>2021-04-20</th>\n      <td>2293.63</td>\n      <td>132.88</td>\n    </tr>\n    <tr>\n      <th>2021-05-30</th>\n      <td>2410.12</td>\n      <td>131.24</td>\n    </tr>\n    <tr>\n      <th>2021-06-29</th>\n      <td>2429.89</td>\n      <td>133.25</td>\n    </tr>\n    <tr>\n      <th>2021-07-28</th>\n      <td>2379.91</td>\n      <td>133.35</td>\n    </tr>\n    <tr>\n      <th>2021-04-27</th>\n      <td>2307.12</td>\n      <td>134.16</td>\n    </tr>\n    <tr>\n      <th>2022-05-26</th>\n      <td>2326.74</td>\n      <td>134.49</td>\n    </tr>\n    <tr>\n      <th>2022-06-23</th>\n      <td>2315.30</td>\n      <td>134.09</td>\n    </tr>\n    <tr>\n      <th>2022-07-22</th>\n      <td>2267.92</td>\n      <td>131.72</td>\n    </tr>\n  </tbody>\n</table>\n</div>"
     },
     "execution_count": 11,
     "metadata": {},
     "output_type": "execute_result"
    }
   ],
   "source": [
    "df.set_index('date')"
   ],
   "metadata": {
    "collapsed": false,
    "pycharm": {
     "name": "#%%\n"
    }
   }
  },
  {
   "cell_type": "code",
   "execution_count": 13,
   "outputs": [],
   "source": [
    "df = pd.read_csv('data/ex15.csv',parse_dates=['date'], index_col='date')"
   ],
   "metadata": {
    "collapsed": false,
    "pycharm": {
     "name": "#%%\n"
    }
   }
  },
  {
   "cell_type": "code",
   "execution_count": 14,
   "outputs": [
    {
     "data": {
      "text/plain": "             google   apple\ndate                       \n2019-04-30  2410.12  131.24\n2019-05-29  2429.89  133.25\n2019-06-28  2379.91  133.35\n2019-07-27  2307.12  134.16\n2020-04-26  2326.74  134.49\n2020-05-23  2315.30  134.09\n2020-06-24  2267.92  131.72\n2020-07-20  2293.29  133.27\n2021-04-20  2293.63  132.88\n2021-05-30  2410.12  131.24\n2021-06-29  2429.89  133.25\n2021-07-28  2379.91  133.35\n2021-04-27  2307.12  134.16\n2022-05-26  2326.74  134.49\n2022-06-23  2315.30  134.09\n2022-07-22  2267.92  131.72",
      "text/html": "<div>\n<style scoped>\n    .dataframe tbody tr th:only-of-type {\n        vertical-align: middle;\n    }\n\n    .dataframe tbody tr th {\n        vertical-align: top;\n    }\n\n    .dataframe thead th {\n        text-align: right;\n    }\n</style>\n<table border=\"1\" class=\"dataframe\">\n  <thead>\n    <tr style=\"text-align: right;\">\n      <th></th>\n      <th>google</th>\n      <th>apple</th>\n    </tr>\n    <tr>\n      <th>date</th>\n      <th></th>\n      <th></th>\n    </tr>\n  </thead>\n  <tbody>\n    <tr>\n      <th>2019-04-30</th>\n      <td>2410.12</td>\n      <td>131.24</td>\n    </tr>\n    <tr>\n      <th>2019-05-29</th>\n      <td>2429.89</td>\n      <td>133.25</td>\n    </tr>\n    <tr>\n      <th>2019-06-28</th>\n      <td>2379.91</td>\n      <td>133.35</td>\n    </tr>\n    <tr>\n      <th>2019-07-27</th>\n      <td>2307.12</td>\n      <td>134.16</td>\n    </tr>\n    <tr>\n      <th>2020-04-26</th>\n      <td>2326.74</td>\n      <td>134.49</td>\n    </tr>\n    <tr>\n      <th>2020-05-23</th>\n      <td>2315.30</td>\n      <td>134.09</td>\n    </tr>\n    <tr>\n      <th>2020-06-24</th>\n      <td>2267.92</td>\n      <td>131.72</td>\n    </tr>\n    <tr>\n      <th>2020-07-20</th>\n      <td>2293.29</td>\n      <td>133.27</td>\n    </tr>\n    <tr>\n      <th>2021-04-20</th>\n      <td>2293.63</td>\n      <td>132.88</td>\n    </tr>\n    <tr>\n      <th>2021-05-30</th>\n      <td>2410.12</td>\n      <td>131.24</td>\n    </tr>\n    <tr>\n      <th>2021-06-29</th>\n      <td>2429.89</td>\n      <td>133.25</td>\n    </tr>\n    <tr>\n      <th>2021-07-28</th>\n      <td>2379.91</td>\n      <td>133.35</td>\n    </tr>\n    <tr>\n      <th>2021-04-27</th>\n      <td>2307.12</td>\n      <td>134.16</td>\n    </tr>\n    <tr>\n      <th>2022-05-26</th>\n      <td>2326.74</td>\n      <td>134.49</td>\n    </tr>\n    <tr>\n      <th>2022-06-23</th>\n      <td>2315.30</td>\n      <td>134.09</td>\n    </tr>\n    <tr>\n      <th>2022-07-22</th>\n      <td>2267.92</td>\n      <td>131.72</td>\n    </tr>\n  </tbody>\n</table>\n</div>"
     },
     "execution_count": 14,
     "metadata": {},
     "output_type": "execute_result"
    }
   ],
   "source": [
    "df"
   ],
   "metadata": {
    "collapsed": false,
    "pycharm": {
     "name": "#%%\n"
    }
   }
  },
  {
   "cell_type": "code",
   "execution_count": 15,
   "outputs": [
    {
     "data": {
      "text/plain": "google    float64\napple     float64\ndtype: object"
     },
     "execution_count": 15,
     "metadata": {},
     "output_type": "execute_result"
    }
   ],
   "source": [
    "df.dtypes"
   ],
   "metadata": {
    "collapsed": false,
    "pycharm": {
     "name": "#%%\n"
    }
   }
  },
  {
   "cell_type": "code",
   "execution_count": 16,
   "outputs": [
    {
     "data": {
      "text/plain": "dtype('<M8[ns]')"
     },
     "execution_count": 16,
     "metadata": {},
     "output_type": "execute_result"
    }
   ],
   "source": [
    "df.index.dtype"
   ],
   "metadata": {
    "collapsed": false,
    "pycharm": {
     "name": "#%%\n"
    }
   }
  },
  {
   "cell_type": "code",
   "execution_count": 17,
   "outputs": [
    {
     "data": {
      "text/plain": "DatetimeIndex(['2019-04-30', '2019-05-29', '2019-06-28', '2019-07-27',\n               '2020-04-26', '2020-05-23', '2020-06-24', '2020-07-20',\n               '2021-04-20', '2021-05-30', '2021-06-29', '2021-07-28',\n               '2021-04-27', '2022-05-26', '2022-06-23', '2022-07-22'],\n              dtype='datetime64[ns]', name='date', freq=None)"
     },
     "execution_count": 17,
     "metadata": {},
     "output_type": "execute_result"
    }
   ],
   "source": [
    "df.index"
   ],
   "metadata": {
    "collapsed": false,
    "pycharm": {
     "name": "#%%\n"
    }
   }
  },
  {
   "cell_type": "code",
   "execution_count": 18,
   "outputs": [
    {
     "data": {
      "text/plain": "             google   apple\ndate                       \n2021-04-20  2293.63  132.88\n2021-05-30  2410.12  131.24\n2021-06-29  2429.89  133.25\n2021-07-28  2379.91  133.35\n2021-04-27  2307.12  134.16",
      "text/html": "<div>\n<style scoped>\n    .dataframe tbody tr th:only-of-type {\n        vertical-align: middle;\n    }\n\n    .dataframe tbody tr th {\n        vertical-align: top;\n    }\n\n    .dataframe thead th {\n        text-align: right;\n    }\n</style>\n<table border=\"1\" class=\"dataframe\">\n  <thead>\n    <tr style=\"text-align: right;\">\n      <th></th>\n      <th>google</th>\n      <th>apple</th>\n    </tr>\n    <tr>\n      <th>date</th>\n      <th></th>\n      <th></th>\n    </tr>\n  </thead>\n  <tbody>\n    <tr>\n      <th>2021-04-20</th>\n      <td>2293.63</td>\n      <td>132.88</td>\n    </tr>\n    <tr>\n      <th>2021-05-30</th>\n      <td>2410.12</td>\n      <td>131.24</td>\n    </tr>\n    <tr>\n      <th>2021-06-29</th>\n      <td>2429.89</td>\n      <td>133.25</td>\n    </tr>\n    <tr>\n      <th>2021-07-28</th>\n      <td>2379.91</td>\n      <td>133.35</td>\n    </tr>\n    <tr>\n      <th>2021-04-27</th>\n      <td>2307.12</td>\n      <td>134.16</td>\n    </tr>\n  </tbody>\n</table>\n</div>"
     },
     "execution_count": 18,
     "metadata": {},
     "output_type": "execute_result"
    }
   ],
   "source": [
    "df.loc['2021']"
   ],
   "metadata": {
    "collapsed": false,
    "pycharm": {
     "name": "#%%\n"
    }
   }
  },
  {
   "cell_type": "code",
   "execution_count": 19,
   "outputs": [
    {
     "data": {
      "text/plain": "             google   apple\ndate                       \n2021-04-20  2293.63  132.88\n2021-04-27  2307.12  134.16",
      "text/html": "<div>\n<style scoped>\n    .dataframe tbody tr th:only-of-type {\n        vertical-align: middle;\n    }\n\n    .dataframe tbody tr th {\n        vertical-align: top;\n    }\n\n    .dataframe thead th {\n        text-align: right;\n    }\n</style>\n<table border=\"1\" class=\"dataframe\">\n  <thead>\n    <tr style=\"text-align: right;\">\n      <th></th>\n      <th>google</th>\n      <th>apple</th>\n    </tr>\n    <tr>\n      <th>date</th>\n      <th></th>\n      <th></th>\n    </tr>\n  </thead>\n  <tbody>\n    <tr>\n      <th>2021-04-20</th>\n      <td>2293.63</td>\n      <td>132.88</td>\n    </tr>\n    <tr>\n      <th>2021-04-27</th>\n      <td>2307.12</td>\n      <td>134.16</td>\n    </tr>\n  </tbody>\n</table>\n</div>"
     },
     "execution_count": 19,
     "metadata": {},
     "output_type": "execute_result"
    }
   ],
   "source": [
    "df.loc['2021-04']"
   ],
   "metadata": {
    "collapsed": false,
    "pycharm": {
     "name": "#%%\n"
    }
   }
  },
  {
   "cell_type": "code",
   "execution_count": 21,
   "outputs": [
    {
     "name": "stderr",
     "output_type": "stream",
     "text": [
      "/tmp/ipykernel_92637/1499811764.py:1: FutureWarning: Value based partial slicing on non-monotonic DatetimeIndexes with non-existing keys is deprecated and will raise a KeyError in a future Version.\n",
      "  df.loc['2019':'2020']\n"
     ]
    },
    {
     "data": {
      "text/plain": "             google   apple\ndate                       \n2019-04-30  2410.12  131.24\n2019-05-29  2429.89  133.25\n2019-06-28  2379.91  133.35\n2019-07-27  2307.12  134.16\n2020-04-26  2326.74  134.49\n2020-05-23  2315.30  134.09\n2020-06-24  2267.92  131.72\n2020-07-20  2293.29  133.27",
      "text/html": "<div>\n<style scoped>\n    .dataframe tbody tr th:only-of-type {\n        vertical-align: middle;\n    }\n\n    .dataframe tbody tr th {\n        vertical-align: top;\n    }\n\n    .dataframe thead th {\n        text-align: right;\n    }\n</style>\n<table border=\"1\" class=\"dataframe\">\n  <thead>\n    <tr style=\"text-align: right;\">\n      <th></th>\n      <th>google</th>\n      <th>apple</th>\n    </tr>\n    <tr>\n      <th>date</th>\n      <th></th>\n      <th></th>\n    </tr>\n  </thead>\n  <tbody>\n    <tr>\n      <th>2019-04-30</th>\n      <td>2410.12</td>\n      <td>131.24</td>\n    </tr>\n    <tr>\n      <th>2019-05-29</th>\n      <td>2429.89</td>\n      <td>133.25</td>\n    </tr>\n    <tr>\n      <th>2019-06-28</th>\n      <td>2379.91</td>\n      <td>133.35</td>\n    </tr>\n    <tr>\n      <th>2019-07-27</th>\n      <td>2307.12</td>\n      <td>134.16</td>\n    </tr>\n    <tr>\n      <th>2020-04-26</th>\n      <td>2326.74</td>\n      <td>134.49</td>\n    </tr>\n    <tr>\n      <th>2020-05-23</th>\n      <td>2315.30</td>\n      <td>134.09</td>\n    </tr>\n    <tr>\n      <th>2020-06-24</th>\n      <td>2267.92</td>\n      <td>131.72</td>\n    </tr>\n    <tr>\n      <th>2020-07-20</th>\n      <td>2293.29</td>\n      <td>133.27</td>\n    </tr>\n  </tbody>\n</table>\n</div>"
     },
     "execution_count": 21,
     "metadata": {},
     "output_type": "execute_result"
    }
   ],
   "source": [
    "df.loc['2019':'2020']"
   ],
   "metadata": {
    "collapsed": false,
    "pycharm": {
     "name": "#%%\n"
    }
   }
  },
  {
   "cell_type": "code",
   "execution_count": 23,
   "outputs": [
    {
     "data": {
      "text/plain": "True"
     },
     "execution_count": 23,
     "metadata": {},
     "output_type": "execute_result"
    }
   ],
   "source": [
    "df.index.is_unique"
   ],
   "metadata": {
    "collapsed": false,
    "pycharm": {
     "name": "#%%\n"
    }
   }
  },
  {
   "cell_type": "code",
   "execution_count": null,
   "outputs": [],
   "source": [],
   "metadata": {
    "collapsed": false,
    "pycharm": {
     "name": "#%%\n"
    }
   }
  }
 ],
 "metadata": {
  "kernelspec": {
   "display_name": "Python 3",
   "language": "python",
   "name": "python3"
  },
  "language_info": {
   "codemirror_mode": {
    "name": "ipython",
    "version": 2
   },
   "file_extension": ".py",
   "mimetype": "text/x-python",
   "name": "python",
   "nbconvert_exporter": "python",
   "pygments_lexer": "ipython2",
   "version": "2.7.6"
  }
 },
 "nbformat": 4,
 "nbformat_minor": 0
}