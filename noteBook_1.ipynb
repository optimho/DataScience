{
 "cells": [
  {
   "cell_type": "code",
   "execution_count": 1,
   "outputs": [],
   "source": [
    "import pandas as pd\n",
    "data1 = pd.read_csv(\"data/ex9.csv\")"
   ],
   "metadata": {
    "collapsed": false,
    "pycharm": {
     "name": "#%%\n"
    }
   }
  },
  {
   "cell_type": "code",
   "execution_count": 2,
   "outputs": [
    {
     "data": {
      "text/plain": "   year  sales  amount\n0  2010  sale1     200\n1  2011  sale1     328\n2  2012  sale1     870\n3  2013  sale1     209\n4  2014  sale1     348",
      "text/html": "<div>\n<style scoped>\n    .dataframe tbody tr th:only-of-type {\n        vertical-align: middle;\n    }\n\n    .dataframe tbody tr th {\n        vertical-align: top;\n    }\n\n    .dataframe thead th {\n        text-align: right;\n    }\n</style>\n<table border=\"1\" class=\"dataframe\">\n  <thead>\n    <tr style=\"text-align: right;\">\n      <th></th>\n      <th>year</th>\n      <th>sales</th>\n      <th>amount</th>\n    </tr>\n  </thead>\n  <tbody>\n    <tr>\n      <th>0</th>\n      <td>2010</td>\n      <td>sale1</td>\n      <td>200</td>\n    </tr>\n    <tr>\n      <th>1</th>\n      <td>2011</td>\n      <td>sale1</td>\n      <td>328</td>\n    </tr>\n    <tr>\n      <th>2</th>\n      <td>2012</td>\n      <td>sale1</td>\n      <td>870</td>\n    </tr>\n    <tr>\n      <th>3</th>\n      <td>2013</td>\n      <td>sale1</td>\n      <td>209</td>\n    </tr>\n    <tr>\n      <th>4</th>\n      <td>2014</td>\n      <td>sale1</td>\n      <td>348</td>\n    </tr>\n  </tbody>\n</table>\n</div>"
     },
     "execution_count": 2,
     "metadata": {},
     "output_type": "execute_result"
    }
   ],
   "source": [
    "data1.head()"
   ],
   "metadata": {
    "collapsed": false,
    "pycharm": {
     "name": "#%%\n"
    }
   }
  },
  {
   "cell_type": "code",
   "execution_count": 4,
   "outputs": [
    {
     "data": {
      "text/plain": "sales  sale1  sale2  sale3\nyear                      \n2010     200    258    592\n2011     328    664    606\n2012     870    249    918\n2013     209    971    629\n2014     348    863    929\n2015     475    999    610\n2016     944    356    540\n2017     190     12    673\n2018     129    936     14\n2019      31    877    181\n2020     646    768    862\n2021     284    792    688",
      "text/html": "<div>\n<style scoped>\n    .dataframe tbody tr th:only-of-type {\n        vertical-align: middle;\n    }\n\n    .dataframe tbody tr th {\n        vertical-align: top;\n    }\n\n    .dataframe thead th {\n        text-align: right;\n    }\n</style>\n<table border=\"1\" class=\"dataframe\">\n  <thead>\n    <tr style=\"text-align: right;\">\n      <th>sales</th>\n      <th>sale1</th>\n      <th>sale2</th>\n      <th>sale3</th>\n    </tr>\n    <tr>\n      <th>year</th>\n      <th></th>\n      <th></th>\n      <th></th>\n    </tr>\n  </thead>\n  <tbody>\n    <tr>\n      <th>2010</th>\n      <td>200</td>\n      <td>258</td>\n      <td>592</td>\n    </tr>\n    <tr>\n      <th>2011</th>\n      <td>328</td>\n      <td>664</td>\n      <td>606</td>\n    </tr>\n    <tr>\n      <th>2012</th>\n      <td>870</td>\n      <td>249</td>\n      <td>918</td>\n    </tr>\n    <tr>\n      <th>2013</th>\n      <td>209</td>\n      <td>971</td>\n      <td>629</td>\n    </tr>\n    <tr>\n      <th>2014</th>\n      <td>348</td>\n      <td>863</td>\n      <td>929</td>\n    </tr>\n    <tr>\n      <th>2015</th>\n      <td>475</td>\n      <td>999</td>\n      <td>610</td>\n    </tr>\n    <tr>\n      <th>2016</th>\n      <td>944</td>\n      <td>356</td>\n      <td>540</td>\n    </tr>\n    <tr>\n      <th>2017</th>\n      <td>190</td>\n      <td>12</td>\n      <td>673</td>\n    </tr>\n    <tr>\n      <th>2018</th>\n      <td>129</td>\n      <td>936</td>\n      <td>14</td>\n    </tr>\n    <tr>\n      <th>2019</th>\n      <td>31</td>\n      <td>877</td>\n      <td>181</td>\n    </tr>\n    <tr>\n      <th>2020</th>\n      <td>646</td>\n      <td>768</td>\n      <td>862</td>\n    </tr>\n    <tr>\n      <th>2021</th>\n      <td>284</td>\n      <td>792</td>\n      <td>688</td>\n    </tr>\n  </tbody>\n</table>\n</div>"
     },
     "execution_count": 4,
     "metadata": {},
     "output_type": "execute_result"
    }
   ],
   "source": [
    "data1.pivot(index='year', columns='sales', values='amount')"
   ],
   "metadata": {
    "collapsed": false,
    "pycharm": {
     "name": "#%%\n"
    }
   }
  },
  {
   "cell_type": "code",
   "execution_count": 13,
   "outputs": [
    {
     "data": {
      "text/plain": "     date company closing price\n0  30-Apr  google      2,410.12\n1  29-Apr  google      2,429.89\n2  28-Apr  google      2,379.91\n3  27-Apr  google      2,307.12\n4  26-Apr  google      2,326.74",
      "text/html": "<div>\n<style scoped>\n    .dataframe tbody tr th:only-of-type {\n        vertical-align: middle;\n    }\n\n    .dataframe tbody tr th {\n        vertical-align: top;\n    }\n\n    .dataframe thead th {\n        text-align: right;\n    }\n</style>\n<table border=\"1\" class=\"dataframe\">\n  <thead>\n    <tr style=\"text-align: right;\">\n      <th></th>\n      <th>date</th>\n      <th>company</th>\n      <th>closing price</th>\n    </tr>\n  </thead>\n  <tbody>\n    <tr>\n      <th>0</th>\n      <td>30-Apr</td>\n      <td>google</td>\n      <td>2,410.12</td>\n    </tr>\n    <tr>\n      <th>1</th>\n      <td>29-Apr</td>\n      <td>google</td>\n      <td>2,429.89</td>\n    </tr>\n    <tr>\n      <th>2</th>\n      <td>28-Apr</td>\n      <td>google</td>\n      <td>2,379.91</td>\n    </tr>\n    <tr>\n      <th>3</th>\n      <td>27-Apr</td>\n      <td>google</td>\n      <td>2,307.12</td>\n    </tr>\n    <tr>\n      <th>4</th>\n      <td>26-Apr</td>\n      <td>google</td>\n      <td>2,326.74</td>\n    </tr>\n  </tbody>\n</table>\n</div>"
     },
     "execution_count": 13,
     "metadata": {},
     "output_type": "execute_result"
    }
   ],
   "source": [
    "data2 = pd.read_csv('data/ex10.csv')\n",
    "data2.head()"
   ],
   "metadata": {
    "collapsed": false,
    "pycharm": {
     "name": "#%%\n"
    }
   }
  },
  {
   "cell_type": "code",
   "execution_count": 6,
   "outputs": [
    {
     "data": {
      "text/plain": "company   apple    google\ndate                     \n20-Apr   132.88  2,293.63\n21-Apr   133.27  2,293.29\n22-Apr   131.72  2,267.92\n23-Apr   134.09  2,315.30\n26-Apr   134.49  2,326.74\n27-Apr   134.16  2,307.12\n28-Apr   133.35  2,379.91\n29-Apr   133.25  2,429.89\n30-Apr   131.24  2,410.12",
      "text/html": "<div>\n<style scoped>\n    .dataframe tbody tr th:only-of-type {\n        vertical-align: middle;\n    }\n\n    .dataframe tbody tr th {\n        vertical-align: top;\n    }\n\n    .dataframe thead th {\n        text-align: right;\n    }\n</style>\n<table border=\"1\" class=\"dataframe\">\n  <thead>\n    <tr style=\"text-align: right;\">\n      <th>company</th>\n      <th>apple</th>\n      <th>google</th>\n    </tr>\n    <tr>\n      <th>date</th>\n      <th></th>\n      <th></th>\n    </tr>\n  </thead>\n  <tbody>\n    <tr>\n      <th>20-Apr</th>\n      <td>132.88</td>\n      <td>2,293.63</td>\n    </tr>\n    <tr>\n      <th>21-Apr</th>\n      <td>133.27</td>\n      <td>2,293.29</td>\n    </tr>\n    <tr>\n      <th>22-Apr</th>\n      <td>131.72</td>\n      <td>2,267.92</td>\n    </tr>\n    <tr>\n      <th>23-Apr</th>\n      <td>134.09</td>\n      <td>2,315.30</td>\n    </tr>\n    <tr>\n      <th>26-Apr</th>\n      <td>134.49</td>\n      <td>2,326.74</td>\n    </tr>\n    <tr>\n      <th>27-Apr</th>\n      <td>134.16</td>\n      <td>2,307.12</td>\n    </tr>\n    <tr>\n      <th>28-Apr</th>\n      <td>133.35</td>\n      <td>2,379.91</td>\n    </tr>\n    <tr>\n      <th>29-Apr</th>\n      <td>133.25</td>\n      <td>2,429.89</td>\n    </tr>\n    <tr>\n      <th>30-Apr</th>\n      <td>131.24</td>\n      <td>2,410.12</td>\n    </tr>\n  </tbody>\n</table>\n</div>"
     },
     "execution_count": 6,
     "metadata": {},
     "output_type": "execute_result"
    }
   ],
   "source": [
    "data2.pivot(index='date', columns='company', values='closing price')"
   ],
   "metadata": {
    "collapsed": false,
    "pycharm": {
     "name": "#%%\n"
    }
   }
  },
  {
   "cell_type": "code",
   "execution_count": 7,
   "outputs": [
    {
     "data": {
      "text/plain": "      date company closing price\n0   30-Apr  google      2,410.12\n1   29-Apr  google      2,429.89\n2   28-Apr  google      2,379.91\n3   27-Apr  google      2,307.12\n4   26-Apr  google      2,326.74\n5   23-Apr  google      2,315.30\n6   22-Apr  google      2,267.92\n7   21-Apr  google      2,293.29\n8   20-Apr  google      2,293.63\n9   30-Apr   apple        131.24\n10  29-Apr   apple        133.25\n11  28-Apr   apple        133.35\n12  27-Apr   apple        134.16\n13  26-Apr   apple        134.49\n14  23-Apr   apple        134.09\n15  22-Apr   apple        131.72\n16  21-Apr   apple        133.27\n17  20-Apr   apple        132.88",
      "text/html": "<div>\n<style scoped>\n    .dataframe tbody tr th:only-of-type {\n        vertical-align: middle;\n    }\n\n    .dataframe tbody tr th {\n        vertical-align: top;\n    }\n\n    .dataframe thead th {\n        text-align: right;\n    }\n</style>\n<table border=\"1\" class=\"dataframe\">\n  <thead>\n    <tr style=\"text-align: right;\">\n      <th></th>\n      <th>date</th>\n      <th>company</th>\n      <th>closing price</th>\n    </tr>\n  </thead>\n  <tbody>\n    <tr>\n      <th>0</th>\n      <td>30-Apr</td>\n      <td>google</td>\n      <td>2,410.12</td>\n    </tr>\n    <tr>\n      <th>1</th>\n      <td>29-Apr</td>\n      <td>google</td>\n      <td>2,429.89</td>\n    </tr>\n    <tr>\n      <th>2</th>\n      <td>28-Apr</td>\n      <td>google</td>\n      <td>2,379.91</td>\n    </tr>\n    <tr>\n      <th>3</th>\n      <td>27-Apr</td>\n      <td>google</td>\n      <td>2,307.12</td>\n    </tr>\n    <tr>\n      <th>4</th>\n      <td>26-Apr</td>\n      <td>google</td>\n      <td>2,326.74</td>\n    </tr>\n    <tr>\n      <th>5</th>\n      <td>23-Apr</td>\n      <td>google</td>\n      <td>2,315.30</td>\n    </tr>\n    <tr>\n      <th>6</th>\n      <td>22-Apr</td>\n      <td>google</td>\n      <td>2,267.92</td>\n    </tr>\n    <tr>\n      <th>7</th>\n      <td>21-Apr</td>\n      <td>google</td>\n      <td>2,293.29</td>\n    </tr>\n    <tr>\n      <th>8</th>\n      <td>20-Apr</td>\n      <td>google</td>\n      <td>2,293.63</td>\n    </tr>\n    <tr>\n      <th>9</th>\n      <td>30-Apr</td>\n      <td>apple</td>\n      <td>131.24</td>\n    </tr>\n    <tr>\n      <th>10</th>\n      <td>29-Apr</td>\n      <td>apple</td>\n      <td>133.25</td>\n    </tr>\n    <tr>\n      <th>11</th>\n      <td>28-Apr</td>\n      <td>apple</td>\n      <td>133.35</td>\n    </tr>\n    <tr>\n      <th>12</th>\n      <td>27-Apr</td>\n      <td>apple</td>\n      <td>134.16</td>\n    </tr>\n    <tr>\n      <th>13</th>\n      <td>26-Apr</td>\n      <td>apple</td>\n      <td>134.49</td>\n    </tr>\n    <tr>\n      <th>14</th>\n      <td>23-Apr</td>\n      <td>apple</td>\n      <td>134.09</td>\n    </tr>\n    <tr>\n      <th>15</th>\n      <td>22-Apr</td>\n      <td>apple</td>\n      <td>131.72</td>\n    </tr>\n    <tr>\n      <th>16</th>\n      <td>21-Apr</td>\n      <td>apple</td>\n      <td>133.27</td>\n    </tr>\n    <tr>\n      <th>17</th>\n      <td>20-Apr</td>\n      <td>apple</td>\n      <td>132.88</td>\n    </tr>\n  </tbody>\n</table>\n</div>"
     },
     "execution_count": 7,
     "metadata": {},
     "output_type": "execute_result"
    }
   ],
   "source": [
    "data2"
   ],
   "metadata": {
    "collapsed": false,
    "pycharm": {
     "name": "#%%\n"
    }
   }
  },
  {
   "cell_type": "code",
   "execution_count": 10,
   "outputs": [],
   "source": [
    "frame1= data2.set_index(['date', 'company'])\n"
   ],
   "metadata": {
    "collapsed": false,
    "pycharm": {
     "name": "#%%\n"
    }
   }
  },
  {
   "cell_type": "code",
   "execution_count": 11,
   "outputs": [
    {
     "data": {
      "text/plain": "               closing price\ndate   company              \n30-Apr google       2,410.12\n29-Apr google       2,429.89\n28-Apr google       2,379.91\n27-Apr google       2,307.12\n26-Apr google       2,326.74\n23-Apr google       2,315.30\n22-Apr google       2,267.92\n21-Apr google       2,293.29\n20-Apr google       2,293.63\n30-Apr apple          131.24\n29-Apr apple          133.25\n28-Apr apple          133.35\n27-Apr apple          134.16\n26-Apr apple          134.49\n23-Apr apple          134.09\n22-Apr apple          131.72\n21-Apr apple          133.27\n20-Apr apple          132.88",
      "text/html": "<div>\n<style scoped>\n    .dataframe tbody tr th:only-of-type {\n        vertical-align: middle;\n    }\n\n    .dataframe tbody tr th {\n        vertical-align: top;\n    }\n\n    .dataframe thead th {\n        text-align: right;\n    }\n</style>\n<table border=\"1\" class=\"dataframe\">\n  <thead>\n    <tr style=\"text-align: right;\">\n      <th></th>\n      <th></th>\n      <th>closing price</th>\n    </tr>\n    <tr>\n      <th>date</th>\n      <th>company</th>\n      <th></th>\n    </tr>\n  </thead>\n  <tbody>\n    <tr>\n      <th>30-Apr</th>\n      <th>google</th>\n      <td>2,410.12</td>\n    </tr>\n    <tr>\n      <th>29-Apr</th>\n      <th>google</th>\n      <td>2,429.89</td>\n    </tr>\n    <tr>\n      <th>28-Apr</th>\n      <th>google</th>\n      <td>2,379.91</td>\n    </tr>\n    <tr>\n      <th>27-Apr</th>\n      <th>google</th>\n      <td>2,307.12</td>\n    </tr>\n    <tr>\n      <th>26-Apr</th>\n      <th>google</th>\n      <td>2,326.74</td>\n    </tr>\n    <tr>\n      <th>23-Apr</th>\n      <th>google</th>\n      <td>2,315.30</td>\n    </tr>\n    <tr>\n      <th>22-Apr</th>\n      <th>google</th>\n      <td>2,267.92</td>\n    </tr>\n    <tr>\n      <th>21-Apr</th>\n      <th>google</th>\n      <td>2,293.29</td>\n    </tr>\n    <tr>\n      <th>20-Apr</th>\n      <th>google</th>\n      <td>2,293.63</td>\n    </tr>\n    <tr>\n      <th>30-Apr</th>\n      <th>apple</th>\n      <td>131.24</td>\n    </tr>\n    <tr>\n      <th>29-Apr</th>\n      <th>apple</th>\n      <td>133.25</td>\n    </tr>\n    <tr>\n      <th>28-Apr</th>\n      <th>apple</th>\n      <td>133.35</td>\n    </tr>\n    <tr>\n      <th>27-Apr</th>\n      <th>apple</th>\n      <td>134.16</td>\n    </tr>\n    <tr>\n      <th>26-Apr</th>\n      <th>apple</th>\n      <td>134.49</td>\n    </tr>\n    <tr>\n      <th>23-Apr</th>\n      <th>apple</th>\n      <td>134.09</td>\n    </tr>\n    <tr>\n      <th>22-Apr</th>\n      <th>apple</th>\n      <td>131.72</td>\n    </tr>\n    <tr>\n      <th>21-Apr</th>\n      <th>apple</th>\n      <td>133.27</td>\n    </tr>\n    <tr>\n      <th>20-Apr</th>\n      <th>apple</th>\n      <td>132.88</td>\n    </tr>\n  </tbody>\n</table>\n</div>"
     },
     "execution_count": 11,
     "metadata": {},
     "output_type": "execute_result"
    }
   ],
   "source": [
    "frame1"
   ],
   "metadata": {
    "collapsed": false,
    "pycharm": {
     "name": "#%%\n"
    }
   }
  },
  {
   "cell_type": "code",
   "execution_count": 12,
   "outputs": [
    {
     "data": {
      "text/plain": "        closing price          \ncompany         apple    google\ndate                           \n20-Apr         132.88  2,293.63\n21-Apr         133.27  2,293.29\n22-Apr         131.72  2,267.92\n23-Apr         134.09  2,315.30\n26-Apr         134.49  2,326.74\n27-Apr         134.16  2,307.12\n28-Apr         133.35  2,379.91\n29-Apr         133.25  2,429.89\n30-Apr         131.24  2,410.12",
      "text/html": "<div>\n<style scoped>\n    .dataframe tbody tr th:only-of-type {\n        vertical-align: middle;\n    }\n\n    .dataframe tbody tr th {\n        vertical-align: top;\n    }\n\n    .dataframe thead tr th {\n        text-align: left;\n    }\n\n    .dataframe thead tr:last-of-type th {\n        text-align: right;\n    }\n</style>\n<table border=\"1\" class=\"dataframe\">\n  <thead>\n    <tr>\n      <th></th>\n      <th colspan=\"2\" halign=\"left\">closing price</th>\n    </tr>\n    <tr>\n      <th>company</th>\n      <th>apple</th>\n      <th>google</th>\n    </tr>\n    <tr>\n      <th>date</th>\n      <th></th>\n      <th></th>\n    </tr>\n  </thead>\n  <tbody>\n    <tr>\n      <th>20-Apr</th>\n      <td>132.88</td>\n      <td>2,293.63</td>\n    </tr>\n    <tr>\n      <th>21-Apr</th>\n      <td>133.27</td>\n      <td>2,293.29</td>\n    </tr>\n    <tr>\n      <th>22-Apr</th>\n      <td>131.72</td>\n      <td>2,267.92</td>\n    </tr>\n    <tr>\n      <th>23-Apr</th>\n      <td>134.09</td>\n      <td>2,315.30</td>\n    </tr>\n    <tr>\n      <th>26-Apr</th>\n      <td>134.49</td>\n      <td>2,326.74</td>\n    </tr>\n    <tr>\n      <th>27-Apr</th>\n      <td>134.16</td>\n      <td>2,307.12</td>\n    </tr>\n    <tr>\n      <th>28-Apr</th>\n      <td>133.35</td>\n      <td>2,379.91</td>\n    </tr>\n    <tr>\n      <th>29-Apr</th>\n      <td>133.25</td>\n      <td>2,429.89</td>\n    </tr>\n    <tr>\n      <th>30-Apr</th>\n      <td>131.24</td>\n      <td>2,410.12</td>\n    </tr>\n  </tbody>\n</table>\n</div>"
     },
     "execution_count": 12,
     "metadata": {},
     "output_type": "execute_result"
    }
   ],
   "source": [
    "frame1.unstack('company')"
   ],
   "metadata": {
    "collapsed": false,
    "pycharm": {
     "name": "#%%\n"
    }
   }
  },
  {
   "cell_type": "code",
   "execution_count": null,
   "outputs": [],
   "source": [],
   "metadata": {
    "collapsed": false,
    "pycharm": {
     "name": "#%%\n"
    }
   }
  }
 ],
 "metadata": {
  "kernelspec": {
   "display_name": "Python 3",
   "language": "python",
   "name": "python3"
  },
  "language_info": {
   "codemirror_mode": {
    "name": "ipython",
    "version": 2
   },
   "file_extension": ".py",
   "mimetype": "text/x-python",
   "name": "python",
   "nbconvert_exporter": "python",
   "pygments_lexer": "ipython2",
   "version": "2.7.6"
  }
 },
 "nbformat": 4,
 "nbformat_minor": 0
}