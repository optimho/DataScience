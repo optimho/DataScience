{
 "cells": [
  {
   "cell_type": "code",
   "execution_count": 1,
   "outputs": [],
   "source": [
    "import pandas as pd"
   ],
   "metadata": {
    "collapsed": false,
    "pycharm": {
     "name": "#%%\n"
    }
   }
  },
  {
   "cell_type": "code",
   "execution_count": 6,
   "outputs": [],
   "source": [
    "TS = pd.read_csv(\"data/ex17.csv\", index_col='date', parse_dates=True)"
   ],
   "metadata": {
    "collapsed": false,
    "pycharm": {
     "name": "#%%\n"
    }
   }
  },
  {
   "cell_type": "code",
   "execution_count": 7,
   "outputs": [
    {
     "data": {
      "text/plain": "DatetimeIndex(['2019-04-01', '2019-04-02', '2019-04-03', '2019-04-04',\n               '2019-04-05', '2019-04-06', '2019-04-07', '2019-04-08',\n               '2019-04-09', '2019-04-10', '2019-04-11', '2019-04-12',\n               '2019-04-13', '2019-04-14', '2019-04-15', '2019-04-16'],\n              dtype='datetime64[ns]', name='date', freq=None)"
     },
     "execution_count": 7,
     "metadata": {},
     "output_type": "execute_result"
    }
   ],
   "source": [
    "TS.dtypes\n",
    "TS.index"
   ],
   "metadata": {
    "collapsed": false,
    "pycharm": {
     "name": "#%%\n"
    }
   }
  },
  {
   "cell_type": "code",
   "execution_count": 8,
   "outputs": [
    {
     "data": {
      "text/plain": "             apple\ndate              \n2019-04-01  131.24\n2019-04-02  133.25\n2019-04-03  133.35\n2019-04-04  134.16\n2019-04-05  134.49\n2019-04-06  134.09\n2019-04-07  131.72\n2019-04-08  133.27\n2019-04-09  132.88\n2019-04-10  131.24\n2019-04-11  133.25\n2019-04-12  133.35\n2019-04-13  134.16\n2019-04-14  134.49\n2019-04-15  134.09\n2019-04-16  131.72",
      "text/html": "<div>\n<style scoped>\n    .dataframe tbody tr th:only-of-type {\n        vertical-align: middle;\n    }\n\n    .dataframe tbody tr th {\n        vertical-align: top;\n    }\n\n    .dataframe thead th {\n        text-align: right;\n    }\n</style>\n<table border=\"1\" class=\"dataframe\">\n  <thead>\n    <tr style=\"text-align: right;\">\n      <th></th>\n      <th>apple</th>\n    </tr>\n    <tr>\n      <th>date</th>\n      <th></th>\n    </tr>\n  </thead>\n  <tbody>\n    <tr>\n      <th>2019-04-01</th>\n      <td>131.24</td>\n    </tr>\n    <tr>\n      <th>2019-04-02</th>\n      <td>133.25</td>\n    </tr>\n    <tr>\n      <th>2019-04-03</th>\n      <td>133.35</td>\n    </tr>\n    <tr>\n      <th>2019-04-04</th>\n      <td>134.16</td>\n    </tr>\n    <tr>\n      <th>2019-04-05</th>\n      <td>134.49</td>\n    </tr>\n    <tr>\n      <th>2019-04-06</th>\n      <td>134.09</td>\n    </tr>\n    <tr>\n      <th>2019-04-07</th>\n      <td>131.72</td>\n    </tr>\n    <tr>\n      <th>2019-04-08</th>\n      <td>133.27</td>\n    </tr>\n    <tr>\n      <th>2019-04-09</th>\n      <td>132.88</td>\n    </tr>\n    <tr>\n      <th>2019-04-10</th>\n      <td>131.24</td>\n    </tr>\n    <tr>\n      <th>2019-04-11</th>\n      <td>133.25</td>\n    </tr>\n    <tr>\n      <th>2019-04-12</th>\n      <td>133.35</td>\n    </tr>\n    <tr>\n      <th>2019-04-13</th>\n      <td>134.16</td>\n    </tr>\n    <tr>\n      <th>2019-04-14</th>\n      <td>134.49</td>\n    </tr>\n    <tr>\n      <th>2019-04-15</th>\n      <td>134.09</td>\n    </tr>\n    <tr>\n      <th>2019-04-16</th>\n      <td>131.72</td>\n    </tr>\n  </tbody>\n</table>\n</div>"
     },
     "execution_count": 8,
     "metadata": {},
     "output_type": "execute_result"
    }
   ],
   "source": [
    "TS"
   ],
   "metadata": {
    "collapsed": false,
    "pycharm": {
     "name": "#%%\n"
    }
   }
  },
  {
   "cell_type": "code",
   "execution_count": 9,
   "outputs": [
    {
     "data": {
      "text/plain": "             apple\ndate              \n2019-04-01     NaN\n2019-04-02  131.24\n2019-04-03  133.25\n2019-04-04  133.35\n2019-04-05  134.16\n2019-04-06  134.49\n2019-04-07  134.09\n2019-04-08  131.72\n2019-04-09  133.27\n2019-04-10  132.88\n2019-04-11  131.24\n2019-04-12  133.25\n2019-04-13  133.35\n2019-04-14  134.16\n2019-04-15  134.49\n2019-04-16  134.09",
      "text/html": "<div>\n<style scoped>\n    .dataframe tbody tr th:only-of-type {\n        vertical-align: middle;\n    }\n\n    .dataframe tbody tr th {\n        vertical-align: top;\n    }\n\n    .dataframe thead th {\n        text-align: right;\n    }\n</style>\n<table border=\"1\" class=\"dataframe\">\n  <thead>\n    <tr style=\"text-align: right;\">\n      <th></th>\n      <th>apple</th>\n    </tr>\n    <tr>\n      <th>date</th>\n      <th></th>\n    </tr>\n  </thead>\n  <tbody>\n    <tr>\n      <th>2019-04-01</th>\n      <td>NaN</td>\n    </tr>\n    <tr>\n      <th>2019-04-02</th>\n      <td>131.24</td>\n    </tr>\n    <tr>\n      <th>2019-04-03</th>\n      <td>133.25</td>\n    </tr>\n    <tr>\n      <th>2019-04-04</th>\n      <td>133.35</td>\n    </tr>\n    <tr>\n      <th>2019-04-05</th>\n      <td>134.16</td>\n    </tr>\n    <tr>\n      <th>2019-04-06</th>\n      <td>134.49</td>\n    </tr>\n    <tr>\n      <th>2019-04-07</th>\n      <td>134.09</td>\n    </tr>\n    <tr>\n      <th>2019-04-08</th>\n      <td>131.72</td>\n    </tr>\n    <tr>\n      <th>2019-04-09</th>\n      <td>133.27</td>\n    </tr>\n    <tr>\n      <th>2019-04-10</th>\n      <td>132.88</td>\n    </tr>\n    <tr>\n      <th>2019-04-11</th>\n      <td>131.24</td>\n    </tr>\n    <tr>\n      <th>2019-04-12</th>\n      <td>133.25</td>\n    </tr>\n    <tr>\n      <th>2019-04-13</th>\n      <td>133.35</td>\n    </tr>\n    <tr>\n      <th>2019-04-14</th>\n      <td>134.16</td>\n    </tr>\n    <tr>\n      <th>2019-04-15</th>\n      <td>134.49</td>\n    </tr>\n    <tr>\n      <th>2019-04-16</th>\n      <td>134.09</td>\n    </tr>\n  </tbody>\n</table>\n</div>"
     },
     "execution_count": 9,
     "metadata": {},
     "output_type": "execute_result"
    }
   ],
   "source": [
    "TS.shift(periods=1)"
   ],
   "metadata": {
    "collapsed": false,
    "pycharm": {
     "name": "#%%\n"
    }
   }
  },
  {
   "cell_type": "code",
   "execution_count": 10,
   "outputs": [
    {
     "data": {
      "text/plain": "             apple\ndate              \n2019-04-01  133.25\n2019-04-02  133.35\n2019-04-03  134.16\n2019-04-04  134.49\n2019-04-05  134.09\n2019-04-06  131.72\n2019-04-07  133.27\n2019-04-08  132.88\n2019-04-09  131.24\n2019-04-10  133.25\n2019-04-11  133.35\n2019-04-12  134.16\n2019-04-13  134.49\n2019-04-14  134.09\n2019-04-15  131.72\n2019-04-16     NaN",
      "text/html": "<div>\n<style scoped>\n    .dataframe tbody tr th:only-of-type {\n        vertical-align: middle;\n    }\n\n    .dataframe tbody tr th {\n        vertical-align: top;\n    }\n\n    .dataframe thead th {\n        text-align: right;\n    }\n</style>\n<table border=\"1\" class=\"dataframe\">\n  <thead>\n    <tr style=\"text-align: right;\">\n      <th></th>\n      <th>apple</th>\n    </tr>\n    <tr>\n      <th>date</th>\n      <th></th>\n    </tr>\n  </thead>\n  <tbody>\n    <tr>\n      <th>2019-04-01</th>\n      <td>133.25</td>\n    </tr>\n    <tr>\n      <th>2019-04-02</th>\n      <td>133.35</td>\n    </tr>\n    <tr>\n      <th>2019-04-03</th>\n      <td>134.16</td>\n    </tr>\n    <tr>\n      <th>2019-04-04</th>\n      <td>134.49</td>\n    </tr>\n    <tr>\n      <th>2019-04-05</th>\n      <td>134.09</td>\n    </tr>\n    <tr>\n      <th>2019-04-06</th>\n      <td>131.72</td>\n    </tr>\n    <tr>\n      <th>2019-04-07</th>\n      <td>133.27</td>\n    </tr>\n    <tr>\n      <th>2019-04-08</th>\n      <td>132.88</td>\n    </tr>\n    <tr>\n      <th>2019-04-09</th>\n      <td>131.24</td>\n    </tr>\n    <tr>\n      <th>2019-04-10</th>\n      <td>133.25</td>\n    </tr>\n    <tr>\n      <th>2019-04-11</th>\n      <td>133.35</td>\n    </tr>\n    <tr>\n      <th>2019-04-12</th>\n      <td>134.16</td>\n    </tr>\n    <tr>\n      <th>2019-04-13</th>\n      <td>134.49</td>\n    </tr>\n    <tr>\n      <th>2019-04-14</th>\n      <td>134.09</td>\n    </tr>\n    <tr>\n      <th>2019-04-15</th>\n      <td>131.72</td>\n    </tr>\n    <tr>\n      <th>2019-04-16</th>\n      <td>NaN</td>\n    </tr>\n  </tbody>\n</table>\n</div>"
     },
     "execution_count": 10,
     "metadata": {},
     "output_type": "execute_result"
    }
   ],
   "source": [
    "TS.shift(-1)"
   ],
   "metadata": {
    "collapsed": false,
    "pycharm": {
     "name": "#%%\n"
    }
   }
  },
  {
   "cell_type": "code",
   "execution_count": 11,
   "outputs": [
    {
     "data": {
      "text/plain": "             apple\ndate              \n2019-04-01  131.24\n2019-04-02  133.25\n2019-04-03  133.35\n2019-04-04  134.16\n2019-04-05  134.49\n2019-04-06  134.09\n2019-04-07  131.72\n2019-04-08  133.27\n2019-04-09  132.88\n2019-04-10  131.24\n2019-04-11  133.25\n2019-04-12  133.35\n2019-04-13  134.16\n2019-04-14  134.49\n2019-04-15  134.09\n2019-04-16  131.72",
      "text/html": "<div>\n<style scoped>\n    .dataframe tbody tr th:only-of-type {\n        vertical-align: middle;\n    }\n\n    .dataframe tbody tr th {\n        vertical-align: top;\n    }\n\n    .dataframe thead th {\n        text-align: right;\n    }\n</style>\n<table border=\"1\" class=\"dataframe\">\n  <thead>\n    <tr style=\"text-align: right;\">\n      <th></th>\n      <th>apple</th>\n    </tr>\n    <tr>\n      <th>date</th>\n      <th></th>\n    </tr>\n  </thead>\n  <tbody>\n    <tr>\n      <th>2019-04-01</th>\n      <td>131.24</td>\n    </tr>\n    <tr>\n      <th>2019-04-02</th>\n      <td>133.25</td>\n    </tr>\n    <tr>\n      <th>2019-04-03</th>\n      <td>133.35</td>\n    </tr>\n    <tr>\n      <th>2019-04-04</th>\n      <td>134.16</td>\n    </tr>\n    <tr>\n      <th>2019-04-05</th>\n      <td>134.49</td>\n    </tr>\n    <tr>\n      <th>2019-04-06</th>\n      <td>134.09</td>\n    </tr>\n    <tr>\n      <th>2019-04-07</th>\n      <td>131.72</td>\n    </tr>\n    <tr>\n      <th>2019-04-08</th>\n      <td>133.27</td>\n    </tr>\n    <tr>\n      <th>2019-04-09</th>\n      <td>132.88</td>\n    </tr>\n    <tr>\n      <th>2019-04-10</th>\n      <td>131.24</td>\n    </tr>\n    <tr>\n      <th>2019-04-11</th>\n      <td>133.25</td>\n    </tr>\n    <tr>\n      <th>2019-04-12</th>\n      <td>133.35</td>\n    </tr>\n    <tr>\n      <th>2019-04-13</th>\n      <td>134.16</td>\n    </tr>\n    <tr>\n      <th>2019-04-14</th>\n      <td>134.49</td>\n    </tr>\n    <tr>\n      <th>2019-04-15</th>\n      <td>134.09</td>\n    </tr>\n    <tr>\n      <th>2019-04-16</th>\n      <td>131.72</td>\n    </tr>\n  </tbody>\n</table>\n</div>"
     },
     "execution_count": 11,
     "metadata": {},
     "output_type": "execute_result"
    }
   ],
   "source": [
    "TS"
   ],
   "metadata": {
    "collapsed": false,
    "pycharm": {
     "name": "#%%\n"
    }
   }
  },
  {
   "cell_type": "code",
   "execution_count": 13,
   "outputs": [],
   "source": [
    "TS['lag1']=TS.shift(periods=1)"
   ],
   "metadata": {
    "collapsed": false,
    "pycharm": {
     "name": "#%%\n"
    }
   }
  },
  {
   "cell_type": "code",
   "execution_count": 14,
   "outputs": [],
   "source": [
    "TS.dropna(inplace=True)"
   ],
   "metadata": {
    "collapsed": false,
    "pycharm": {
     "name": "#%%\n"
    }
   }
  },
  {
   "cell_type": "code",
   "execution_count": 15,
   "outputs": [
    {
     "data": {
      "text/plain": "             apple    lag1\ndate                      \n2019-04-02  133.25  131.24\n2019-04-03  133.35  133.25\n2019-04-04  134.16  133.35\n2019-04-05  134.49  134.16\n2019-04-06  134.09  134.49\n2019-04-07  131.72  134.09\n2019-04-08  133.27  131.72\n2019-04-09  132.88  133.27\n2019-04-10  131.24  132.88\n2019-04-11  133.25  131.24\n2019-04-12  133.35  133.25\n2019-04-13  134.16  133.35\n2019-04-14  134.49  134.16\n2019-04-15  134.09  134.49\n2019-04-16  131.72  134.09",
      "text/html": "<div>\n<style scoped>\n    .dataframe tbody tr th:only-of-type {\n        vertical-align: middle;\n    }\n\n    .dataframe tbody tr th {\n        vertical-align: top;\n    }\n\n    .dataframe thead th {\n        text-align: right;\n    }\n</style>\n<table border=\"1\" class=\"dataframe\">\n  <thead>\n    <tr style=\"text-align: right;\">\n      <th></th>\n      <th>apple</th>\n      <th>lag1</th>\n    </tr>\n    <tr>\n      <th>date</th>\n      <th></th>\n      <th></th>\n    </tr>\n  </thead>\n  <tbody>\n    <tr>\n      <th>2019-04-02</th>\n      <td>133.25</td>\n      <td>131.24</td>\n    </tr>\n    <tr>\n      <th>2019-04-03</th>\n      <td>133.35</td>\n      <td>133.25</td>\n    </tr>\n    <tr>\n      <th>2019-04-04</th>\n      <td>134.16</td>\n      <td>133.35</td>\n    </tr>\n    <tr>\n      <th>2019-04-05</th>\n      <td>134.49</td>\n      <td>134.16</td>\n    </tr>\n    <tr>\n      <th>2019-04-06</th>\n      <td>134.09</td>\n      <td>134.49</td>\n    </tr>\n    <tr>\n      <th>2019-04-07</th>\n      <td>131.72</td>\n      <td>134.09</td>\n    </tr>\n    <tr>\n      <th>2019-04-08</th>\n      <td>133.27</td>\n      <td>131.72</td>\n    </tr>\n    <tr>\n      <th>2019-04-09</th>\n      <td>132.88</td>\n      <td>133.27</td>\n    </tr>\n    <tr>\n      <th>2019-04-10</th>\n      <td>131.24</td>\n      <td>132.88</td>\n    </tr>\n    <tr>\n      <th>2019-04-11</th>\n      <td>133.25</td>\n      <td>131.24</td>\n    </tr>\n    <tr>\n      <th>2019-04-12</th>\n      <td>133.35</td>\n      <td>133.25</td>\n    </tr>\n    <tr>\n      <th>2019-04-13</th>\n      <td>134.16</td>\n      <td>133.35</td>\n    </tr>\n    <tr>\n      <th>2019-04-14</th>\n      <td>134.49</td>\n      <td>134.16</td>\n    </tr>\n    <tr>\n      <th>2019-04-15</th>\n      <td>134.09</td>\n      <td>134.49</td>\n    </tr>\n    <tr>\n      <th>2019-04-16</th>\n      <td>131.72</td>\n      <td>134.09</td>\n    </tr>\n  </tbody>\n</table>\n</div>"
     },
     "execution_count": 15,
     "metadata": {},
     "output_type": "execute_result"
    }
   ],
   "source": [
    "TS"
   ],
   "metadata": {
    "collapsed": false,
    "pycharm": {
     "name": "#%%\n"
    }
   }
  },
  {
   "cell_type": "code",
   "execution_count": 16,
   "outputs": [
    {
     "data": {
      "text/plain": "             apple    lag1  percent_change\ndate                                      \n2019-04-02  133.25  131.24             NaN\n2019-04-03  133.35  133.25        0.000750\n2019-04-04  134.16  133.35        0.006074\n2019-04-05  134.49  134.16        0.002460\n2019-04-06  134.09  134.49       -0.002974\n2019-04-07  131.72  134.09       -0.017675\n2019-04-08  133.27  131.72        0.011767\n2019-04-09  132.88  133.27       -0.002926\n2019-04-10  131.24  132.88       -0.012342\n2019-04-11  133.25  131.24        0.015315\n2019-04-12  133.35  133.25        0.000750\n2019-04-13  134.16  133.35        0.006074\n2019-04-14  134.49  134.16        0.002460\n2019-04-15  134.09  134.49       -0.002974\n2019-04-16  131.72  134.09       -0.017675",
      "text/html": "<div>\n<style scoped>\n    .dataframe tbody tr th:only-of-type {\n        vertical-align: middle;\n    }\n\n    .dataframe tbody tr th {\n        vertical-align: top;\n    }\n\n    .dataframe thead th {\n        text-align: right;\n    }\n</style>\n<table border=\"1\" class=\"dataframe\">\n  <thead>\n    <tr style=\"text-align: right;\">\n      <th></th>\n      <th>apple</th>\n      <th>lag1</th>\n      <th>percent_change</th>\n    </tr>\n    <tr>\n      <th>date</th>\n      <th></th>\n      <th></th>\n      <th></th>\n    </tr>\n  </thead>\n  <tbody>\n    <tr>\n      <th>2019-04-02</th>\n      <td>133.25</td>\n      <td>131.24</td>\n      <td>NaN</td>\n    </tr>\n    <tr>\n      <th>2019-04-03</th>\n      <td>133.35</td>\n      <td>133.25</td>\n      <td>0.000750</td>\n    </tr>\n    <tr>\n      <th>2019-04-04</th>\n      <td>134.16</td>\n      <td>133.35</td>\n      <td>0.006074</td>\n    </tr>\n    <tr>\n      <th>2019-04-05</th>\n      <td>134.49</td>\n      <td>134.16</td>\n      <td>0.002460</td>\n    </tr>\n    <tr>\n      <th>2019-04-06</th>\n      <td>134.09</td>\n      <td>134.49</td>\n      <td>-0.002974</td>\n    </tr>\n    <tr>\n      <th>2019-04-07</th>\n      <td>131.72</td>\n      <td>134.09</td>\n      <td>-0.017675</td>\n    </tr>\n    <tr>\n      <th>2019-04-08</th>\n      <td>133.27</td>\n      <td>131.72</td>\n      <td>0.011767</td>\n    </tr>\n    <tr>\n      <th>2019-04-09</th>\n      <td>132.88</td>\n      <td>133.27</td>\n      <td>-0.002926</td>\n    </tr>\n    <tr>\n      <th>2019-04-10</th>\n      <td>131.24</td>\n      <td>132.88</td>\n      <td>-0.012342</td>\n    </tr>\n    <tr>\n      <th>2019-04-11</th>\n      <td>133.25</td>\n      <td>131.24</td>\n      <td>0.015315</td>\n    </tr>\n    <tr>\n      <th>2019-04-12</th>\n      <td>133.35</td>\n      <td>133.25</td>\n      <td>0.000750</td>\n    </tr>\n    <tr>\n      <th>2019-04-13</th>\n      <td>134.16</td>\n      <td>133.35</td>\n      <td>0.006074</td>\n    </tr>\n    <tr>\n      <th>2019-04-14</th>\n      <td>134.49</td>\n      <td>134.16</td>\n      <td>0.002460</td>\n    </tr>\n    <tr>\n      <th>2019-04-15</th>\n      <td>134.09</td>\n      <td>134.49</td>\n      <td>-0.002974</td>\n    </tr>\n    <tr>\n      <th>2019-04-16</th>\n      <td>131.72</td>\n      <td>134.09</td>\n      <td>-0.017675</td>\n    </tr>\n  </tbody>\n</table>\n</div>"
     },
     "execution_count": 16,
     "metadata": {},
     "output_type": "execute_result"
    }
   ],
   "source": [
    "TS['percent_change']= (TS['apple']/TS['apple'].shift(periods=1)) -1\n",
    "TS"
   ],
   "metadata": {
    "collapsed": false,
    "pycharm": {
     "name": "#%%\n"
    }
   }
  },
  {
   "cell_type": "code",
   "execution_count": 17,
   "outputs": [
    {
     "data": {
      "text/plain": "<bound method DataFrame.dropna of              apple    lag1  percent_change\ndate                                      \n2019-04-02  133.25  131.24             NaN\n2019-04-03  133.35  133.25        0.000750\n2019-04-04  134.16  133.35        0.006074\n2019-04-05  134.49  134.16        0.002460\n2019-04-06  134.09  134.49       -0.002974\n2019-04-07  131.72  134.09       -0.017675\n2019-04-08  133.27  131.72        0.011767\n2019-04-09  132.88  133.27       -0.002926\n2019-04-10  131.24  132.88       -0.012342\n2019-04-11  133.25  131.24        0.015315\n2019-04-12  133.35  133.25        0.000750\n2019-04-13  134.16  133.35        0.006074\n2019-04-14  134.49  134.16        0.002460\n2019-04-15  134.09  134.49       -0.002974\n2019-04-16  131.72  134.09       -0.017675>"
     },
     "execution_count": 17,
     "metadata": {},
     "output_type": "execute_result"
    }
   ],
   "source": [
    "TS.dropna"
   ],
   "metadata": {
    "collapsed": false,
    "pycharm": {
     "name": "#%%\n"
    }
   }
  },
  {
   "cell_type": "code",
   "execution_count": 18,
   "outputs": [
    {
     "data": {
      "text/plain": "             apple    lag1  percent_change\ndate                                      \n2019-04-03  133.35  133.25        0.000750\n2019-04-04  134.16  133.35        0.006074\n2019-04-05  134.49  134.16        0.002460\n2019-04-06  134.09  134.49       -0.002974\n2019-04-07  131.72  134.09       -0.017675\n2019-04-08  133.27  131.72        0.011767\n2019-04-09  132.88  133.27       -0.002926\n2019-04-10  131.24  132.88       -0.012342\n2019-04-11  133.25  131.24        0.015315\n2019-04-12  133.35  133.25        0.000750\n2019-04-13  134.16  133.35        0.006074\n2019-04-14  134.49  134.16        0.002460\n2019-04-15  134.09  134.49       -0.002974\n2019-04-16  131.72  134.09       -0.017675",
      "text/html": "<div>\n<style scoped>\n    .dataframe tbody tr th:only-of-type {\n        vertical-align: middle;\n    }\n\n    .dataframe tbody tr th {\n        vertical-align: top;\n    }\n\n    .dataframe thead th {\n        text-align: right;\n    }\n</style>\n<table border=\"1\" class=\"dataframe\">\n  <thead>\n    <tr style=\"text-align: right;\">\n      <th></th>\n      <th>apple</th>\n      <th>lag1</th>\n      <th>percent_change</th>\n    </tr>\n    <tr>\n      <th>date</th>\n      <th></th>\n      <th></th>\n      <th></th>\n    </tr>\n  </thead>\n  <tbody>\n    <tr>\n      <th>2019-04-03</th>\n      <td>133.35</td>\n      <td>133.25</td>\n      <td>0.000750</td>\n    </tr>\n    <tr>\n      <th>2019-04-04</th>\n      <td>134.16</td>\n      <td>133.35</td>\n      <td>0.006074</td>\n    </tr>\n    <tr>\n      <th>2019-04-05</th>\n      <td>134.49</td>\n      <td>134.16</td>\n      <td>0.002460</td>\n    </tr>\n    <tr>\n      <th>2019-04-06</th>\n      <td>134.09</td>\n      <td>134.49</td>\n      <td>-0.002974</td>\n    </tr>\n    <tr>\n      <th>2019-04-07</th>\n      <td>131.72</td>\n      <td>134.09</td>\n      <td>-0.017675</td>\n    </tr>\n    <tr>\n      <th>2019-04-08</th>\n      <td>133.27</td>\n      <td>131.72</td>\n      <td>0.011767</td>\n    </tr>\n    <tr>\n      <th>2019-04-09</th>\n      <td>132.88</td>\n      <td>133.27</td>\n      <td>-0.002926</td>\n    </tr>\n    <tr>\n      <th>2019-04-10</th>\n      <td>131.24</td>\n      <td>132.88</td>\n      <td>-0.012342</td>\n    </tr>\n    <tr>\n      <th>2019-04-11</th>\n      <td>133.25</td>\n      <td>131.24</td>\n      <td>0.015315</td>\n    </tr>\n    <tr>\n      <th>2019-04-12</th>\n      <td>133.35</td>\n      <td>133.25</td>\n      <td>0.000750</td>\n    </tr>\n    <tr>\n      <th>2019-04-13</th>\n      <td>134.16</td>\n      <td>133.35</td>\n      <td>0.006074</td>\n    </tr>\n    <tr>\n      <th>2019-04-14</th>\n      <td>134.49</td>\n      <td>134.16</td>\n      <td>0.002460</td>\n    </tr>\n    <tr>\n      <th>2019-04-15</th>\n      <td>134.09</td>\n      <td>134.49</td>\n      <td>-0.002974</td>\n    </tr>\n    <tr>\n      <th>2019-04-16</th>\n      <td>131.72</td>\n      <td>134.09</td>\n      <td>-0.017675</td>\n    </tr>\n  </tbody>\n</table>\n</div>"
     },
     "execution_count": 18,
     "metadata": {},
     "output_type": "execute_result"
    }
   ],
   "source": [
    "TS.dropna()"
   ],
   "metadata": {
    "collapsed": false,
    "pycharm": {
     "name": "#%%\n"
    }
   }
  },
  {
   "cell_type": "code",
   "execution_count": null,
   "outputs": [],
   "source": [],
   "metadata": {
    "collapsed": false,
    "pycharm": {
     "name": "#%%\n"
    }
   }
  }
 ],
 "metadata": {
  "kernelspec": {
   "display_name": "Python 3",
   "language": "python",
   "name": "python3"
  },
  "language_info": {
   "codemirror_mode": {
    "name": "ipython",
    "version": 2
   },
   "file_extension": ".py",
   "mimetype": "text/x-python",
   "name": "python",
   "nbconvert_exporter": "python",
   "pygments_lexer": "ipython2",
   "version": "2.7.6"
  }
 },
 "nbformat": 4,
 "nbformat_minor": 0
}